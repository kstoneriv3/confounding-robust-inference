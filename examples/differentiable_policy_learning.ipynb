{
 "cells": [
  {
   "cell_type": "markdown",
   "id": "bcc46d52-39a2-4417-98a6-d26312e15688",
   "metadata": {},
   "source": [
    "# Learning differentiable policy"
   ]
  },
  {
   "cell_type": "code",
   "execution_count": null,
   "id": "dedd409f-a5d8-4328-9945-98b18ee0415a",
   "metadata": {},
   "outputs": [],
   "source": []
  }
 ],
 "metadata": {
  "kernelspec": {
   "display_name": "Python 3 (ipykernel)",
   "language": "python",
   "name": "python3"
  },
  "language_info": {
   "codemirror_mode": {
    "name": "ipython",
    "version": 3
   },
   "file_extension": ".py",
   "mimetype": "text/x-python",
   "name": "python",
   "nbconvert_exporter": "python",
   "pygments_lexer": "ipython3",
   "version": "3.10.6"
  }
 },
 "nbformat": 4,
 "nbformat_minor": 5
}
