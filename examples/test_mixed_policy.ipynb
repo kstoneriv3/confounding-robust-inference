{
 "cells": [
  {
   "cell_type": "markdown",
   "id": "d93c475e-6975-4c83-b009-f913aaa08662",
   "metadata": {},
   "source": [
    "# Testing mixed policy"
   ]
  },
  {
   "cell_type": "code",
   "execution_count": null,
   "id": "fbb3c668-2902-49d5-b329-17a048945e14",
   "metadata": {},
   "outputs": [],
   "source": []
  }
 ],
 "metadata": {
  "kernelspec": {
   "display_name": "Python 3 (ipykernel)",
   "language": "python",
   "name": "python3"
  },
  "language_info": {
   "codemirror_mode": {
    "name": "ipython",
    "version": 3
   },
   "file_extension": ".py",
   "mimetype": "text/x-python",
   "name": "python",
   "nbconvert_exporter": "python",
   "pygments_lexer": "ipython3",
   "version": "3.10.6"
  }
 },
 "nbformat": 4,
 "nbformat_minor": 5
}
