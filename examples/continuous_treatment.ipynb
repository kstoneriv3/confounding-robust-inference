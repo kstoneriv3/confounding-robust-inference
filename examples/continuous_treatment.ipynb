{
 "cells": [
  {
   "cell_type": "markdown",
   "id": "fa9da22b-dda9-4f7f-90b6-3ab1eb9beafe",
   "metadata": {},
   "source": [
    "# Continuous treatment (i.e. continuous action space)"
   ]
  },
  {
   "cell_type": "code",
   "execution_count": null,
   "id": "a8b2c5af-64f7-4797-b2c4-40aa11a1d97a",
   "metadata": {},
   "outputs": [],
   "source": []
  }
 ],
 "metadata": {
  "kernelspec": {
   "display_name": "Python 3 (ipykernel)",
   "language": "python",
   "name": "python3"
  },
  "language_info": {
   "codemirror_mode": {
    "name": "ipython",
    "version": 3
   },
   "file_extension": ".py",
   "mimetype": "text/x-python",
   "name": "python",
   "nbconvert_exporter": "python",
   "pygments_lexer": "ipython3",
   "version": "3.10.6"
  }
 },
 "nbformat": 4,
 "nbformat_minor": 5
}
