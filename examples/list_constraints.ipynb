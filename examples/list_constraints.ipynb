{
 "cells": [
  {
   "cell_type": "markdown",
   "id": "668635c3-8e06-4467-974a-e3eb177181cc",
   "metadata": {},
   "source": [
    "# List of different constraints"
   ]
  },
  {
   "cell_type": "code",
   "execution_count": null,
   "id": "6db694f3-7589-489d-8778-f9672e3397d3",
   "metadata": {},
   "outputs": [],
   "source": []
  }
 ],
 "metadata": {
  "kernelspec": {
   "display_name": "Python 3 (ipykernel)",
   "language": "python",
   "name": "python3"
  },
  "language_info": {
   "codemirror_mode": {
    "name": "ipython",
    "version": 3
   },
   "file_extension": ".py",
   "mimetype": "text/x-python",
   "name": "python",
   "nbconvert_exporter": "python",
   "pygments_lexer": "ipython3",
   "version": "3.10.6"
  }
 },
 "nbformat": 4,
 "nbformat_minor": 5
}
