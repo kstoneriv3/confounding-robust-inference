{
 "cells": [
  {
   "cell_type": "markdown",
   "id": "b3f26999-4108-47c6-9132-61756ef8261f",
   "metadata": {},
   "source": [
    "# Basic Example"
   ]
  },
  {
   "cell_type": "code",
   "execution_count": 1,
   "id": "f65b0c6d-b97f-4b51-963b-4224363da6a7",
   "metadata": {
    "scrolled": true
   },
   "outputs": [
    {
     "data": {
      "text/plain": [
       "<torch._C.Generator at 0x7f9a823d1c70>"
      ]
     },
     "execution_count": 1,
     "metadata": {},
     "output_type": "execute_result"
    }
   ],
   "source": [
    "import torch\n",
    "import confounding_robust_inference as cri\n",
    "\n",
    "torch.random.manual_seed(0)"
   ]
  },
  {
   "cell_type": "code",
   "execution_count": 2,
   "id": "40ee3851-414a-42bf-a7d5-8d9b1e01a14b",
   "metadata": {},
   "outputs": [],
   "source": [
    "# setup toy policy and data\n",
    "TORCH_DTYPE = cri.utils.types.get_default_torch_dtype()\n",
    "beta = torch.as_tensor([0, 0.5, -0.5, 0, 0], dtype=TORCH_DTYPE)\n",
    "beta = torch.as_tensor([0, 0.75, -0.5, 0, -1], dtype=TORCH_DTYPE)\n",
    "policy = cri.policies.LogisticPolicy(beta)\n",
    "data = cri.data.SyntheticDataBinary()\n",
    "Y, T, X, _, p_t, _ = data.sample(1000)"
   ]
  },
  {
   "cell_type": "code",
   "execution_count": 3,
   "id": "24054247-fa1d-4053-88ff-5dc051494c04",
   "metadata": {},
   "outputs": [],
   "source": [
    "def average_ipw(k):\n",
    "    samples = []\n",
    "    for i in range(k):\n",
    "        Y, T, X, _, p_t, _ = data.sample(100000)\n",
    "        samples.append(\n",
    "            cri.estimators.IPWEstimator().fit(Y, T, X, p_t, policy).predict()\n",
    "        )\n",
    "    return torch.mean(torch.as_tensor(samples))"
   ]
  },
  {
   "cell_type": "code",
   "execution_count": 4,
   "id": "fa5c592d-002a-45f2-a652-e635b6779568",
   "metadata": {},
   "outputs": [
    {
     "data": {
      "text/plain": [
       "tensor(4.9686, dtype=torch.float64)"
      ]
     },
     "execution_count": 4,
     "metadata": {},
     "output_type": "execute_result"
    }
   ],
   "source": [
    "average_ipw(10)"
   ]
  },
  {
   "cell_type": "code",
   "execution_count": 5,
   "id": "41eb3a86-b4d5-40c4-afff-85f958806fc0",
   "metadata": {},
   "outputs": [
    {
     "data": {
      "text/plain": [
       "tensor(5.0461, dtype=torch.float64)"
      ]
     },
     "execution_count": 5,
     "metadata": {},
     "output_type": "execute_result"
    }
   ],
   "source": [
    "Y.mean()"
   ]
  },
  {
   "cell_type": "code",
   "execution_count": 6,
   "id": "1fbdc643-ac5d-4e5c-a504-3d9dc94425e7",
   "metadata": {},
   "outputs": [
    {
     "data": {
      "text/plain": [
       "tensor(5.0908, dtype=torch.float64)"
      ]
     },
     "execution_count": 6,
     "metadata": {},
     "output_type": "execute_result"
    }
   ],
   "source": [
    "data.evaluate_policy(policy, n_mc=100000)"
   ]
  },
  {
   "cell_type": "code",
   "execution_count": 7,
   "id": "80c0be58-632e-4de2-9c99-1b95bb03d669",
   "metadata": {},
   "outputs": [
    {
     "data": {
      "text/plain": [
       "tensor(4.7792, dtype=torch.float64)"
      ]
     },
     "execution_count": 7,
     "metadata": {},
     "output_type": "execute_result"
    }
   ],
   "source": [
    "data.evaluate_policy_lower_bound(policy, Gamma=1.5, n_mc=100000)"
   ]
  },
  {
   "cell_type": "code",
   "execution_count": 8,
   "id": "6ec72161-821c-4433-80d4-45d856336539",
   "metadata": {},
   "outputs": [],
   "source": [
    "estimator = cri.estimators.KCMCEstimator(const_type=\"Tan_box\", Gamma=1.5, D=30)"
   ]
  },
  {
   "cell_type": "code",
   "execution_count": 9,
   "id": "b08105a3-8a3d-4dbe-8470-ada25c817ce3",
   "metadata": {},
   "outputs": [
    {
     "data": {
      "text/plain": [
       "<confounding_robust_inference.estimators.kcmc.KCMCEstimator at 0x7f9994b309a0>"
      ]
     },
     "execution_count": 9,
     "metadata": {},
     "output_type": "execute_result"
    }
   ],
   "source": [
    "estimator.fit(Y, T, X, p_t, policy)"
   ]
  },
  {
   "cell_type": "code",
   "execution_count": 10,
   "id": "66cbd2d6-69cc-4297-b7e1-91e9bf0283e2",
   "metadata": {},
   "outputs": [
    {
     "data": {
      "text/plain": [
       "tensor(4.7518, dtype=torch.float64)"
      ]
     },
     "execution_count": 10,
     "metadata": {},
     "output_type": "execute_result"
    }
   ],
   "source": [
    "estimator.predict()"
   ]
  },
  {
   "cell_type": "code",
   "execution_count": 76,
   "id": "8707598e-eeaf-4d61-89f4-04bd55901ef7",
   "metadata": {},
   "outputs": [],
   "source": [
    "def GIC(D):\n",
    "    est = cri.estimators.KCMCEstimator(\"Tan_box\", Gamma=1.0, D=D)\n",
    "    est.fit(Y, T, X, p_t, policy)\n",
    "    return est.predict_gic()"
   ]
  },
  {
   "cell_type": "code",
   "execution_count": 78,
   "id": "8a1af3a7-85b5-458a-b63f-2f92d86f59d8",
   "metadata": {},
   "outputs": [
    {
     "data": {
      "text/plain": [
       "tensor(4.1121, dtype=torch.float64)"
      ]
     },
     "execution_count": 78,
     "metadata": {},
     "output_type": "execute_result"
    }
   ],
   "source": [
    "cri.estimators.IPWEstimator().fit(Y, T, X, p_t, policy).predict()"
   ]
  },
  {
   "cell_type": "code",
   "execution_count": 77,
   "id": "65234da9-2536-40e1-ba5f-49d664e86db4",
   "metadata": {},
   "outputs": [
    {
     "name": "stderr",
     "output_type": "stream",
     "text": [
      "/home/kei/Desktop/master-thesis/confounding_robust_inference/estimators/kcmc.py:109: UserWarning: Current implementation of the asymptotics are known to be unstable, because of the difficulty of estimating the covariance and Hessian matrices involved. Please use the features with caution.\n",
      "  warnings.warn(\n"
     ]
    },
    {
     "data": {
      "text/plain": [
       "tensor(4.1121, dtype=torch.float64)"
      ]
     },
     "execution_count": 77,
     "metadata": {},
     "output_type": "execute_result"
    }
   ],
   "source": [
    "GIC(5)"
   ]
  },
  {
   "cell_type": "code",
   "execution_count": 71,
   "id": "2b1c397b-fffc-4b09-ace8-3d7af8020ca4",
   "metadata": {},
   "outputs": [
    {
     "name": "stderr",
     "output_type": "stream",
     "text": [
      "/home/kei/Desktop/master-thesis/confounding_robust_inference/estimators/kcmc.py:109: UserWarning: Current implementation of the asymptotics are known to be unstable, because of the difficulty of estimating the covariance and Hessian matrices involved. Please use the features with caution.\n",
      "  warnings.warn(\n"
     ]
    },
    {
     "data": {
      "text/plain": [
       "tensor(3.9465, dtype=torch.float64)"
      ]
     },
     "execution_count": 71,
     "metadata": {},
     "output_type": "execute_result"
    }
   ],
   "source": [
    "GIC(10)"
   ]
  },
  {
   "cell_type": "code",
   "execution_count": 72,
   "id": "170b514d-f721-44c9-bcda-3faa0889c10f",
   "metadata": {},
   "outputs": [
    {
     "name": "stderr",
     "output_type": "stream",
     "text": [
      "/home/kei/Desktop/master-thesis/confounding_robust_inference/estimators/kcmc.py:109: UserWarning: Current implementation of the asymptotics are known to be unstable, because of the difficulty of estimating the covariance and Hessian matrices involved. Please use the features with caution.\n",
      "  warnings.warn(\n"
     ]
    },
    {
     "data": {
      "text/plain": [
       "tensor(3.9464, dtype=torch.float64)"
      ]
     },
     "execution_count": 72,
     "metadata": {},
     "output_type": "execute_result"
    }
   ],
   "source": [
    "GIC(20)"
   ]
  },
  {
   "cell_type": "code",
   "execution_count": 73,
   "id": "93c1ced0-e4fa-4696-9855-5c435dc73801",
   "metadata": {},
   "outputs": [
    {
     "name": "stderr",
     "output_type": "stream",
     "text": [
      "/home/kei/Desktop/master-thesis/confounding_robust_inference/estimators/kcmc.py:109: UserWarning: Current implementation of the asymptotics are known to be unstable, because of the difficulty of estimating the covariance and Hessian matrices involved. Please use the features with caution.\n",
      "  warnings.warn(\n",
      "/home/kei/Desktop/master-thesis/confounding_robust_inference/estimators/kcmc.py:109: UserWarning: Current implementation of the asymptotics are known to be unstable, because of the difficulty of estimating the covariance and Hessian matrices involved. Please use the features with caution.\n",
      "  warnings.warn(\n",
      "/home/kei/Desktop/master-thesis/confounding_robust_inference/estimators/kcmc.py:109: UserWarning: Current implementation of the asymptotics are known to be unstable, because of the difficulty of estimating the covariance and Hessian matrices involved. Please use the features with caution.\n",
      "  warnings.warn(\n",
      "/home/kei/Desktop/master-thesis/confounding_robust_inference/estimators/kcmc.py:109: UserWarning: Current implementation of the asymptotics are known to be unstable, because of the difficulty of estimating the covariance and Hessian matrices involved. Please use the features with caution.\n",
      "  warnings.warn(\n",
      "/home/kei/Desktop/master-thesis/confounding_robust_inference/estimators/kcmc.py:109: UserWarning: Current implementation of the asymptotics are known to be unstable, because of the difficulty of estimating the covariance and Hessian matrices involved. Please use the features with caution.\n",
      "  warnings.warn(\n",
      "/home/kei/Desktop/master-thesis/confounding_robust_inference/estimators/kcmc.py:109: UserWarning: Current implementation of the asymptotics are known to be unstable, because of the difficulty of estimating the covariance and Hessian matrices involved. Please use the features with caution.\n",
      "  warnings.warn(\n",
      "/home/kei/Desktop/master-thesis/confounding_robust_inference/estimators/kcmc.py:109: UserWarning: Current implementation of the asymptotics are known to be unstable, because of the difficulty of estimating the covariance and Hessian matrices involved. Please use the features with caution.\n",
      "  warnings.warn(\n",
      "/home/kei/Desktop/master-thesis/confounding_robust_inference/estimators/kcmc.py:109: UserWarning: Current implementation of the asymptotics are known to be unstable, because of the difficulty of estimating the covariance and Hessian matrices involved. Please use the features with caution.\n",
      "  warnings.warn(\n",
      "/home/kei/Desktop/master-thesis/confounding_robust_inference/estimators/kcmc.py:109: UserWarning: Current implementation of the asymptotics are known to be unstable, because of the difficulty of estimating the covariance and Hessian matrices involved. Please use the features with caution.\n",
      "  warnings.warn(\n",
      "/home/kei/Desktop/master-thesis/confounding_robust_inference/estimators/kcmc.py:109: UserWarning: Current implementation of the asymptotics are known to be unstable, because of the difficulty of estimating the covariance and Hessian matrices involved. Please use the features with caution.\n",
      "  warnings.warn(\n"
     ]
    },
    {
     "data": {
      "text/plain": [
       "[<matplotlib.lines.Line2D at 0x7f9950474520>]"
      ]
     },
     "execution_count": 73,
     "metadata": {},
     "output_type": "execute_result"
    },
    {
     "data": {
      "image/png": "[encoded data removed]",
      "text/plain": [
       "<Figure size 640x480 with 1 Axes>"
      ]
     },
     "metadata": {},
     "output_type": "display_data"
    }
   ],
   "source": [
    "import matplotlib.pyplot as plt\n",
    "plt.plot(range(1, 31, 3), [GIC(d) for d in range(1, 31, 3)])"
   ]
  },
  {
   "cell_type": "code",
   "execution_count": 74,
   "id": "a43b34f3-d0c9-4bee-a5e9-878540c9be0a",
   "metadata": {},
   "outputs": [
    {
     "data": {
      "text/plain": [
       "tensor(5.0511, dtype=torch.float64)"
      ]
     },
     "execution_count": 74,
     "metadata": {},
     "output_type": "execute_result"
    }
   ],
   "source": [
    "data.evaluate_policy(policy)"
   ]
  },
  {
   "cell_type": "code",
   "execution_count": 22,
   "id": "029c1afc-d36f-4341-94ac-ac18ace0176c",
   "metadata": {},
   "outputs": [
    {
     "name": "stdout",
     "output_type": "stream",
     "text": [
      "Help on class KCMCEstimator in module confounding_robust_inference.estimators.kcmc:\n",
      "\n",
      "class KCMCEstimator(confounding_robust_inference.estimators.base.BaseKCMCEstimator)\n",
      " |  KCMCEstimator(const_type: 'str', gamma: 'float | None' = None, Gamma: 'float | None' = None, D: 'int' = 30, kernel: 'Kernel | None' = None) -> 'None'\n",
      " |  \n",
      " |  Kernel Conditional Moment Constraints (KCMC) Estimator.\n",
      " |  \n",
      " |  Args:\n",
      " |      const_type: Type of the constraint used. It must be one of \"Tan_box\", \"lr_box\", \"KL\",\n",
      " |          \"inverse_KL\", \"squared_Hellinger\", \"Pearson_chi_squared\",\n",
      " |          \"Neyman_chi_squared\", and \"total_variation\".\n",
      " |      gamma: Sensitivity parameter for f-divergence constraint satisfying gamma >= 0.0.\n",
      " |          When gamma == 0.0, QB estimator is equivalent to the IPW estimator.\n",
      " |      Gamma: Sensitivity parameter for box constraints satisfying Gamma >= 1.0.\n",
      " |          When Gamma == 1.0, QB estimator is equivalent to the IPW estimator.\n",
      " |      D: Dimension of the low-rank approximation used in the kernel quantile regression.\n",
      " |      kernel: Kernel used in the low-rank kernel quantile regression.\n",
      " |  \n",
      " |  Method resolution order:\n",
      " |      KCMCEstimator\n",
      " |      confounding_robust_inference.estimators.base.BaseKCMCEstimator\n",
      " |      confounding_robust_inference.estimators.base.BaseEstimator\n",
      " |      typing.Protocol\n",
      " |      typing.Generic\n",
      " |      builtins.object\n",
      " |  \n",
      " |  Methods defined here:\n",
      " |  \n",
      " |  __init__(self, const_type: 'str', gamma: 'float | None' = None, Gamma: 'float | None' = None, D: 'int' = 30, kernel: 'Kernel | None' = None) -> 'None'\n",
      " |      Initialize self.  See help(type(self)) for accurate signature.\n",
      " |  \n",
      " |  __subclasshook__ = _proto_hook(other)\n",
      " |      # Set (or override) the protocol subclass hook.\n",
      " |  \n",
      " |  fit(self, Y: 'torch.Tensor', T: 'torch.Tensor', X: 'torch.Tensor', p_t: 'torch.Tensor', policy: 'BasePolicy') -> 'KCMCEstimator'\n",
      " |      Solve the minimization problem for obtaining the lower bound for the given data.\n",
      " |      \n",
      " |      Args:\n",
      " |          Y: Outcome variable. Its dtype must be\n",
      " |              confounding_robust_inference.types._DEFAULT_TORCH_FLOAT_DTYPE.\n",
      " |          T: Action variable (i.e. treatment).\n",
      " |          X: Context variable. Its dtype must be\n",
      " |              confounding_robust_inference.types._DEFAULT_TORCH_FLOAT_DTYPE.\n",
      " |          p_t: Nominal propensity p_obs(t|x). Its dtype must be\n",
      " |              confounding_robust_inference.types._DEFAULT_TORCH_FLOAT_DTYPE.\n",
      " |          policy: Policy to be evaluated.\n",
      " |  \n",
      " |  predict(self) -> 'torch.Tensor'\n",
      " |      Calculate the lower bound obtained by fit method.\n",
      " |  \n",
      " |  predict_ci(self, n_boot: 'int' = 10000, alpha: 'float' = 0.05, consider_second_order: 'bool' = False) -> 'tuple[torch.Tensor, torch.Tensor]'\n",
      " |      Calculate confidence interval of the lower bound.\n",
      " |      \n",
      " |      Args:\n",
      " |          n_boot: The number of Monte Carlo samples used to calculate the percentile of the\n",
      " |              asymptotic distribution by bootstraping.\n",
      " |          alpha: Significance level of used for the confidence interval.\n",
      " |          consider_second_order: If True, consider the second order asymptotics similarly to GIC.\n",
      " |              When second order asymptotics is considered, Monte Carlo sampling is used for\n",
      " |              calculating the percentile of the asymptotic distribution.\n",
      " |  \n",
      " |  predict_dual(self, Y: 'torch.Tensor', T: 'torch.Tensor', X: 'torch.Tensor', p_t: 'torch.Tensor') -> 'torch.Tensor'\n",
      " |      Calculate the dual objective value of the minimization problem for the lower bound\n",
      " |      for individual samples of given data.\n",
      " |      \n",
      " |      Args:\n",
      " |          Y: Outcome variable. Its dtype must be\n",
      " |              confounding_robust_inference.types._DEFAULT_TORCH_FLOAT_DTYPE.\n",
      " |          T: Action variable (i.e. treatment).\n",
      " |          X: Context variable. Its dtype must be\n",
      " |              confounding_robust_inference.types._DEFAULT_TORCH_FLOAT_DTYPE.\n",
      " |          p_t: Nominal propensity p_obs(t|x). Its dtype must be\n",
      " |              confounding_robust_inference.types._DEFAULT_TORCH_FLOAT_DTYPE.\n",
      " |      \n",
      " |      Returns:\n",
      " |          Lower bound estimate obtained by solving the dual problem\n",
      " |  \n",
      " |  predict_gic(self) -> 'torch.Tensor'\n",
      " |      Calculate the Generalized Information Criterion (GIC) of the lower bound.\n",
      " |  \n",
      " |  ----------------------------------------------------------------------\n",
      " |  Readonly properties defined here:\n",
      " |  \n",
      " |  eta\n",
      " |  \n",
      " |  ----------------------------------------------------------------------\n",
      " |  Data and other attributes defined here:\n",
      " |  \n",
      " |  __abstractmethods__ = frozenset()\n",
      " |  \n",
      " |  __annotations__ = {}\n",
      " |  \n",
      " |  __parameters__ = ()\n",
      " |  \n",
      " |  ----------------------------------------------------------------------\n",
      " |  Data descriptors inherited from confounding_robust_inference.estimators.base.BaseEstimator:\n",
      " |  \n",
      " |  __dict__\n",
      " |      dictionary for instance variables (if defined)\n",
      " |  \n",
      " |  __weakref__\n",
      " |      list of weak references to the object (if defined)\n",
      " |  \n",
      " |  ----------------------------------------------------------------------\n",
      " |  Class methods inherited from typing.Protocol:\n",
      " |  \n",
      " |  __init_subclass__(*args, **kwargs) from typing._ProtocolMeta\n",
      " |      This method is called when a class is subclassed.\n",
      " |      \n",
      " |      The default implementation does nothing. It may be\n",
      " |      overridden to extend subclasses.\n",
      " |  \n",
      " |  ----------------------------------------------------------------------\n",
      " |  Class methods inherited from typing.Generic:\n",
      " |  \n",
      " |  __class_getitem__(params) from typing._ProtocolMeta\n",
      "\n"
     ]
    }
   ],
   "source": [
    "help(cri.estimators.KCMCEstimator)"
   ]
  },
  {
   "cell_type": "code",
   "execution_count": null,
   "id": "f3c1e438-02d4-44e6-9312-2e49482f713d",
   "metadata": {},
   "outputs": [],
   "source": []
  }
 ],
 "metadata": {
  "kernelspec": {
   "display_name": "Python 3 (ipykernel)",
   "language": "python",
   "name": "python3"
  },
  "language_info": {
   "codemirror_mode": {
    "name": "ipython",
    "version": 3
   },
   "file_extension": ".py",
   "mimetype": "text/x-python",
   "name": "python",
   "nbconvert_exporter": "python",
   "pygments_lexer": "ipython3",
   "version": "3.10.6"
  }
 },
 "nbformat": 4,
 "nbformat_minor": 5
}
