{
 "cells": [
  {
   "cell_type": "markdown",
   "id": "b3f26999-4108-47c6-9132-61756ef8261f",
   "metadata": {},
   "source": [
    "# Basic Example"
   ]
  },
  {
   "cell_type": "code",
   "execution_count": 3,
   "id": "f65b0c6d-b97f-4b51-963b-4224363da6a7",
   "metadata": {},
   "outputs": [
    {
     "data": {
      "text/plain": [
       "<torch._C.Generator at 0x7fcd4d7e5c90>"
      ]
     },
     "execution_count": 3,
     "metadata": {},
     "output_type": "execute_result"
    }
   ],
   "source": [
    "import torch\n",
    "import confounding_robust_inference as cri\n",
    "\n",
    "torch.random.manual_seed(0)"
   ]
  },
  {
   "cell_type": "markdown",
   "id": "7ae78b6a-89cf-4a3c-a0f5-1fdc8bd8a5bf",
   "metadata": {},
   "source": [
    "First, we create a synthetic data with binary response:"
   ]
  },
  {
   "cell_type": "code",
   "execution_count": 4,
   "id": "40ee3851-414a-42bf-a7d5-8d9b1e01a14b",
   "metadata": {},
   "outputs": [
    {
     "ename": "AttributeError",
     "evalue": "module 'confounding_robust_inference' has no attribute 'data'",
     "output_type": "error",
     "traceback": [
      "\u001b[0;31m---------------------------------------------------------------------------\u001b[0m",
      "\u001b[0;31mAttributeError\u001b[0m                            Traceback (most recent call last)",
      "Cell \u001b[0;32mIn[4], line 1\u001b[0m\n\u001b[0;32m----> 1\u001b[0m data \u001b[38;5;241m=\u001b[39m \u001b[43mcri\u001b[49m\u001b[38;5;241;43m.\u001b[39;49m\u001b[43mdata\u001b[49m\u001b[38;5;241m.\u001b[39mSyntheticDataBinary()\n\u001b[1;32m      2\u001b[0m Y, T, X, _, p_t, _ \u001b[38;5;241m=\u001b[39m data\u001b[38;5;241m.\u001b[39msample(\u001b[38;5;241m10\u001b[39m)\n",
      "\u001b[0;31mAttributeError\u001b[0m: module 'confounding_robust_inference' has no attribute 'data'"
     ]
    }
   ],
   "source": [
    "data = cri.data.SyntheticDataBinary()\n",
    "Y, T, X, _, p_t, _ = data.sample(10)"
   ]
  },
  {
   "cell_type": "code",
   "execution_count": 5,
   "id": "2fc10cb6-e690-4a54-9e90-b4053a6d9a13",
   "metadata": {},
   "outputs": [],
   "source": [
    "from confounding_robust_inference.data import SyntheticDataBinary"
   ]
  },
  {
   "cell_type": "code",
   "execution_count": null,
   "id": "6ec72161-821c-4433-80d4-45d856336539",
   "metadata": {},
   "outputs": [],
   "source": []
  }
 ],
 "metadata": {
  "kernelspec": {
   "display_name": "Python 3 (ipykernel)",
   "language": "python",
   "name": "python3"
  },
  "language_info": {
   "codemirror_mode": {
    "name": "ipython",
    "version": 3
   },
   "file_extension": ".py",
   "mimetype": "text/x-python",
   "name": "python",
   "nbconvert_exporter": "python",
   "pygments_lexer": "ipython3",
   "version": "3.10.6"
  }
 },
 "nbformat": 4,
 "nbformat_minor": 5
}
