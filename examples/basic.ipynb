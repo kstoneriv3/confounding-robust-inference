{
 "cells": [
  {
   "cell_type": "markdown",
   "id": "b3f26999-4108-47c6-9132-61756ef8261f",
   "metadata": {},
   "source": [
    "# Basic Example"
   ]
  },
  {
   "cell_type": "code",
   "execution_count": 1,
   "id": "4e1cc47a-3908-445a-bdcd-a36eb1461a96",
   "metadata": {},
   "outputs": [],
   "source": [
    "import torch\n",
    "import confounding_robust_inference as cri\n",
    "\n",
    "\n",
    "# setup toy policy and data\n",
    "_ = torch.random.manual_seed(0)\n",
    "TORCH_DTYPE = cri.utils.types.get_default_torch_dtype()\n",
    "beta = torch.as_tensor([1, 0.5, -0.5, 0, 0], dtype=TORCH_DTYPE)\n",
    "policy = cri.policies.LogisticPolicy(beta)\n",
    "data = cri.data.SyntheticDataBinary()\n",
    "Y, T, X, _, p_t, _ = data.sample(800)"
   ]
  },
  {
   "cell_type": "markdown",
   "id": "4e9fcd78-7407-44a0-a9e7-a4f1de8b90c6",
   "metadata": {},
   "source": [
    "## Non-robust policy value"
   ]
  },
  {
   "cell_type": "code",
   "execution_count": 2,
   "id": "fa5c592d-002a-45f2-a652-e635b6779568",
   "metadata": {},
   "outputs": [
    {
     "data": {
      "text/plain": [
       "tensor(4.2874, dtype=torch.float64)"
      ]
     },
     "execution_count": 2,
     "metadata": {},
     "output_type": "execute_result"
    }
   ],
   "source": [
    "# Non-robust estimator of the policy value:\n",
    "hajek_estimator = cri.estimators.IPWEstimator()\n",
    "hajek_estimator.fit(Y, T, X, p_t, policy)\n",
    "hajek_estimator.predict()"
   ]
  },
  {
   "cell_type": "code",
   "execution_count": 3,
   "id": "1fbdc643-ac5d-4e5c-a504-3d9dc94425e7",
   "metadata": {},
   "outputs": [
    {
     "data": {
      "text/plain": [
       "tensor(4.3840, dtype=torch.float64)"
      ]
     },
     "execution_count": 3,
     "metadata": {},
     "output_type": "execute_result"
    }
   ],
   "source": [
    "# We can also compute the theoretical non-robust policy value by Monte Carlo sampling with the true data distribution:\n",
    "data.evaluate_policy(policy, n_mc=100000)"
   ]
  },
  {
   "cell_type": "markdown",
   "id": "e6ac638d-5b2a-433d-8564-92d5691851e8",
   "metadata": {},
   "source": [
    "## Robust policy value ($\\Gamma=1.5$)"
   ]
  },
  {
   "cell_type": "code",
   "execution_count": 4,
   "id": "5fdf4656-59fd-4a79-840f-db263dc9d9e7",
   "metadata": {},
   "outputs": [
    {
     "data": {
      "text/plain": [
       "tensor(4.0329, dtype=torch.float64)"
      ]
     },
     "execution_count": 4,
     "metadata": {},
     "output_type": "execute_result"
    }
   ],
   "source": [
    "# Robust estimator of the policy value:\n",
    "estimator = cri.estimators.KCMCEstimator(const_type=\"Tan_box\", Gamma=1.5, D=10)\n",
    "estimator.fit(Y, T, X, p_t, policy)\n",
    "estimator.predict()"
   ]
  },
  {
   "cell_type": "code",
   "execution_count": 5,
   "id": "80c0be58-632e-4de2-9c99-1b95bb03d669",
   "metadata": {
    "scrolled": true
   },
   "outputs": [
    {
     "data": {
      "text/plain": [
       "tensor(4.0657, dtype=torch.float64)"
      ]
     },
     "execution_count": 5,
     "metadata": {},
     "output_type": "execute_result"
    }
   ],
   "source": [
    "# We can also compute the theoretical robust policy value by Monte Carlo sampling with the true data distribution:\n",
    "data.evaluate_policy_lower_bound(policy, n_mc=100000, Gamma=1.5)"
   ]
  }
 ],
 "metadata": {
  "kernelspec": {
   "display_name": "Python 3 (ipykernel)",
   "language": "python",
   "name": "python3"
  },
  "language_info": {
   "codemirror_mode": {
    "name": "ipython",
    "version": 3
   },
   "file_extension": ".py",
   "mimetype": "text/x-python",
   "name": "python",
   "nbconvert_exporter": "python",
   "pygments_lexer": "ipython3",
   "version": "3.10.6"
  }
 },
 "nbformat": 4,
 "nbformat_minor": 5
}
