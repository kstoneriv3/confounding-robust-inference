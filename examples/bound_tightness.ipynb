{
 "cells": [
  {
   "cell_type": "markdown",
   "id": "a5d27946-6ae2-488a-ab83-91df2b99cdf9",
   "metadata": {},
   "source": [
    "# Comparison of the tightness of the lower/upper-bounds"
   ]
  },
  {
   "cell_type": "code",
   "execution_count": null,
   "id": "0046f21b-d359-4101-87dc-7432169607fc",
   "metadata": {},
   "outputs": [],
   "source": []
  }
 ],
 "metadata": {
  "kernelspec": {
   "display_name": "Python 3 (ipykernel)",
   "language": "python",
   "name": "python3"
  },
  "language_info": {
   "codemirror_mode": {
    "name": "ipython",
    "version": 3
   },
   "file_extension": ".py",
   "mimetype": "text/x-python",
   "name": "python",
   "nbconvert_exporter": "python",
   "pygments_lexer": "ipython3",
   "version": "3.10.6"
  }
 },
 "nbformat": 4,
 "nbformat_minor": 5
}
