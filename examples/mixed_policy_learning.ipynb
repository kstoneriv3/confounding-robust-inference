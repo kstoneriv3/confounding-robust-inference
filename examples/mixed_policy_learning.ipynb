{
 "cells": [
  {
   "cell_type": "markdown",
   "id": "dcf529f5-b489-448b-a140-911a313df9af",
   "metadata": {},
   "source": [
    "# Learning mixed policy"
   ]
  },
  {
   "cell_type": "code",
   "execution_count": null,
   "id": "9f270d03-184b-4fff-b07a-53007c5046f4",
   "metadata": {},
   "outputs": [],
   "source": []
  }
 ],
 "metadata": {
  "kernelspec": {
   "display_name": "Python 3 (ipykernel)",
   "language": "python",
   "name": "python3"
  },
  "language_info": {
   "codemirror_mode": {
    "name": "ipython",
    "version": 3
   },
   "file_extension": ".py",
   "mimetype": "text/x-python",
   "name": "python",
   "nbconvert_exporter": "python",
   "pygments_lexer": "ipython3",
   "version": "3.10.6"
  }
 },
 "nbformat": 4,
 "nbformat_minor": 5
}
