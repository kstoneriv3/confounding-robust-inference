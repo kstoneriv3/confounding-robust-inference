{
 "cells": [
  {
   "cell_type": "markdown",
   "id": "d93c475e-6975-4c83-b009-f913aaa08662",
   "metadata": {},
   "source": [
    "# Hypothesis Testing"
   ]
  },
  {
   "cell_type": "code",
   "execution_count": 1,
   "id": "fbb3c668-2902-49d5-b329-17a048945e14",
   "metadata": {},
   "outputs": [],
   "source": [
    "import warnings\n",
    "\n",
    "import matplotlib.pyplot as plt\n",
    "import torch\n",
    "\n",
    "import confounding_robust_inference as cri\n",
    "\n",
    "# setup toy policy and data\n",
    "_ = torch.random.manual_seed(0)\n",
    "TORCH_DTYPE = cri.utils.types.get_default_torch_dtype()\n",
    "beta = torch.as_tensor([1, 0.5, -0.5, 0, 0], dtype=TORCH_DTYPE)\n",
    "policy = cri.policies.LogisticPolicy(beta)\n",
    "data = cri.data.SyntheticDataBinary()\n",
    "Y, T, X, _, p_t, _ = data.sample(1000)"
   ]
  },
  {
   "cell_type": "code",
   "execution_count": 2,
   "id": "b6323f56-143d-4ae0-b6d2-6ac9c35a6c29",
   "metadata": {},
   "outputs": [],
   "source": [
    "# We can also compute the theoretical robust policy value by Monte Carlo sampling with the true data distribution:\n",
    "true_lower_bound = data.evaluate_policy_lower_bound(policy, Gamma=1.5, n_mc=100000)\n",
    "ipw = cri.estimators.IPWEstimator().fit(Y, T, X, p_t, policy).predict()\n",
    "true_ipw = data.evaluate_policy(policy, n_mc=100000)\n",
    "bias = true_ipw - ipw"
   ]
  },
  {
   "cell_type": "code",
   "execution_count": 4,
   "id": "512f1441-f089-44a9-b2ba-9728f064643c",
   "metadata": {},
   "outputs": [
    {
     "data": {
      "text/plain": [
       "<confounding_robust_inference.estimators.kcmc.KCMCEstimator at 0x7fdbc1e16fb0>"
      ]
     },
     "execution_count": 4,
     "metadata": {},
     "output_type": "execute_result"
    }
   ],
   "source": [
    "est = cri.estimators.KCMCEstimator(\"Tan_box\", Gamma=1.5, D=30)\n",
    "est.fit(Y, T, X, p_t, policy)"
   ]
  },
  {
   "cell_type": "code",
   "execution_count": 5,
   "id": "6c5f9848-7559-402c-b317-1ffdeb9adb9d",
   "metadata": {},
   "outputs": [
    {
     "data": {
      "text/plain": [
       "(tensor(3.0853, dtype=torch.float64), tensor(4.1423, dtype=torch.float64))"
      ]
     },
     "execution_count": 5,
     "metadata": {},
     "output_type": "execute_result"
    }
   ],
   "source": [
    "est.predict_ci()"
   ]
  },
  {
   "cell_type": "code",
   "execution_count": 6,
   "id": "55fa9259-9224-4cdc-b0de-28016590f772",
   "metadata": {},
   "outputs": [
    {
     "name": "stderr",
     "output_type": "stream",
     "text": [
      "/home/kei/Desktop/master-thesis/confounding_robust_inference/estimators/kcmc.py:123: UserWarning: Current implementation of the asymptotics are known to be unstable, because of the difficulty of estimating the covariance and Hessian matrices involved. Please use the features with caution.\n",
      "  warnings.warn(\n"
     ]
    },
    {
     "data": {
      "text/plain": [
       "(tensor(3.0063, dtype=torch.float64), tensor(4.0813, dtype=torch.float64))"
      ]
     },
     "execution_count": 6,
     "metadata": {},
     "output_type": "execute_result"
    }
   ],
   "source": [
    "est.predict_ci(consider_second_order=True)"
   ]
  },
  {
   "cell_type": "code",
   "execution_count": null,
   "id": "c4264094-9d4e-42e2-a1b5-2c778838f3ab",
   "metadata": {},
   "outputs": [],
   "source": []
  }
 ],
 "metadata": {
  "kernelspec": {
   "display_name": "Python 3 (ipykernel)",
   "language": "python",
   "name": "python3"
  },
  "language_info": {
   "codemirror_mode": {
    "name": "ipython",
    "version": 3
   },
   "file_extension": ".py",
   "mimetype": "text/x-python",
   "name": "python",
   "nbconvert_exporter": "python",
   "pygments_lexer": "ipython3",
   "version": "3.10.6"
  }
 },
 "nbformat": 4,
 "nbformat_minor": 5
}
