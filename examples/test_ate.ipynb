{
 "cells": [
  {
   "cell_type": "markdown",
   "id": "e56043e0-5a4b-4a51-abbf-f078b2b20f7d",
   "metadata": {},
   "source": [
    "# Testing average treatment effect (ATE)"
   ]
  },
  {
   "cell_type": "code",
   "execution_count": null,
   "id": "784b7960-0bee-420e-8849-010fb4ce09df",
   "metadata": {},
   "outputs": [],
   "source": []
  }
 ],
 "metadata": {
  "kernelspec": {
   "display_name": "Python 3 (ipykernel)",
   "language": "python",
   "name": "python3"
  },
  "language_info": {
   "codemirror_mode": {
    "name": "ipython",
    "version": 3
   },
   "file_extension": ".py",
   "mimetype": "text/x-python",
   "name": "python",
   "nbconvert_exporter": "python",
   "pygments_lexer": "ipython3",
   "version": "3.10.6"
  }
 },
 "nbformat": 4,
 "nbformat_minor": 5
}
