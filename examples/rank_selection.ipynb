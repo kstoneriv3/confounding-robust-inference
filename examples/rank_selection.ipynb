{
 "cells": [
  {
   "cell_type": "markdown",
   "id": "ce3d6eaa-a23f-404f-9ca6-7391e5d5f2f7",
   "metadata": {},
   "source": [
    "# Selection of the rank of kernel conditional moment constraints\n",
    "The rank of the kernel conditional moment constraints is the most important parameter of a kernel conditional moment constraints (KCMC) estimator. This is because a too low rank would give us too pessimistic a worst-case lower bound, while we would get an overly optimistic bound if the chosen rank is too high. \n",
    "\n",
    "For this purpose, use the reformulation of the KCMC estimator as an M-estimator. Once we have a M-estimation problem\n",
    "\n",
    "\\begin{equation*}\n",
    "\\hat\\theta = \\arg\\min_{\\theta\\in\\Theta} \\hat {\\mathbb{E}}_n \\ell_\\theta(Z),\n",
    "\\end{equation*}\n",
    "\n",
    "we can apply any methods for model selection in statistics and machine learning. Here, in this notebook, we consider the following two approaches for selecting the rank of KCMC:\n",
    "- Generalized information criterion\n",
    "- Cross-validation"
   ]
  },
  {
   "cell_type": "code",
   "execution_count": 4,
   "id": "403be4a1-5ef6-40c3-84a9-aaf2eabf2223",
   "metadata": {},
   "outputs": [],
   "source": [
    "import torch\n",
    "import confounding_robust_inference as cri\n",
    "\n",
    "\n",
    "# setup toy policy and data\n",
    "_ = torch.random.manual_seed(0)\n",
    "TORCH_DTYPE = cri.utils.types.get_default_torch_dtype()\n",
    "beta = torch.as_tensor([1, 0.5, -0.5, 0, 0], dtype=TORCH_DTYPE)\n",
    "policy = cri.policies.LogisticPolicy(beta)\n",
    "data = cri.data.SyntheticDataBinary()\n",
    "Y, T, X, _, p_t, _ = data.sample(250)"
   ]
  },
  {
   "cell_type": "markdown",
   "id": "b6996b6a-f555-497f-8dac-d20d542a21b5",
   "metadata": {},
   "source": [
    "## Generalized Information Criterion (GIC)\n",
    "\n",
    "GIC is an estimator of the population risk of the M-estimator ${\\mathbb{E}}\\ell_{\\hat\\theta}(Z)$, (instead of empirical risk $\\hat{\\mathbb{E}}_n\\ell_{\\hat\\theta}(Z)$). It is a generalized version of better-known AIC (Akaike's information criterion) for maximum likelihood estimation, and its derivation depends on the asymptotic analysis of the estimator."
   ]
  },
  {
   "cell_type": "code",
   "execution_count": 5,
   "id": "9cf9606c-c3e8-44c9-9f12-b846eac3d370",
   "metadata": {},
   "outputs": [
    {
     "data": {
      "text/plain": [
       "tensor(4.3882, dtype=torch.float64)"
      ]
     },
     "execution_count": 5,
     "metadata": {},
     "output_type": "execute_result"
    }
   ],
   "source": [
    "# Robust estimator of the policy value:\n",
    "estimator = cri.estimators.KCMCEstimator(const_type=\"Tan_box\", Gamma=1.5, D=4)\n",
    "estimator.fit(Y, T, X, p_t, policy)\n",
    "estimator.predict()\n",
    "\n",
    "# We can also compute the theoretical robust policy value by Monte Carlo sampling with the true data distribution:\n",
    "data.evaluate_policy(policy, n_mc=100000)"
   ]
  },
  {
   "cell_type": "code",
   "execution_count": 6,
   "id": "65d98443-ac15-424d-b250-176652e63be6",
   "metadata": {},
   "outputs": [
    {
     "data": {
      "text/plain": [
       "[<matplotlib.lines.Line2D at 0x7f953188b880>]"
      ]
     },
     "execution_count": 6,
     "metadata": {},
     "output_type": "execute_result"
    },
    {
     "data": {
      "image/png": "[encoded data removed]",
      "text/plain": [
       "<Figure size 640x480 with 1 Axes>"
      ]
     },
     "metadata": {},
     "output_type": "display_data"
    }
   ],
   "source": [
    "import warnings\n",
    "\n",
    "\n",
    "def GIC(D):\n",
    "    with warnings.catch_warnings():\n",
    "        warnings.simplefilter(\"ignore\")  # just to ignore warnings on asymptotics\n",
    "        est = cri.estimators.KCMCEstimator(\"Tan_box\", Gamma=1.5, D=D)\n",
    "        est.fit(Y, T, X, p_t, policy)\n",
    "        return est.predict_gic()\n",
    "\n",
    "\n",
    "import matplotlib.pyplot as plt\n",
    "\n",
    "plt.plot(range(1, 100, 3), [GIC(d) for d in range(1, 100, 3)])"
   ]
  },
  {
   "cell_type": "markdown",
   "id": "02621937-786f-477e-8326-f54c5c2f6eff",
   "metadata": {},
   "source": [
    "## Cross-Validation"
   ]
  },
  {
   "cell_type": "code",
   "execution_count": null,
   "id": "89422048-a081-437a-a1b9-2ab176e3db51",
   "metadata": {},
   "outputs": [],
   "source": []
  },
  {
   "cell_type": "code",
   "execution_count": null,
   "id": "145363fe-dc41-4a60-85fd-b52176084c24",
   "metadata": {},
   "outputs": [],
   "source": []
  }
 ],
 "metadata": {
  "kernelspec": {
   "display_name": "Python 3 (ipykernel)",
   "language": "python",
   "name": "python3"
  },
  "language_info": {
   "codemirror_mode": {
    "name": "ipython",
    "version": 3
   },
   "file_extension": ".py",
   "mimetype": "text/x-python",
   "name": "python",
   "nbconvert_exporter": "python",
   "pygments_lexer": "ipython3",
   "version": "3.10.6"
  }
 },
 "nbformat": 4,
 "nbformat_minor": 5
}
