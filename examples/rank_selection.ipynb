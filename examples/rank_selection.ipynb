{
 "cells": [
  {
   "cell_type": "markdown",
   "id": "ce3d6eaa-a23f-404f-9ca6-7391e5d5f2f7",
   "metadata": {},
   "source": [
    "# Selection of the rank of kernel conditional moment constraints\n",
    "The rank of the kernel conditional moment constraints is the most important parameter of a kernel conditional moment constraints (KCMC) estimator. This is because a too low rank would give us too pessimistic a worst-case lower bound, while we would get an overly optimistic bound if the chosen rank is too high. \n",
    "\n",
    "For this purpose, use the reformulation of the KCMC estimator as an M-estimator. Once we have a M-estimation problem\n",
    "\n",
    "\\begin{equation*}\n",
    "\\hat\\theta = \\arg\\min_{\\theta\\in\\Theta} \\hat {\\mathbb{E}}_n \\ell_\\theta(Z),\n",
    "\\end{equation*}\n",
    "\n",
    "we can apply any methods for model selection in statistics and machine learning. Here, in this notebook, we consider the following two approaches for selecting the rank of KCMC:\n",
    "- Generalized information criterion\n",
    "- Cross-validation"
   ]
  },
  {
   "cell_type": "markdown",
   "id": "b6996b6a-f555-497f-8dac-d20d542a21b5",
   "metadata": {},
   "source": [
    "## Generalized Information Criterion (GIC)\n",
    "\n",
    "GIC is an estimator of the population risk of the M-estimator ${\\mathbb{E}}\\ell_{\\hat\\theta}(Z)$, (instead of empirical risk $\\hat{\\mathbb{E}}_n\\ell_{\\hat\\theta}(Z)$). It is a generalized version of better-known AIC (Akaike's information criterion) for maximum likelihood estimation, and its derivation depends on the asymptotic analysis of the estimator."
   ]
  },
  {
   "cell_type": "code",
   "execution_count": 2,
   "id": "2bf961ff-5390-4f3d-862d-6039ff8a8f44",
   "metadata": {},
   "outputs": [],
   "source": [
    "# Generate Toy Data\n"
   ]
  },
  {
   "cell_type": "markdown",
   "id": "02621937-786f-477e-8326-f54c5c2f6eff",
   "metadata": {},
   "source": [
    "## Cross-Validation"
   ]
  },
  {
   "cell_type": "code",
   "execution_count": 1,
   "id": "342d141e-4ca2-4228-ac0f-4fe0d6d4314a",
   "metadata": {
    "scrolled": true
   },
   "outputs": [],
   "source": [
    "from confounding_robust_inference.estimators import HajekEstimator"
   ]
  },
  {
   "cell_type": "code",
   "execution_count": null,
   "id": "89422048-a081-437a-a1b9-2ab176e3db51",
   "metadata": {},
   "outputs": [],
   "source": []
  },
  {
   "cell_type": "code",
   "execution_count": null,
   "id": "145363fe-dc41-4a60-85fd-b52176084c24",
   "metadata": {},
   "outputs": [],
   "source": []
  }
 ],
 "metadata": {
  "kernelspec": {
   "display_name": "Python 3 (ipykernel)",
   "language": "python",
   "name": "python3"
  },
  "language_info": {
   "codemirror_mode": {
    "name": "ipython",
    "version": 3
   },
   "file_extension": ".py",
   "mimetype": "text/x-python",
   "name": "python",
   "nbconvert_exporter": "python",
   "pygments_lexer": "ipython3",
   "version": "3.10.6"
  }
 },
 "nbformat": 4,
 "nbformat_minor": 5
}
