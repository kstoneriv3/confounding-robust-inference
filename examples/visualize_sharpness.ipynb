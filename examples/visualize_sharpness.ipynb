{
 "cells": [
  {
   "cell_type": "markdown",
   "id": "ce3d6eaa-a23f-404f-9ca6-7391e5d5f2f7",
   "metadata": {},
   "source": [
    "# Visualize Sharpness"
   ]
  },
  {
   "cell_type": "code",
   "execution_count": 1,
   "id": "342d141e-4ca2-4228-ac0f-4fe0d6d4314a",
   "metadata": {
    "scrolled": true
   },
   "outputs": [],
   "source": [
    "from confounding_robust_inference.estimators import HajekEstimator"
   ]
  },
  {
   "cell_type": "code",
   "execution_count": null,
   "id": "89422048-a081-437a-a1b9-2ab176e3db51",
   "metadata": {},
   "outputs": [],
   "source": []
  }
 ],
 "metadata": {
  "kernelspec": {
   "display_name": "Python 3 (ipykernel)",
   "language": "python",
   "name": "python3"
  },
  "language_info": {
   "codemirror_mode": {
    "name": "ipython",
    "version": 3
   },
   "file_extension": ".py",
   "mimetype": "text/x-python",
   "name": "python",
   "nbconvert_exporter": "python",
   "pygments_lexer": "ipython3",
   "version": "3.10.6"
  }
 },
 "nbformat": 4,
 "nbformat_minor": 5
}
