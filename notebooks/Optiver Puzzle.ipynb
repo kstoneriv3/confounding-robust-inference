{
 "cells": [
  {
   "cell_type": "markdown",
   "id": "b379a00c-a975-475e-9ee2-62695b535873",
   "metadata": {},
   "source": [
    "An ant leaves its anthill in order to forage for food. It moves with the speed of 10cm per second, but it doesn't know where to go, therefore every second it moves randomly 10cm directly north, south, east or west with equal probability.\n",
    "\n",
    "1. If the food is located on east-west lines 20cm to the north and 20cm to the south, as well as on north-south lines 20cm to the east and 20cm to the west from the anthill, how long will it take the ant to reach it on average?\n",
    "2. What is the average time the ant will reach food if it is located only on a diagonal line passing through (10cm, 0cm) and (0cm, 10cm) points?\n",
    "3.Can you write a program that comes up with an estimate of average time to find food for any closed boundary around the anthill? What would be the answer if food is located outside an defined by ( (x – 2.5cm) / 30cm )2 + ( (y – 2.5cm) / 40cm )2 < 1 in coordinate system where the anthill is located at (x = 0cm, y = 0cm)? Provide us with a solution rounded to the nearest integer.\n",
    "\n"
   ]
  },
  {
   "cell_type": "code",
   "execution_count": 1,
   "id": "1317dea7-7b6d-456f-bedb-88738759cf88",
   "metadata": {},
   "outputs": [],
   "source": [
    "import numpy as np\n",
    "import scipy.sparse\n",
    "import scipy.sparse.linalg"
   ]
  },
  {
   "cell_type": "code",
   "execution_count": 2,
   "id": "f46d6560-c3d7-4432-beeb-24672daba367",
   "metadata": {},
   "outputs": [],
   "source": [
    "from matplotlib import pyplot as plt"
   ]
  },
  {
   "cell_type": "markdown",
   "id": "3239f027-b018-45bd-b7b2-7f4e6b2f6d89",
   "metadata": {},
   "source": [
    "### Monte Carlo Estimator"
   ]
  },
  {
   "cell_type": "code",
   "execution_count": 3,
   "id": "71c7b234-e069-43dc-8bbe-5c9201110fe6",
   "metadata": {},
   "outputs": [],
   "source": [
    "def sample_path(n_mc = 10000, t_max = 100):\n",
    "    direction = np.random.randint(low=0, high=4, size=(n_mc, t_max))\n",
    "    dx = 10 * (direction == 0) - 10 * (direction == 2)\n",
    "    dy = 10 * (direction == 1) - 10 * (direction == 3)\n",
    "    x = dx.cumsum(axis=1)\n",
    "    y = dy.cumsum(axis=1)\n",
    "    return x, y\n",
    "\n",
    "def reaching_time(x, y, is_on_bound):\n",
    "    n_mc, t_max = x.shape\n",
    "    time = 1 + np.sum(np.cumprod(~ is_on_bound(x, y), axis=1), axis=1)\n",
    "    return time.mean()"
   ]
  },
  {
   "cell_type": "markdown",
   "id": "a0f40961-9b11-4054-a2b2-be487391bc0f",
   "metadata": {},
   "source": [
    "### Linear System Solver"
   ]
  },
  {
   "cell_type": "code",
   "execution_count": 4,
   "id": "2832c369-743a-4a27-a7bb-49ca9de11bf3",
   "metadata": {},
   "outputs": [],
   "source": [
    "def analytical_reaching_time(is_on_bound):\n",
    "    # Obtain coefficient matrix A by DFS\n",
    "    neighbors = {}\n",
    "    def dfs_connected_area(x, y):\n",
    "        neighbors[x, y] = []\n",
    "        for x_, y_ in ((x+10, y), (x-10, y), (x, y+10), (x, y-10)):\n",
    "            if not is_on_bound(x_, y_):\n",
    "                neighbors[x, y].append((x_, y_))\n",
    "                if not (x_, y_) in neighbors:\n",
    "                    dfs_connected_area(x_, y_)\n",
    "    dfs_connected_area(0, 0)\n",
    "    \n",
    "    position_indices = {(x, y): i for i, (x, y) in enumerate(neighbors.keys())}\n",
    "    x_idx_A = []\n",
    "    y_idx_A = []\n",
    "    for x, y in neighbors.keys():\n",
    "        for x_, y_ in neighbors[x, y]:\n",
    "            x_idx_A.append(position_indices[x, y])\n",
    "            y_idx_A.append(position_indices[x_, y_])\n",
    "    data_A = [1/4 for _ in x_idx_A]\n",
    "    A = scipy.sparse.csr_matrix((data_A, (x_idx_A, y_idx_A)), dtype=np.float64)\n",
    "    \n",
    "    # Solve t = At + 1\n",
    "    Id = scipy.sparse.identity(A.shape[0])\n",
    "    ones = np.ones(A.shape[0])\n",
    "    ts = scipy.sparse.linalg.spsolve(Id - A, ones)\n",
    "    \n",
    "    return {(x, y): ts[position_indices[x, y]] for x, y in sorted(neighbors.keys())}"
   ]
  },
  {
   "cell_type": "markdown",
   "id": "503415ec-a977-48fc-87ba-2b6b4e500216",
   "metadata": {
    "tags": []
   },
   "source": [
    "### Question 1"
   ]
  },
  {
   "cell_type": "code",
   "execution_count": 5,
   "id": "cad77434-baf5-410a-9b87-09df5114acbb",
   "metadata": {},
   "outputs": [],
   "source": [
    "is_on_bound = lambda x, y: np.logical_or(np.abs(x) == 20, np.abs(y) == 20) "
   ]
  },
  {
   "cell_type": "code",
   "execution_count": 9,
   "id": "0ac6662a",
   "metadata": {},
   "outputs": [
    {
     "data": {
      "text/plain": [
       "14.5024"
      ]
     },
     "execution_count": 9,
     "metadata": {},
     "output_type": "execute_result"
    }
   ],
   "source": [
    "x, y = sample_path()\n",
    "reaching_time(x, y, is_on_bound)"
   ]
  },
  {
   "cell_type": "code",
   "execution_count": 7,
   "id": "f66fcae4-7867-40b9-a9ab-b795ee169009",
   "metadata": {},
   "outputs": [
    {
     "data": {
      "text/plain": [
       "{(-10, -10): 2.75,\n",
       " (-10, 0): 3.4999999999999996,\n",
       " (-10, 10): 2.7499999999999996,\n",
       " (0, -10): 3.5,\n",
       " (0, 0): 4.499999999999999,\n",
       " (0, 10): 3.499999999999999,\n",
       " (10, -10): 2.7499999999999996,\n",
       " (10, 0): 3.4999999999999996,\n",
       " (10, 10): 2.7499999999999996}"
      ]
     },
     "execution_count": 7,
     "metadata": {},
     "output_type": "execute_result"
    }
   ],
   "source": [
    "analytical_reaching_time(is_on_bound)"
   ]
  },
  {
   "cell_type": "markdown",
   "id": "aeef9f05-bdd8-4c7d-936b-7cfb34691bf9",
   "metadata": {},
   "source": [
    "### Question 2"
   ]
  },
  {
   "cell_type": "code",
   "execution_count": 8,
   "id": "e3e2a9f0-9545-44bd-a0ad-ed55c91d7c47",
   "metadata": {},
   "outputs": [],
   "source": [
    "is_on_bound = lambda x, y: x + y == 10\n",
    "ts = (10 ** np.linspace(1, 3)).astype(int)\n",
    "t_reach_mc = []\n",
    "for t in ts:\n",
    "    x, y = sample_path(t_max=t)\n",
    "    t_reach_mc.append(reaching_time(x, y, is_on_bound))"
   ]
  },
  {
   "cell_type": "code",
   "execution_count": 10,
   "id": "e8638f08-43cd-4cf1-8697-bb64d45fe110",
   "metadata": {},
   "outputs": [
    {
     "data": {
      "text/plain": [
       "Text(0.5, 1.0, 'The MC estimate of the stopping time diverges as we increase the maximum time.')"
      ]
     },
     "execution_count": 10,
     "metadata": {},
     "output_type": "execute_result"
    },
    {
     "data": {
      "image/png": "[encoded data removed]",
      "text/plain": [
       "<Figure size 432x288 with 1 Axes>"
      ]
     },
     "metadata": {
      "needs_background": "light"
     },
     "output_type": "display_data"
    }
   ],
   "source": [
    "plt.plot(ts, t_reach_mc)\n",
    "plt.xscale('log')\n",
    "plt.yscale('log')\n",
    "plt.title(\"The MC estimate of the stopping time seems to diverge as we increase the maximum time.\")"
   ]
  },
  {
   "cell_type": "markdown",
   "id": "91bf6453-5700-438d-ba90-f77fb99e0617",
   "metadata": {},
   "source": [
    "### Question 3"
   ]
  },
  {
   "cell_type": "code",
   "execution_count": 11,
   "id": "96d9f35c-6183-4061-afa8-0d10c8fe588f",
   "metadata": {},
   "outputs": [],
   "source": [
    "is_on_bound = lambda x, y:  ((x - 2.5) / 30) ** 2 + ((y - 2.5) / 40) ** 2 > 1"
   ]
  },
  {
   "cell_type": "code",
   "execution_count": 12,
   "id": "08c4ad87-1f00-4898-ae94-06afe922b5d2",
   "metadata": {},
   "outputs": [
    {
     "data": {
      "text/plain": [
       "14.0504"
      ]
     },
     "execution_count": 12,
     "metadata": {},
     "output_type": "execute_result"
    }
   ],
   "source": [
    "x, y = sample_path()\n",
    "reaching_time(x, y, is_on_bound)"
   ]
  },
  {
   "cell_type": "code",
   "execution_count": 14,
   "id": "510a12b0-8436-4d77-83be-07df5ee2d247",
   "metadata": {},
   "outputs": [
    {
     "data": {
      "text/plain": [
       "{(-20, -20): 4.897778521585673,\n",
       " (-20, -10): 6.875596102062348,\n",
       " (-20, 0): 7.478686247937064,\n",
       " (-20, 10): 7.017668223507226,\n",
       " (-20, 20): 5.102722926452644,\n",
       " (-10, -30): 4.65512759082783,\n",
       " (-10, -20): 8.715517984280346,\n",
       " (-10, -10): 11.125919638726655,\n",
       " (-10, 0): 12.021480666178684,\n",
       " (-10, 10): 11.4892637196392,\n",
       " (-10, 20): 9.393223482303352,\n",
       " (-10, 30): 5.418678081536692,\n",
       " (0, -30): 5.90499237903097,\n",
       " (0, -20): 10.183246185981226,\n",
       " (0, -10): 12.891083802385245,\n",
       " (0, 0): 13.99205305841182,\n",
       " (0, 10): 13.524682506567537,\n",
       " (0, 20): 11.562229201584868,\n",
       " (0, 30): 8.281488843843416,\n",
       " (0, 40): 4.079437716726611,\n",
       " (10, -30): 4.781595739314827,\n",
       " (10, -20): 9.221390578228338,\n",
       " (10, -10): 12.263116326421281,\n",
       " (10, 0): 13.53096525851581,\n",
       " (10, 10): 13.05518404663426,\n",
       " (10, 20): 11.049521973625161,\n",
       " (10, 30): 8.065610375525496,\n",
       " (10, 40): 4.036262023063027,\n",
       " (20, -20): 5.657604061196019,\n",
       " (20, -10): 9.40902566655574,\n",
       " (20, 0): 10.813507602595873,\n",
       " (20, 10): 10.115566447828531,\n",
       " (20, 20): 7.515064270756018,\n",
       " (20, 30): 4.895168661570379,\n",
       " (30, -10): 4.901874676009788,\n",
       " (30, 0): 6.198473037483411,\n",
       " (30, 10): 5.078509871327985}"
      ]
     },
     "execution_count": 14,
     "metadata": {},
     "output_type": "execute_result"
    }
   ],
   "source": [
    "analytical_reaching_time(is_on_bound)"
   ]
  },
  {
   "cell_type": "code",
   "execution_count": null,
   "id": "a0819bbf-0b02-49dc-9be3-af019e18301a",
   "metadata": {},
   "outputs": [],
   "source": []
  }
 ],
 "metadata": {
  "kernelspec": {
   "display_name": "Python 3",
   "language": "python",
   "name": "python3"
  },
  "language_info": {
   "codemirror_mode": {
    "name": "ipython",
    "version": 3
   },
   "file_extension": ".py",
   "mimetype": "text/x-python",
   "name": "python",
   "nbconvert_exporter": "python",
   "pygments_lexer": "ipython3",
   "version": "3.8.10"
  }
 },
 "nbformat": 4,
 "nbformat_minor": 5
}
