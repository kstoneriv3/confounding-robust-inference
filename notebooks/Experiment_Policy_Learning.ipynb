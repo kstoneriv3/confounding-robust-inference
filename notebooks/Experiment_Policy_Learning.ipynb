{
 "cells": [
  {
   "cell_type": "code",
   "execution_count": 12,
   "id": "16433ca9-aeed-46de-a809-d064d220a2f3",
   "metadata": {},
   "outputs": [],
   "source": [
    "import numpy as np\n",
    "import torch\n",
    "import pandas as pd\n",
    "import numpy as np"
   ]
  },
  {
   "cell_type": "code",
   "execution_count": 13,
   "id": "a67d678e-0d10-49ce-bb57-73cf322de723",
   "metadata": {},
   "outputs": [],
   "source": [
    "from matplotlib import pyplot as plt\n",
    "plt.style.use(\"seaborn-whitegrid\")\n",
    "from matplotlib.cm import tab10"
   ]
  },
  {
   "cell_type": "code",
   "execution_count": 16,
   "id": "ba28601d-7dcb-43f5-b27a-afab41c648cf",
   "metadata": {},
   "outputs": [],
   "source": [
    "from tqdm.auto import tqdm"
   ]
  },
  {
   "cell_type": "code",
   "execution_count": 17,
   "id": "4b0180e1-8b2a-492b-84d8-1ee169552f83",
   "metadata": {},
   "outputs": [],
   "source": [
    "import kcmc\n",
    "from kcmc.estimators import confounding_robust_estimator, hajek, ipw\n",
    "from kcmc.experiment_policy_evaluation import run_policy_evaluation_experiment"
   ]
  },
  {
   "cell_type": "markdown",
   "id": "d3d992fa-e3aa-4508-9d51-b252770febfb",
   "metadata": {
    "tags": []
   },
   "source": [
    "# Binary Synthetic Data"
   ]
  },
  {
   "cell_type": "code",
   "execution_count": 18,
   "id": "f9d12538-177a-4ca5-892a-21588b123fd2",
   "metadata": {},
   "outputs": [],
   "source": [
    "from kcmc.data_binary import evaluate_policy, generate_data, estimate_p_t"
   ]
  },
  {
   "cell_type": "code",
   "execution_count": 19,
   "id": "b14c0b72-5f51-4cfe-b369-81009ea78236",
   "metadata": {
    "tags": []
   },
   "outputs": [],
   "source": [
    "beta_e_x = np.asarray([0, .75, -.5, 0, -1])\n",
    "\n",
    "def toy_policy(X, T):\n",
    "    n = X.shape[0]\n",
    "    T = torch.as_tensor(T)\n",
    "    z = torch.as_tensor(X) @ torch.as_tensor(beta_e_x)\n",
    "    e_x = torch.exp(z) / (1 + torch.exp(z))\n",
    "    return (1. - T) * e_x + T * (1. - e_x)"
   ]
  },
  {
   "cell_type": "code",
   "execution_count": 21,
   "id": "9a9ed371-ac91-480a-99fa-1770d44c0184",
   "metadata": {},
   "outputs": [],
   "source": [
    "# Guessing kernel with approximate solution\n",
    "Y, T, X, _, _, _ = generate_data(1000)\n",
    "p_t = estimate_p_t(X, T)\n",
    "_, w_guess = confounding_robust_estimator(\n",
    "    Y, T, X, p_t, toy_policy, lambd=1.5,\n",
    "    hajek_const=True, tan_box_const=True, \n",
    "    return_w=True, normalize_p_t=True, \n",
    ")\n",
    "e_guess = p_t * w_guess - 1\n",
    "gp_kernel = kcmc.estimators.fit_gp_kernel(e_guess, T, X)\n",
    "kernel = gp_kernel.k2"
   ]
  },
  {
   "cell_type": "markdown",
   "id": "f2f0df0c-c137-4caf-a598-97616852d040",
   "metadata": {},
   "source": [
    "#### Define a trainable policy"
   ]
  },
  {
   "cell_type": "code",
   "execution_count": null,
   "id": "d1e50f91-9bcb-4028-a87e-09e15de4d177",
   "metadata": {},
   "outputs": [],
   "source": [
    "def LR_policy(X, T, beta):\n",
    "    n = X.shape[0]\n",
    "    T = torch.as_tensor(T)\n",
    "    X = np.concatenate([np.ones([n, 1]), X], axis=1)\n",
    "    p = torch.sigmoid(torch.tensor(X) @ beta)\n",
    "    return (1 - T) * p + T * (1 - p)"
   ]
  },
  {
   "cell_type": "markdown",
   "id": "4e7783a5-35c3-4342-8421-054850ae7bed",
   "metadata": {},
   "source": [
    "### Experiment of changing sensitivity parameter $\\Lambda$ "
   ]
  },
  {
   "cell_type": "code",
   "execution_count": 59,
   "id": "5293ffeb-42e4-487c-bbdc-bd3779df2ce3",
   "metadata": {},
   "outputs": [],
   "source": [
    "def update_base_method(**new_params):\n",
    "    ret = kcmc.experiment_policy_evaluation.EXAMPLE_PARAMS.copy()\n",
    "    ret.update(new_params)\n",
    "    return ret\n",
    "\n",
    "grid_methods = {\n",
    "    'GP_KCMC': update_base_method(\n",
    "        hajek_const=True,\n",
    "        normalize_p_t=True,\n",
    "        tan_box_const=True,\n",
    "        kernel=kernel,\n",
    "        kernel_const=True,\n",
    "        D=100,\n",
    "    ),\n",
    "    'hard_KCMC': update_base_method(\n",
    "        hajek_const=True,\n",
    "        normalize_p_t=True,\n",
    "        tan_box_const=True,\n",
    "        kernel=kernel,\n",
    "        kernel_const=True,\n",
    "        hard_kernel_const=True,\n",
    "        D=100,\n",
    "    ),\n",
    "    'ZSB': update_base_method(\n",
    "        hajek_const=True,\n",
    "        normalize_p_t=True,\n",
    "        tan_box_const=True,\n",
    "    ),\n",
    "}"
   ]
  },
  {
   "cell_type": "code",
   "execution_count": 60,
   "id": "a1ed3f79-35e7-4ea7-9dcc-333934264a02",
   "metadata": {},
   "outputs": [],
   "source": [
    "import csv\n",
    "import os.path\n",
    "import numpy as np\n",
    "from sklearn.gaussian_process.kernels import RBF\n",
    "from kcmc.estimators import confounding_robust_estimator\n",
    "\n",
    "\n",
    "EXAMPLE_PARAMS = {\n",
    "    'D': 200,\n",
    "    'lambd': 1.5,\n",
    "    'gamma': 0.01,\n",
    "    'alpha': 0.05,\n",
    "    'sigma2': 0.01,\n",
    "    'kernel': RBF(),\n",
    "    'hard_kernel_const': False,\n",
    "    'normalize_p_t': False,\n",
    "    'f_divergence': 'total variation',\n",
    "    'hajek_const': False,\n",
    "    'kernel_const': False,\n",
    "    'quantile_const': False,\n",
    "    'regressor_const': False,\n",
    "    'tan_box_const': False,\n",
    "    'lr_box_const': False,\n",
    "    'f_const': False,\n",
    "}\n",
    "\n",
    "def run_policy_learning_experiment(\n",
    "    log_file, params, data_type='synthetic binary', sample_size=500, n_seeds=1, seed0=0, n_steps=201, log_info=\"\",\n",
    "):\n",
    "    assert data_type in ['synthetic binary', 'synthetic continuous', 'real binary']\n",
    "    assert set(params.keys()) == set(EXAMPLE_PARAMS.keys())\n",
    "    print(f\"Policy learning with {log_info}...\")\n",
    "    for seed in range(seed0, seed0 + n_seeds):\n",
    "        Y, T, X, p_t = get_data(data_type, sample_size, seed)\n",
    "        beta = torch.zeros(6, requires_grad=True, dtype=float)\n",
    "        logistic_policy = lambda X, T: LR_policy(X, T, beta)\n",
    "        optimizer = torch.optim.SGD(lr=1e-1, params=[beta])\n",
    "        pbar = tqdm(range(n_steps))\n",
    "        for i in pbar:\n",
    "            lower_bound = confounding_robust_estimator(Y, T, X, p_t, logistic_policy, **params)\n",
    "            np.random.seed(0)\n",
    "            ground_truth = evaluate_policy(logistic_policy, n=100000)\n",
    "            (- lower_bound).backward()\n",
    "            optimizer.step()\n",
    "            optimizer.zero_grad()\n",
    "            lower_bound, ground_truth = map(lambda x: x.data.numpy(), (lower_bound, ground_truth))\n",
    "            log_csv(log_file, data_type, 'logistic policy', lower_bound, ground_truth, params, sample_size, seed, log_info, i)\n",
    "            pbar.set_description(f\"Seed: {seed},\\tTrain lower bound: {lower_bound}\")\n",
    "            \n",
    "        pbar = tqdm(range(10))\n",
    "        for seed in pbar:\n",
    "            np.random.seed(seed)\n",
    "            Y, T, X, _, _, _ = generate_data(5000)\n",
    "            p_t = estimate_p_t(X, T)\n",
    "            params['D'] = 250\n",
    "            params['hard_kernel_const'] = True\n",
    "            test_lower_bound = confounding_robust_estimator(Y, T, X, p_t, logistic_policy, **params).data.numpy()\n",
    "            p_t = estimate_p_t(X, T)\n",
    "            log_csv(log_file, data_type, 'logistic policy', test_lower_bound, -1, params, 5000, seed, log_info+\"_test\", i)\n",
    "            pbar.set_description(f\"Seed: {seed},\\tTest lower bound: {test_lower_bound}\")\n",
    "\n",
    "\n",
    "def get_data(data_type, sample_size, seed):\n",
    "    if 'synthetic' in data_type:\n",
    "        if 'binary' in data_type:\n",
    "            from kcmc.data_binary import generate_data, evaluate_policy, estimate_p_t\n",
    "        elif 'continuous' in data_type:\n",
    "            from kcmc.data_continuous import generate_data, evaluate_policy, estimate_p_t\n",
    "        else:\n",
    "            raise ValueError\n",
    "        np.random.seed(seed)\n",
    "        Y, T, X, U, e_x, e_xu = generate_data(sample_size)\n",
    "        p_t = estimate_p_t(X, T)\n",
    "    elif 'real' in data_type:\n",
    "        from kcmc.data_real import generate_data, estimate_p_t\n",
    "        Y, T, X = generate_data()\n",
    "        p_t = estimate_p_t(X, T)\n",
    "    return Y, T, X, p_t\n",
    "\n",
    "def log_csv(log_file, data_type, policy_name, lower_bound, ground_truth, params, sample_size, seed, log_info, step):\n",
    "    if not os.path.exists(log_file):\n",
    "        # make a column name\n",
    "        columns = ['log_info', 'data_type', 'policy_name', 'sample_size', 'seed', 'step', 'lower_bound', 'ground_truth', *params.keys()]\n",
    "        with open(log_file, 'a') as file:\n",
    "            writer = csv.writer(file)\n",
    "            writer.writerow(columns)\n",
    "    # log data by appending to the csv file\n",
    "    fields=[log_info, data_type, policy_name, sample_size, seed, step, lower_bound, ground_truth, *params.values()]\n",
    "    with open(log_file, 'a') as file:\n",
    "        writer = csv.writer(file)\n",
    "        writer.writerow(fields)\n",
    "                                      "
   ]
  },
  {
   "cell_type": "code",
   "execution_count": null,
   "id": "d0f93d8a-af84-4127-9af8-bf87ef4cb1af",
   "metadata": {},
   "outputs": [
    {
     "name": "stdout",
     "output_type": "stream",
     "text": [
      "Policy learning with ZSB...\n"
     ]
    },
    {
     "data": {
      "application/vnd.jupyter.widget-view+json": {
       "model_id": "7883c69855f2481199e79d6242a01d18",
       "version_major": 2,
       "version_minor": 0
      },
      "text/plain": [
       "  0%|          | 0/201 [00:00<?, ?it/s]"
      ]
     },
     "metadata": {},
     "output_type": "display_data"
    },
    {
     "data": {
      "application/vnd.jupyter.widget-view+json": {
       "model_id": "8143908fe33c4fdabf7de6bf626673ef",
       "version_major": 2,
       "version_minor": 0
      },
      "text/plain": [
       "  0%|          | 0/10 [00:00<?, ?it/s]"
      ]
     },
     "metadata": {},
     "output_type": "display_data"
    },
    {
     "data": {
      "application/vnd.jupyter.widget-view+json": {
       "model_id": "8af065365d40448c917aaf502791d809",
       "version_major": 2,
       "version_minor": 0
      },
      "text/plain": [
       "  0%|          | 0/201 [00:00<?, ?it/s]"
      ]
     },
     "metadata": {},
     "output_type": "display_data"
    },
    {
     "data": {
      "application/vnd.jupyter.widget-view+json": {
       "model_id": "ec750cec92ac4d3dbc782bf5a69e3bb1",
       "version_major": 2,
       "version_minor": 0
      },
      "text/plain": [
       "  0%|          | 0/10 [00:00<?, ?it/s]"
      ]
     },
     "metadata": {},
     "output_type": "display_data"
    },
    {
     "data": {
      "application/vnd.jupyter.widget-view+json": {
       "model_id": "7eff04f33da54c0d8b79701ff9eee36e",
       "version_major": 2,
       "version_minor": 0
      },
      "text/plain": [
       "  0%|          | 0/201 [00:00<?, ?it/s]"
      ]
     },
     "metadata": {},
     "output_type": "display_data"
    },
    {
     "data": {
      "application/vnd.jupyter.widget-view+json": {
       "model_id": "ece049d39ef346b99662620d08f9c005",
       "version_major": 2,
       "version_minor": 0
      },
      "text/plain": [
       "  0%|          | 0/10 [00:00<?, ?it/s]"
      ]
     },
     "metadata": {},
     "output_type": "display_data"
    },
    {
     "data": {
      "application/vnd.jupyter.widget-view+json": {
       "model_id": "c5bc886755634b44ac6c03719bbca0d7",
       "version_major": 2,
       "version_minor": 0
      },
      "text/plain": [
       "  0%|          | 0/201 [00:00<?, ?it/s]"
      ]
     },
     "metadata": {},
     "output_type": "display_data"
    },
    {
     "data": {
      "application/vnd.jupyter.widget-view+json": {
       "model_id": "ca83d580a7024bfeb7980c7d4a2cbcfa",
       "version_major": 2,
       "version_minor": 0
      },
      "text/plain": [
       "  0%|          | 0/10 [00:00<?, ?it/s]"
      ]
     },
     "metadata": {},
     "output_type": "display_data"
    },
    {
     "data": {
      "application/vnd.jupyter.widget-view+json": {
       "model_id": "53251a7b9a604d0083255b45d72f3d90",
       "version_major": 2,
       "version_minor": 0
      },
      "text/plain": [
       "  0%|          | 0/201 [00:00<?, ?it/s]"
      ]
     },
     "metadata": {},
     "output_type": "display_data"
    },
    {
     "data": {
      "application/vnd.jupyter.widget-view+json": {
       "model_id": "8930886e09b7430c90f5ecb734b4c19c",
       "version_major": 2,
       "version_minor": 0
      },
      "text/plain": [
       "  0%|          | 0/10 [00:00<?, ?it/s]"
      ]
     },
     "metadata": {},
     "output_type": "display_data"
    },
    {
     "data": {
      "application/vnd.jupyter.widget-view+json": {
       "model_id": "5769f0ff7f994e698bb85e1ed9fa7129",
       "version_major": 2,
       "version_minor": 0
      },
      "text/plain": [
       "  0%|          | 0/201 [00:00<?, ?it/s]"
      ]
     },
     "metadata": {},
     "output_type": "display_data"
    },
    {
     "data": {
      "application/vnd.jupyter.widget-view+json": {
       "model_id": "c21aa1e09d5d49fa80590fc3fd5a3be6",
       "version_major": 2,
       "version_minor": 0
      },
      "text/plain": [
       "  0%|          | 0/10 [00:00<?, ?it/s]"
      ]
     },
     "metadata": {},
     "output_type": "display_data"
    },
    {
     "data": {
      "application/vnd.jupyter.widget-view+json": {
       "model_id": "f413f88e14c34e14882e6b7c9690f1c4",
       "version_major": 2,
       "version_minor": 0
      },
      "text/plain": [
       "  0%|          | 0/201 [00:00<?, ?it/s]"
      ]
     },
     "metadata": {},
     "output_type": "display_data"
    },
    {
     "data": {
      "application/vnd.jupyter.widget-view+json": {
       "model_id": "2ead6087884f44ba8c208cea77848656",
       "version_major": 2,
       "version_minor": 0
      },
      "text/plain": [
       "  0%|          | 0/10 [00:00<?, ?it/s]"
      ]
     },
     "metadata": {},
     "output_type": "display_data"
    },
    {
     "data": {
      "application/vnd.jupyter.widget-view+json": {
       "model_id": "eb8c9231c03642738b50c5fb2c641eec",
       "version_major": 2,
       "version_minor": 0
      },
      "text/plain": [
       "  0%|          | 0/201 [00:00<?, ?it/s]"
      ]
     },
     "metadata": {},
     "output_type": "display_data"
    },
    {
     "data": {
      "application/vnd.jupyter.widget-view+json": {
       "model_id": "65e9d41c039641cd9d9674a0e502a848",
       "version_major": 2,
       "version_minor": 0
      },
      "text/plain": [
       "  0%|          | 0/10 [00:00<?, ?it/s]"
      ]
     },
     "metadata": {},
     "output_type": "display_data"
    },
    {
     "data": {
      "application/vnd.jupyter.widget-view+json": {
       "model_id": "e7c05fcc86f6405780420b63a3f10693",
       "version_major": 2,
       "version_minor": 0
      },
      "text/plain": [
       "  0%|          | 0/201 [00:00<?, ?it/s]"
      ]
     },
     "metadata": {},
     "output_type": "display_data"
    },
    {
     "data": {
      "application/vnd.jupyter.widget-view+json": {
       "model_id": "c81adbe9effa42e8908351a5c6a12036",
       "version_major": 2,
       "version_minor": 0
      },
      "text/plain": [
       "  0%|          | 0/10 [00:00<?, ?it/s]"
      ]
     },
     "metadata": {},
     "output_type": "display_data"
    },
    {
     "data": {
      "application/vnd.jupyter.widget-view+json": {
       "model_id": "4a59482e5456404eb8606c8dd8822b9d",
       "version_major": 2,
       "version_minor": 0
      },
      "text/plain": [
       "  0%|          | 0/201 [00:00<?, ?it/s]"
      ]
     },
     "metadata": {},
     "output_type": "display_data"
    },
    {
     "data": {
      "application/vnd.jupyter.widget-view+json": {
       "model_id": "589cf7117bf843788ada85853ab18474",
       "version_major": 2,
       "version_minor": 0
      },
      "text/plain": [
       "  0%|          | 0/10 [00:00<?, ?it/s]"
      ]
     },
     "metadata": {},
     "output_type": "display_data"
    },
    {
     "name": "stdout",
     "output_type": "stream",
     "text": [
      "Policy learning with GP_KCMC...\n"
     ]
    },
    {
     "data": {
      "application/vnd.jupyter.widget-view+json": {
       "model_id": "d8195279064c409bbfcd3c4a0bc586cf",
       "version_major": 2,
       "version_minor": 0
      },
      "text/plain": [
       "  0%|          | 0/201 [00:00<?, ?it/s]"
      ]
     },
     "metadata": {},
     "output_type": "display_data"
    },
    {
     "data": {
      "application/vnd.jupyter.widget-view+json": {
       "model_id": "ff7c72d2a42c4827998b40742f17ada4",
       "version_major": 2,
       "version_minor": 0
      },
      "text/plain": [
       "  0%|          | 0/10 [00:00<?, ?it/s]"
      ]
     },
     "metadata": {},
     "output_type": "display_data"
    },
    {
     "data": {
      "application/vnd.jupyter.widget-view+json": {
       "model_id": "f813a0c8bd1448e295b64be8da5d99f8",
       "version_major": 2,
       "version_minor": 0
      },
      "text/plain": [
       "  0%|          | 0/201 [00:00<?, ?it/s]"
      ]
     },
     "metadata": {},
     "output_type": "display_data"
    },
    {
     "data": {
      "application/vnd.jupyter.widget-view+json": {
       "model_id": "ae02fbd2f43a48f590c721ea66f95294",
       "version_major": 2,
       "version_minor": 0
      },
      "text/plain": [
       "  0%|          | 0/10 [00:00<?, ?it/s]"
      ]
     },
     "metadata": {},
     "output_type": "display_data"
    },
    {
     "data": {
      "application/vnd.jupyter.widget-view+json": {
       "model_id": "7b0def59caa44f5f8ba42445e996e576",
       "version_major": 2,
       "version_minor": 0
      },
      "text/plain": [
       "  0%|          | 0/201 [00:00<?, ?it/s]"
      ]
     },
     "metadata": {},
     "output_type": "display_data"
    },
    {
     "data": {
      "application/vnd.jupyter.widget-view+json": {
       "model_id": "7b3f98b42e3b4dd2bb4e856fa5b772ef",
       "version_major": 2,
       "version_minor": 0
      },
      "text/plain": [
       "  0%|          | 0/10 [00:00<?, ?it/s]"
      ]
     },
     "metadata": {},
     "output_type": "display_data"
    },
    {
     "data": {
      "application/vnd.jupyter.widget-view+json": {
       "model_id": "59aeeb3fea0e4e3da45cdc73895bdb5d",
       "version_major": 2,
       "version_minor": 0
      },
      "text/plain": [
       "  0%|          | 0/201 [00:00<?, ?it/s]"
      ]
     },
     "metadata": {},
     "output_type": "display_data"
    },
    {
     "data": {
      "application/vnd.jupyter.widget-view+json": {
       "model_id": "06cc27efa6a3412a844bbfc12d460275",
       "version_major": 2,
       "version_minor": 0
      },
      "text/plain": [
       "  0%|          | 0/10 [00:00<?, ?it/s]"
      ]
     },
     "metadata": {},
     "output_type": "display_data"
    },
    {
     "data": {
      "application/vnd.jupyter.widget-view+json": {
       "model_id": "aca2fcef95dc44caa674c4873728abb2",
       "version_major": 2,
       "version_minor": 0
      },
      "text/plain": [
       "  0%|          | 0/201 [00:00<?, ?it/s]"
      ]
     },
     "metadata": {},
     "output_type": "display_data"
    },
    {
     "data": {
      "application/vnd.jupyter.widget-view+json": {
       "model_id": "dab01240305047c4aff7cffe6f7b06d8",
       "version_major": 2,
       "version_minor": 0
      },
      "text/plain": [
       "  0%|          | 0/10 [00:00<?, ?it/s]"
      ]
     },
     "metadata": {},
     "output_type": "display_data"
    },
    {
     "data": {
      "application/vnd.jupyter.widget-view+json": {
       "model_id": "c7d924f855fd46bbbc357530148cd407",
       "version_major": 2,
       "version_minor": 0
      },
      "text/plain": [
       "  0%|          | 0/201 [00:00<?, ?it/s]"
      ]
     },
     "metadata": {},
     "output_type": "display_data"
    },
    {
     "data": {
      "application/vnd.jupyter.widget-view+json": {
       "model_id": "4bf74250045d45f9af6b218bf69b68ae",
       "version_major": 2,
       "version_minor": 0
      },
      "text/plain": [
       "  0%|          | 0/10 [00:00<?, ?it/s]"
      ]
     },
     "metadata": {},
     "output_type": "display_data"
    }
   ],
   "source": [
    "log_file='logs/policy_learning_synthetic_binary.csv'\n",
    "\n",
    "for method_name, params in grid_methods.items():\n",
    "    run_policy_learning_experiment(\n",
    "        log_file, params, data_type='synthetic binary', \n",
    "        n_seeds=10, sample_size=500, log_info=method_name\n",
    "    )"
   ]
  },
  {
   "cell_type": "code",
   "execution_count": 53,
   "id": "b601135b-c2cf-4bac-928f-db5a0dccdaf9",
   "metadata": {},
   "outputs": [],
   "source": [
    "df = pd.read_csv('logs/policy_learning_synthetic_binary.csv')"
   ]
  },
  {
   "cell_type": "code",
   "execution_count": 54,
   "id": "6f085288-f287-4b3c-b874-4205d1fd62ec",
   "metadata": {},
   "outputs": [
    {
     "data": {
      "text/html": [
       "<div>\n",
       "<style scoped>\n",
       "    .dataframe tbody tr th:only-of-type {\n",
       "        vertical-align: middle;\n",
       "    }\n",
       "\n",
       "    .dataframe tbody tr th {\n",
       "        vertical-align: top;\n",
       "    }\n",
       "\n",
       "    .dataframe thead th {\n",
       "        text-align: right;\n",
       "    }\n",
       "</style>\n",
       "<table border=\"1\" class=\"dataframe\">\n",
       "  <thead>\n",
       "    <tr style=\"text-align: right;\">\n",
       "      <th></th>\n",
       "      <th>log_info</th>\n",
       "      <th>data_type</th>\n",
       "      <th>policy_name</th>\n",
       "      <th>sample_size</th>\n",
       "      <th>seed</th>\n",
       "      <th>step</th>\n",
       "      <th>lower_bound</th>\n",
       "      <th>ground_truth</th>\n",
       "      <th>D</th>\n",
       "      <th>lambd</th>\n",
       "      <th>...</th>\n",
       "      <th>hard_kernel_const</th>\n",
       "      <th>normalize_p_t</th>\n",
       "      <th>f_divergence</th>\n",
       "      <th>hajek_const</th>\n",
       "      <th>kernel_const</th>\n",
       "      <th>quantile_const</th>\n",
       "      <th>regressor_const</th>\n",
       "      <th>tan_box_const</th>\n",
       "      <th>lr_box_const</th>\n",
       "      <th>f_const</th>\n",
       "    </tr>\n",
       "  </thead>\n",
       "  <tbody>\n",
       "    <tr>\n",
       "      <th>0</th>\n",
       "      <td>ZSB</td>\n",
       "      <td>synthetic binary</td>\n",
       "      <td>logistic policy</td>\n",
       "      <td>500</td>\n",
       "      <td>0</td>\n",
       "      <td>0</td>\n",
       "      <td>3.576791</td>\n",
       "      <td>3.745165</td>\n",
       "      <td>200</td>\n",
       "      <td>1.5</td>\n",
       "      <td>...</td>\n",
       "      <td>False</td>\n",
       "      <td>True</td>\n",
       "      <td>total variation</td>\n",
       "      <td>True</td>\n",
       "      <td>False</td>\n",
       "      <td>False</td>\n",
       "      <td>False</td>\n",
       "      <td>True</td>\n",
       "      <td>False</td>\n",
       "      <td>False</td>\n",
       "    </tr>\n",
       "    <tr>\n",
       "      <th>1</th>\n",
       "      <td>ZSB</td>\n",
       "      <td>synthetic binary</td>\n",
       "      <td>logistic policy</td>\n",
       "      <td>500</td>\n",
       "      <td>0</td>\n",
       "      <td>1</td>\n",
       "      <td>3.667312</td>\n",
       "      <td>3.802417</td>\n",
       "      <td>200</td>\n",
       "      <td>1.5</td>\n",
       "      <td>...</td>\n",
       "      <td>False</td>\n",
       "      <td>True</td>\n",
       "      <td>total variation</td>\n",
       "      <td>True</td>\n",
       "      <td>False</td>\n",
       "      <td>False</td>\n",
       "      <td>False</td>\n",
       "      <td>True</td>\n",
       "      <td>False</td>\n",
       "      <td>False</td>\n",
       "    </tr>\n",
       "    <tr>\n",
       "      <th>2</th>\n",
       "      <td>ZSB</td>\n",
       "      <td>synthetic binary</td>\n",
       "      <td>logistic policy</td>\n",
       "      <td>500</td>\n",
       "      <td>0</td>\n",
       "      <td>2</td>\n",
       "      <td>3.750215</td>\n",
       "      <td>3.855805</td>\n",
       "      <td>200</td>\n",
       "      <td>1.5</td>\n",
       "      <td>...</td>\n",
       "      <td>False</td>\n",
       "      <td>True</td>\n",
       "      <td>total variation</td>\n",
       "      <td>True</td>\n",
       "      <td>False</td>\n",
       "      <td>False</td>\n",
       "      <td>False</td>\n",
       "      <td>True</td>\n",
       "      <td>False</td>\n",
       "      <td>False</td>\n",
       "    </tr>\n",
       "    <tr>\n",
       "      <th>3</th>\n",
       "      <td>ZSB</td>\n",
       "      <td>synthetic binary</td>\n",
       "      <td>logistic policy</td>\n",
       "      <td>500</td>\n",
       "      <td>0</td>\n",
       "      <td>3</td>\n",
       "      <td>3.818935</td>\n",
       "      <td>3.901866</td>\n",
       "      <td>200</td>\n",
       "      <td>1.5</td>\n",
       "      <td>...</td>\n",
       "      <td>False</td>\n",
       "      <td>True</td>\n",
       "      <td>total variation</td>\n",
       "      <td>True</td>\n",
       "      <td>False</td>\n",
       "      <td>False</td>\n",
       "      <td>False</td>\n",
       "      <td>True</td>\n",
       "      <td>False</td>\n",
       "      <td>False</td>\n",
       "    </tr>\n",
       "    <tr>\n",
       "      <th>4</th>\n",
       "      <td>ZSB</td>\n",
       "      <td>synthetic binary</td>\n",
       "      <td>logistic policy</td>\n",
       "      <td>500</td>\n",
       "      <td>0</td>\n",
       "      <td>4</td>\n",
       "      <td>3.876666</td>\n",
       "      <td>3.941502</td>\n",
       "      <td>200</td>\n",
       "      <td>1.5</td>\n",
       "      <td>...</td>\n",
       "      <td>False</td>\n",
       "      <td>True</td>\n",
       "      <td>total variation</td>\n",
       "      <td>True</td>\n",
       "      <td>False</td>\n",
       "      <td>False</td>\n",
       "      <td>False</td>\n",
       "      <td>True</td>\n",
       "      <td>False</td>\n",
       "      <td>False</td>\n",
       "    </tr>\n",
       "  </tbody>\n",
       "</table>\n",
       "<p>5 rows × 24 columns</p>\n",
       "</div>"
      ],
      "text/plain": [
       "  log_info         data_type      policy_name  sample_size  seed  step  \\\n",
       "0      ZSB  synthetic binary  logistic policy          500     0     0   \n",
       "1      ZSB  synthetic binary  logistic policy          500     0     1   \n",
       "2      ZSB  synthetic binary  logistic policy          500     0     2   \n",
       "3      ZSB  synthetic binary  logistic policy          500     0     3   \n",
       "4      ZSB  synthetic binary  logistic policy          500     0     4   \n",
       "\n",
       "   lower_bound  ground_truth    D  lambd  ...  hard_kernel_const  \\\n",
       "0     3.576791      3.745165  200    1.5  ...              False   \n",
       "1     3.667312      3.802417  200    1.5  ...              False   \n",
       "2     3.750215      3.855805  200    1.5  ...              False   \n",
       "3     3.818935      3.901866  200    1.5  ...              False   \n",
       "4     3.876666      3.941502  200    1.5  ...              False   \n",
       "\n",
       "   normalize_p_t     f_divergence hajek_const  kernel_const  quantile_const  \\\n",
       "0           True  total variation        True         False           False   \n",
       "1           True  total variation        True         False           False   \n",
       "2           True  total variation        True         False           False   \n",
       "3           True  total variation        True         False           False   \n",
       "4           True  total variation        True         False           False   \n",
       "\n",
       "  regressor_const  tan_box_const  lr_box_const  f_const  \n",
       "0           False           True         False    False  \n",
       "1           False           True         False    False  \n",
       "2           False           True         False    False  \n",
       "3           False           True         False    False  \n",
       "4           False           True         False    False  \n",
       "\n",
       "[5 rows x 24 columns]"
      ]
     },
     "execution_count": 54,
     "metadata": {},
     "output_type": "execute_result"
    }
   ],
   "source": [
    "df.head()"
   ]
  },
  {
   "cell_type": "code",
   "execution_count": 61,
   "id": "eb0afdd9-ba4f-4d15-ab3a-cfa067c35422",
   "metadata": {},
   "outputs": [
    {
     "name": "stderr",
     "output_type": "stream",
     "text": [
      "/tmp/ipykernel_1600562/1088673318.py:1: FutureWarning: Indexing with multiple keys (implicitly converted to a tuple of keys) will be deprecated, use a list instead.\n",
      "  df_grouped = df.groupby(by=['log_info', 'step'])['lower_bound', 'ground_truth']\n"
     ]
    }
   ],
   "source": [
    "df_grouped = df.groupby(by=['log_info', 'step'])['lower_bound', 'ground_truth']\n",
    "values_mean = df_grouped.mean()\n",
    "values_std = df_grouped.std()"
   ]
  },
  {
   "cell_type": "code",
   "execution_count": 70,
   "id": "0895d2d2-bc2e-4d10-8d1e-8d18c79e0742",
   "metadata": {},
   "outputs": [],
   "source": [
    "def darken(c):\n",
    "    c = colorsys.rgb_to_hls(*mc.to_rgb(c))\n",
    "    return colorsys.hls_to_rgb(c[0], 1 - 1.5 * (1 - c[1]), c[2])"
   ]
  },
  {
   "cell_type": "code",
   "execution_count": 121,
   "id": "b8427868-ef81-4eb2-8f30-a63acc09d5b6",
   "metadata": {
    "tags": []
   },
   "outputs": [
    {
     "data": {
      "image/png": "[encoded data removed]",
      "text/plain": [
       "<Figure size 432x288 with 1 Axes>"
      ]
     },
     "metadata": {
      "needs_background": "light"
     },
     "output_type": "display_data"
    }
   ],
   "source": [
    "steps = sorted(df.step.unique())\n",
    "colors = {method: tab10((0.5 + i) / 10) for i, method in enumerate(grid_methods.keys())}\n",
    "colors[\"ZSB\"] = tab10((0.5 + 3) / 10)\n",
    "legend_targets = []\n",
    "legend_tags = [\"low-rank GP KCMC ($D=100$)\", \"hard KCMC ($D=100$)\", \"ZSB\"]\n",
    "\n",
    "for method_name in grid_methods.keys():\n",
    "    lower = np.array([values_mean.loc[(method_name, i)]['lower_bound'] for i in steps])\n",
    "    dlower = np.array([values_std.loc[(method_name, i)]['lower_bound'] for i in steps])\n",
    "    test_lower = values_mean.loc[(method_name + '_test', max(steps))]['lower_bound']\n",
    "    gt = np.array([values_mean.loc[(method_name, i)]['ground_truth'] for i in steps])\n",
    "    # dtest_lower = values_std.loc[(method + '_test', max(steps))]['lower_bound']\n",
    "    c = colors[method_name]\n",
    "    lower_line = plt.plot(steps, lower, c=c)[0]\n",
    "    lower_band = plt.fill_between(steps, lower + dlower, lower - dlower, color=c, alpha=0.1)\n",
    "    #test_lower_line = plt.plot(steps[shifted_slice], [test_lower for _ in steps[shifted_slice]], '-', c=c, alpha=0.2)[0]\n",
    "    test_lower_line = plt.plot(steps[-1] + (7 if 'hard' in method_name else 3), [test_lower], '*', c=c)[0]\n",
    "    shifted_slice = slice(1, len(steps)) if 'hard' in method_name else slice(len(steps))\n",
    "    gt_line = plt.plot(steps[shifted_slice], gt[shifted_slice], ':', c=c, alpha=0.7)[0]\n",
    "    legend_targets.append((lower_line, lower_band))\n",
    "\n",
    "plt.legend(legend_targets, legend_tags)\n",
    "plt.xlabel(r\"The number of training steps\")\n",
    "plt.ylabel(r\"Policy value\")\n",
    "plt.savefig('logs/policy_learning_synthetic_binar.pdf')"
   ]
  },
  {
   "cell_type": "code",
   "execution_count": 80,
   "id": "7b398822-0e9f-45b1-973d-4a8b5cc583c2",
   "metadata": {},
   "outputs": [
    {
     "data": {
      "text/html": [
       "<div>\n",
       "<style scoped>\n",
       "    .dataframe tbody tr th:only-of-type {\n",
       "        vertical-align: middle;\n",
       "    }\n",
       "\n",
       "    .dataframe tbody tr th {\n",
       "        vertical-align: top;\n",
       "    }\n",
       "\n",
       "    .dataframe thead th {\n",
       "        text-align: right;\n",
       "    }\n",
       "</style>\n",
       "<table border=\"1\" class=\"dataframe\">\n",
       "  <thead>\n",
       "    <tr style=\"text-align: right;\">\n",
       "      <th></th>\n",
       "      <th>log_info</th>\n",
       "      <th>data_type</th>\n",
       "      <th>policy_name</th>\n",
       "      <th>sample_size</th>\n",
       "      <th>seed</th>\n",
       "      <th>step</th>\n",
       "      <th>lower_bound</th>\n",
       "      <th>ground_truth</th>\n",
       "      <th>D</th>\n",
       "      <th>lambd</th>\n",
       "      <th>...</th>\n",
       "      <th>hard_kernel_const</th>\n",
       "      <th>normalize_p_t</th>\n",
       "      <th>f_divergence</th>\n",
       "      <th>hajek_const</th>\n",
       "      <th>kernel_const</th>\n",
       "      <th>quantile_const</th>\n",
       "      <th>regressor_const</th>\n",
       "      <th>tan_box_const</th>\n",
       "      <th>lr_box_const</th>\n",
       "      <th>f_const</th>\n",
       "    </tr>\n",
       "  </thead>\n",
       "  <tbody>\n",
       "    <tr>\n",
       "      <th>265</th>\n",
       "      <td>ZSB</td>\n",
       "      <td>synthetic binary</td>\n",
       "      <td>logistic policy</td>\n",
       "      <td>500</td>\n",
       "      <td>0</td>\n",
       "      <td>200</td>\n",
       "      <td>4.705517</td>\n",
       "      <td>4.453796</td>\n",
       "      <td>200</td>\n",
       "      <td>1.5</td>\n",
       "      <td>...</td>\n",
       "      <td>False</td>\n",
       "      <td>True</td>\n",
       "      <td>total variation</td>\n",
       "      <td>True</td>\n",
       "      <td>False</td>\n",
       "      <td>False</td>\n",
       "      <td>False</td>\n",
       "      <td>True</td>\n",
       "      <td>False</td>\n",
       "      <td>False</td>\n",
       "    </tr>\n",
       "    <tr>\n",
       "      <th>466</th>\n",
       "      <td>ZSB</td>\n",
       "      <td>synthetic binary</td>\n",
       "      <td>logistic policy</td>\n",
       "      <td>500</td>\n",
       "      <td>0</td>\n",
       "      <td>200</td>\n",
       "      <td>4.705517</td>\n",
       "      <td>4.453796</td>\n",
       "      <td>250</td>\n",
       "      <td>1.5</td>\n",
       "      <td>...</td>\n",
       "      <td>True</td>\n",
       "      <td>True</td>\n",
       "      <td>total variation</td>\n",
       "      <td>True</td>\n",
       "      <td>False</td>\n",
       "      <td>False</td>\n",
       "      <td>False</td>\n",
       "      <td>True</td>\n",
       "      <td>False</td>\n",
       "      <td>False</td>\n",
       "    </tr>\n",
       "    <tr>\n",
       "      <th>467</th>\n",
       "      <td>ZSB_test</td>\n",
       "      <td>synthetic binary</td>\n",
       "      <td>logistic policy</td>\n",
       "      <td>500</td>\n",
       "      <td>0</td>\n",
       "      <td>200</td>\n",
       "      <td>4.255855</td>\n",
       "      <td>-1.000000</td>\n",
       "      <td>250</td>\n",
       "      <td>1.5</td>\n",
       "      <td>...</td>\n",
       "      <td>True</td>\n",
       "      <td>True</td>\n",
       "      <td>total variation</td>\n",
       "      <td>True</td>\n",
       "      <td>False</td>\n",
       "      <td>False</td>\n",
       "      <td>False</td>\n",
       "      <td>True</td>\n",
       "      <td>False</td>\n",
       "      <td>False</td>\n",
       "    </tr>\n",
       "    <tr>\n",
       "      <th>468</th>\n",
       "      <td>ZSB_test</td>\n",
       "      <td>synthetic binary</td>\n",
       "      <td>logistic policy</td>\n",
       "      <td>500</td>\n",
       "      <td>1</td>\n",
       "      <td>200</td>\n",
       "      <td>4.187823</td>\n",
       "      <td>-1.000000</td>\n",
       "      <td>250</td>\n",
       "      <td>1.5</td>\n",
       "      <td>...</td>\n",
       "      <td>True</td>\n",
       "      <td>True</td>\n",
       "      <td>total variation</td>\n",
       "      <td>True</td>\n",
       "      <td>False</td>\n",
       "      <td>False</td>\n",
       "      <td>False</td>\n",
       "      <td>True</td>\n",
       "      <td>False</td>\n",
       "      <td>False</td>\n",
       "    </tr>\n",
       "    <tr>\n",
       "      <th>469</th>\n",
       "      <td>ZSB_test</td>\n",
       "      <td>synthetic binary</td>\n",
       "      <td>logistic policy</td>\n",
       "      <td>500</td>\n",
       "      <td>2</td>\n",
       "      <td>200</td>\n",
       "      <td>4.074019</td>\n",
       "      <td>-1.000000</td>\n",
       "      <td>250</td>\n",
       "      <td>1.5</td>\n",
       "      <td>...</td>\n",
       "      <td>True</td>\n",
       "      <td>True</td>\n",
       "      <td>total variation</td>\n",
       "      <td>True</td>\n",
       "      <td>False</td>\n",
       "      <td>False</td>\n",
       "      <td>False</td>\n",
       "      <td>True</td>\n",
       "      <td>False</td>\n",
       "      <td>False</td>\n",
       "    </tr>\n",
       "  </tbody>\n",
       "</table>\n",
       "<p>5 rows × 24 columns</p>\n",
       "</div>"
      ],
      "text/plain": [
       "     log_info         data_type      policy_name  sample_size  seed  step  \\\n",
       "265       ZSB  synthetic binary  logistic policy          500     0   200   \n",
       "466       ZSB  synthetic binary  logistic policy          500     0   200   \n",
       "467  ZSB_test  synthetic binary  logistic policy          500     0   200   \n",
       "468  ZSB_test  synthetic binary  logistic policy          500     1   200   \n",
       "469  ZSB_test  synthetic binary  logistic policy          500     2   200   \n",
       "\n",
       "     lower_bound  ground_truth    D  lambd  ...  hard_kernel_const  \\\n",
       "265     4.705517      4.453796  200    1.5  ...              False   \n",
       "466     4.705517      4.453796  250    1.5  ...               True   \n",
       "467     4.255855     -1.000000  250    1.5  ...               True   \n",
       "468     4.187823     -1.000000  250    1.5  ...               True   \n",
       "469     4.074019     -1.000000  250    1.5  ...               True   \n",
       "\n",
       "     normalize_p_t     f_divergence hajek_const  kernel_const  quantile_const  \\\n",
       "265           True  total variation        True         False           False   \n",
       "466           True  total variation        True         False           False   \n",
       "467           True  total variation        True         False           False   \n",
       "468           True  total variation        True         False           False   \n",
       "469           True  total variation        True         False           False   \n",
       "\n",
       "    regressor_const  tan_box_const  lr_box_const  f_const  \n",
       "265           False           True         False    False  \n",
       "466           False           True         False    False  \n",
       "467           False           True         False    False  \n",
       "468           False           True         False    False  \n",
       "469           False           True         False    False  \n",
       "\n",
       "[5 rows x 24 columns]"
      ]
     },
     "execution_count": 80,
     "metadata": {},
     "output_type": "execute_result"
    }
   ],
   "source": [
    "df[df.step==200].head()"
   ]
  },
  {
   "cell_type": "markdown",
   "id": "04e0b8a1-9840-4aed-8423-8a6f9b0f5730",
   "metadata": {},
   "source": [
    "#### The interpretation of the above plot:\n",
    "- Since the upper/lower bound's tightness is independent of the sample size by definition, the width of interval should not change significantly for different sample size\n",
    "- However, the "
   ]
  },
  {
   "cell_type": "markdown",
   "id": "a7135e18-9fd9-4400-b83f-b1e4e7045ea5",
   "metadata": {},
   "source": [
    "#### Best Policy"
   ]
  },
  {
   "cell_type": "code",
   "execution_count": null,
   "id": "e65545b6-4bd4-474a-9f90-59e337d33998",
   "metadata": {},
   "outputs": [
    {
     "data": {
      "application/vnd.jupyter.widget-view+json": {
       "model_id": "",
       "version_major": 2,
       "version_minor": 0
      },
      "text/plain": [
       "  0%|          | 0/101 [00:00<?, ?it/s]"
      ]
     },
     "metadata": {},
     "output_type": "display_data"
    }
   ],
   "source": [
    "train_steps = 101\n",
    "beta_best = torch.zeros(6, requires_grad=True, dtype=float)\n",
    "best_policy = lambda X, T: LR_policy(X, T, beta_best)\n",
    "optimizer = torch.optim.RMSprop(lr=1e-1, params=[beta_best])\n",
    "pbar = tqdm(range(train_steps))\n",
    "for i in pbar:\n",
    "    value = evaluate_policy(best_policy, n=100000)\n",
    "    (- value).backward()\n",
    "    optimizer.step()\n",
    "    optimizer.zero_grad()\n",
    "    pbar.set_description(f\"Value: {value}\")"
   ]
  },
  {
   "cell_type": "markdown",
   "id": "3bb89ee4-1cbf-4ce7-a209-c82e62340fd2",
   "metadata": {},
   "source": [
    "### Just run min-max optimzation"
   ]
  },
  {
   "cell_type": "code",
   "execution_count": null,
   "id": "d0981074-6758-417c-9333-e230fea92029",
   "metadata": {},
   "outputs": [],
   "source": [
    "def evaluate_confounding_robust_hajek(policy):\n",
    "    est = confounding_robust_estimator(\n",
    "        Y, T, X, p_t, policy, \n",
    "        lambd=1.5, hajek_const=True, tan_box_const=True,\n",
    "    )\n",
    "    return est"
   ]
  },
  {
   "cell_type": "code",
   "execution_count": null,
   "id": "0de66b67-21ac-450f-94ba-3c712f171cf8",
   "metadata": {},
   "outputs": [],
   "source": [
    "def evaluate_confounding_robust_kernel(policy):\n",
    "    est = confounding_robust_estimator(\n",
    "        Y, T, X, p_t, policy, \n",
    "        D=200, lambd=1.5, alpha=0.05, \n",
    "        sigma2=sigma2, kernel=kernel,\n",
    "        kernel_const=True,\n",
    "        tan_box_const=True,\n",
    "    )\n",
    "    return est"
   ]
  },
  {
   "cell_type": "code",
   "execution_count": null,
   "id": "9d210ddd-d8e9-401a-900f-f7ec72c993e9",
   "metadata": {
    "tags": []
   },
   "outputs": [
    {
     "data": {
      "application/vnd.jupyter.widget-view+json": {
       "model_id": "7c4dc773be764029965dfc010d0887fa",
       "version_major": 2,
       "version_minor": 0
      },
      "text/plain": [
       "  0%|          | 0/101 [00:00<?, ?it/s]"
      ]
     },
     "metadata": {},
     "output_type": "display_data"
    }
   ],
   "source": [
    "# Hajek policy min-max value\n",
    "train_steps = 101\n",
    "beta_hajek = torch.zeros(6, requires_grad=True, dtype=float)\n",
    "hajek_policy = lambda X, T: LR_policy(X, T, beta_hajek)\n",
    "optimizer = torch.optim.SGD(lr=1e-1, params=[beta_hajek])\n",
    "pbar = tqdm(range(train_steps))\n",
    "for i in pbar:\n",
    "    hajek_value = evaluate_confounding_robust_hajek(hajek_policy)\n",
    "    (- hajek_value).backward()\n",
    "    optimizer.step()\n",
    "    optimizer.zero_grad()\n",
    "    pbar.set_description(f\"Value: {hajek_value}\")"
   ]
  },
  {
   "cell_type": "code",
   "execution_count": null,
   "id": "13c26fa8-9f5b-40e9-9905-f8c71837e821",
   "metadata": {},
   "outputs": [
    {
     "data": {
      "text/plain": [
       "tensor(4.4034, dtype=torch.float64, grad_fn=<MeanBackward0>)"
      ]
     },
     "execution_count": 61,
     "metadata": {},
     "output_type": "execute_result"
    }
   ],
   "source": [
    "evaluate_policy(hajek_policy, n=100000)"
   ]
  },
  {
   "cell_type": "code",
   "execution_count": null,
   "id": "92634392-5a0d-45f6-897d-b689240d805e",
   "metadata": {},
   "outputs": [
    {
     "data": {
      "text/plain": [
       "tensor(4.0741, dtype=torch.float64, grad_fn=<MeanBackward0>)"
      ]
     },
     "execution_count": 62,
     "metadata": {},
     "output_type": "execute_result"
    }
   ],
   "source": [
    "evaluate_confounding_robust_kernel(hajek_policy)"
   ]
  },
  {
   "cell_type": "code",
   "execution_count": null,
   "id": "f3fdf7b7-97ce-4467-9245-5b7988855917",
   "metadata": {},
   "outputs": [
    {
     "data": {
      "application/vnd.jupyter.widget-view+json": {
       "model_id": "ed0d4bc381c54cc390a0da8a96a2ca6a",
       "version_major": 2,
       "version_minor": 0
      },
      "text/plain": [
       "  0%|          | 0/101 [00:00<?, ?it/s]"
      ]
     },
     "metadata": {},
     "output_type": "display_data"
    }
   ],
   "source": [
    "# Kernel policy min-max value\n",
    "train_steps = 101\n",
    "beta_kernel = torch.zeros(6, requires_grad=True, dtype=float)\n",
    "kernel_policy = lambda X, T: LR_policy(X, T, beta_kernel)\n",
    "optimizer = torch.optim.RMSprop(lr=1e-1, params=[beta_kernel])\n",
    "pbar = tqdm(range(train_steps))\n",
    "for i in pbar:\n",
    "    kernel_value = evaluate_confounding_robust_kernel(kernel_policy)\n",
    "    (- kernel_value).backward()\n",
    "    optimizer.step()\n",
    "    optimizer.zero_grad()\n",
    "    pbar.set_description(f\"Value: {kernel_value}\")"
   ]
  },
  {
   "cell_type": "code",
   "execution_count": null,
   "id": "a4698840-9670-4345-8ed2-d63f69cde402",
   "metadata": {},
   "outputs": [
    {
     "data": {
      "text/plain": [
       "tensor(4.6240, dtype=torch.float64, grad_fn=<MeanBackward0>)"
      ]
     },
     "execution_count": 64,
     "metadata": {},
     "output_type": "execute_result"
    }
   ],
   "source": [
    "evaluate_policy(kernel_policy, n=100000)"
   ]
  },
  {
   "cell_type": "code",
   "execution_count": null,
   "id": "fdb3ccc7-2906-4711-b340-2fda629f9840",
   "metadata": {},
   "outputs": [
    {
     "data": {
      "text/plain": [
       "tensor(4.4347, dtype=torch.float64, grad_fn=<MeanBackward0>)"
      ]
     },
     "execution_count": 65,
     "metadata": {},
     "output_type": "execute_result"
    }
   ],
   "source": [
    "evaluate_confounding_robust_kernel(kernel_policy)"
   ]
  }
 ],
 "metadata": {
  "kernelspec": {
   "display_name": "Python 3",
   "language": "python",
   "name": "python3"
  },
  "language_info": {
   "codemirror_mode": {
    "name": "ipython",
    "version": 3
   },
   "file_extension": ".py",
   "mimetype": "text/x-python",
   "name": "python",
   "nbconvert_exporter": "python",
   "pygments_lexer": "ipython3",
   "version": "3.8.10"
  }
 },
 "nbformat": 4,
 "nbformat_minor": 5
}
