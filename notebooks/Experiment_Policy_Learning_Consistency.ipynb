{
 "cells": [
  {
   "cell_type": "code",
   "execution_count": 3,
   "id": "16433ca9-aeed-46de-a809-d064d220a2f3",
   "metadata": {},
   "outputs": [],
   "source": [
    "import numpy as np\n",
    "import torch\n",
    "import pandas as pd\n",
    "import numpy as np"
   ]
  },
  {
   "cell_type": "code",
   "execution_count": 4,
   "id": "a67d678e-0d10-49ce-bb57-73cf322de723",
   "metadata": {},
   "outputs": [],
   "source": [
    "from matplotlib import pyplot as plt\n",
    "plt.style.use(\"seaborn-whitegrid\")\n",
    "from matplotlib.cm import tab10"
   ]
  },
  {
   "cell_type": "code",
   "execution_count": 5,
   "id": "ba28601d-7dcb-43f5-b27a-afab41c648cf",
   "metadata": {},
   "outputs": [],
   "source": [
    "from tqdm.auto import tqdm"
   ]
  },
  {
   "cell_type": "code",
   "execution_count": 6,
   "id": "4b0180e1-8b2a-492b-84d8-1ee169552f83",
   "metadata": {},
   "outputs": [],
   "source": [
    "import kcmc\n",
    "from kcmc.estimators import confounding_robust_estimator, hajek, ipw\n",
    "from kcmc.experiment_policy_evaluation import run_policy_evaluation_experiment"
   ]
  },
  {
   "cell_type": "markdown",
   "id": "d3d992fa-e3aa-4508-9d51-b252770febfb",
   "metadata": {
    "tags": []
   },
   "source": [
    "# Binary Synthetic Data"
   ]
  },
  {
   "cell_type": "code",
   "execution_count": 7,
   "id": "f9d12538-177a-4ca5-892a-21588b123fd2",
   "metadata": {},
   "outputs": [],
   "source": [
    "from kcmc.data_binary import evaluate_policy, generate_data, estimate_p_t"
   ]
  },
  {
   "cell_type": "code",
   "execution_count": 8,
   "id": "b14c0b72-5f51-4cfe-b369-81009ea78236",
   "metadata": {
    "tags": []
   },
   "outputs": [],
   "source": [
    "beta_e_x = np.asarray([0, .75, -.5, 0, -1])\n",
    "\n",
    "def toy_policy(X, T):\n",
    "    n = X.shape[0]\n",
    "    T = torch.as_tensor(T)\n",
    "    z = torch.as_tensor(X) @ torch.as_tensor(beta_e_x)\n",
    "    e_x = torch.exp(z) / (1 + torch.exp(z))\n",
    "    return (1. - T) * e_x + T * (1. - e_x)"
   ]
  },
  {
   "cell_type": "code",
   "execution_count": 9,
   "id": "9a9ed371-ac91-480a-99fa-1770d44c0184",
   "metadata": {},
   "outputs": [],
   "source": [
    "# Guessing kernel with approximate solution\n",
    "Y, T, X, _, _, _ = generate_data(1000)\n",
    "p_t = estimate_p_t(X, T)\n",
    "_, w_guess = confounding_robust_estimator(\n",
    "    Y, T, X, p_t, toy_policy, Gamma=1.5,\n",
    "    hajek_const=True, tan_box_const=True, \n",
    "    return_w=True, normalize_p_t=True, \n",
    ")\n",
    "e_guess = p_t * w_guess - 1\n",
    "gp_kernel = kcmc.estimators.fit_gp_kernel(e_guess, T, X)\n",
    "kernel = gp_kernel.k2"
   ]
  },
  {
   "cell_type": "markdown",
   "id": "f2f0df0c-c137-4caf-a598-97616852d040",
   "metadata": {},
   "source": [
    "#### Define a trainable policy"
   ]
  },
  {
   "cell_type": "code",
   "execution_count": 10,
   "id": "d1e50f91-9bcb-4028-a87e-09e15de4d177",
   "metadata": {},
   "outputs": [],
   "source": [
    "def LR_policy(X, T, beta):\n",
    "    n = X.shape[0]\n",
    "    T = torch.as_tensor(T)\n",
    "    X = np.concatenate([np.ones([n, 1]), X], axis=1)\n",
    "    p = torch.sigmoid(torch.tensor(X) @ beta)\n",
    "    return (1 - T) * p + T * (1 - p)"
   ]
  },
  {
   "cell_type": "markdown",
   "id": "4e7783a5-35c3-4342-8421-054850ae7bed",
   "metadata": {},
   "source": [
    "### Experiment of Policy Learning Curve"
   ]
  },
  {
   "cell_type": "code",
   "execution_count": 24,
   "id": "5293ffeb-42e4-487c-bbdc-bd3779df2ce3",
   "metadata": {},
   "outputs": [],
   "source": [
    "def update_base_method(**new_params):\n",
    "    ret = kcmc.experiment_policy_evaluation.EXAMPLE_PARAMS.copy()\n",
    "    ret.update(new_params)\n",
    "    return ret\n",
    "\n",
    "grid_methods = {\n",
    "    'hard_KCMC': update_base_method(\n",
    "        #hajek_const=True,\n",
    "        #normalize_p_t=True,\n",
    "        tan_box_const=True,\n",
    "        kernel=kernel,\n",
    "        kernel_const=True,\n",
    "        hard_kernel_const=True,\n",
    "        D=100,\n",
    "    ),\n",
    "}\n",
    "\n",
    "grid_sample_size = np.linspace(50, 1000, 11).astype(int)\n",
    "grid_D = [25, 50, 100]"
   ]
  },
  {
   "cell_type": "code",
   "execution_count": 15,
   "id": "a1ed3f79-35e7-4ea7-9dcc-333934264a02",
   "metadata": {},
   "outputs": [],
   "source": [
    "import csv\n",
    "import os.path\n",
    "import numpy as np\n",
    "from sklearn.gaussian_process.kernels import RBF\n",
    "from kcmc.estimators import confounding_robust_estimator\n",
    "\n",
    "\n",
    "EXAMPLE_PARAMS = kcmc.experiment_policy_evaluation.EXAMPLE_PARAMS\n",
    "\n",
    "def run_policy_learning_experiment(\n",
    "    log_file, params, data_type='synthetic binary', sample_size=500, n_seeds=1, seed0=0, n_steps=201, log_info=\"\",\n",
    "):\n",
    "    assert data_type in ['synthetic binary', 'synthetic continuous', 'real binary']\n",
    "    assert set(params.keys()) == set(EXAMPLE_PARAMS.keys())\n",
    "    print(f\"Policy learning with {log_info} (n={sample_size}, D={params['D']})...\")\n",
    "    pbar = tqdm(total=n_seeds * (n_steps + 10 * n_seeds))\n",
    "\n",
    "    for seed in range(seed0, seed0 + n_seeds):\n",
    "        Y, T, X, p_t = get_data(data_type, sample_size, seed)\n",
    "        beta = torch.zeros(6, requires_grad=True, dtype=float)\n",
    "        logistic_policy = lambda X, T: LR_policy(X, T, beta)\n",
    "        optimizer = torch.optim.SGD(lr=1e-1, params=[beta])\n",
    "        for i in range(n_steps):\n",
    "            lower_bound = confounding_robust_estimator(Y, T, X, p_t, logistic_policy, **params)\n",
    "            np.random.seed(0)\n",
    "            (- lower_bound).backward()\n",
    "            optimizer.step()\n",
    "            optimizer.zero_grad()\n",
    "            lower_bound = lower_bound.data.numpy()\n",
    "            pbar.set_description(f\"Seed: {seed},\\tTrain lower bound: {lower_bound}\")\n",
    "            pbar.update(1)\n",
    "            \n",
    "        lower_bound = confounding_robust_estimator(Y, T, X, p_t, logistic_policy, **params).data.numpy()\n",
    "        ground_truth = evaluate_policy(logistic_policy, n=100000).data.numpy()\n",
    "        log_csv(log_file, data_type, 'logistic policy', lower_bound, ground_truth, params, sample_size, seed, log_info, i)\n",
    "        \n",
    "        for seed in range(seed0, seed0 + n_seeds):\n",
    "            np.random.seed(seed)\n",
    "            Y, T, X, _, _, _ = generate_data(5000)\n",
    "            p_t = estimate_p_t(X, T)\n",
    "            #params['D'] = 250\n",
    "            params['hard_kernel_const'] = True\n",
    "            # sample_size=5000\n",
    "            ground_truth = evaluate_policy(logistic_policy, n=100000).data.numpy()\n",
    "            test_lower_bound = confounding_robust_estimator(Y, T, X, p_t, logistic_policy, **params).data.numpy()\n",
    "            p_t = estimate_p_t(X, T)\n",
    "            log_csv(log_file, data_type, 'logistic policy', test_lower_bound, ground_truth, params, sample_size, seed, log_info+\"_test\", i)\n",
    "            pbar.set_description(f\"Seed: {seed},\\tTest lower bound: {test_lower_bound}\")\n",
    "            pbar.update(10)\n",
    "    pbar.close()\n",
    "            \n",
    "def get_data(data_type, sample_size, seed):\n",
    "    if 'synthetic' in data_type:\n",
    "        if 'binary' in data_type:\n",
    "            from kcmc.data_binary import generate_data, evaluate_policy, estimate_p_t\n",
    "        elif 'continuous' in data_type:\n",
    "            from kcmc.data_continuous import generate_data, evaluate_policy, estimate_p_t\n",
    "        else:\n",
    "            raise ValueError\n",
    "        np.random.seed(seed)\n",
    "        Y, T, X, U, e_x, e_xu = generate_data(sample_size)\n",
    "        p_t = estimate_p_t(X, T)\n",
    "    elif 'real' in data_type:\n",
    "        from kcmc.data_real import generate_data, estimate_p_t\n",
    "        Y, T, X = generate_data()\n",
    "        p_t = estimate_p_t(X, T)\n",
    "    return Y, T, X, p_t\n",
    "\n",
    "def log_csv(log_file, data_type, policy_name, lower_bound, ground_truth, params, sample_size, seed, log_info, step):\n",
    "    if not os.path.exists(log_file):\n",
    "        # make a column name\n",
    "        columns = ['log_info', 'data_type', 'policy_name', 'sample_size', 'seed', 'step', 'lower_bound', 'ground_truth', *params.keys()]\n",
    "        with open(log_file, 'a') as file:\n",
    "            writer = csv.writer(file)\n",
    "            writer.writerow(columns)\n",
    "    # log data by appending to the csv file\n",
    "    fields=[log_info, data_type, policy_name, sample_size, seed, step, lower_bound, ground_truth, *params.values()]\n",
    "    with open(log_file, 'a') as file:\n",
    "        writer = csv.writer(file)\n",
    "        writer.writerow(fields)\n",
    "                                      "
   ]
  },
  {
   "cell_type": "code",
   "execution_count": 16,
   "id": "d0f93d8a-af84-4127-9af8-bf87ef4cb1af",
   "metadata": {},
   "outputs": [
    {
     "name": "stdout",
     "output_type": "stream",
     "text": [
      "Policy learning with hard_KCMC (n=1000, D=100)...\n"
     ]
    },
    {
     "data": {
      "application/vnd.jupyter.widget-view+json": {
       "model_id": "3757ce79beb3420592cedb627ec8b657",
       "version_major": 2,
       "version_minor": 0
      },
      "text/plain": [
       "  0%|          | 0/3010 [00:00<?, ?it/s]"
      ]
     },
     "metadata": {},
     "output_type": "display_data"
    },
    {
     "name": "stdout",
     "output_type": "stream",
     "text": [
      "Policy learning with hard_KCMC (n=1000, D=50)...\n"
     ]
    },
    {
     "data": {
      "application/vnd.jupyter.widget-view+json": {
       "model_id": "8879fc738394461f8812a6e9857e095f",
       "version_major": 2,
       "version_minor": 0
      },
      "text/plain": [
       "  0%|          | 0/3010 [00:00<?, ?it/s]"
      ]
     },
     "metadata": {},
     "output_type": "display_data"
    },
    {
     "name": "stdout",
     "output_type": "stream",
     "text": [
      "Policy learning with hard_KCMC (n=1000, D=25)...\n"
     ]
    },
    {
     "data": {
      "application/vnd.jupyter.widget-view+json": {
       "model_id": "8a8746260ee14e7abb2b9fbd8577d923",
       "version_major": 2,
       "version_minor": 0
      },
      "text/plain": [
       "  0%|          | 0/3010 [00:00<?, ?it/s]"
      ]
     },
     "metadata": {},
     "output_type": "display_data"
    },
    {
     "name": "stdout",
     "output_type": "stream",
     "text": [
      "Policy learning with hard_KCMC (n=905, D=100)...\n"
     ]
    },
    {
     "data": {
      "application/vnd.jupyter.widget-view+json": {
       "model_id": "681d635948d943a7bb202465cdf16fe2",
       "version_major": 2,
       "version_minor": 0
      },
      "text/plain": [
       "  0%|          | 0/3010 [00:00<?, ?it/s]"
      ]
     },
     "metadata": {},
     "output_type": "display_data"
    },
    {
     "name": "stdout",
     "output_type": "stream",
     "text": [
      "Policy learning with hard_KCMC (n=905, D=50)...\n"
     ]
    },
    {
     "data": {
      "application/vnd.jupyter.widget-view+json": {
       "model_id": "85551f3f37944c8ea40398d49f8c6468",
       "version_major": 2,
       "version_minor": 0
      },
      "text/plain": [
       "  0%|          | 0/3010 [00:00<?, ?it/s]"
      ]
     },
     "metadata": {},
     "output_type": "display_data"
    },
    {
     "name": "stdout",
     "output_type": "stream",
     "text": [
      "Policy learning with hard_KCMC (n=905, D=25)...\n"
     ]
    },
    {
     "data": {
      "application/vnd.jupyter.widget-view+json": {
       "model_id": "72a5c586f2f54e75b238a39669cd2ed1",
       "version_major": 2,
       "version_minor": 0
      },
      "text/plain": [
       "  0%|          | 0/3010 [00:00<?, ?it/s]"
      ]
     },
     "metadata": {},
     "output_type": "display_data"
    },
    {
     "name": "stdout",
     "output_type": "stream",
     "text": [
      "Policy learning with hard_KCMC (n=810, D=100)...\n"
     ]
    },
    {
     "data": {
      "application/vnd.jupyter.widget-view+json": {
       "model_id": "4650b8dc17a1413a8e2bc52abd153062",
       "version_major": 2,
       "version_minor": 0
      },
      "text/plain": [
       "  0%|          | 0/3010 [00:00<?, ?it/s]"
      ]
     },
     "metadata": {},
     "output_type": "display_data"
    },
    {
     "name": "stdout",
     "output_type": "stream",
     "text": [
      "Policy learning with hard_KCMC (n=810, D=50)...\n"
     ]
    },
    {
     "data": {
      "application/vnd.jupyter.widget-view+json": {
       "model_id": "cd364e5107004f57bb22ae510f851cd1",
       "version_major": 2,
       "version_minor": 0
      },
      "text/plain": [
       "  0%|          | 0/3010 [00:00<?, ?it/s]"
      ]
     },
     "metadata": {},
     "output_type": "display_data"
    },
    {
     "name": "stdout",
     "output_type": "stream",
     "text": [
      "Policy learning with hard_KCMC (n=810, D=25)...\n"
     ]
    },
    {
     "data": {
      "application/vnd.jupyter.widget-view+json": {
       "model_id": "ab6a97417b4943759b871fa74dfec674",
       "version_major": 2,
       "version_minor": 0
      },
      "text/plain": [
       "  0%|          | 0/3010 [00:00<?, ?it/s]"
      ]
     },
     "metadata": {},
     "output_type": "display_data"
    },
    {
     "name": "stdout",
     "output_type": "stream",
     "text": [
      "Policy learning with hard_KCMC (n=715, D=100)...\n"
     ]
    },
    {
     "data": {
      "application/vnd.jupyter.widget-view+json": {
       "model_id": "46abc35417884829bff917ddbe06db0b",
       "version_major": 2,
       "version_minor": 0
      },
      "text/plain": [
       "  0%|          | 0/3010 [00:00<?, ?it/s]"
      ]
     },
     "metadata": {},
     "output_type": "display_data"
    },
    {
     "name": "stdout",
     "output_type": "stream",
     "text": [
      "Policy learning with hard_KCMC (n=715, D=50)...\n"
     ]
    },
    {
     "data": {
      "application/vnd.jupyter.widget-view+json": {
       "model_id": "6f87eef8f8524585aaf468e3f40da72d",
       "version_major": 2,
       "version_minor": 0
      },
      "text/plain": [
       "  0%|          | 0/3010 [00:00<?, ?it/s]"
      ]
     },
     "metadata": {},
     "output_type": "display_data"
    },
    {
     "name": "stdout",
     "output_type": "stream",
     "text": [
      "Policy learning with hard_KCMC (n=715, D=25)...\n"
     ]
    },
    {
     "data": {
      "application/vnd.jupyter.widget-view+json": {
       "model_id": "80f355e28f86469698a9ef0bdcd8b4a5",
       "version_major": 2,
       "version_minor": 0
      },
      "text/plain": [
       "  0%|          | 0/3010 [00:00<?, ?it/s]"
      ]
     },
     "metadata": {},
     "output_type": "display_data"
    },
    {
     "name": "stdout",
     "output_type": "stream",
     "text": [
      "Policy learning with hard_KCMC (n=620, D=100)...\n"
     ]
    },
    {
     "data": {
      "application/vnd.jupyter.widget-view+json": {
       "model_id": "e40d0d6e7ab64b0897d4d8a95ca2260e",
       "version_major": 2,
       "version_minor": 0
      },
      "text/plain": [
       "  0%|          | 0/3010 [00:00<?, ?it/s]"
      ]
     },
     "metadata": {},
     "output_type": "display_data"
    },
    {
     "name": "stdout",
     "output_type": "stream",
     "text": [
      "Policy learning with hard_KCMC (n=620, D=50)...\n"
     ]
    },
    {
     "data": {
      "application/vnd.jupyter.widget-view+json": {
       "model_id": "01ee0057af0f4b35a5633ec8c320ec46",
       "version_major": 2,
       "version_minor": 0
      },
      "text/plain": [
       "  0%|          | 0/3010 [00:00<?, ?it/s]"
      ]
     },
     "metadata": {},
     "output_type": "display_data"
    },
    {
     "name": "stdout",
     "output_type": "stream",
     "text": [
      "Policy learning with hard_KCMC (n=620, D=25)...\n"
     ]
    },
    {
     "data": {
      "application/vnd.jupyter.widget-view+json": {
       "model_id": "7e549b90c5f54f089fa2b77f51a6643d",
       "version_major": 2,
       "version_minor": 0
      },
      "text/plain": [
       "  0%|          | 0/3010 [00:00<?, ?it/s]"
      ]
     },
     "metadata": {},
     "output_type": "display_data"
    },
    {
     "name": "stdout",
     "output_type": "stream",
     "text": [
      "Policy learning with hard_KCMC (n=525, D=100)...\n"
     ]
    },
    {
     "data": {
      "application/vnd.jupyter.widget-view+json": {
       "model_id": "66ebb66e4d1d4f64af1c039d7a60e504",
       "version_major": 2,
       "version_minor": 0
      },
      "text/plain": [
       "  0%|          | 0/3010 [00:00<?, ?it/s]"
      ]
     },
     "metadata": {},
     "output_type": "display_data"
    },
    {
     "name": "stdout",
     "output_type": "stream",
     "text": [
      "Policy learning with hard_KCMC (n=525, D=50)...\n"
     ]
    },
    {
     "data": {
      "application/vnd.jupyter.widget-view+json": {
       "model_id": "e128f309d4014706a6ce064ceff56f6b",
       "version_major": 2,
       "version_minor": 0
      },
      "text/plain": [
       "  0%|          | 0/3010 [00:00<?, ?it/s]"
      ]
     },
     "metadata": {},
     "output_type": "display_data"
    },
    {
     "name": "stdout",
     "output_type": "stream",
     "text": [
      "Policy learning with hard_KCMC (n=525, D=25)...\n"
     ]
    },
    {
     "data": {
      "application/vnd.jupyter.widget-view+json": {
       "model_id": "85a5327e5def48c0ad57f80f5b4004b2",
       "version_major": 2,
       "version_minor": 0
      },
      "text/plain": [
       "  0%|          | 0/3010 [00:00<?, ?it/s]"
      ]
     },
     "metadata": {},
     "output_type": "display_data"
    },
    {
     "name": "stdout",
     "output_type": "stream",
     "text": [
      "Policy learning with hard_KCMC (n=430, D=100)...\n"
     ]
    },
    {
     "data": {
      "application/vnd.jupyter.widget-view+json": {
       "model_id": "45105f9281af4692aadd8b28ea10179e",
       "version_major": 2,
       "version_minor": 0
      },
      "text/plain": [
       "  0%|          | 0/3010 [00:00<?, ?it/s]"
      ]
     },
     "metadata": {},
     "output_type": "display_data"
    },
    {
     "name": "stdout",
     "output_type": "stream",
     "text": [
      "Policy learning with hard_KCMC (n=430, D=50)...\n"
     ]
    },
    {
     "data": {
      "application/vnd.jupyter.widget-view+json": {
       "model_id": "94951890bf974ed99a152ede326ab744",
       "version_major": 2,
       "version_minor": 0
      },
      "text/plain": [
       "  0%|          | 0/3010 [00:00<?, ?it/s]"
      ]
     },
     "metadata": {},
     "output_type": "display_data"
    },
    {
     "name": "stdout",
     "output_type": "stream",
     "text": [
      "Policy learning with hard_KCMC (n=430, D=25)...\n"
     ]
    },
    {
     "data": {
      "application/vnd.jupyter.widget-view+json": {
       "model_id": "b4d0dce0d1af442a842cd77f426952f2",
       "version_major": 2,
       "version_minor": 0
      },
      "text/plain": [
       "  0%|          | 0/3010 [00:00<?, ?it/s]"
      ]
     },
     "metadata": {},
     "output_type": "display_data"
    },
    {
     "name": "stdout",
     "output_type": "stream",
     "text": [
      "Policy learning with hard_KCMC (n=335, D=100)...\n"
     ]
    },
    {
     "data": {
      "application/vnd.jupyter.widget-view+json": {
       "model_id": "7c704754710e47629f2d1bc33f5043ff",
       "version_major": 2,
       "version_minor": 0
      },
      "text/plain": [
       "  0%|          | 0/3010 [00:00<?, ?it/s]"
      ]
     },
     "metadata": {},
     "output_type": "display_data"
    },
    {
     "name": "stdout",
     "output_type": "stream",
     "text": [
      "Policy learning with hard_KCMC (n=335, D=50)...\n"
     ]
    },
    {
     "data": {
      "application/vnd.jupyter.widget-view+json": {
       "model_id": "b7bd1a98c87848399f9a329672716b50",
       "version_major": 2,
       "version_minor": 0
      },
      "text/plain": [
       "  0%|          | 0/3010 [00:00<?, ?it/s]"
      ]
     },
     "metadata": {},
     "output_type": "display_data"
    },
    {
     "name": "stdout",
     "output_type": "stream",
     "text": [
      "Policy learning with hard_KCMC (n=335, D=25)...\n"
     ]
    },
    {
     "data": {
      "application/vnd.jupyter.widget-view+json": {
       "model_id": "c82edebafbb54831be0b029c210e9d8f",
       "version_major": 2,
       "version_minor": 0
      },
      "text/plain": [
       "  0%|          | 0/3010 [00:00<?, ?it/s]"
      ]
     },
     "metadata": {},
     "output_type": "display_data"
    },
    {
     "name": "stdout",
     "output_type": "stream",
     "text": [
      "Policy learning with hard_KCMC (n=240, D=100)...\n"
     ]
    },
    {
     "data": {
      "application/vnd.jupyter.widget-view+json": {
       "model_id": "b0ee2fd82b8547e7821637dffb83c335",
       "version_major": 2,
       "version_minor": 0
      },
      "text/plain": [
       "  0%|          | 0/3010 [00:00<?, ?it/s]"
      ]
     },
     "metadata": {},
     "output_type": "display_data"
    },
    {
     "name": "stdout",
     "output_type": "stream",
     "text": [
      "Policy learning with hard_KCMC (n=240, D=50)...\n"
     ]
    },
    {
     "data": {
      "application/vnd.jupyter.widget-view+json": {
       "model_id": "1648193db4bd4cfbb0ffedf15bafd6d7",
       "version_major": 2,
       "version_minor": 0
      },
      "text/plain": [
       "  0%|          | 0/3010 [00:00<?, ?it/s]"
      ]
     },
     "metadata": {},
     "output_type": "display_data"
    },
    {
     "name": "stdout",
     "output_type": "stream",
     "text": [
      "Policy learning with hard_KCMC (n=240, D=25)...\n"
     ]
    },
    {
     "data": {
      "application/vnd.jupyter.widget-view+json": {
       "model_id": "bc12fc42d5e34de69e758729663b09d8",
       "version_major": 2,
       "version_minor": 0
      },
      "text/plain": [
       "  0%|          | 0/3010 [00:00<?, ?it/s]"
      ]
     },
     "metadata": {},
     "output_type": "display_data"
    },
    {
     "name": "stdout",
     "output_type": "stream",
     "text": [
      "Policy learning with hard_KCMC (n=145, D=100)...\n"
     ]
    },
    {
     "data": {
      "application/vnd.jupyter.widget-view+json": {
       "model_id": "63edd16dccd441e6a01949095136b97f",
       "version_major": 2,
       "version_minor": 0
      },
      "text/plain": [
       "  0%|          | 0/3010 [00:00<?, ?it/s]"
      ]
     },
     "metadata": {},
     "output_type": "display_data"
    },
    {
     "name": "stdout",
     "output_type": "stream",
     "text": [
      "Policy learning with hard_KCMC (n=145, D=50)...\n"
     ]
    },
    {
     "data": {
      "application/vnd.jupyter.widget-view+json": {
       "model_id": "202adb32a49a45819e18fcf9ba58ec8d",
       "version_major": 2,
       "version_minor": 0
      },
      "text/plain": [
       "  0%|          | 0/3010 [00:00<?, ?it/s]"
      ]
     },
     "metadata": {},
     "output_type": "display_data"
    },
    {
     "name": "stdout",
     "output_type": "stream",
     "text": [
      "Policy learning with hard_KCMC (n=145, D=25)...\n"
     ]
    },
    {
     "data": {
      "application/vnd.jupyter.widget-view+json": {
       "model_id": "070dfbca27e540eabb648bece68dd95e",
       "version_major": 2,
       "version_minor": 0
      },
      "text/plain": [
       "  0%|          | 0/3010 [00:00<?, ?it/s]"
      ]
     },
     "metadata": {},
     "output_type": "display_data"
    },
    {
     "name": "stdout",
     "output_type": "stream",
     "text": [
      "Policy learning with hard_KCMC (n=50, D=100)...\n"
     ]
    },
    {
     "data": {
      "application/vnd.jupyter.widget-view+json": {
       "model_id": "a9d493ba0d1a4cc5a08943b486a892f0",
       "version_major": 2,
       "version_minor": 0
      },
      "text/plain": [
       "  0%|          | 0/3010 [00:00<?, ?it/s]"
      ]
     },
     "metadata": {},
     "output_type": "display_data"
    },
    {
     "name": "stdout",
     "output_type": "stream",
     "text": [
      "Policy learning with hard_KCMC (n=50, D=50)...\n"
     ]
    },
    {
     "data": {
      "application/vnd.jupyter.widget-view+json": {
       "model_id": "9157fe9a694f40a59623d5b5b5d4309a",
       "version_major": 2,
       "version_minor": 0
      },
      "text/plain": [
       "  0%|          | 0/3010 [00:00<?, ?it/s]"
      ]
     },
     "metadata": {},
     "output_type": "display_data"
    },
    {
     "name": "stdout",
     "output_type": "stream",
     "text": [
      "Policy learning with hard_KCMC (n=50, D=25)...\n"
     ]
    },
    {
     "data": {
      "application/vnd.jupyter.widget-view+json": {
       "model_id": "610ebe679fe040afa4c8fcf13e633417",
       "version_major": 2,
       "version_minor": 0
      },
      "text/plain": [
       "  0%|          | 0/3010 [00:00<?, ?it/s]"
      ]
     },
     "metadata": {},
     "output_type": "display_data"
    }
   ],
   "source": [
    "log_file='logs/policy_learning_synthetic_binary_consistency.csv'\n",
    "\n",
    "for n in reversed(grid_sample_size):\n",
    "    for method_name, params in grid_methods.items():\n",
    "        for D in reversed(grid_D):\n",
    "            params['D'] = D\n",
    "            run_policy_learning_experiment(\n",
    "                log_file, params, data_type='synthetic binary', \n",
    "                n_seeds=10, sample_size=n, log_info=method_name\n",
    "            )"
   ]
  },
  {
   "cell_type": "code",
   "execution_count": 17,
   "id": "1f3b3480-7eff-4853-b46e-e6c4c12c5017",
   "metadata": {},
   "outputs": [],
   "source": [
    "df = pd.read_csv('logs/policy_learning_synthetic_binary_consistency.csv')"
   ]
  },
  {
   "cell_type": "code",
   "execution_count": 18,
   "id": "6f085288-f287-4b3c-b874-4205d1fd62ec",
   "metadata": {},
   "outputs": [
    {
     "data": {
      "text/html": [
       "<div>\n",
       "<style scoped>\n",
       "    .dataframe tbody tr th:only-of-type {\n",
       "        vertical-align: middle;\n",
       "    }\n",
       "\n",
       "    .dataframe tbody tr th {\n",
       "        vertical-align: top;\n",
       "    }\n",
       "\n",
       "    .dataframe thead th {\n",
       "        text-align: right;\n",
       "    }\n",
       "</style>\n",
       "<table border=\"1\" class=\"dataframe\">\n",
       "  <thead>\n",
       "    <tr style=\"text-align: right;\">\n",
       "      <th></th>\n",
       "      <th>log_info</th>\n",
       "      <th>data_type</th>\n",
       "      <th>policy_name</th>\n",
       "      <th>sample_size</th>\n",
       "      <th>seed</th>\n",
       "      <th>step</th>\n",
       "      <th>lower_bound</th>\n",
       "      <th>ground_truth</th>\n",
       "      <th>D</th>\n",
       "      <th>Gamma</th>\n",
       "      <th>...</th>\n",
       "      <th>rescale_kernel</th>\n",
       "      <th>normalize_p_t</th>\n",
       "      <th>f_divergence</th>\n",
       "      <th>hajek_const</th>\n",
       "      <th>kernel_const</th>\n",
       "      <th>quantile_const</th>\n",
       "      <th>regressor_const</th>\n",
       "      <th>tan_box_const</th>\n",
       "      <th>lr_box_const</th>\n",
       "      <th>f_const</th>\n",
       "    </tr>\n",
       "  </thead>\n",
       "  <tbody>\n",
       "    <tr>\n",
       "      <th>0</th>\n",
       "      <td>hard_KCMC</td>\n",
       "      <td>synthetic binary</td>\n",
       "      <td>logistic policy</td>\n",
       "      <td>1000</td>\n",
       "      <td>0</td>\n",
       "      <td>200</td>\n",
       "      <td>4.272296</td>\n",
       "      <td>4.523217</td>\n",
       "      <td>100</td>\n",
       "      <td>1.5</td>\n",
       "      <td>...</td>\n",
       "      <td>False</td>\n",
       "      <td>False</td>\n",
       "      <td>total variation</td>\n",
       "      <td>False</td>\n",
       "      <td>True</td>\n",
       "      <td>False</td>\n",
       "      <td>False</td>\n",
       "      <td>True</td>\n",
       "      <td>False</td>\n",
       "      <td>False</td>\n",
       "    </tr>\n",
       "    <tr>\n",
       "      <th>1</th>\n",
       "      <td>hard_KCMC_test</td>\n",
       "      <td>synthetic binary</td>\n",
       "      <td>logistic policy</td>\n",
       "      <td>1000</td>\n",
       "      <td>0</td>\n",
       "      <td>200</td>\n",
       "      <td>4.411281</td>\n",
       "      <td>4.526997</td>\n",
       "      <td>100</td>\n",
       "      <td>1.5</td>\n",
       "      <td>...</td>\n",
       "      <td>False</td>\n",
       "      <td>False</td>\n",
       "      <td>total variation</td>\n",
       "      <td>False</td>\n",
       "      <td>True</td>\n",
       "      <td>False</td>\n",
       "      <td>False</td>\n",
       "      <td>True</td>\n",
       "      <td>False</td>\n",
       "      <td>False</td>\n",
       "    </tr>\n",
       "    <tr>\n",
       "      <th>2</th>\n",
       "      <td>hard_KCMC_test</td>\n",
       "      <td>synthetic binary</td>\n",
       "      <td>logistic policy</td>\n",
       "      <td>1000</td>\n",
       "      <td>1</td>\n",
       "      <td>200</td>\n",
       "      <td>4.388659</td>\n",
       "      <td>4.523919</td>\n",
       "      <td>100</td>\n",
       "      <td>1.5</td>\n",
       "      <td>...</td>\n",
       "      <td>False</td>\n",
       "      <td>False</td>\n",
       "      <td>total variation</td>\n",
       "      <td>False</td>\n",
       "      <td>True</td>\n",
       "      <td>False</td>\n",
       "      <td>False</td>\n",
       "      <td>True</td>\n",
       "      <td>False</td>\n",
       "      <td>False</td>\n",
       "    </tr>\n",
       "    <tr>\n",
       "      <th>3</th>\n",
       "      <td>hard_KCMC_test</td>\n",
       "      <td>synthetic binary</td>\n",
       "      <td>logistic policy</td>\n",
       "      <td>1000</td>\n",
       "      <td>2</td>\n",
       "      <td>200</td>\n",
       "      <td>4.365455</td>\n",
       "      <td>4.527047</td>\n",
       "      <td>100</td>\n",
       "      <td>1.5</td>\n",
       "      <td>...</td>\n",
       "      <td>False</td>\n",
       "      <td>False</td>\n",
       "      <td>total variation</td>\n",
       "      <td>False</td>\n",
       "      <td>True</td>\n",
       "      <td>False</td>\n",
       "      <td>False</td>\n",
       "      <td>True</td>\n",
       "      <td>False</td>\n",
       "      <td>False</td>\n",
       "    </tr>\n",
       "    <tr>\n",
       "      <th>4</th>\n",
       "      <td>hard_KCMC_test</td>\n",
       "      <td>synthetic binary</td>\n",
       "      <td>logistic policy</td>\n",
       "      <td>1000</td>\n",
       "      <td>3</td>\n",
       "      <td>200</td>\n",
       "      <td>4.411975</td>\n",
       "      <td>4.538065</td>\n",
       "      <td>100</td>\n",
       "      <td>1.5</td>\n",
       "      <td>...</td>\n",
       "      <td>False</td>\n",
       "      <td>False</td>\n",
       "      <td>total variation</td>\n",
       "      <td>False</td>\n",
       "      <td>True</td>\n",
       "      <td>False</td>\n",
       "      <td>False</td>\n",
       "      <td>True</td>\n",
       "      <td>False</td>\n",
       "      <td>False</td>\n",
       "    </tr>\n",
       "  </tbody>\n",
       "</table>\n",
       "<p>5 rows × 25 columns</p>\n",
       "</div>"
      ],
      "text/plain": [
       "         log_info         data_type      policy_name  sample_size  seed  step  \\\n",
       "0       hard_KCMC  synthetic binary  logistic policy         1000     0   200   \n",
       "1  hard_KCMC_test  synthetic binary  logistic policy         1000     0   200   \n",
       "2  hard_KCMC_test  synthetic binary  logistic policy         1000     1   200   \n",
       "3  hard_KCMC_test  synthetic binary  logistic policy         1000     2   200   \n",
       "4  hard_KCMC_test  synthetic binary  logistic policy         1000     3   200   \n",
       "\n",
       "   lower_bound  ground_truth    D  Gamma  ...  rescale_kernel  normalize_p_t  \\\n",
       "0     4.272296      4.523217  100    1.5  ...           False          False   \n",
       "1     4.411281      4.526997  100    1.5  ...           False          False   \n",
       "2     4.388659      4.523919  100    1.5  ...           False          False   \n",
       "3     4.365455      4.527047  100    1.5  ...           False          False   \n",
       "4     4.411975      4.538065  100    1.5  ...           False          False   \n",
       "\n",
       "      f_divergence hajek_const  kernel_const  quantile_const  regressor_const  \\\n",
       "0  total variation       False          True           False            False   \n",
       "1  total variation       False          True           False            False   \n",
       "2  total variation       False          True           False            False   \n",
       "3  total variation       False          True           False            False   \n",
       "4  total variation       False          True           False            False   \n",
       "\n",
       "  tan_box_const  lr_box_const  f_const  \n",
       "0          True         False    False  \n",
       "1          True         False    False  \n",
       "2          True         False    False  \n",
       "3          True         False    False  \n",
       "4          True         False    False  \n",
       "\n",
       "[5 rows x 25 columns]"
      ]
     },
     "execution_count": 18,
     "metadata": {},
     "output_type": "execute_result"
    }
   ],
   "source": [
    "df.head()"
   ]
  },
  {
   "cell_type": "code",
   "execution_count": 19,
   "id": "b5384c2c-e72c-4a72-b8ad-5f59075ea690",
   "metadata": {},
   "outputs": [],
   "source": [
    "#df = df.iloc[266:, :]"
   ]
  },
  {
   "cell_type": "code",
   "execution_count": 21,
   "id": "3803c1df-84fa-41eb-b3b6-42b2ae32a9a3",
   "metadata": {},
   "outputs": [
    {
     "data": {
      "text/html": [
       "<div>\n",
       "<style scoped>\n",
       "    .dataframe tbody tr th:only-of-type {\n",
       "        vertical-align: middle;\n",
       "    }\n",
       "\n",
       "    .dataframe tbody tr th {\n",
       "        vertical-align: top;\n",
       "    }\n",
       "\n",
       "    .dataframe thead th {\n",
       "        text-align: right;\n",
       "    }\n",
       "</style>\n",
       "<table border=\"1\" class=\"dataframe\">\n",
       "  <thead>\n",
       "    <tr style=\"text-align: right;\">\n",
       "      <th></th>\n",
       "      <th></th>\n",
       "      <th></th>\n",
       "      <th>data_type</th>\n",
       "      <th>policy_name</th>\n",
       "      <th>seed</th>\n",
       "      <th>step</th>\n",
       "      <th>lower_bound</th>\n",
       "      <th>ground_truth</th>\n",
       "      <th>Gamma</th>\n",
       "      <th>gamma</th>\n",
       "      <th>alpha</th>\n",
       "      <th>sigma2</th>\n",
       "      <th>...</th>\n",
       "      <th>rescale_kernel</th>\n",
       "      <th>normalize_p_t</th>\n",
       "      <th>f_divergence</th>\n",
       "      <th>hajek_const</th>\n",
       "      <th>kernel_const</th>\n",
       "      <th>quantile_const</th>\n",
       "      <th>regressor_const</th>\n",
       "      <th>tan_box_const</th>\n",
       "      <th>lr_box_const</th>\n",
       "      <th>f_const</th>\n",
       "    </tr>\n",
       "    <tr>\n",
       "      <th>log_info</th>\n",
       "      <th>D</th>\n",
       "      <th>sample_size</th>\n",
       "      <th></th>\n",
       "      <th></th>\n",
       "      <th></th>\n",
       "      <th></th>\n",
       "      <th></th>\n",
       "      <th></th>\n",
       "      <th></th>\n",
       "      <th></th>\n",
       "      <th></th>\n",
       "      <th></th>\n",
       "      <th></th>\n",
       "      <th></th>\n",
       "      <th></th>\n",
       "      <th></th>\n",
       "      <th></th>\n",
       "      <th></th>\n",
       "      <th></th>\n",
       "      <th></th>\n",
       "      <th></th>\n",
       "      <th></th>\n",
       "      <th></th>\n",
       "    </tr>\n",
       "  </thead>\n",
       "  <tbody>\n",
       "    <tr>\n",
       "      <th rowspan=\"5\" valign=\"top\">hard_KCMC</th>\n",
       "      <th rowspan=\"5\" valign=\"top\">25</th>\n",
       "      <th>50</th>\n",
       "      <td>10</td>\n",
       "      <td>10</td>\n",
       "      <td>10</td>\n",
       "      <td>10</td>\n",
       "      <td>10</td>\n",
       "      <td>10</td>\n",
       "      <td>10</td>\n",
       "      <td>10</td>\n",
       "      <td>10</td>\n",
       "      <td>10</td>\n",
       "      <td>...</td>\n",
       "      <td>10</td>\n",
       "      <td>10</td>\n",
       "      <td>10</td>\n",
       "      <td>10</td>\n",
       "      <td>10</td>\n",
       "      <td>10</td>\n",
       "      <td>10</td>\n",
       "      <td>10</td>\n",
       "      <td>10</td>\n",
       "      <td>10</td>\n",
       "    </tr>\n",
       "    <tr>\n",
       "      <th>145</th>\n",
       "      <td>10</td>\n",
       "      <td>10</td>\n",
       "      <td>10</td>\n",
       "      <td>10</td>\n",
       "      <td>10</td>\n",
       "      <td>10</td>\n",
       "      <td>10</td>\n",
       "      <td>10</td>\n",
       "      <td>10</td>\n",
       "      <td>10</td>\n",
       "      <td>...</td>\n",
       "      <td>10</td>\n",
       "      <td>10</td>\n",
       "      <td>10</td>\n",
       "      <td>10</td>\n",
       "      <td>10</td>\n",
       "      <td>10</td>\n",
       "      <td>10</td>\n",
       "      <td>10</td>\n",
       "      <td>10</td>\n",
       "      <td>10</td>\n",
       "    </tr>\n",
       "    <tr>\n",
       "      <th>240</th>\n",
       "      <td>10</td>\n",
       "      <td>10</td>\n",
       "      <td>10</td>\n",
       "      <td>10</td>\n",
       "      <td>10</td>\n",
       "      <td>10</td>\n",
       "      <td>10</td>\n",
       "      <td>10</td>\n",
       "      <td>10</td>\n",
       "      <td>10</td>\n",
       "      <td>...</td>\n",
       "      <td>10</td>\n",
       "      <td>10</td>\n",
       "      <td>10</td>\n",
       "      <td>10</td>\n",
       "      <td>10</td>\n",
       "      <td>10</td>\n",
       "      <td>10</td>\n",
       "      <td>10</td>\n",
       "      <td>10</td>\n",
       "      <td>10</td>\n",
       "    </tr>\n",
       "    <tr>\n",
       "      <th>335</th>\n",
       "      <td>10</td>\n",
       "      <td>10</td>\n",
       "      <td>10</td>\n",
       "      <td>10</td>\n",
       "      <td>10</td>\n",
       "      <td>10</td>\n",
       "      <td>10</td>\n",
       "      <td>10</td>\n",
       "      <td>10</td>\n",
       "      <td>10</td>\n",
       "      <td>...</td>\n",
       "      <td>10</td>\n",
       "      <td>10</td>\n",
       "      <td>10</td>\n",
       "      <td>10</td>\n",
       "      <td>10</td>\n",
       "      <td>10</td>\n",
       "      <td>10</td>\n",
       "      <td>10</td>\n",
       "      <td>10</td>\n",
       "      <td>10</td>\n",
       "    </tr>\n",
       "    <tr>\n",
       "      <th>430</th>\n",
       "      <td>10</td>\n",
       "      <td>10</td>\n",
       "      <td>10</td>\n",
       "      <td>10</td>\n",
       "      <td>10</td>\n",
       "      <td>10</td>\n",
       "      <td>10</td>\n",
       "      <td>10</td>\n",
       "      <td>10</td>\n",
       "      <td>10</td>\n",
       "      <td>...</td>\n",
       "      <td>10</td>\n",
       "      <td>10</td>\n",
       "      <td>10</td>\n",
       "      <td>10</td>\n",
       "      <td>10</td>\n",
       "      <td>10</td>\n",
       "      <td>10</td>\n",
       "      <td>10</td>\n",
       "      <td>10</td>\n",
       "      <td>10</td>\n",
       "    </tr>\n",
       "    <tr>\n",
       "      <th>...</th>\n",
       "      <th>...</th>\n",
       "      <th>...</th>\n",
       "      <td>...</td>\n",
       "      <td>...</td>\n",
       "      <td>...</td>\n",
       "      <td>...</td>\n",
       "      <td>...</td>\n",
       "      <td>...</td>\n",
       "      <td>...</td>\n",
       "      <td>...</td>\n",
       "      <td>...</td>\n",
       "      <td>...</td>\n",
       "      <td>...</td>\n",
       "      <td>...</td>\n",
       "      <td>...</td>\n",
       "      <td>...</td>\n",
       "      <td>...</td>\n",
       "      <td>...</td>\n",
       "      <td>...</td>\n",
       "      <td>...</td>\n",
       "      <td>...</td>\n",
       "      <td>...</td>\n",
       "      <td>...</td>\n",
       "    </tr>\n",
       "    <tr>\n",
       "      <th rowspan=\"5\" valign=\"top\">hard_KCMC_test</th>\n",
       "      <th rowspan=\"5\" valign=\"top\">100</th>\n",
       "      <th>620</th>\n",
       "      <td>100</td>\n",
       "      <td>100</td>\n",
       "      <td>100</td>\n",
       "      <td>100</td>\n",
       "      <td>100</td>\n",
       "      <td>100</td>\n",
       "      <td>100</td>\n",
       "      <td>100</td>\n",
       "      <td>100</td>\n",
       "      <td>100</td>\n",
       "      <td>...</td>\n",
       "      <td>100</td>\n",
       "      <td>100</td>\n",
       "      <td>100</td>\n",
       "      <td>100</td>\n",
       "      <td>100</td>\n",
       "      <td>100</td>\n",
       "      <td>100</td>\n",
       "      <td>100</td>\n",
       "      <td>100</td>\n",
       "      <td>100</td>\n",
       "    </tr>\n",
       "    <tr>\n",
       "      <th>715</th>\n",
       "      <td>100</td>\n",
       "      <td>100</td>\n",
       "      <td>100</td>\n",
       "      <td>100</td>\n",
       "      <td>100</td>\n",
       "      <td>100</td>\n",
       "      <td>100</td>\n",
       "      <td>100</td>\n",
       "      <td>100</td>\n",
       "      <td>100</td>\n",
       "      <td>...</td>\n",
       "      <td>100</td>\n",
       "      <td>100</td>\n",
       "      <td>100</td>\n",
       "      <td>100</td>\n",
       "      <td>100</td>\n",
       "      <td>100</td>\n",
       "      <td>100</td>\n",
       "      <td>100</td>\n",
       "      <td>100</td>\n",
       "      <td>100</td>\n",
       "    </tr>\n",
       "    <tr>\n",
       "      <th>810</th>\n",
       "      <td>100</td>\n",
       "      <td>100</td>\n",
       "      <td>100</td>\n",
       "      <td>100</td>\n",
       "      <td>100</td>\n",
       "      <td>100</td>\n",
       "      <td>100</td>\n",
       "      <td>100</td>\n",
       "      <td>100</td>\n",
       "      <td>100</td>\n",
       "      <td>...</td>\n",
       "      <td>100</td>\n",
       "      <td>100</td>\n",
       "      <td>100</td>\n",
       "      <td>100</td>\n",
       "      <td>100</td>\n",
       "      <td>100</td>\n",
       "      <td>100</td>\n",
       "      <td>100</td>\n",
       "      <td>100</td>\n",
       "      <td>100</td>\n",
       "    </tr>\n",
       "    <tr>\n",
       "      <th>905</th>\n",
       "      <td>100</td>\n",
       "      <td>100</td>\n",
       "      <td>100</td>\n",
       "      <td>100</td>\n",
       "      <td>100</td>\n",
       "      <td>100</td>\n",
       "      <td>100</td>\n",
       "      <td>100</td>\n",
       "      <td>100</td>\n",
       "      <td>100</td>\n",
       "      <td>...</td>\n",
       "      <td>100</td>\n",
       "      <td>100</td>\n",
       "      <td>100</td>\n",
       "      <td>100</td>\n",
       "      <td>100</td>\n",
       "      <td>100</td>\n",
       "      <td>100</td>\n",
       "      <td>100</td>\n",
       "      <td>100</td>\n",
       "      <td>100</td>\n",
       "    </tr>\n",
       "    <tr>\n",
       "      <th>1000</th>\n",
       "      <td>100</td>\n",
       "      <td>100</td>\n",
       "      <td>100</td>\n",
       "      <td>100</td>\n",
       "      <td>100</td>\n",
       "      <td>100</td>\n",
       "      <td>100</td>\n",
       "      <td>100</td>\n",
       "      <td>100</td>\n",
       "      <td>100</td>\n",
       "      <td>...</td>\n",
       "      <td>100</td>\n",
       "      <td>100</td>\n",
       "      <td>100</td>\n",
       "      <td>100</td>\n",
       "      <td>100</td>\n",
       "      <td>100</td>\n",
       "      <td>100</td>\n",
       "      <td>100</td>\n",
       "      <td>100</td>\n",
       "      <td>100</td>\n",
       "    </tr>\n",
       "  </tbody>\n",
       "</table>\n",
       "<p>66 rows × 22 columns</p>\n",
       "</div>"
      ],
      "text/plain": [
       "                                data_type  policy_name  seed  step  \\\n",
       "log_info       D   sample_size                                       \n",
       "hard_KCMC      25  50                  10           10    10    10   \n",
       "                   145                 10           10    10    10   \n",
       "                   240                 10           10    10    10   \n",
       "                   335                 10           10    10    10   \n",
       "                   430                 10           10    10    10   \n",
       "...                                   ...          ...   ...   ...   \n",
       "hard_KCMC_test 100 620                100          100   100   100   \n",
       "                   715                100          100   100   100   \n",
       "                   810                100          100   100   100   \n",
       "                   905                100          100   100   100   \n",
       "                   1000               100          100   100   100   \n",
       "\n",
       "                                lower_bound  ground_truth  Gamma  gamma  \\\n",
       "log_info       D   sample_size                                            \n",
       "hard_KCMC      25  50                    10            10     10     10   \n",
       "                   145                   10            10     10     10   \n",
       "                   240                   10            10     10     10   \n",
       "                   335                   10            10     10     10   \n",
       "                   430                   10            10     10     10   \n",
       "...                                     ...           ...    ...    ...   \n",
       "hard_KCMC_test 100 620                  100           100    100    100   \n",
       "                   715                  100           100    100    100   \n",
       "                   810                  100           100    100    100   \n",
       "                   905                  100           100    100    100   \n",
       "                   1000                 100           100    100    100   \n",
       "\n",
       "                                alpha  sigma2  ...  rescale_kernel  \\\n",
       "log_info       D   sample_size                 ...                   \n",
       "hard_KCMC      25  50              10      10  ...              10   \n",
       "                   145             10      10  ...              10   \n",
       "                   240             10      10  ...              10   \n",
       "                   335             10      10  ...              10   \n",
       "                   430             10      10  ...              10   \n",
       "...                               ...     ...  ...             ...   \n",
       "hard_KCMC_test 100 620            100     100  ...             100   \n",
       "                   715            100     100  ...             100   \n",
       "                   810            100     100  ...             100   \n",
       "                   905            100     100  ...             100   \n",
       "                   1000           100     100  ...             100   \n",
       "\n",
       "                                normalize_p_t  f_divergence  hajek_const  \\\n",
       "log_info       D   sample_size                                             \n",
       "hard_KCMC      25  50                      10            10           10   \n",
       "                   145                     10            10           10   \n",
       "                   240                     10            10           10   \n",
       "                   335                     10            10           10   \n",
       "                   430                     10            10           10   \n",
       "...                                       ...           ...          ...   \n",
       "hard_KCMC_test 100 620                    100           100          100   \n",
       "                   715                    100           100          100   \n",
       "                   810                    100           100          100   \n",
       "                   905                    100           100          100   \n",
       "                   1000                   100           100          100   \n",
       "\n",
       "                                kernel_const  quantile_const  regressor_const  \\\n",
       "log_info       D   sample_size                                                  \n",
       "hard_KCMC      25  50                     10              10               10   \n",
       "                   145                    10              10               10   \n",
       "                   240                    10              10               10   \n",
       "                   335                    10              10               10   \n",
       "                   430                    10              10               10   \n",
       "...                                      ...             ...              ...   \n",
       "hard_KCMC_test 100 620                   100             100              100   \n",
       "                   715                   100             100              100   \n",
       "                   810                   100             100              100   \n",
       "                   905                   100             100              100   \n",
       "                   1000                  100             100              100   \n",
       "\n",
       "                                tan_box_const  lr_box_const  f_const  \n",
       "log_info       D   sample_size                                        \n",
       "hard_KCMC      25  50                      10            10       10  \n",
       "                   145                     10            10       10  \n",
       "                   240                     10            10       10  \n",
       "                   335                     10            10       10  \n",
       "                   430                     10            10       10  \n",
       "...                                       ...           ...      ...  \n",
       "hard_KCMC_test 100 620                    100           100      100  \n",
       "                   715                    100           100      100  \n",
       "                   810                    100           100      100  \n",
       "                   905                    100           100      100  \n",
       "                   1000                   100           100      100  \n",
       "\n",
       "[66 rows x 22 columns]"
      ]
     },
     "execution_count": 21,
     "metadata": {},
     "output_type": "execute_result"
    }
   ],
   "source": [
    "df.groupby(by=[\"log_info\", \"D\", \"sample_size\"]).count()"
   ]
  },
  {
   "cell_type": "code",
   "execution_count": 22,
   "id": "eb0afdd9-ba4f-4d15-ab3a-cfa067c35422",
   "metadata": {},
   "outputs": [
    {
     "name": "stderr",
     "output_type": "stream",
     "text": [
      "/tmp/ipykernel_2213909/3534750207.py:1: FutureWarning: Indexing with multiple keys (implicitly converted to a tuple of keys) will be deprecated, use a list instead.\n",
      "  df_grouped = df.groupby(by=['log_info', 'D', 'sample_size'])['lower_bound', 'ground_truth']\n"
     ]
    }
   ],
   "source": [
    "df_grouped = df.groupby(by=['log_info', 'D', 'sample_size'])['lower_bound', 'ground_truth']\n",
    "values_mean = df_grouped.mean()\n",
    "values_std = df_grouped.std()"
   ]
  },
  {
   "cell_type": "code",
   "execution_count": 25,
   "id": "2e09ffa9-31a2-4af0-b8be-8ed7ff4f7ea7",
   "metadata": {},
   "outputs": [
    {
     "data": {
      "text/html": [
       "<div>\n",
       "<style scoped>\n",
       "    .dataframe tbody tr th:only-of-type {\n",
       "        vertical-align: middle;\n",
       "    }\n",
       "\n",
       "    .dataframe tbody tr th {\n",
       "        vertical-align: top;\n",
       "    }\n",
       "\n",
       "    .dataframe thead th {\n",
       "        text-align: right;\n",
       "    }\n",
       "</style>\n",
       "<table border=\"1\" class=\"dataframe\">\n",
       "  <thead>\n",
       "    <tr style=\"text-align: right;\">\n",
       "      <th></th>\n",
       "      <th></th>\n",
       "      <th></th>\n",
       "      <th>lower_bound</th>\n",
       "      <th>ground_truth</th>\n",
       "    </tr>\n",
       "    <tr>\n",
       "      <th>log_info</th>\n",
       "      <th>D</th>\n",
       "      <th>sample_size</th>\n",
       "      <th></th>\n",
       "      <th></th>\n",
       "    </tr>\n",
       "  </thead>\n",
       "  <tbody>\n",
       "    <tr>\n",
       "      <th rowspan=\"5\" valign=\"top\">hard_KCMC</th>\n",
       "      <th rowspan=\"5\" valign=\"top\">25</th>\n",
       "      <th>50</th>\n",
       "      <td>5.241372</td>\n",
       "      <td>4.299917</td>\n",
       "    </tr>\n",
       "    <tr>\n",
       "      <th>145</th>\n",
       "      <td>5.033469</td>\n",
       "      <td>4.415599</td>\n",
       "    </tr>\n",
       "    <tr>\n",
       "      <th>240</th>\n",
       "      <td>4.576164</td>\n",
       "      <td>4.432462</td>\n",
       "    </tr>\n",
       "    <tr>\n",
       "      <th>335</th>\n",
       "      <td>4.401920</td>\n",
       "      <td>4.447870</td>\n",
       "    </tr>\n",
       "    <tr>\n",
       "      <th>430</th>\n",
       "      <td>4.677564</td>\n",
       "      <td>4.409947</td>\n",
       "    </tr>\n",
       "    <tr>\n",
       "      <th>...</th>\n",
       "      <th>...</th>\n",
       "      <th>...</th>\n",
       "      <td>...</td>\n",
       "      <td>...</td>\n",
       "    </tr>\n",
       "    <tr>\n",
       "      <th rowspan=\"5\" valign=\"top\">hard_KCMC_test</th>\n",
       "      <th rowspan=\"5\" valign=\"top\">100</th>\n",
       "      <th>620</th>\n",
       "      <td>4.282960</td>\n",
       "      <td>4.487037</td>\n",
       "    </tr>\n",
       "    <tr>\n",
       "      <th>715</th>\n",
       "      <td>4.333956</td>\n",
       "      <td>4.489846</td>\n",
       "    </tr>\n",
       "    <tr>\n",
       "      <th>810</th>\n",
       "      <td>4.359333</td>\n",
       "      <td>4.534271</td>\n",
       "    </tr>\n",
       "    <tr>\n",
       "      <th>905</th>\n",
       "      <td>4.370411</td>\n",
       "      <td>4.510389</td>\n",
       "    </tr>\n",
       "    <tr>\n",
       "      <th>1000</th>\n",
       "      <td>4.315530</td>\n",
       "      <td>4.504390</td>\n",
       "    </tr>\n",
       "  </tbody>\n",
       "</table>\n",
       "<p>66 rows × 2 columns</p>\n",
       "</div>"
      ],
      "text/plain": [
       "                                lower_bound  ground_truth\n",
       "log_info       D   sample_size                           \n",
       "hard_KCMC      25  50              5.241372      4.299917\n",
       "                   145             5.033469      4.415599\n",
       "                   240             4.576164      4.432462\n",
       "                   335             4.401920      4.447870\n",
       "                   430             4.677564      4.409947\n",
       "...                                     ...           ...\n",
       "hard_KCMC_test 100 620             4.282960      4.487037\n",
       "                   715             4.333956      4.489846\n",
       "                   810             4.359333      4.534271\n",
       "                   905             4.370411      4.510389\n",
       "                   1000            4.315530      4.504390\n",
       "\n",
       "[66 rows x 2 columns]"
      ]
     },
     "execution_count": 25,
     "metadata": {},
     "output_type": "execute_result"
    }
   ],
   "source": [
    "values_mean"
   ]
  },
  {
   "cell_type": "code",
   "execution_count": 26,
   "id": "b8427868-ef81-4eb2-8f30-a63acc09d5b6",
   "metadata": {
    "tags": []
   },
   "outputs": [
    {
     "data": {
      "image/png": "[encoded data removed]",
      "text/plain": [
       "<Figure size 432x288 with 1 Axes>"
      ]
     },
     "metadata": {
      "needs_background": "light"
     },
     "output_type": "display_data"
    }
   ],
   "source": [
    "colors = {method: tab10((0.5 + i) / 10) for i, method in enumerate(grid_methods.keys())}\n",
    "colors[\"ZSB\"] = tab10((0.5 + 3) / 10)\n",
    "legend_targets = []\n",
    "legend_tags = [\"low-rank GP KCMC ($D=100$)\", \"low-rank hard KCMC ($D=100$)\", \"ZSB\"]\n",
    "\n",
    "for D in grid_D:\n",
    "    for method_name in grid_methods.keys():\n",
    "        lower = np.array([values_mean.loc[(method_name, D, n)]['lower_bound'] for n in grid_sample_size])\n",
    "        dlower = np.array([values_std.loc[(method_name, D, n)]['lower_bound'] for n in grid_sample_size])\n",
    "        test_lower = np.array([values_std.loc[(method_name + \"_test\", D, n)]['lower_bound'] for n in grid_sample_size])\n",
    "        gt = np.array([values_mean.loc[(method_name, D, n)]['ground_truth'] for n in grid_sample_size])\n",
    "        # dtest_lower = values_std.loc[(method + '_test', max(steps))]['lower_bound']\n",
    "        c = colors[method_name]\n",
    "        lower_line = plt.plot(grid_sample_size, lower, c=c)[0]\n",
    "        lower_band = plt.fill_between(grid_sample_size, lower + dlower, lower - dlower, color=c, alpha=0.1)\n",
    "        #test_lower = plt.plot(grid_sample_size, test_lower, c=c)[0]\n",
    "        shifted_slice = slice(1, len(grid_sample_size)) if 'hard' in method_name else slice(len(grid_sample_size))\n",
    "        gt_line = plt.plot(grid_sample_size[shifted_slice], gt[shifted_slice], ':', c=c, alpha=0.7)[0]\n",
    "        legend_targets.append((lower_line, lower_band))\n",
    "\n",
    "#plt.legend(legend_targets, legend_tags)\n",
    "plt.xlabel(r\"Sample size\")\n",
    "plt.ylabel(r\"Policy value\")\n",
    "plt.savefig('logs/policy_learning_synthetic_binary_curve.pdf')"
   ]
  },
  {
   "cell_type": "code",
   "execution_count": 80,
   "id": "7b398822-0e9f-45b1-973d-4a8b5cc583c2",
   "metadata": {},
   "outputs": [
    {
     "data": {
      "text/html": [
       "<div>\n",
       "<style scoped>\n",
       "    .dataframe tbody tr th:only-of-type {\n",
       "        vertical-align: middle;\n",
       "    }\n",
       "\n",
       "    .dataframe tbody tr th {\n",
       "        vertical-align: top;\n",
       "    }\n",
       "\n",
       "    .dataframe thead th {\n",
       "        text-align: right;\n",
       "    }\n",
       "</style>\n",
       "<table border=\"1\" class=\"dataframe\">\n",
       "  <thead>\n",
       "    <tr style=\"text-align: right;\">\n",
       "      <th></th>\n",
       "      <th>log_info</th>\n",
       "      <th>data_type</th>\n",
       "      <th>policy_name</th>\n",
       "      <th>sample_size</th>\n",
       "      <th>seed</th>\n",
       "      <th>step</th>\n",
       "      <th>lower_bound</th>\n",
       "      <th>ground_truth</th>\n",
       "      <th>D</th>\n",
       "      <th>lambd</th>\n",
       "      <th>...</th>\n",
       "      <th>hard_kernel_const</th>\n",
       "      <th>normalize_p_t</th>\n",
       "      <th>f_divergence</th>\n",
       "      <th>hajek_const</th>\n",
       "      <th>kernel_const</th>\n",
       "      <th>quantile_const</th>\n",
       "      <th>regressor_const</th>\n",
       "      <th>tan_box_const</th>\n",
       "      <th>lr_box_const</th>\n",
       "      <th>f_const</th>\n",
       "    </tr>\n",
       "  </thead>\n",
       "  <tbody>\n",
       "    <tr>\n",
       "      <th>265</th>\n",
       "      <td>ZSB</td>\n",
       "      <td>synthetic binary</td>\n",
       "      <td>logistic policy</td>\n",
       "      <td>500</td>\n",
       "      <td>0</td>\n",
       "      <td>200</td>\n",
       "      <td>4.705517</td>\n",
       "      <td>4.453796</td>\n",
       "      <td>200</td>\n",
       "      <td>1.5</td>\n",
       "      <td>...</td>\n",
       "      <td>False</td>\n",
       "      <td>True</td>\n",
       "      <td>total variation</td>\n",
       "      <td>True</td>\n",
       "      <td>False</td>\n",
       "      <td>False</td>\n",
       "      <td>False</td>\n",
       "      <td>True</td>\n",
       "      <td>False</td>\n",
       "      <td>False</td>\n",
       "    </tr>\n",
       "    <tr>\n",
       "      <th>466</th>\n",
       "      <td>ZSB</td>\n",
       "      <td>synthetic binary</td>\n",
       "      <td>logistic policy</td>\n",
       "      <td>500</td>\n",
       "      <td>0</td>\n",
       "      <td>200</td>\n",
       "      <td>4.705517</td>\n",
       "      <td>4.453796</td>\n",
       "      <td>250</td>\n",
       "      <td>1.5</td>\n",
       "      <td>...</td>\n",
       "      <td>True</td>\n",
       "      <td>True</td>\n",
       "      <td>total variation</td>\n",
       "      <td>True</td>\n",
       "      <td>False</td>\n",
       "      <td>False</td>\n",
       "      <td>False</td>\n",
       "      <td>True</td>\n",
       "      <td>False</td>\n",
       "      <td>False</td>\n",
       "    </tr>\n",
       "    <tr>\n",
       "      <th>467</th>\n",
       "      <td>ZSB_test</td>\n",
       "      <td>synthetic binary</td>\n",
       "      <td>logistic policy</td>\n",
       "      <td>500</td>\n",
       "      <td>0</td>\n",
       "      <td>200</td>\n",
       "      <td>4.255855</td>\n",
       "      <td>-1.000000</td>\n",
       "      <td>250</td>\n",
       "      <td>1.5</td>\n",
       "      <td>...</td>\n",
       "      <td>True</td>\n",
       "      <td>True</td>\n",
       "      <td>total variation</td>\n",
       "      <td>True</td>\n",
       "      <td>False</td>\n",
       "      <td>False</td>\n",
       "      <td>False</td>\n",
       "      <td>True</td>\n",
       "      <td>False</td>\n",
       "      <td>False</td>\n",
       "    </tr>\n",
       "    <tr>\n",
       "      <th>468</th>\n",
       "      <td>ZSB_test</td>\n",
       "      <td>synthetic binary</td>\n",
       "      <td>logistic policy</td>\n",
       "      <td>500</td>\n",
       "      <td>1</td>\n",
       "      <td>200</td>\n",
       "      <td>4.187823</td>\n",
       "      <td>-1.000000</td>\n",
       "      <td>250</td>\n",
       "      <td>1.5</td>\n",
       "      <td>...</td>\n",
       "      <td>True</td>\n",
       "      <td>True</td>\n",
       "      <td>total variation</td>\n",
       "      <td>True</td>\n",
       "      <td>False</td>\n",
       "      <td>False</td>\n",
       "      <td>False</td>\n",
       "      <td>True</td>\n",
       "      <td>False</td>\n",
       "      <td>False</td>\n",
       "    </tr>\n",
       "    <tr>\n",
       "      <th>469</th>\n",
       "      <td>ZSB_test</td>\n",
       "      <td>synthetic binary</td>\n",
       "      <td>logistic policy</td>\n",
       "      <td>500</td>\n",
       "      <td>2</td>\n",
       "      <td>200</td>\n",
       "      <td>4.074019</td>\n",
       "      <td>-1.000000</td>\n",
       "      <td>250</td>\n",
       "      <td>1.5</td>\n",
       "      <td>...</td>\n",
       "      <td>True</td>\n",
       "      <td>True</td>\n",
       "      <td>total variation</td>\n",
       "      <td>True</td>\n",
       "      <td>False</td>\n",
       "      <td>False</td>\n",
       "      <td>False</td>\n",
       "      <td>True</td>\n",
       "      <td>False</td>\n",
       "      <td>False</td>\n",
       "    </tr>\n",
       "  </tbody>\n",
       "</table>\n",
       "<p>5 rows × 24 columns</p>\n",
       "</div>"
      ],
      "text/plain": [
       "     log_info         data_type      policy_name  sample_size  seed  step  \\\n",
       "265       ZSB  synthetic binary  logistic policy          500     0   200   \n",
       "466       ZSB  synthetic binary  logistic policy          500     0   200   \n",
       "467  ZSB_test  synthetic binary  logistic policy          500     0   200   \n",
       "468  ZSB_test  synthetic binary  logistic policy          500     1   200   \n",
       "469  ZSB_test  synthetic binary  logistic policy          500     2   200   \n",
       "\n",
       "     lower_bound  ground_truth    D  lambd  ...  hard_kernel_const  \\\n",
       "265     4.705517      4.453796  200    1.5  ...              False   \n",
       "466     4.705517      4.453796  250    1.5  ...               True   \n",
       "467     4.255855     -1.000000  250    1.5  ...               True   \n",
       "468     4.187823     -1.000000  250    1.5  ...               True   \n",
       "469     4.074019     -1.000000  250    1.5  ...               True   \n",
       "\n",
       "     normalize_p_t     f_divergence hajek_const  kernel_const  quantile_const  \\\n",
       "265           True  total variation        True         False           False   \n",
       "466           True  total variation        True         False           False   \n",
       "467           True  total variation        True         False           False   \n",
       "468           True  total variation        True         False           False   \n",
       "469           True  total variation        True         False           False   \n",
       "\n",
       "    regressor_const  tan_box_const  lr_box_const  f_const  \n",
       "265           False           True         False    False  \n",
       "466           False           True         False    False  \n",
       "467           False           True         False    False  \n",
       "468           False           True         False    False  \n",
       "469           False           True         False    False  \n",
       "\n",
       "[5 rows x 24 columns]"
      ]
     },
     "execution_count": 80,
     "metadata": {},
     "output_type": "execute_result"
    }
   ],
   "source": [
    "df[df.step==200].head()"
   ]
  },
  {
   "cell_type": "markdown",
   "id": "04e0b8a1-9840-4aed-8423-8a6f9b0f5730",
   "metadata": {},
   "source": [
    "#### The interpretation of the above plot:\n",
    "- Since the upper/lower bound's tightness is independent of the sample size by definition, the width of interval should not change significantly for different sample size\n",
    "- However, the "
   ]
  },
  {
   "cell_type": "markdown",
   "id": "a7135e18-9fd9-4400-b83f-b1e4e7045ea5",
   "metadata": {},
   "source": [
    "#### Best Policy"
   ]
  },
  {
   "cell_type": "code",
   "execution_count": null,
   "id": "e65545b6-4bd4-474a-9f90-59e337d33998",
   "metadata": {},
   "outputs": [
    {
     "data": {
      "application/vnd.jupyter.widget-view+json": {
       "model_id": "",
       "version_major": 2,
       "version_minor": 0
      },
      "text/plain": [
       "  0%|          | 0/101 [00:00<?, ?it/s]"
      ]
     },
     "metadata": {},
     "output_type": "display_data"
    }
   ],
   "source": [
    "train_steps = 101\n",
    "beta_best = torch.zeros(6, requires_grad=True, dtype=float)\n",
    "best_policy = lambda X, T: LR_policy(X, T, beta_best)\n",
    "optimizer = torch.optim.RMSprop(lr=1e-1, params=[beta_best])\n",
    "pbar = tqdm(range(train_steps))\n",
    "for i in pbar:\n",
    "    value = evaluate_policy(best_policy, n=100000)\n",
    "    (- value).backward()\n",
    "    optimizer.step()\n",
    "    optimizer.zero_grad()\n",
    "    pbar.set_description(f\"Value: {value}\")"
   ]
  },
  {
   "cell_type": "markdown",
   "id": "3bb89ee4-1cbf-4ce7-a209-c82e62340fd2",
   "metadata": {},
   "source": [
    "### Just run min-max optimzation"
   ]
  },
  {
   "cell_type": "code",
   "execution_count": null,
   "id": "d0981074-6758-417c-9333-e230fea92029",
   "metadata": {},
   "outputs": [],
   "source": [
    "def evaluate_confounding_robust_hajek(policy):\n",
    "    est = confounding_robust_estimator(\n",
    "        Y, T, X, p_t, policy, \n",
    "        lambd=1.5, hajek_const=True, tan_box_const=True,\n",
    "    )\n",
    "    return est"
   ]
  },
  {
   "cell_type": "code",
   "execution_count": null,
   "id": "0de66b67-21ac-450f-94ba-3c712f171cf8",
   "metadata": {},
   "outputs": [],
   "source": [
    "def evaluate_confounding_robust_kernel(policy):\n",
    "    est = confounding_robust_estimator(\n",
    "        Y, T, X, p_t, policy, \n",
    "        D=200, lambd=1.5, alpha=0.05, \n",
    "        sigma2=sigma2, kernel=kernel,\n",
    "        kernel_const=True,\n",
    "        tan_box_const=True,\n",
    "    )\n",
    "    return est"
   ]
  },
  {
   "cell_type": "code",
   "execution_count": null,
   "id": "9d210ddd-d8e9-401a-900f-f7ec72c993e9",
   "metadata": {
    "tags": []
   },
   "outputs": [
    {
     "data": {
      "application/vnd.jupyter.widget-view+json": {
       "model_id": "7c4dc773be764029965dfc010d0887fa",
       "version_major": 2,
       "version_minor": 0
      },
      "text/plain": [
       "  0%|          | 0/101 [00:00<?, ?it/s]"
      ]
     },
     "metadata": {},
     "output_type": "display_data"
    }
   ],
   "source": [
    "# Hajek policy min-max value\n",
    "train_steps = 101\n",
    "beta_hajek = torch.zeros(6, requires_grad=True, dtype=float)\n",
    "hajek_policy = lambda X, T: LR_policy(X, T, beta_hajek)\n",
    "optimizer = torch.optim.SGD(lr=1e-1, params=[beta_hajek])\n",
    "pbar = tqdm(range(train_steps))\n",
    "for i in pbar:\n",
    "    hajek_value = evaluate_confounding_robust_hajek(hajek_policy)\n",
    "    (- hajek_value).backward()\n",
    "    optimizer.step()\n",
    "    optimizer.zero_grad()\n",
    "    pbar.set_description(f\"Value: {hajek_value}\")"
   ]
  },
  {
   "cell_type": "code",
   "execution_count": null,
   "id": "13c26fa8-9f5b-40e9-9905-f8c71837e821",
   "metadata": {},
   "outputs": [
    {
     "data": {
      "text/plain": [
       "tensor(4.4034, dtype=torch.float64, grad_fn=<MeanBackward0>)"
      ]
     },
     "execution_count": 61,
     "metadata": {},
     "output_type": "execute_result"
    }
   ],
   "source": [
    "evaluate_policy(hajek_policy, n=100000)"
   ]
  },
  {
   "cell_type": "code",
   "execution_count": null,
   "id": "92634392-5a0d-45f6-897d-b689240d805e",
   "metadata": {},
   "outputs": [
    {
     "data": {
      "text/plain": [
       "tensor(4.0741, dtype=torch.float64, grad_fn=<MeanBackward0>)"
      ]
     },
     "execution_count": 62,
     "metadata": {},
     "output_type": "execute_result"
    }
   ],
   "source": [
    "evaluate_confounding_robust_kernel(hajek_policy)"
   ]
  },
  {
   "cell_type": "code",
   "execution_count": null,
   "id": "f3fdf7b7-97ce-4467-9245-5b7988855917",
   "metadata": {},
   "outputs": [
    {
     "data": {
      "application/vnd.jupyter.widget-view+json": {
       "model_id": "ed0d4bc381c54cc390a0da8a96a2ca6a",
       "version_major": 2,
       "version_minor": 0
      },
      "text/plain": [
       "  0%|          | 0/101 [00:00<?, ?it/s]"
      ]
     },
     "metadata": {},
     "output_type": "display_data"
    }
   ],
   "source": [
    "# Kernel policy min-max value\n",
    "train_steps = 101\n",
    "beta_kernel = torch.zeros(6, requires_grad=True, dtype=float)\n",
    "kernel_policy = lambda X, T: LR_policy(X, T, beta_kernel)\n",
    "optimizer = torch.optim.RMSprop(lr=1e-1, params=[beta_kernel])\n",
    "pbar = tqdm(range(train_steps))\n",
    "for i in pbar:\n",
    "    kernel_value = evaluate_confounding_robust_kernel(kernel_policy)\n",
    "    (- kernel_value).backward()\n",
    "    optimizer.step()\n",
    "    optimizer.zero_grad()\n",
    "    pbar.set_description(f\"Value: {kernel_value}\")"
   ]
  },
  {
   "cell_type": "code",
   "execution_count": null,
   "id": "a4698840-9670-4345-8ed2-d63f69cde402",
   "metadata": {},
   "outputs": [
    {
     "data": {
      "text/plain": [
       "tensor(4.6240, dtype=torch.float64, grad_fn=<MeanBackward0>)"
      ]
     },
     "execution_count": 64,
     "metadata": {},
     "output_type": "execute_result"
    }
   ],
   "source": [
    "evaluate_policy(kernel_policy, n=100000)"
   ]
  },
  {
   "cell_type": "code",
   "execution_count": null,
   "id": "fdb3ccc7-2906-4711-b340-2fda629f9840",
   "metadata": {},
   "outputs": [
    {
     "data": {
      "text/plain": [
       "tensor(4.4347, dtype=torch.float64, grad_fn=<MeanBackward0>)"
      ]
     },
     "execution_count": 65,
     "metadata": {},
     "output_type": "execute_result"
    }
   ],
   "source": [
    "evaluate_confounding_robust_kernel(kernel_policy)"
   ]
  }
 ],
 "metadata": {
  "kernelspec": {
   "display_name": "Python 3 (ipykernel)",
   "language": "python",
   "name": "python3"
  },
  "language_info": {
   "codemirror_mode": {
    "name": "ipython",
    "version": 3
   },
   "file_extension": ".py",
   "mimetype": "text/x-python",
   "name": "python",
   "nbconvert_exporter": "python",
   "pygments_lexer": "ipython3",
   "version": "3.10.6"
  }
 },
 "nbformat": 4,
 "nbformat_minor": 5
}
