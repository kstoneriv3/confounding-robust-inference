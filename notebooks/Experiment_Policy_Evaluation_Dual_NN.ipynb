{
 "cells": [
  {
   "cell_type": "code",
   "execution_count": 1,
   "id": "16433ca9-aeed-46de-a809-d064d220a2f3",
   "metadata": {},
   "outputs": [],
   "source": [
    "import numpy as np\n",
    "import torch"
   ]
  },
  {
   "cell_type": "code",
   "execution_count": 2,
   "id": "81611a10-f177-418e-9aeb-6b234a59aea0",
   "metadata": {},
   "outputs": [],
   "source": [
    "from sklearn.gaussian_process.kernels import RBF"
   ]
  },
  {
   "cell_type": "code",
   "execution_count": 79,
   "id": "a67d678e-0d10-49ce-bb57-73cf322de723",
   "metadata": {},
   "outputs": [],
   "source": [
    "from matplotlib import pyplot as plt\n",
    "\n",
    "plt.style.use(\"seaborn-whitegrid\")\n",
    "from matplotlib.cm import tab10"
   ]
  },
  {
   "cell_type": "code",
   "execution_count": 80,
   "id": "6acb7f84-a914-45bf-aca3-4065a9e798f9",
   "metadata": {},
   "outputs": [],
   "source": [
    "import pandas as pd"
   ]
  },
  {
   "cell_type": "code",
   "execution_count": 4,
   "id": "ba28601d-7dcb-43f5-b27a-afab41c648cf",
   "metadata": {},
   "outputs": [],
   "source": [
    "from tqdm.auto import tqdm"
   ]
  },
  {
   "cell_type": "code",
   "execution_count": 55,
   "id": "4b0180e1-8b2a-492b-84d8-1ee169552f83",
   "metadata": {},
   "outputs": [],
   "source": [
    "import kcmc\n",
    "from kcmc.estimators import confounding_robust_estimator, hajek, ipw\n",
    "from kcmc.data_binary import generate_data, evaluate_policy, estimate_p_t\n",
    "from kcmc.experiment_policy_evaluation import log_csv, get_data"
   ]
  },
  {
   "cell_type": "code",
   "execution_count": 6,
   "id": "59c7738c-e0dc-4b8c-881b-9616ed6d2491",
   "metadata": {},
   "outputs": [],
   "source": [
    "import csv\n",
    "import os.path"
   ]
  },
  {
   "cell_type": "markdown",
   "id": "d3d992fa-e3aa-4508-9d51-b252770febfb",
   "metadata": {},
   "source": [
    "### Data"
   ]
  },
  {
   "cell_type": "code",
   "execution_count": 7,
   "id": "e4c07bec-f9ad-4714-b520-9a787113f2a7",
   "metadata": {},
   "outputs": [],
   "source": [
    "n = 1000\n",
    "np.random.seed(0)\n",
    "Y, T, X, U, e_x, e_xu = generate_data(n)\n",
    "p_t = estimate_p_t(X, T)"
   ]
  },
  {
   "cell_type": "code",
   "execution_count": 8,
   "id": "12a85940-4fc4-4268-8009-1c0d0285cdfe",
   "metadata": {},
   "outputs": [],
   "source": [
    "beta_e_x = np.asarray([0, 0.75, -0.5, 0, -1])\n",
    "\n",
    "\n",
    "def toy_policy(X, T):\n",
    "    n = X.shape[0]\n",
    "    T = torch.as_tensor(T)\n",
    "    z = torch.as_tensor(X) @ torch.as_tensor(beta_e_x)\n",
    "    e_x = torch.exp(z) / (1 + torch.exp(z))\n",
    "    return (1.0 - T) * e_x + T * (1.0 - e_x)\n",
    "\n",
    "\n",
    "# def zero_policy(X):\n",
    "#    return np.zeros(X.shape[0], dtype=int)"
   ]
  },
  {
   "cell_type": "markdown",
   "id": "f478284f-3754-4c75-8de3-e7ed790be44c",
   "metadata": {},
   "source": [
    "### Ground Truth"
   ]
  },
  {
   "cell_type": "code",
   "execution_count": 9,
   "id": "01b93677-0b48-4c01-ac31-5d3512df0256",
   "metadata": {},
   "outputs": [
    {
     "data": {
      "text/plain": [
       "tensor(3.6258, dtype=torch.float64)"
      ]
     },
     "execution_count": 9,
     "metadata": {},
     "output_type": "execute_result"
    }
   ],
   "source": [
    "evaluate_policy(toy_policy, n=1000000)"
   ]
  },
  {
   "cell_type": "markdown",
   "id": "a1a8e952-4511-44df-b65a-a2e9f0dc93ee",
   "metadata": {
    "tags": []
   },
   "source": [
    "### IPW estimator"
   ]
  },
  {
   "cell_type": "code",
   "execution_count": 10,
   "id": "9122f446-64b0-4136-8e5e-f9a88dffbef4",
   "metadata": {},
   "outputs": [],
   "source": [
    "est_ipw = ipw(Y, T, X, p_t, toy_policy)"
   ]
  },
  {
   "cell_type": "code",
   "execution_count": 11,
   "id": "706245b2-acee-48fb-913c-0806dc1eddc0",
   "metadata": {},
   "outputs": [
    {
     "data": {
      "text/plain": [
       "tensor(3.4380, dtype=torch.float64)"
      ]
     },
     "execution_count": 11,
     "metadata": {},
     "output_type": "execute_result"
    }
   ],
   "source": [
    "est_ipw"
   ]
  },
  {
   "cell_type": "markdown",
   "id": "96b2f200-7a16-4ce9-b77d-50b9dcaaca99",
   "metadata": {
    "tags": []
   },
   "source": [
    "### Hajek estimator"
   ]
  },
  {
   "cell_type": "code",
   "execution_count": 12,
   "id": "1c618850-7e54-465a-b6a5-ca99df3785ec",
   "metadata": {},
   "outputs": [],
   "source": [
    "est_hajek = hajek(Y, T, X, p_t, toy_policy)"
   ]
  },
  {
   "cell_type": "code",
   "execution_count": 13,
   "id": "cd86c2c2-01da-4fca-b602-ba798e87bd37",
   "metadata": {},
   "outputs": [
    {
     "data": {
      "text/plain": [
       "tensor(3.7397, dtype=torch.float64)"
      ]
     },
     "execution_count": 13,
     "metadata": {},
     "output_type": "execute_result"
    }
   ],
   "source": [
    "est_hajek"
   ]
  },
  {
   "cell_type": "markdown",
   "id": "2dfd65f6-4630-462e-96fb-34b917655f39",
   "metadata": {},
   "source": [
    "### Implement Confounding Robust Inference"
   ]
  },
  {
   "cell_type": "code",
   "execution_count": 14,
   "id": "8db03913-e528-41db-819d-89f041a6e812",
   "metadata": {},
   "outputs": [],
   "source": [
    "est, w = confounding_robust_estimator(\n",
    "    Y,\n",
    "    T,\n",
    "    X,\n",
    "    p_t,\n",
    "    toy_policy,\n",
    "    D=200,\n",
    "    Gamma=1.5,\n",
    "    gamma=0.01,\n",
    "    alpha=0.05,\n",
    "    hard_kernel_const=False,\n",
    "    f_divergence=\"total variation\",\n",
    "    normalize_p_t=True,\n",
    "    hajek_const=False,\n",
    "    kernel_const=False,\n",
    "    quantile_const=True,\n",
    "    tan_box_const=True,\n",
    "    lr_box_const=False,\n",
    "    f_const=False,\n",
    "    return_w=True,\n",
    ")"
   ]
  },
  {
   "cell_type": "code",
   "execution_count": 15,
   "id": "b972391a-fa8e-4a32-a22d-3b82708689b5",
   "metadata": {},
   "outputs": [
    {
     "data": {
      "text/plain": [
       "tensor(3.3228, dtype=torch.float64)"
      ]
     },
     "execution_count": 15,
     "metadata": {},
     "output_type": "execute_result"
    }
   ],
   "source": [
    "est"
   ]
  },
  {
   "cell_type": "markdown",
   "id": "8ff8a7cf-2162-4dcb-ba03-dc1490438dcb",
   "metadata": {},
   "source": [
    "### Design Neural Dual Model"
   ]
  },
  {
   "cell_type": "code",
   "execution_count": null,
   "id": "fce64461-7514-4766-8a9e-f8595a311854",
   "metadata": {},
   "outputs": [],
   "source": [
    "torch."
   ]
  },
  {
   "cell_type": "code",
   "execution_count": 25,
   "id": "bf149290-5696-437c-909e-a6c0695eb70d",
   "metadata": {},
   "outputs": [],
   "source": [
    "from kcmc.estimators import get_normalized_p_t\n",
    "\n",
    "\n",
    "def confounding_robust_dual_nn(\n",
    "    Y,\n",
    "    T,\n",
    "    X,\n",
    "    p_t,\n",
    "    policy,\n",
    "    Gamma=1.5,\n",
    "    gamma=0.01,\n",
    "    f_divergence=\"total variation\",\n",
    "    normalize_p_t=True,\n",
    "    tan_box_const=True,\n",
    "    lr_box_const=False,\n",
    "    f_const=False,\n",
    "    n_iter=200,\n",
    "    train_policy=False,\n",
    "    lr_log_eta_f=5e-2,\n",
    "    lr_eta_nn=5e-2,\n",
    "    weight_decay_nn=1e-2,\n",
    "    nn_seed=0,\n",
    "    return_eta=False,\n",
    "):\n",
    "    p_t_original = p_t\n",
    "    if normalize_p_t:\n",
    "        p_t = get_normalized_p_t(p_t, T)\n",
    "    p_t = torch.as_tensor(p_t)\n",
    "    TX = np.concatenate([T[:, None], X], axis=1)\n",
    "    TX /= TX.std(axis=0, keepdims=True)\n",
    "    TX = torch.as_tensor(TX).float()\n",
    "    f_conj = get_f_conjugate(Gamma, gamma, p_t_original, f_divergence, tan_box_const, lr_box_const, f_const)\n",
    "    eta_nn, log_eta_f = get_multipliers(seed=nn_seed)  # reparaemtrization log_eta_f makes it non-convex...:p\n",
    "    params = [\n",
    "        {\"params\": log_eta_f, \"lr\": lr_log_eta_f},\n",
    "        {\"params\": eta_nn.parameters(), \"lr\": lr_eta_nn, \"weight_decay\": weight_decay_nn},\n",
    "    ]\n",
    "    if train_policy:\n",
    "        params.update({\"params\": policy.parameters(), \"lr\": 1e-3})\n",
    "    optimizer = torch.optim.SGD(params=params)\n",
    "\n",
    "    def objective():\n",
    "        pi = policy(X, T)\n",
    "        r = Y * pi / p_t\n",
    "        eta_f = torch.exp(log_eta_f)\n",
    "        eta_nn_TX = eta_nn(TX)[:, 0] * pi / p_t\n",
    "        return torch.mean(-eta_f * gamma + eta_nn_TX - eta_f * f_conj((eta_nn_TX - r) / eta_f))\n",
    "\n",
    "    for i in range(n_iter):\n",
    "        loss = -objective()\n",
    "        loss.backward()\n",
    "        optimizer.step()\n",
    "        optimizer.zero_grad()\n",
    "\n",
    "    return (objective(), log_eta_f, eta_nn) if return_eta else objective()\n",
    "\n",
    "\n",
    "def get_f_conjugate(Gamma, gamma, p_t, f_divergence, tan_box_const, lr_box_const, f_const):\n",
    "    if bool(tan_box_const) != bool(lr_box_const):\n",
    "        if tan_box_const:\n",
    "            a = p_t * (1 + 1 / Gamma * (1 / p_t - 1))\n",
    "            b = p_t * (1 + Gamma * (1 / p_t - 1))\n",
    "        elif lr_box_const:\n",
    "            a = 1 / Gamma\n",
    "            b = Gamma\n",
    "        a, b = map(torch.as_tensor, (a, b))\n",
    "\n",
    "        def f_conjugate(x):\n",
    "            return torch.where(x > 0.0, b * x, a * x)\n",
    "\n",
    "    elif f_const:\n",
    "        # See\n",
    "        # - https://arxiv.org/abs/1606.00709\n",
    "        # - http://www.stat.yale.edu/~yw562/teaching/598/lec06.pdf\n",
    "        # - https://en.wikipedia.org/wiki/F-divergence\n",
    "        f, f_conj = {\n",
    "            \"KL\": [lambda u: u * torch.log(u), lambda v: torch.exp(v - 1)],\n",
    "            \"inverse KL\": [lambda u: -torch.log(u), lambda v: -1 - torch.log(-v)],\n",
    "            \"Jensen-Shannon\": [\n",
    "                lambda u: -(u + 1) * torch.log((1 + u) / 2) + u * torch.log(u),\n",
    "                lambda v: torch.where(v < torch.log(2.0), -torch.log(2 - torch.exp(v)), torch.inf),\n",
    "            ],\n",
    "            \"squared Hellinger\": [\n",
    "                lambda u: u - 2 * torch.sqrt(u) + 1,\n",
    "                lambda v: torch.where(v < 1.0, v / (1 - v), torch.inf),\n",
    "            ],\n",
    "            \"Pearson chi squared\": [lambda u: u**2 - 1, lambda v: v**2 / 4.0 + v],\n",
    "            \"Neyman chi squared\": [\n",
    "                lambda u: 1.0 / u - 1,\n",
    "                lambda v: torch.where(torch.abs(v) <= 0.0, -2 * torch.sqrt(-v) + 1, torch.inf),\n",
    "            ],\n",
    "            \"total variation\": [\n",
    "                lambda u: 0.5 * torch.abs(u - 1),\n",
    "                lambda v: torch.where(torch.abs(v) < 0.5, v, torch.inf),\n",
    "            ],\n",
    "        }[f_divergence]\n",
    "        raise NotImplementedError\n",
    "    return f_conjugate\n",
    "\n",
    "\n",
    "def get_multipliers(n_hidden=30, n_layers=3, seed=None):\n",
    "    torch.manual_seed(seed)\n",
    "    input_dims = [1 + X.shape[1]] + [n_hidden] * (n_layers - 1)\n",
    "    output_dims = [n_hidden] * (n_layers - 1) + [1]\n",
    "    layers = [\n",
    "        layer\n",
    "        for (d_in, d_out) in zip(input_dims, output_dims)\n",
    "        for layer in (torch.nn.Linear(d_in, d_out), torch.nn.ReLU())\n",
    "    ]\n",
    "    eta_nn = torch.nn.Sequential(*layers[:-1])\n",
    "    eta_nn[-1].weight.data.fill_(0.0)\n",
    "    eta_nn[-1].bias.data.fill_(0.0)\n",
    "    log_eta_f = torch.tensor(0.0, requires_grad=True)\n",
    "    return eta_nn, log_eta_f"
   ]
  },
  {
   "cell_type": "code",
   "execution_count": 26,
   "id": "2e6115e1-3ea9-4f79-a622-89f759f3c445",
   "metadata": {},
   "outputs": [],
   "source": [
    "est, log_eta_f, eta_nn = confounding_robust_dual_nn(\n",
    "    Y,\n",
    "    T,\n",
    "    X,\n",
    "    p_t,\n",
    "    toy_policy,\n",
    "    Gamma=1.5,\n",
    "    gamma=0.01,\n",
    "    f_divergence=\"total variation\",\n",
    "    normalize_p_t=True,\n",
    "    tan_box_const=True,\n",
    "    f_const=False,\n",
    "    n_iter=100,\n",
    "    weight_decay_nn=0.02,\n",
    "    train_policy=False,\n",
    "    return_eta=True,\n",
    ")"
   ]
  },
  {
   "cell_type": "code",
   "execution_count": 27,
   "id": "2d92244a-c346-4464-8be9-51932b1699c0",
   "metadata": {},
   "outputs": [
    {
     "data": {
      "text/plain": [
       "tensor(3.3996, dtype=torch.float64, grad_fn=<MeanBackward0>)"
      ]
     },
     "execution_count": 27,
     "metadata": {},
     "output_type": "execute_result"
    }
   ],
   "source": [
    "est"
   ]
  },
  {
   "cell_type": "code",
   "execution_count": 28,
   "id": "4f51fe24-3bd2-413c-b5b0-3082433d81f3",
   "metadata": {},
   "outputs": [
    {
     "data": {
      "text/plain": [
       "['KL',\n",
       " 'inverse KL',\n",
       " 'Jensen-Shannon',\n",
       " 'squared Hellinger',\n",
       " 'Pearson chi squared',\n",
       " 'Neyman chi squared',\n",
       " 'total variation']"
      ]
     },
     "execution_count": 28,
     "metadata": {},
     "output_type": "execute_result"
    }
   ],
   "source": [
    "kcmc.estimators.f_divergences"
   ]
  },
  {
   "cell_type": "markdown",
   "id": "50d75db1-1df2-4c65-bb9b-2479e250a08a",
   "metadata": {},
   "source": [
    "### Policy Evaluation Experiments with Dual NN method"
   ]
  },
  {
   "cell_type": "code",
   "execution_count": 92,
   "id": "7531e67c-a620-4d0d-9e72-a355130b601b",
   "metadata": {},
   "outputs": [],
   "source": [
    "EXAMPLE_PARAMS = {\n",
    "    \"Gamma\": 1.5,\n",
    "    \"gamma\": 0.01,\n",
    "    \"f_divergence\": \"KL\",\n",
    "    \"normalize_p_t\": True,\n",
    "    \"tan_box_const\": False,\n",
    "    \"lr_box_const\": False,\n",
    "    \"f_const\": False,\n",
    "    \"n_iter\": 200,\n",
    "    \"train_policy\": False,\n",
    "    \"lr_log_eta_f\": 0.05,\n",
    "    \"lr_eta_nn\": 0.05,\n",
    "    \"weight_decay_nn\": 0.02,\n",
    "    \"nn_seed\": 0,\n",
    "    \"return_eta\": False,\n",
    "}\n",
    "\n",
    "\n",
    "def run_policy_evaluation_experiment(\n",
    "    log_file,\n",
    "    params,\n",
    "    policy,\n",
    "    data_type=\"synthetic binary\",\n",
    "    sample_size=1000,\n",
    "    n_seeds=1,\n",
    "    seed0=0,\n",
    "    log_info=\"\",\n",
    "):\n",
    "    assert data_type in [\"synthetic binary\", \"synthetic continuous\", \"real binary\"]\n",
    "    assert set(params.keys()) == set(EXAMPLE_PARAMS.keys())\n",
    "    for seed in range(seed0, seed0 + n_seeds):\n",
    "        Y, T, X, p_t = get_data(data_type, sample_size, seed)\n",
    "        params[\"nn_seed\"] = seed\n",
    "        try:\n",
    "            lower_bound = confounding_robust_dual_nn(Y, T, X, p_t, policy, **params).data.numpy()\n",
    "            upper_bound = -confounding_robust_dual_nn(-Y, T, X, p_t, policy, **params).data.numpy()\n",
    "        except:\n",
    "            print(\n",
    "                f\"Encountered error for data_type={data_type}, sample_size={sample_size}, params={params}. Skipping the experiment.\"\n",
    "            )\n",
    "            continue\n",
    "        log_csv(\n",
    "            log_file,\n",
    "            data_type,\n",
    "            policy.__name__,\n",
    "            lower_bound,\n",
    "            upper_bound,\n",
    "            params,\n",
    "            min(sample_size, T.shape[0]),\n",
    "            seed,\n",
    "            log_info,\n",
    "        )"
   ]
  },
  {
   "cell_type": "code",
   "execution_count": 93,
   "id": "ace940d2-898a-40b3-981b-57a68da2a8a7",
   "metadata": {},
   "outputs": [],
   "source": [
    "def update_base_method(**new_params):\n",
    "    ret = EXAMPLE_PARAMS.copy()\n",
    "    ret.update(new_params)\n",
    "    return ret\n",
    "\n",
    "\n",
    "grid_methods = {\n",
    "    \"Dual NN\": update_base_method(\n",
    "        tan_box_const=True,\n",
    "    ),\n",
    "}\n",
    "\n",
    "grid_Gamma = [1.0 + 0.01 + 0.1 * i for i in range(11)]"
   ]
  },
  {
   "cell_type": "code",
   "execution_count": 94,
   "id": "82d587ce-71ea-47ef-b8b3-ed25915e1fe0",
   "metadata": {},
   "outputs": [
    {
     "data": {
      "application/vnd.jupyter.widget-view+json": {
       "model_id": "7a3efca914f34981827ed2fb82ba4bb1",
       "version_major": 2,
       "version_minor": 0
      },
      "text/plain": [
       "  0%|          | 0/11 [00:00<?, ?it/s]"
      ]
     },
     "metadata": {},
     "output_type": "display_data"
    }
   ],
   "source": [
    "log_file = \"logs/policy_evaluation_synthetic_binary_changing_Gamma_nn.csv\"\n",
    "\n",
    "pbar = tqdm(total=len(grid_methods) * len(grid_Gamma))\n",
    "for method_name, params in grid_methods.items():\n",
    "    for Gamma in grid_Gamma:\n",
    "        params[\"Gamma\"] = Gamma\n",
    "        run_policy_evaluation_experiment(\n",
    "            log_file,\n",
    "            params,\n",
    "            toy_policy,\n",
    "            data_type=\"synthetic binary\",\n",
    "            n_seeds=10,\n",
    "            sample_size=500,\n",
    "            log_info=method_name,\n",
    "        )\n",
    "        pbar.update(1)\n",
    "pbar.close()"
   ]
  },
  {
   "cell_type": "code",
   "execution_count": 95,
   "id": "04d15b8c-8ad0-42df-841e-2527b93bfa4e",
   "metadata": {},
   "outputs": [],
   "source": [
    "df_primal = pd.read_csv(\"logs/policy_evaluation_synthetic_binary_changing_Gamma.csv\")\n",
    "df_dual = pd.read_csv(\"logs/policy_evaluation_synthetic_binary_changing_Gamma_nn.csv\")"
   ]
  },
  {
   "cell_type": "code",
   "execution_count": 96,
   "id": "80d67d0b-2cce-4275-a5cf-2e1fd54a780d",
   "metadata": {},
   "outputs": [],
   "source": [
    "used_columns = [\"log_info\", \"Gamma\", \"lower_bound\", \"upper_bound\"]\n",
    "df = pd.concat((df[used_columns], df_nn[used_columns]), axis=0)"
   ]
  },
  {
   "cell_type": "code",
   "execution_count": 97,
   "id": "38d5f88b-022d-47b2-a8e8-2ab35d712dde",
   "metadata": {},
   "outputs": [
    {
     "data": {
      "text/html": [
       "<div>\n",
       "<style scoped>\n",
       "    .dataframe tbody tr th:only-of-type {\n",
       "        vertical-align: middle;\n",
       "    }\n",
       "\n",
       "    .dataframe tbody tr th {\n",
       "        vertical-align: top;\n",
       "    }\n",
       "\n",
       "    .dataframe thead th {\n",
       "        text-align: right;\n",
       "    }\n",
       "</style>\n",
       "<table border=\"1\" class=\"dataframe\">\n",
       "  <thead>\n",
       "    <tr style=\"text-align: right;\">\n",
       "      <th></th>\n",
       "      <th>Gamma</th>\n",
       "      <th>lower_bound</th>\n",
       "      <th>upper_bound</th>\n",
       "    </tr>\n",
       "    <tr>\n",
       "      <th>log_info</th>\n",
       "      <th></th>\n",
       "      <th></th>\n",
       "      <th></th>\n",
       "    </tr>\n",
       "  </thead>\n",
       "  <tbody>\n",
       "    <tr>\n",
       "      <th>Dual NN</th>\n",
       "      <td>220</td>\n",
       "      <td>220</td>\n",
       "      <td>220</td>\n",
       "    </tr>\n",
       "    <tr>\n",
       "      <th>GP_KCMC</th>\n",
       "      <td>110</td>\n",
       "      <td>110</td>\n",
       "      <td>110</td>\n",
       "    </tr>\n",
       "    <tr>\n",
       "      <th>ZSB</th>\n",
       "      <td>110</td>\n",
       "      <td>110</td>\n",
       "      <td>110</td>\n",
       "    </tr>\n",
       "    <tr>\n",
       "      <th>hard_KCMC</th>\n",
       "      <td>110</td>\n",
       "      <td>110</td>\n",
       "      <td>110</td>\n",
       "    </tr>\n",
       "    <tr>\n",
       "      <th>quantile</th>\n",
       "      <td>110</td>\n",
       "      <td>110</td>\n",
       "      <td>110</td>\n",
       "    </tr>\n",
       "  </tbody>\n",
       "</table>\n",
       "</div>"
      ],
      "text/plain": [
       "           Gamma  lower_bound  upper_bound\n",
       "log_info                                  \n",
       "Dual NN      220          220          220\n",
       "GP_KCMC      110          110          110\n",
       "ZSB          110          110          110\n",
       "hard_KCMC    110          110          110\n",
       "quantile     110          110          110"
      ]
     },
     "execution_count": 97,
     "metadata": {},
     "output_type": "execute_result"
    }
   ],
   "source": [
    "df.groupby(\"log_info\").count()"
   ]
  },
  {
   "cell_type": "code",
   "execution_count": 98,
   "id": "5e97e63a-00b3-4edd-85d7-1d0463a08071",
   "metadata": {},
   "outputs": [
    {
     "data": {
      "text/plain": [
       "array(['ZSB', 'GP_KCMC', 'hard_KCMC', 'quantile', 'Dual NN'], dtype=object)"
      ]
     },
     "execution_count": 98,
     "metadata": {},
     "output_type": "execute_result"
    }
   ],
   "source": [
    "df.log_info.unique()"
   ]
  },
  {
   "cell_type": "code",
   "execution_count": 99,
   "id": "c5c18909-5520-4208-a709-b4f2deca1914",
   "metadata": {},
   "outputs": [],
   "source": [
    "# due to the numerical rounding, some of the original values are invalid indices\n",
    "grid_Gamma = df.Gamma.unique()\n",
    "grid_method = [\"GP_KCMC\", \"hard_KCMC\", \"quantile\", \"ZSB\", \"Dual NN\"]"
   ]
  },
  {
   "cell_type": "code",
   "execution_count": 100,
   "id": "048acece-5a95-4fba-a747-b085b22fcdbc",
   "metadata": {},
   "outputs": [],
   "source": [
    "df_grouped = df.groupby(by=[\"log_info\", \"Gamma\"])[[\"lower_bound\", \"upper_bound\"]]\n",
    "values_mean = df_grouped.mean()\n",
    "values_std = df_grouped.std()"
   ]
  },
  {
   "cell_type": "code",
   "execution_count": 101,
   "id": "056c31e2-34ca-46d2-8dcf-f3a6d771d786",
   "metadata": {},
   "outputs": [
    {
     "data": {
      "image/png": "[encoded data removed]",
      "text/plain": [
       "<Figure size 432x288 with 1 Axes>"
      ]
     },
     "metadata": {
      "needs_background": "light"
     },
     "output_type": "display_data"
    }
   ],
   "source": [
    "colors = {method: tab10((0.5 + i) / 10) for i, method in enumerate(grid_method)}\n",
    "legend_targets = []\n",
    "legend_tags = [\"low-rank GP KCMC ($D=100$)\", \"low-rank hard KCMC ($D=100$)\", \"QB\", \"ZSB\", \"dual NN\"]\n",
    "\n",
    "for method_name in grid_method:\n",
    "    upper = np.array([values_mean.loc[(method_name, Gamma)][\"upper_bound\"] for Gamma in grid_Gamma])\n",
    "    lower = np.array([values_mean.loc[(method_name, Gamma)][\"lower_bound\"] for Gamma in grid_Gamma])\n",
    "    dupper = np.array([values_std.loc[(method_name, Gamma)][\"upper_bound\"] for Gamma in grid_Gamma])\n",
    "    dlower = np.array([values_std.loc[(method_name, Gamma)][\"lower_bound\"] for Gamma in grid_Gamma])\n",
    "    c = colors[method_name]\n",
    "    upper_line = plt.plot(grid_Gamma, upper, c=c)[0]\n",
    "    lower_line = plt.plot(grid_Gamma, lower, c=c)[0]\n",
    "    upper_band = plt.fill_between(grid_Gamma, upper + dupper, upper - dupper, color=c, alpha=0.1)\n",
    "    lower_band = plt.fill_between(grid_Gamma, lower + dlower, lower - dlower, color=c, alpha=0.1)\n",
    "    legend_targets.append((upper_line, lower_line, upper_band, lower_band))\n",
    "\n",
    "plt.legend(legend_targets, legend_tags)\n",
    "plt.xlabel(r\"Sensitivity parameter $\\Gamma$\")\n",
    "plt.ylabel(r\"Upper/lower bounds of policy value\")\n",
    "plt.xlim([1.0, 2.0])\n",
    "plt.savefig(\"logs/policy_evaluation_synthetic_binary_changing_Gamma_nn.pdf\")"
   ]
  },
  {
   "cell_type": "markdown",
   "id": "e675e17b-0325-4b75-ae55-b2adbf28199b",
   "metadata": {},
   "source": [
    "Notes on data types:\n",
    "\n",
    "- Only use torch tensor for `Y` and `r`\n",
    "- For other data, use numpy array"
   ]
  }
 ],
 "metadata": {
  "kernelspec": {
   "display_name": "Python 3 (ipykernel)",
   "language": "python",
   "name": "python3"
  },
  "language_info": {
   "codemirror_mode": {
    "name": "ipython",
    "version": 3
   },
   "file_extension": ".py",
   "mimetype": "text/x-python",
   "name": "python",
   "nbconvert_exporter": "python",
   "pygments_lexer": "ipython3",
   "version": "3.10.6"
  }
 },
 "nbformat": 4,
 "nbformat_minor": 5
}
