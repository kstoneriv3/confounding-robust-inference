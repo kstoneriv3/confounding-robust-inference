{
 "cells": [
  {
   "cell_type": "code",
   "execution_count": 1,
   "id": "94f55962-82f5-4afa-ae92-50fa552365c5",
   "metadata": {},
   "outputs": [],
   "source": [
    "import numpy as np\n",
    "import torch"
   ]
  },
  {
   "cell_type": "code",
   "execution_count": 2,
   "id": "a67d678e-0d10-49ce-bb57-73cf322de723",
   "metadata": {},
   "outputs": [],
   "source": [
    "from matplotlib import pyplot as plt"
   ]
  },
  {
   "cell_type": "code",
   "execution_count": 3,
   "id": "af1a8251-2c6a-41ab-a8d4-f3b262572730",
   "metadata": {},
   "outputs": [],
   "source": [
    "from sklearn.linear_model import LogisticRegressionCV"
   ]
  },
  {
   "cell_type": "code",
   "execution_count": 4,
   "id": "ba28601d-7dcb-43f5-b27a-afab41c648cf",
   "metadata": {},
   "outputs": [],
   "source": [
    "from tqdm.auto import tqdm"
   ]
  },
  {
   "cell_type": "code",
   "execution_count": 5,
   "id": "4b0180e1-8b2a-492b-84d8-1ee169552f83",
   "metadata": {},
   "outputs": [],
   "source": [
    "import kcmc\n",
    "from kcmc.estimators import confounding_robust_estimator, hajek, ipw\n",
    "from kcmc.data import generate_data_binary as generate_data\n",
    "from kcmc.data import evaluate_policy_binary as evaluate_policy"
   ]
  },
  {
   "cell_type": "markdown",
   "id": "7ada7874-e869-432d-81a0-d2c99cb26b35",
   "metadata": {},
   "source": [
    "### Synthetic Data from Kallus 2018"
   ]
  },
  {
   "cell_type": "markdown",
   "id": "93507ffa-b1ef-44a2-aee8-75507d28e66e",
   "metadata": {},
   "source": [
    "Notes on data types:\n",
    "\n",
    "- Only use torch tensor for `Y` and `r`\n",
    "- For other data, use numpy array"
   ]
  },
  {
   "cell_type": "code",
   "execution_count": 8,
   "id": "f6ea120d-205b-4b54-aaab-754577efd08d",
   "metadata": {},
   "outputs": [],
   "source": [
    "beta0 = 2.5\n",
    "beta0_t = -2\n",
    "beta_x = np.asarray([0, .5, -0.5, 0, 0])\n",
    "beta_x_t = np.asarray([-1.5, 1, -1.5, 1., 0.5])\n",
    "beta_xi = 1\n",
    "beta_xi_t = -2\n",
    "beta_e_x = np.asarray([0, .75, -.5, 0, -1])\n",
    "mu_x = np.asarray([-1, .5, -1, 0, -1]);\n",
    "\n",
    "def generate_data_continuous(n):\n",
    "    xi = (np.random.rand(n) > 0.5).astype(int)\n",
    "    X = mu_x[None, :] + np.random.randn(n * 5).reshape(n, 5)\n",
    "    eps = [np.random.randn(n) for t in (0, 1)]\n",
    "    Y = np.array([\n",
    "        X @ (beta_x + beta_x_t * t) + (beta_xi + beta_xi_t * t) * xi + (beta0 + beta0_t * t) + eps[t]\n",
    "        for t in (0, 1)\n",
    "    ])\n",
    "    U = (Y[0, :] > Y[1, :]).astype(int)\n",
    "    z = X @ beta_e_x\n",
    "    e_x = np.exp(z) / (1 + np.exp(z))\n",
    "    mu_xu = (6 * e_x) / (4 + 5 * U + e_x * (2 - 5 * U))\n",
    "    mu_xu = np.clip(mu_xu, 1e-6, 1 - 1e-6)\n",
    "    unif = np.random.rand(n)\n",
    "    a, b = 4 * mu_xu + 1, 4 * (1 - mu_xu) + 1\n",
    "    T = (1 - ber) * beta.rvs(a, b) + ber * unif\n",
    "    e_xu = beta.pdf(T, a, b)\n",
    "    Y = (1 - T) * Y[0, :] + T * Y[1, :]\n",
    "    Y = torch.as_tensor(Y)\n",
    "    return Y, T, X, U, e_x, e_xu\n",
    "\n",
    "def evaluate_policy_continuous(policy, n=1000, requires_grad=False):\n",
    "    xi = (np.random.rand(n) > 0.5).astype(int)\n",
    "    X = mu_x[None, :] + np.random.randn(n * 5).reshape(n, 5)\n",
    "    eps = [np.random.randn(n) for t in (0, 1)]\n",
    "    Y = np.array([\n",
    "        X @ (beta_x + beta_x_t * t) + (beta_xi + beta_xi_t * t) * xi + (beta0 + beta0_t * t) + eps[t]\n",
    "        for t in (0, 1)\n",
    "    ])\n",
    "    T = policy(X).rsample() if requires_grad else policy(X).sample()\n",
    "    Y = torch.as_tensor(Y) if isinstance(T, torch.Tensor) else Y\n",
    "    Y = (1 - T) * Y[0, :] + T * Y[1, :]\n",
    "    return Y.mean()"
   ]
  },
  {
   "cell_type": "code",
   "execution_count": 6,
   "id": "26eaf456-9e01-40a2-8687-9f6cf9d8f84f",
   "metadata": {},
   "outputs": [],
   "source": [
    "n = 1000\n",
    "np.random.seed(0)\n",
    "Y, T, X, U, e_x, e_xu = generate_data(n)"
   ]
  },
  {
   "cell_type": "code",
   "execution_count": 7,
   "id": "b14c0b72-5f51-4cfe-b369-81009ea78236",
   "metadata": {},
   "outputs": [],
   "source": [
    "beta_e_x = np.asarray([0, .75, -.5, 0, -1])\n",
    "\n",
    "def toy_policy(X):\n",
    "    z = torch.as_tensor(X) @ torch.as_tensor(beta_e_x)\n",
    "    e_x = torch.exp(z) / (1 + torch.exp(z))\n",
    "    return torch.stack([e_x, 1. - e_x]).T\n",
    "\n",
    "# def zero_policy(X):\n",
    "#    return np.zeros(X.shape[0], dtype=int)"
   ]
  },
  {
   "cell_type": "markdown",
   "id": "6d91b40e-adfd-4007-b14d-8fd67a3a233a",
   "metadata": {},
   "source": [
    "### Estimate Propensity Score (Conditional Density Estimation)"
   ]
  },
  {
   "cell_type": "markdown",
   "id": "8f276ca6-14ec-4bfd-b443-5681aebb868d",
   "metadata": {},
   "source": [
    "#### Discrete Case"
   ]
  },
  {
   "cell_type": "code",
   "execution_count": 8,
   "id": "430a6dbf-80b0-45a9-8c32-3aac778bae9f",
   "metadata": {},
   "outputs": [
    {
     "data": {
      "text/plain": [
       "0.04417433219435932"
      ]
     },
     "execution_count": 8,
     "metadata": {},
     "output_type": "execute_result"
    }
   ],
   "source": [
    "# Logistic regression is already quite good\n",
    "\n",
    "model = LogisticRegressionCV().fit(X, T)\n",
    "e_xx = model.predict_proba(X)[range(n), T]\n",
    "\n",
    "np.mean(np.abs(e_xx - e_xu))"
   ]
  },
  {
   "cell_type": "code",
   "execution_count": 9,
   "id": "b0d55bf4-131e-48b9-9c5d-33567963583a",
   "metadata": {},
   "outputs": [],
   "source": [
    "p_t = e_xx"
   ]
  },
  {
   "cell_type": "markdown",
   "id": "d32ae6b5-a553-4938-b801-507577fbd957",
   "metadata": {},
   "source": [
    "### Ground Truth"
   ]
  },
  {
   "cell_type": "code",
   "execution_count": 10,
   "id": "01b93677-0b48-4c01-ac31-5d3512df0256",
   "metadata": {},
   "outputs": [
    {
     "data": {
      "text/plain": [
       "tensor(3.6258, dtype=torch.float64)"
      ]
     },
     "execution_count": 10,
     "metadata": {},
     "output_type": "execute_result"
    }
   ],
   "source": [
    "evaluate_policy(toy_policy, n=1000000)"
   ]
  },
  {
   "cell_type": "markdown",
   "id": "192be7f4-218c-438b-936e-1fb36b12d858",
   "metadata": {
    "tags": []
   },
   "source": [
    "### IPW estimator"
   ]
  },
  {
   "cell_type": "code",
   "execution_count": 11,
   "id": "9122f446-64b0-4136-8e5e-f9a88dffbef4",
   "metadata": {},
   "outputs": [],
   "source": [
    "est_ipw = ipw(Y, T, X, p_t, toy_policy)"
   ]
  },
  {
   "cell_type": "code",
   "execution_count": 12,
   "id": "706245b2-acee-48fb-913c-0806dc1eddc0",
   "metadata": {},
   "outputs": [
    {
     "data": {
      "text/plain": [
       "tensor(3.4380, dtype=torch.float64)"
      ]
     },
     "execution_count": 12,
     "metadata": {},
     "output_type": "execute_result"
    }
   ],
   "source": [
    "est_ipw"
   ]
  },
  {
   "cell_type": "markdown",
   "id": "4d6b579c-ada1-43bb-8891-69257462c55a",
   "metadata": {
    "tags": []
   },
   "source": [
    "### Hajek estimator"
   ]
  },
  {
   "cell_type": "code",
   "execution_count": 13,
   "id": "1c618850-7e54-465a-b6a5-ca99df3785ec",
   "metadata": {},
   "outputs": [],
   "source": [
    "est_hajek = hajek(Y, T, X, p_t, toy_policy)"
   ]
  },
  {
   "cell_type": "code",
   "execution_count": 14,
   "id": "adb254d9-1a16-452b-9c98-8b02a2abe850",
   "metadata": {},
   "outputs": [
    {
     "data": {
      "text/plain": [
       "tensor(3.7397, dtype=torch.float64)"
      ]
     },
     "execution_count": 14,
     "metadata": {},
     "output_type": "execute_result"
    }
   ],
   "source": [
    "est_hajek"
   ]
  },
  {
   "cell_type": "markdown",
   "id": "1850ff26-d019-4d86-bf76-b4cbef1cfc92",
   "metadata": {},
   "source": [
    "### Implement Confounding Robust Inference"
   ]
  },
  {
   "cell_type": "code",
   "execution_count": 15,
   "id": "4f51fe24-3bd2-413c-b5b0-3082433d81f3",
   "metadata": {},
   "outputs": [
    {
     "data": {
      "text/plain": [
       "['KL',\n",
       " 'inverse KL',\n",
       " 'Jensen-Shannon',\n",
       " 'squared Hellinger',\n",
       " 'Pearson chi squared',\n",
       " 'Neyman chi squared',\n",
       " 'total variation']"
      ]
     },
     "execution_count": 15,
     "metadata": {},
     "output_type": "execute_result"
    }
   ],
   "source": [
    "kcmc.estimators.f_divergences"
   ]
  },
  {
   "cell_type": "code",
   "execution_count": 16,
   "id": "7712c45d-7536-462b-bff4-9168345a08f9",
   "metadata": {},
   "outputs": [],
   "source": [
    "est, w = confounding_robust_estimator(\n",
    "    Y, T, X, p_t, toy_policy,\n",
    "    D=200,\n",
    "    lambd=1.5, \n",
    "    gamma=0.01,\n",
    "    alpha=0.05,\n",
    "    hard_kernel_const=False,\n",
    "    f_divergence='total variation', \n",
    "    hajek_const=True,\n",
    "    kernel_const=False,\n",
    "    quantile_const=False,\n",
    "    tan_box_const=True,\n",
    "    lr_box_const=False,\n",
    "    f_const=False,\n",
    "    return_w=True\n",
    ")"
   ]
  },
  {
   "cell_type": "code",
   "execution_count": 17,
   "id": "8c141267-1182-4a0b-8e50-f981432d52f7",
   "metadata": {},
   "outputs": [
    {
     "data": {
      "text/plain": [
       "tensor(3.2750, dtype=torch.float64)"
      ]
     },
     "execution_count": 17,
     "metadata": {},
     "output_type": "execute_result"
    }
   ],
   "source": [
    "est"
   ]
  },
  {
   "cell_type": "code",
   "execution_count": 18,
   "id": "6b76bf18-e762-4200-b0ea-391a8f8a9907",
   "metadata": {},
   "outputs": [
    {
     "data": {
      "text/plain": [
       "tensor(3.7397, dtype=torch.float64)"
      ]
     },
     "execution_count": 18,
     "metadata": {},
     "output_type": "execute_result"
    }
   ],
   "source": [
    "est_hajek"
   ]
  },
  {
   "cell_type": "markdown",
   "id": "ca0239b0-947c-46a3-a128-221d2b9b3f2c",
   "metadata": {},
   "source": [
    "#### Select Kernel for KCMC"
   ]
  },
  {
   "cell_type": "code",
   "execution_count": 19,
   "id": "2443b824-406e-4488-b52f-e24fd66c1ca9",
   "metadata": {},
   "outputs": [],
   "source": [
    "# Guessing kernel with approximate solution\n",
    "_, w_guess = confounding_robust_estimator(\n",
    "    Y, T, X, p_t, toy_policy, lambd=1.5,\n",
    "    hajek_const=True, tan_box_const=True, return_w=True,\n",
    ")\n",
    "e_guess = p_t * w_guess - 1\n",
    "gp_kernel = kcmc.estimators.fit_gp_kernel(e_guess, T, X)\n",
    "sigma2 = gp_kernel.k1.noise_level\n",
    "kernel = gp_kernel.k2"
   ]
  },
  {
   "cell_type": "code",
   "execution_count": 20,
   "id": "ee53d235-48b9-4055-aede-cbe679245fa7",
   "metadata": {},
   "outputs": [
    {
     "ename": "NameError",
     "evalue": "name 'pi_np' is not defined",
     "output_type": "error",
     "traceback": [
      "\u001b[0;31m---------------------------------------------------------------------------\u001b[0m",
      "\u001b[0;31mNameError\u001b[0m                                 Traceback (most recent call last)",
      "Input \u001b[0;32mIn [20]\u001b[0m, in \u001b[0;36m<cell line: 1>\u001b[0;34m()\u001b[0m\n\u001b[0;32m----> 1\u001b[0m est \u001b[38;5;241m=\u001b[39m \u001b[43mconfounding_robust_estimator\u001b[49m\u001b[43m(\u001b[49m\n\u001b[1;32m      2\u001b[0m \u001b[43m    \u001b[49m\u001b[43mY\u001b[49m\u001b[43m,\u001b[49m\u001b[43m \u001b[49m\u001b[43mT\u001b[49m\u001b[43m,\u001b[49m\u001b[43m \u001b[49m\u001b[43mX\u001b[49m\u001b[43m,\u001b[49m\u001b[43m \u001b[49m\u001b[43mp_t\u001b[49m\u001b[43m,\u001b[49m\u001b[43m \u001b[49m\u001b[43mtoy_policy\u001b[49m\u001b[43m,\u001b[49m\n\u001b[1;32m      3\u001b[0m \u001b[43m    \u001b[49m\u001b[43mD\u001b[49m\u001b[38;5;241;43m=\u001b[39;49m\u001b[38;5;241;43m200\u001b[39;49m\u001b[43m,\u001b[49m\n\u001b[1;32m      4\u001b[0m \u001b[43m    \u001b[49m\u001b[43mlambd\u001b[49m\u001b[38;5;241;43m=\u001b[39;49m\u001b[38;5;241;43m1.5\u001b[39;49m\u001b[43m,\u001b[49m\u001b[43m \u001b[49m\n\u001b[1;32m      5\u001b[0m \u001b[43m    \u001b[49m\u001b[43mgamma\u001b[49m\u001b[38;5;241;43m=\u001b[39;49m\u001b[38;5;241;43m0.5\u001b[39;49m\u001b[43m,\u001b[49m\n\u001b[1;32m      6\u001b[0m \u001b[43m    \u001b[49m\u001b[43malpha\u001b[49m\u001b[38;5;241;43m=\u001b[39;49m\u001b[38;5;241;43m0.05\u001b[39;49m\u001b[43m,\u001b[49m\n\u001b[1;32m      7\u001b[0m \u001b[43m    \u001b[49m\u001b[43msigma2\u001b[49m\u001b[38;5;241;43m=\u001b[39;49m\u001b[43msigma2\u001b[49m\u001b[43m,\u001b[49m\n\u001b[1;32m      8\u001b[0m \u001b[43m    \u001b[49m\u001b[43mkernel\u001b[49m\u001b[38;5;241;43m=\u001b[39;49m\u001b[43mkernel\u001b[49m\u001b[43m,\u001b[49m\n\u001b[1;32m      9\u001b[0m \u001b[43m    \u001b[49m\u001b[43mhard_kernel_const\u001b[49m\u001b[38;5;241;43m=\u001b[39;49m\u001b[38;5;28;43;01mFalse\u001b[39;49;00m\u001b[43m,\u001b[49m\n\u001b[1;32m     10\u001b[0m \u001b[43m    \u001b[49m\u001b[43mf_divergence\u001b[49m\u001b[38;5;241;43m=\u001b[39;49m\u001b[38;5;124;43m'\u001b[39;49m\u001b[38;5;124;43mKL\u001b[39;49m\u001b[38;5;124;43m'\u001b[39;49m\u001b[43m,\u001b[49m\u001b[43m \u001b[49m\n\u001b[1;32m     11\u001b[0m \u001b[43m    \u001b[49m\u001b[43mhajek_const\u001b[49m\u001b[38;5;241;43m=\u001b[39;49m\u001b[38;5;28;43;01mTrue\u001b[39;49;00m\u001b[43m,\u001b[49m\n\u001b[1;32m     12\u001b[0m \u001b[43m    \u001b[49m\u001b[43mkernel_const\u001b[49m\u001b[38;5;241;43m=\u001b[39;49m\u001b[38;5;28;43;01mFalse\u001b[39;49;00m\u001b[43m,\u001b[49m\n\u001b[1;32m     13\u001b[0m \u001b[43m    \u001b[49m\u001b[43mquantile_const\u001b[49m\u001b[38;5;241;43m=\u001b[39;49m\u001b[38;5;28;43;01mTrue\u001b[39;49;00m\u001b[43m,\u001b[49m\n\u001b[1;32m     14\u001b[0m \u001b[43m    \u001b[49m\u001b[43mtan_box_const\u001b[49m\u001b[38;5;241;43m=\u001b[39;49m\u001b[38;5;28;43;01mTrue\u001b[39;49;00m\u001b[43m,\u001b[49m\n\u001b[1;32m     15\u001b[0m \u001b[43m    \u001b[49m\u001b[43mlr_box_const\u001b[49m\u001b[38;5;241;43m=\u001b[39;49m\u001b[38;5;28;43;01mFalse\u001b[39;49;00m\u001b[43m,\u001b[49m\n\u001b[1;32m     16\u001b[0m \u001b[43m    \u001b[49m\u001b[43mf_const\u001b[49m\u001b[38;5;241;43m=\u001b[39;49m\u001b[38;5;28;43;01mFalse\u001b[39;49;00m\u001b[43m,\u001b[49m\n\u001b[1;32m     17\u001b[0m \u001b[43m)\u001b[49m\n",
      "File \u001b[0;32m~/Desktop/master-thesis/kcmc/estimators.py:68\u001b[0m, in \u001b[0;36mconfounding_robust_estimator\u001b[0;34m(Y, T, X, p_t, policy, D, lambd, gamma, alpha, kernel, sigma2, hard_kernel_const, f_divergence, hajek_const, kernel_const, quantile_const, tan_box_const, lr_box_const, f_const, return_w)\u001b[0m\n\u001b[1;32m     66\u001b[0m \u001b[38;5;28;01mif\u001b[39;00m quantile_const:\n\u001b[1;32m     67\u001b[0m     \u001b[38;5;28;01massert\u001b[39;00m f_const \u001b[38;5;241m==\u001b[39m \u001b[38;5;28;01mFalse\u001b[39;00m, \u001b[38;5;124m\"\u001b[39m\u001b[38;5;124mquantile constraint is only for box constraints\u001b[39m\u001b[38;5;124m\"\u001b[39m\n\u001b[0;32m---> 68\u001b[0m     constraints\u001b[38;5;241m.\u001b[39mextend(\u001b[43mget_quantile_constraint\u001b[49m\u001b[43m(\u001b[49m\u001b[43mw\u001b[49m\u001b[43m,\u001b[49m\u001b[43m \u001b[49m\u001b[43mY_np\u001b[49m\u001b[43m,\u001b[49m\u001b[43m \u001b[49m\u001b[43mpi_np\u001b[49m\u001b[43m,\u001b[49m\u001b[43m \u001b[49m\u001b[43mT\u001b[49m\u001b[43m,\u001b[49m\u001b[43m \u001b[49m\u001b[43mX\u001b[49m\u001b[43m,\u001b[49m\u001b[43m \u001b[49m\u001b[43mp_t\u001b[49m\u001b[43m,\u001b[49m\u001b[43m \u001b[49m\u001b[43mlambd\u001b[49m\u001b[43m)\u001b[49m)\n\u001b[1;32m     69\u001b[0m \u001b[38;5;28;01mif\u001b[39;00m tan_box_const:\n\u001b[1;32m     70\u001b[0m     constraints\u001b[38;5;241m.\u001b[39mextend(get_tan_box_constraint(w, p_t, p_t_original, lambd))\n",
      "File \u001b[0;32m~/Desktop/master-thesis/kcmc/estimators.py:153\u001b[0m, in \u001b[0;36mget_quantile_constraint\u001b[0;34m(w, Y, pi, T, X, p_t, lambd)\u001b[0m\n\u001b[1;32m    151\u001b[0m Q \u001b[38;5;241m=\u001b[39m QuantileRegressor(quantile\u001b[38;5;241m=\u001b[39m\u001b[38;5;241m1.\u001b[39m \u001b[38;5;241m/\u001b[39m (lambd \u001b[38;5;241m+\u001b[39m \u001b[38;5;241m1\u001b[39m), alpha\u001b[38;5;241m=\u001b[39m\u001b[38;5;241m0.\u001b[39m)\u001b[38;5;241m.\u001b[39mfit(TX, Y)\u001b[38;5;241m.\u001b[39mpredict(TX) \u001b[38;5;66;03m# any regressor will do, \u001b[39;00m\n\u001b[1;32m    152\u001b[0m \u001b[38;5;66;03m### Carveat: np.ones(n) * w is NOT the element-wise product in cvxpy!!!\u001b[39;00m\n\u001b[0;32m--> 153\u001b[0m \u001b[38;5;28;01mreturn\u001b[39;00m [cp\u001b[38;5;241m.\u001b[39mscalar_product(\u001b[43mpi_np\u001b[49m \u001b[38;5;241m*\u001b[39m Q, w) \u001b[38;5;241m==\u001b[39m np\u001b[38;5;241m.\u001b[39msum(pi_np \u001b[38;5;241m*\u001b[39m Q \u001b[38;5;241m/\u001b[39m p_t)]\n",
      "\u001b[0;31mNameError\u001b[0m: name 'pi_np' is not defined"
     ]
    }
   ],
   "source": [
    "est = confounding_robust_estimator(\n",
    "    Y, T, X, p_t, toy_policy,\n",
    "    D=200,\n",
    "    lambd=1.5, \n",
    "    gamma=0.5,\n",
    "    alpha=0.05,\n",
    "    sigma2=sigma2,\n",
    "    kernel=kernel,\n",
    "    hard_kernel_const=False,\n",
    "    f_divergence='KL', \n",
    "    hajek_const=True,\n",
    "    kernel_const=False,\n",
    "    quantile_const=True,\n",
    "    tan_box_const=True,\n",
    "    lr_box_const=False,\n",
    "    f_const=False,\n",
    ")"
   ]
  },
  {
   "cell_type": "code",
   "execution_count": null,
   "id": "809487d0-78fb-439c-8bae-13ffb94c6dee",
   "metadata": {},
   "outputs": [],
   "source": [
    "est"
   ]
  },
  {
   "cell_type": "markdown",
   "id": "f058a91f-2c45-482c-90bf-360a10833ff5",
   "metadata": {},
   "source": [
    "### Compare Policy Learning Performance"
   ]
  },
  {
   "cell_type": "code",
   "execution_count": 40,
   "id": "d1e50f91-9bcb-4028-a87e-09e15de4d177",
   "metadata": {},
   "outputs": [],
   "source": [
    "def base_policy(X):\n",
    "    return 0.5 * torch.ones((X.shape[0], 2), dtype=float)\n",
    "\n",
    "def LR_policy(X, beta):\n",
    "    X = np.concatenate([np.ones([X.shape[0], 1]), X], axis=1)\n",
    "    p = torch.sigmoid(torch.tensor(X) @ beta)\n",
    "    return torch.stack([p, 1.0 - p]).T"
   ]
  },
  {
   "cell_type": "code",
   "execution_count": 41,
   "id": "b1c061b6-9fbd-4de8-96ac-ccee3fbfcf5a",
   "metadata": {},
   "outputs": [],
   "source": [
    "class nnPolicy(torch.nn.Module):\n",
    "    def __init__(self):\n",
    "        super().__init__()\n",
    "        self.nn = torch.nn.Sequential(\n",
    "            torch.nn.Linear(5, 32),\n",
    "            torch.nn.ReLU(),\n",
    "            torch.nn.Linear(32, 32),\n",
    "            torch.nn.ReLU(),\n",
    "            torch.nn.Linear(32, 1),\n",
    "            torch.nn.Sigmoid(),\n",
    "        )\n",
    "        self.nn[-2].weight.data[:] = 0.\n",
    "        self.nn[-2].bias.data[:] = 0.\n",
    "\n",
    "    def forward(self, X):\n",
    "        X = torch.as_tensor(X, dtype=torch.float32)\n",
    "        p = self.nn(X)[:, 0]\n",
    "        return torch.stack([p, 1.0 - p]).T"
   ]
  },
  {
   "cell_type": "code",
   "execution_count": 42,
   "id": "4e15e5d7-d487-4bfa-a46b-3a6b77e2ec48",
   "metadata": {},
   "outputs": [
    {
     "data": {
      "text/plain": [
       "tensor(3.7457, dtype=torch.float64)"
      ]
     },
     "execution_count": 42,
     "metadata": {},
     "output_type": "execute_result"
    }
   ],
   "source": [
    "evaluate_policy(base_policy, n=100000)"
   ]
  },
  {
   "cell_type": "code",
   "execution_count": 43,
   "id": "6717fbcd-2256-4c46-9d0d-74413a230e6b",
   "metadata": {},
   "outputs": [
    {
     "data": {
      "text/plain": [
       "tensor(3.7425, dtype=torch.float64, grad_fn=<MeanBackward0>)"
      ]
     },
     "execution_count": 43,
     "metadata": {},
     "output_type": "execute_result"
    }
   ],
   "source": [
    "nn_policy = nnPolicy()\n",
    "evaluate_policy(nn_policy, n=100000)"
   ]
  },
  {
   "cell_type": "markdown",
   "id": "a7135e18-9fd9-4400-b83f-b1e4e7045ea5",
   "metadata": {},
   "source": [
    "#### Best Policy"
   ]
  },
  {
   "cell_type": "code",
   "execution_count": 52,
   "id": "72178905-238f-4688-b849-e5ddbc59f357",
   "metadata": {},
   "outputs": [
    {
     "data": {
      "application/vnd.jupyter.widget-view+json": {
       "model_id": "c100c0b3c04941cdac69b2f8d8f3bd31",
       "version_major": 2,
       "version_minor": 0
      },
      "text/plain": [
       "  0%|          | 0/101 [00:00<?, ?it/s]"
      ]
     },
     "metadata": {},
     "output_type": "display_data"
    }
   ],
   "source": [
    "train_steps = 101\n",
    "beta_best = torch.zeros(6, requires_grad=True, dtype=float)\n",
    "best_policy = lambda X: LR_policy(X, beta_best)\n",
    "optimizer = torch.optim.RMSprop(lr=1e-1, params=[beta_best])\n",
    "pbar = tqdm(range(train_steps))\n",
    "for i in pbar:\n",
    "    value = evaluate_policy(best_policy, n=100000)\n",
    "    (- value).backward()\n",
    "    optimizer.step()\n",
    "    optimizer.zero_grad()\n",
    "    pbar.set_description(f\"Value: {value}\")"
   ]
  },
  {
   "cell_type": "markdown",
   "id": "fd5860f1-5888-4134-809a-c6d88eaaee6f",
   "metadata": {
    "tags": []
   },
   "source": [
    "#### Just Run Hajek optimization"
   ]
  },
  {
   "cell_type": "code",
   "execution_count": 55,
   "id": "3faaf59a-d1e7-4e87-9b01-1b21de25ab0a",
   "metadata": {},
   "outputs": [
    {
     "data": {
      "application/vnd.jupyter.widget-view+json": {
       "model_id": "4433e9bdc6e14fd69e71b6c6cdf21985",
       "version_major": 2,
       "version_minor": 0
      },
      "text/plain": [
       "  0%|          | 0/101 [00:00<?, ?it/s]"
      ]
     },
     "metadata": {},
     "output_type": "display_data"
    }
   ],
   "source": [
    "train_steps = 101\n",
    "beta_ipw = torch.zeros(6, requires_grad=True, dtype=float)\n",
    "hajek_policy = lambda X: LR_policy(X, beta_ipw)\n",
    "optimizer = torch.optim.RMSprop(lr=1e-1, params=[beta_ipw])\n",
    "pbar = tqdm(range(train_steps))\n",
    "for i in pbar:\n",
    "    value = hajek(Y, T, X, p_t, hajek_policy)\n",
    "    (- value).backward()\n",
    "    optimizer.step()\n",
    "    optimizer.zero_grad()\n",
    "    pbar.set_description(f\"Value: {value}\")"
   ]
  },
  {
   "cell_type": "code",
   "execution_count": 56,
   "id": "6f68a7fc-d8b5-4677-a723-5f880e3643c9",
   "metadata": {},
   "outputs": [
    {
     "data": {
      "text/plain": [
       "tensor(4.6807, dtype=torch.float64, grad_fn=<MeanBackward0>)"
      ]
     },
     "execution_count": 56,
     "metadata": {},
     "output_type": "execute_result"
    }
   ],
   "source": [
    "evaluate_policy(ipw_policy, n=100000)"
   ]
  },
  {
   "cell_type": "markdown",
   "id": "3bb89ee4-1cbf-4ce7-a209-c82e62340fd2",
   "metadata": {},
   "source": [
    "### Just run min-max optimzation"
   ]
  },
  {
   "cell_type": "code",
   "execution_count": 78,
   "id": "d0981074-6758-417c-9333-e230fea92029",
   "metadata": {},
   "outputs": [],
   "source": [
    "def evaluate_confounding_robust_hajek(policy):\n",
    "    est = confounding_robust_estimator(\n",
    "        Y, T, X, p_t, policy, \n",
    "        lambd=1.5, hajek_const=True, tan_box_const=True,\n",
    "    )\n",
    "    return est"
   ]
  },
  {
   "cell_type": "code",
   "execution_count": 79,
   "id": "0de66b67-21ac-450f-94ba-3c712f171cf8",
   "metadata": {},
   "outputs": [],
   "source": [
    "def evaluate_confounding_robust_kernel(policy):\n",
    "    est = confounding_robust_estimator(\n",
    "        Y, T, X, p_t, policy, \n",
    "        D=200, lambd=1.5, alpha=0.05, \n",
    "        sigma2=sigma2, kernel=kernel,\n",
    "        kernel_const=True,\n",
    "        tan_box_const=True,\n",
    "    )\n",
    "    return est"
   ]
  },
  {
   "cell_type": "code",
   "execution_count": 80,
   "id": "9d210ddd-d8e9-401a-900f-f7ec72c993e9",
   "metadata": {
    "tags": []
   },
   "outputs": [
    {
     "data": {
      "application/vnd.jupyter.widget-view+json": {
       "model_id": "0ce1ba7f9dd14ef881ebd4f0e1a529d6",
       "version_major": 2,
       "version_minor": 0
      },
      "text/plain": [
       "  0%|          | 0/101 [00:00<?, ?it/s]"
      ]
     },
     "metadata": {},
     "output_type": "display_data"
    }
   ],
   "source": [
    "# Hajek policy min-max value\n",
    "train_steps = 101\n",
    "beta_hajek = torch.zeros(6, requires_grad=True, dtype=float)\n",
    "hajek_policy = lambda X: LR_policy(X, beta_hajek)\n",
    "optimizer = torch.optim.SGD(lr=1e-1, params=[beta_hajek])\n",
    "pbar = tqdm(range(train_steps))\n",
    "for i in pbar:\n",
    "    hajek_value = evaluate_confounding_robust_hajek(hajek_policy)\n",
    "    (- hajek_value).backward()\n",
    "    optimizer.step()\n",
    "    optimizer.zero_grad()\n",
    "    pbar.set_description(f\"Value: {hajek_value}\")"
   ]
  },
  {
   "cell_type": "code",
   "execution_count": 81,
   "id": "13c26fa8-9f5b-40e9-9905-f8c71837e821",
   "metadata": {},
   "outputs": [
    {
     "data": {
      "text/plain": [
       "tensor(4.4220, dtype=torch.float64, grad_fn=<MeanBackward0>)"
      ]
     },
     "execution_count": 81,
     "metadata": {},
     "output_type": "execute_result"
    }
   ],
   "source": [
    "evaluate_policy(hajek_policy, n=100000)"
   ]
  },
  {
   "cell_type": "code",
   "execution_count": 82,
   "id": "92634392-5a0d-45f6-897d-b689240d805e",
   "metadata": {},
   "outputs": [
    {
     "data": {
      "text/plain": [
       "tensor(4.0741, dtype=torch.float64, grad_fn=<MeanBackward0>)"
      ]
     },
     "execution_count": 82,
     "metadata": {},
     "output_type": "execute_result"
    }
   ],
   "source": [
    "evaluate_confounding_robust_kernel(hajek_policy)"
   ]
  },
  {
   "cell_type": "code",
   "execution_count": 64,
   "id": "f3fdf7b7-97ce-4467-9245-5b7988855917",
   "metadata": {},
   "outputs": [
    {
     "data": {
      "application/vnd.jupyter.widget-view+json": {
       "model_id": "1a7b0c88f27b4fd29d048bdccf72ea8d",
       "version_major": 2,
       "version_minor": 0
      },
      "text/plain": [
       "  0%|          | 0/101 [00:00<?, ?it/s]"
      ]
     },
     "metadata": {},
     "output_type": "display_data"
    }
   ],
   "source": [
    "# Kernel policy min-max value\n",
    "train_steps = 101\n",
    "beta_kernel = torch.zeros(6, requires_grad=True, dtype=float)\n",
    "kernel_policy = lambda X: LR_policy(X, beta_kernel)\n",
    "optimizer = torch.optim.RMSprop(lr=1e-1, params=[beta_kernel])\n",
    "pbar = tqdm(range(train_steps))\n",
    "for i in pbar:\n",
    "    kernel_value = evaluate_confounding_robust_kernel(kernel_policy)\n",
    "    (- kernel_value).backward()\n",
    "    optimizer.step()\n",
    "    optimizer.zero_grad()\n",
    "    pbar.set_description(f\"Value: {kernel_value}\")"
   ]
  },
  {
   "cell_type": "code",
   "execution_count": 68,
   "id": "eea0c567-14cd-4bba-87bd-49b027eefaa7",
   "metadata": {},
   "outputs": [
    {
     "data": {
      "application/vnd.jupyter.widget-view+json": {
       "model_id": "f13a34afe4504641adb29225693ef864",
       "version_major": 2,
       "version_minor": 0
      },
      "text/plain": [
       "  0%|          | 0/101 [00:00<?, ?it/s]"
      ]
     },
     "metadata": {},
     "output_type": "display_data"
    }
   ],
   "source": [
    "pbar = tqdm(range(train_steps))\n",
    "for i in pbar:\n",
    "    kernel_value = evaluate_confounding_robust_kernel(kernel_policy)\n",
    "    (- kernel_value).backward()\n",
    "    optimizer.step()\n",
    "    optimizer.zero_grad()\n",
    "    pbar.set_description(f\"Value: {kernel_value}\")"
   ]
  },
  {
   "cell_type": "code",
   "execution_count": 69,
   "id": "a4698840-9670-4345-8ed2-d63f69cde402",
   "metadata": {},
   "outputs": [
    {
     "data": {
      "text/plain": [
       "tensor(4.6475, dtype=torch.float64, grad_fn=<MeanBackward0>)"
      ]
     },
     "execution_count": 69,
     "metadata": {},
     "output_type": "execute_result"
    }
   ],
   "source": [
    "evaluate_policy(kernel_policy, n=100000)"
   ]
  },
  {
   "cell_type": "code",
   "execution_count": 70,
   "id": "fdb3ccc7-2906-4711-b340-2fda629f9840",
   "metadata": {},
   "outputs": [
    {
     "data": {
      "text/plain": [
       "tensor(4.4631, dtype=torch.float64, grad_fn=<MeanBackward0>)"
      ]
     },
     "execution_count": 70,
     "metadata": {},
     "output_type": "execute_result"
    }
   ],
   "source": [
    "evaluate_confounding_robust_kernel(kernel_policy)"
   ]
  },
  {
   "cell_type": "markdown",
   "id": "fcb6681d-0cbc-498c-87fe-14518e3307d3",
   "metadata": {},
   "source": [
    "### Conclusions\n",
    "- The difference in performance is sample-dependent\n",
    "  - If the sample is well confounded, then kernel + hajek tends to be better than hajek\n",
    "- IPW estimator is good enough in most cases, so we might not actually need confounding-robust methods\n",
    "- Still, kernel + hajek method offers better lower-bound of the policy value, so it must have some use cases."
   ]
  },
  {
   "cell_type": "markdown",
   "id": "417a7aee-64db-43bf-8f5f-c85431205461",
   "metadata": {},
   "source": [
    "### Make a Table for Slide"
   ]
  },
  {
   "cell_type": "code",
   "execution_count": null,
   "id": "57708d10-0a72-4c40-93d3-a90ee6d52626",
   "metadata": {},
   "outputs": [],
   "source": [
    "pi1 = lambda x: 0.5\n",
    "pi2 = toy_policy\n",
    "pi3 = best_policy\n",
    "pi4 = hajek_policy\n",
    "pi5 = kernel_policy\n",
    "pi6 = ipw_policy"
   ]
  },
  {
   "cell_type": "code",
   "execution_count": null,
   "id": "b07db702-4249-4340-abee-31a733991669",
   "metadata": {},
   "outputs": [],
   "source": [
    "table = {}\n",
    "for i, pi in tqdm.tqdm(enumerate([pi1, pi2, pi3, pi4, pi5, pi6])):\n",
    "    table[f\"$\\\\pi_{i+1}$\"] = row = {}\n",
    "    row['$V_\\\\text{inf}$'] = float(evaluate_policy(pi, n=100000))\n",
    "    prob = pi(X) * torch.tensor(T) + (1 - pi(X)) * torch.tensor(1 - T)\n",
    "    r = torch.tensor(Y) * prob\n",
    "    row['$\\\\hat V_\\\\text{inf}^\\\\Hajek$'] = float(confoundingRobustHajek(r, T, a, b))\n",
    "    row['$\\\\hat V_\\\\text{inf}^\\\\kernel$'] = float(confoundingRobustKernel(r, T, X, a, b, p_t))\n",
    "    row['$\\\\hat V_\\\\text{inf}^\\\\text{IPW}$'] = float(IPW(r, p_t))"
   ]
  },
  {
   "cell_type": "code",
   "execution_count": null,
   "id": "e7b99c09-4f54-4520-8475-3cd0350ffd85",
   "metadata": {},
   "outputs": [],
   "source": [
    "table_copy = table.copy()\n",
    "table.pop(\"$\\\\pi_6$\")"
   ]
  },
  {
   "cell_type": "code",
   "execution_count": null,
   "id": "43579457-5d7d-4556-9815-4333d60de3c5",
   "metadata": {},
   "outputs": [],
   "source": [
    "print(\"\\\\begin{tabular}{ | m{4em} || \" + \"m{3em} \" * len(table) + \"| }\")\n",
    "print(\"\\\\hline\")\n",
    "header = \"{}\\t\" + \"&{}\\t\" * len(table) + \"\\\\\\\\\"\n",
    "print(header.format(\"\", *table.keys()))\n",
    "print(\"\\\\hline\")\n",
    "\n",
    "row_names = table[\"$\\\\pi_1$\"].keys()\n",
    "for row in row_names:\n",
    "    s = \"{}\\t\" + \"&{:1.3f}\\t\" * len(table) + \"\\\\\\\\\"\n",
    "    print(s.format(row, *[col[row] for col in table.values()]))\n",
    "    print(\"\\\\hline\")\n",
    "print(\"\\\\end{tabular}\")\n"
   ]
  },
  {
   "cell_type": "markdown",
   "id": "c00d4a48-9cf3-47c8-a017-367bd0cf22f5",
   "metadata": {
    "tags": []
   },
   "source": [
    "### Estimate Propensity Score (Conditional Density Estimation)\n",
    "- This requires consistent nominal propensity score (p_obs(t|x))\n",
    "- For discrete t, just run kernel logistic regressionregret_kernel"
   ]
  },
  {
   "cell_type": "markdown",
   "id": "86d4e905-c91c-43c7-b967-cc7bcd7103b5",
   "metadata": {},
   "source": [
    "#### Discrete Case"
   ]
  },
  {
   "cell_type": "code",
   "execution_count": null,
   "id": "1d8a554e-b59d-443c-940a-874042c719ad",
   "metadata": {},
   "outputs": [],
   "source": [
    "from sklearn.linear_model import LogisticRegressionCV\n",
    "# from sklearn.metrics import roc_auc_score, make_scorer\n",
    "# roc_auc_score = make_scorer(roc_auc_score, greater_is_better=True, needs_proba=True)\n",
    "\n",
    "model = LogisticRegressionCV().fit(X, T)\n",
    "e_xx = model.predict_proba(X)[:, 1]\n",
    "\n",
    "np.mean(np.abs(e_xx - e_x))"
   ]
  },
  {
   "cell_type": "code",
   "execution_count": null,
   "id": "95f90853-b1ba-4f3f-b164-8f0915553ad2",
   "metadata": {},
   "outputs": [],
   "source": [
    "import optuna\n",
    "from sklearn.decomposition import KernelPCA\n",
    "from sklearn.linear_model import LogisticRegression\n",
    "from sklearn.pipeline import Pipeline\n",
    "from sklearn.model_selection import cross_val_score\n",
    "\n",
    "def objective(trial):\n",
    "    gamma = trial.suggest_float('gamma', 1e-2, 1e+2, log=True)\n",
    "    lambd = trial.suggest_float('lambd', 1e-3, 1e+3, log=True)\n",
    "    model = Pipeline([\n",
    "        ('kpca', KernelPCA(n_components=100, kernel='rbf', gamma=gamma)),\n",
    "        ('LogReg', LogisticRegression(C=1/lambd)),\n",
    "    ])   \n",
    "    cv_scores = cross_val_score(model, X, y=T, cv=4)\n",
    "    return cv_scores.mean()"
   ]
  },
  {
   "cell_type": "code",
   "execution_count": null,
   "id": "95449911-6b00-4578-b005-cdee0526b2c8",
   "metadata": {},
   "outputs": [],
   "source": [
    "study = optuna.create_study(direction='maximize')\n",
    "study.optimize(func=objective, n_trials=100)"
   ]
  },
  {
   "cell_type": "code",
   "execution_count": null,
   "id": "c151c600-9947-43cb-abc1-6e0ce5955f4f",
   "metadata": {},
   "outputs": [],
   "source": [
    "study.best_params"
   ]
  },
  {
   "cell_type": "code",
   "execution_count": null,
   "id": "30624914-027f-4717-9b6b-b693bbf4c235",
   "metadata": {},
   "outputs": [],
   "source": [
    "Z = KernelPCA(n_components=200, kernel='rbf', gamma=0.01).fit_transform(X)\n",
    "model = LogisticRegression(C=5).fit(Z, T)\n",
    "e_xx = model.predict_proba(Z)[:, 1]\n",
    "\n",
    "np.mean(np.abs(e_xx - e_x))"
   ]
  },
  {
   "cell_type": "code",
   "execution_count": null,
   "id": "a8b29946-0d5f-43af-ab66-08693ce19644",
   "metadata": {},
   "outputs": [],
   "source": [
    "np.mean(1 / e_x * T), np.mean(1 / (1 - e_x) * (1 - T)), # both should be 1"
   ]
  },
  {
   "cell_type": "code",
   "execution_count": null,
   "id": "c52a868d-77b7-4f17-ad20-f19fadc1313d",
   "metadata": {},
   "outputs": [],
   "source": [
    "np.mean(1 / e_xx * T), np.mean(1 / (1 - e_xx) * (1 - T)), # both should be 1"
   ]
  },
  {
   "cell_type": "markdown",
   "id": "efc3f9c3-9589-42d7-b680-b3f5a2459f7d",
   "metadata": {},
   "source": [
    "#### Continuous Case (Maybe on the next notebook)"
   ]
  },
  {
   "cell_type": "code",
   "execution_count": null,
   "id": "ec52f0ef-5070-4431-aa95-d34d16532698",
   "metadata": {},
   "outputs": [],
   "source": [
    "from statsmodels.nonparametric.kernel_density import KDEMultivariateConditional"
   ]
  },
  {
   "cell_type": "code",
   "execution_count": null,
   "id": "e7c75871-e5b0-4cf1-80a9-d71179e1e4a9",
   "metadata": {},
   "outputs": [],
   "source": [
    "EPS = 1e-6\n",
    "\n",
    "def benchmark_bandwidth(bw, T, X, cv=5):\n",
    "    n = T.shape[0]\n",
    "    indep_type='c' * X.shape[1]\n",
    "    dep_type='u'\n",
    "    split = (np.arange(n) % 5)\n",
    "    cross_entropy = 0\n",
    "    for i in range(cv):\n",
    "        train = (split != i)\n",
    "        test = (split == i)\n",
    "        model = KDEMultivariateConditional(T[train, None], X[train, :], dep_type='c', indep_type='c' * X.shape[1], bw=bw)\n",
    "        cross_entropy += np.mean(model.pdf(T[test, None], X[test, :]) + EPS) / cv\n",
    "    return cross_entropy"
   ]
  },
  {
   "cell_type": "code",
   "execution_count": null,
   "id": "0601e3f6-4f21-4744-b52d-cff4ed8cf82d",
   "metadata": {},
   "outputs": [],
   "source": [
    "best_scale = 0\n",
    "best_score = - float('inf')\n",
    "for scale in [0.1, 0.2, 0.3, 0.5, 0.7, 1, 1.5, 2, 3, 5]:\n",
    "    bw = scale * np.concatenate([[Y.std()], X.std(axis=0)]) / Y.shape[0] ** (1 / 7)\n",
    "    score = benchmark_bandwidth(bw, Y, X)\n",
    "    if score > best_score:\n",
    "        best_scale = scale\n",
    "        best_score = score"
   ]
  },
  {
   "cell_type": "code",
   "execution_count": null,
   "id": "dcfb74c5-773c-4ba0-8562-d92ebee0bf63",
   "metadata": {},
   "outputs": [],
   "source": [
    "best_scale, best_score"
   ]
  },
  {
   "cell_type": "code",
   "execution_count": null,
   "id": "ad8a2066-614d-4390-bb2b-7730d19ce30b",
   "metadata": {},
   "outputs": [],
   "source": [
    "bw0 = best_scale * np.concatenate([[Y.std()], X.std(axis=0)]) / Y.shape[0] ** (1 / 7)\n",
    "model = KDEMultivariateConditional(Y[:, None], X, dep_type='c', indep_type='c' * X.shape[1], bw=bw0)"
   ]
  },
  {
   "cell_type": "code",
   "execution_count": null,
   "id": "97445cb5-246d-458d-9faa-2af729248646",
   "metadata": {},
   "outputs": [],
   "source": [
    "e_xx = model.pdf(Y[:, None], X)\n",
    "e_xx"
   ]
  },
  {
   "cell_type": "code",
   "execution_count": null,
   "id": "7fc365b9-566e-4dfc-a52f-f9b29cd6a463",
   "metadata": {},
   "outputs": [],
   "source": [
    "plt.hist(e_xx)"
   ]
  },
  {
   "cell_type": "code",
   "execution_count": null,
   "id": "23633bf1-ab0b-407c-8301-e8cac42995b2",
   "metadata": {},
   "outputs": [],
   "source": [
    "model.bw"
   ]
  },
  {
   "cell_type": "code",
   "execution_count": null,
   "id": "8c2e5190-6262-4c27-8ccd-7a44587c0482",
   "metadata": {},
   "outputs": [],
   "source": [
    "[np.mean(1. / e_xx * ((i <= Y) & (Y <= i + 1))) for i in range(7)]  # Should go to 1"
   ]
  },
  {
   "cell_type": "code",
   "execution_count": null,
   "id": "107e61f5-4574-4956-9d01-5c9bba9dd833",
   "metadata": {},
   "outputs": [],
   "source": [
    "# Shouldn't we use loo estimate for propensity? (For reducing the sampling bias)"
   ]
  },
  {
   "cell_type": "code",
   "execution_count": null,
   "id": "3d1c0419-f4b2-4446-ab71-5e6eee188523",
   "metadata": {},
   "outputs": [],
   "source": [
    "model_loocv = KDEMultivariateConditional(Y[:500, None], X[:500], dep_type='c', indep_type='c' * X.shape[1], bw='cv_ml')\n",
    "model_loocv = KDEMultivariateConditional(Y[:, None], X, dep_type='c', indep_type='c' * X.shape[1], bw=model_loocv.bw)\n",
    "model_loocv.pdf(T[:, None], X)"
   ]
  },
  {
   "cell_type": "code",
   "execution_count": null,
   "id": "8a95f284-4895-4f89-911f-a55ee335f215",
   "metadata": {},
   "outputs": [],
   "source": [
    "model_loocv.bw"
   ]
  },
  {
   "cell_type": "code",
   "execution_count": null,
   "id": "b207be7d-493b-4bb7-a554-d15aeeaff518",
   "metadata": {},
   "outputs": [],
   "source": [
    "e_xx = model_loocv.pdf(Y[:, None], X)\n",
    "e_xx"
   ]
  },
  {
   "cell_type": "code",
   "execution_count": null,
   "id": "00379916-a010-4344-acb0-ed140593554b",
   "metadata": {},
   "outputs": [],
   "source": [
    "[np.mean(1. / e_xx * ((i <= Y) & (Y <= i + 1))) for i in range(7)]  # Should go to 1"
   ]
  },
  {
   "cell_type": "code",
   "execution_count": null,
   "id": "63944a93-0dbd-48c3-90c2-36996d39e4ca",
   "metadata": {},
   "outputs": [],
   "source": [
    "Y, T, X, U, e_x, e_xu = generate_data(2000)"
   ]
  },
  {
   "cell_type": "code",
   "execution_count": null,
   "id": "f1fd567f-84fa-49b6-b7da-35c624fab0e4",
   "metadata": {},
   "outputs": [],
   "source": [
    "# Maybe better to use gaussian process regression\n",
    "from sklearn.gaussian_process import GaussianProcessRegressor\n",
    "from sklearn.gaussian_process.kernels import ConstantKernel, WhiteKernel, RBF\n",
    "from scipy.stats import norm\n",
    "\n",
    "kernel = WhiteKernel() + ConstantKernel() * RBF()\n",
    "model = GaussianProcessRegressor(kernel=kernel).fit(X, Y)\n",
    "mu, sigma = model.predict(X, return_std=True)\n",
    "e_xx = norm.pdf(Y, loc=mu, scale=sigma)"
   ]
  },
  {
   "cell_type": "code",
   "execution_count": null,
   "id": "a81897c5-fc21-4a56-883c-5d5ec400d79f",
   "metadata": {},
   "outputs": [],
   "source": [
    "plt.hist(e_xx)"
   ]
  },
  {
   "cell_type": "code",
   "execution_count": null,
   "id": "0a323a80-9992-431d-a38b-37ec4b41aee0",
   "metadata": {},
   "outputs": [],
   "source": [
    "[np.mean(1. / e_xx * ((i <= Y) & (Y <= i + 1))) for i in range(7)]  # Should go to 1"
   ]
  },
  {
   "cell_type": "code",
   "execution_count": null,
   "id": "265b6a80-fba6-4847-a569-c2314db4b076",
   "metadata": {},
   "outputs": [],
   "source": []
  }
 ],
 "metadata": {
  "kernelspec": {
   "display_name": "Python 3",
   "language": "python",
   "name": "python3"
  },
  "language_info": {
   "codemirror_mode": {
    "name": "ipython",
    "version": 3
   },
   "file_extension": ".py",
   "mimetype": "text/x-python",
   "name": "python",
   "nbconvert_exporter": "python",
   "pygments_lexer": "ipython3",
   "version": "3.8.10"
  }
 },
 "nbformat": 4,
 "nbformat_minor": 5
}
