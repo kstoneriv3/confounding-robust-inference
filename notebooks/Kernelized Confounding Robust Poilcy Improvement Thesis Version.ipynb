{
 "cells": [
  {
   "cell_type": "code",
   "execution_count": 1,
   "id": "94f55962-82f5-4afa-ae92-50fa552365c5",
   "metadata": {},
   "outputs": [],
   "source": [
    "import numpy as np\n",
    "#import cvxpy as cp\n",
    "import torch"
   ]
  },
  {
   "cell_type": "code",
   "execution_count": 2,
   "id": "73a7049b-e599-4611-8fdb-6645838e85e3",
   "metadata": {},
   "outputs": [],
   "source": [
    "from scipy.linalg import eigh\n",
    "from scipy.stats import chi2"
   ]
  },
  {
   "cell_type": "code",
   "execution_count": 2,
   "id": "a67d678e-0d10-49ce-bb57-73cf322de723",
   "metadata": {},
   "outputs": [],
   "source": [
    "from matplotlib import pyplot as plt"
   ]
  },
  {
   "cell_type": "code",
   "execution_count": 3,
   "id": "af1a8251-2c6a-41ab-a8d4-f3b262572730",
   "metadata": {},
   "outputs": [],
   "source": [
    "from sklearn.linear_model import LogisticRegressionCV\n",
    "#from sklearn.gaussian_process import GaussianProcessRegressor\n",
    "#from sklearn.decomposition import KernelPCA\n",
    "#from sklearn.gaussian_process.kernels import ConstantKernel, WhiteKernel, RBF\n",
    "#from sklearn.linear_model import QuantileRegressor"
   ]
  },
  {
   "cell_type": "code",
   "execution_count": 4,
   "id": "d320e18a-bc38-466b-b32e-0cdb83534424",
   "metadata": {},
   "outputs": [],
   "source": [
    "import warnings\n",
    "import tqdm"
   ]
  },
  {
   "cell_type": "code",
   "execution_count": 6,
   "id": "c5710715-540a-4927-bb3b-b36406895a8c",
   "metadata": {},
   "outputs": [
    {
     "ename": "ImportError",
     "evalue": "attempted relative import with no known parent package",
     "output_type": "error",
     "traceback": [
      "\u001b[0;31m---------------------------------------------------------------------------\u001b[0m",
      "\u001b[0;31mImportError\u001b[0m                               Traceback (most recent call last)",
      "Input \u001b[0;32mIn [6]\u001b[0m, in \u001b[0;36m<cell line: 1>\u001b[0;34m()\u001b[0m\n\u001b[0;32m----> 1\u001b[0m \u001b[38;5;28;01mfrom\u001b[39;00m \u001b[38;5;21;01m.\u001b[39;00m\u001b[38;5;21;01mmodel\u001b[39;00m \u001b[38;5;28;01mimport\u001b[39;00m ConfoundingRobustEstimator\n",
      "\u001b[0;31mImportError\u001b[0m: attempted relative import with no known parent package"
     ]
    }
   ],
   "source": [
    "from .model import ConfoundingRobustEstimator"
   ]
  },
  {
   "cell_type": "markdown",
   "id": "7ada7874-e869-432d-81a0-d2c99cb26b35",
   "metadata": {},
   "source": [
    "### Synthetic Data from Kallus 2018"
   ]
  },
  {
   "cell_type": "markdown",
   "id": "93507ffa-b1ef-44a2-aee8-75507d28e66e",
   "metadata": {},
   "source": [
    "Notes on data types:\n",
    "\n",
    "- Only use torch tensor for `Y` and `r`\n",
    "- For other data, use numpy array"
   ]
  },
  {
   "cell_type": "code",
   "execution_count": 6,
   "id": "b38da168-0ae9-42ae-91ef-97b8df8c0170",
   "metadata": {},
   "outputs": [],
   "source": [
    "beta0 = 2.5\n",
    "beta0_t = -2\n",
    "beta_x = np.asarray([0, .5, -0.5, 0, 0])\n",
    "beta_x_t = np.asarray([-1.5, 1, -1.5, 1., 0.5])\n",
    "beta_xi = 1\n",
    "beta_xi_t = -2\n",
    "beta_e_x = np.asarray([0, .75, -.5, 0, -1])\n",
    "mu_x = np.asarray([-1, .5, -1, 0, -1]);\n",
    "\n",
    "def generate_data(n):\n",
    "    xi = (np.random.rand(n) > 0.5).astype(int)\n",
    "    X = mu_x[None, :] + np.random.randn(n * 5).reshape(n, 5)\n",
    "    eps = [np.random.randn(n) for t in (0, 1)]\n",
    "    Y = np.array([\n",
    "        X @ (beta_x + beta_x_t * t) + (beta_xi + beta_xi_t * t) * xi + (beta0 + beta0_t * t) + eps[t]\n",
    "        for t in (0, 1)\n",
    "    ])\n",
    "    U = (Y[0, :] > Y[1, :]).astype(int)\n",
    "    z = X @ beta_e_x\n",
    "    e_x = np.exp(z) / (1 + np.exp(z))\n",
    "    e_xu = (6 * e_x) / (4 + 5 * U + e_x * (2 - 5 * U))\n",
    "    T = (np.random.rand(n) < e_xu).astype(int)\n",
    "    Y = Y[T, range(n)]\n",
    "    e_x = e_x * T + (1 - e_x) * (1 - T)\n",
    "    e_xu = e_xu * T + (1 - e_xu) * (1 - T)\n",
    "    return torch.tensor(Y), T, X, U, e_x, e_xu\n",
    "\n",
    "def evaluate_policy(policy, n=1000):\n",
    "    xi = (np.random.rand(n) > 0.5).astype(int)\n",
    "    X = mu_x[None, :] + np.random.randn(n * 5).reshape(n, 5)\n",
    "    eps = [np.random.randn(n) for t in (0, 1)]\n",
    "    Y = np.array([\n",
    "        X @ (beta_x + beta_x_t * t) + (beta_xi + beta_xi_t * t) * xi + (beta0 + beta0_t * t) + eps[t]\n",
    "        for t in (0, 1)\n",
    "    ])\n",
    "    Y = torch.as_tensor(Y)\n",
    "    pi = policy(X)\n",
    "    Y = torch.sum(Y.T * pi, axis=1)\n",
    "    return Y.mean()"
   ]
  },
  {
   "cell_type": "code",
   "execution_count": 153,
   "id": "f6ea120d-205b-4b54-aaab-754577efd08d",
   "metadata": {},
   "outputs": [],
   "source": [
    "beta0 = 2.5\n",
    "beta0_t = -2\n",
    "beta_x = np.asarray([0, .5, -0.5, 0, 0])\n",
    "beta_x_t = np.asarray([-1.5, 1, -1.5, 1., 0.5])\n",
    "beta_xi = 1\n",
    "beta_xi_t = -2\n",
    "beta_e_x = np.asarray([0, .75, -.5, 0, -1])\n",
    "mu_x = np.asarray([-1, .5, -1, 0, -1]);\n",
    "\n",
    "def generate_data_continuous(n):\n",
    "    xi = (np.random.rand(n) > 0.5).astype(int)\n",
    "    X = mu_x[None, :] + np.random.randn(n * 5).reshape(n, 5)\n",
    "    eps = [np.random.randn(n) for t in (0, 1)]\n",
    "    Y = np.array([\n",
    "        X @ (beta_x + beta_x_t * t) + (beta_xi + beta_xi_t * t) * xi + (beta0 + beta0_t * t) + eps[t]\n",
    "        for t in (0, 1)\n",
    "    ])\n",
    "    U = (Y[0, :] > Y[1, :]).astype(int)\n",
    "    z = X @ beta_e_x\n",
    "    e_x = np.exp(z) / (1 + np.exp(z))\n",
    "    mu_xu = (6 * e_x) / (4 + 5 * U + e_x * (2 - 5 * U))\n",
    "    mu_xu = np.clip(mu_xu, 1e-6, 1 - 1e-6)\n",
    "    unif = np.random.rand(n)\n",
    "    a, b = 4 * mu_xu + 1, 4 * (1 - mu_xu) + 1\n",
    "    T = (1 - ber) * beta.rvs(a, b) + ber * unif\n",
    "    e_xu = beta.pdf(T, a, b)\n",
    "    Y = (1 - T) * Y[0, :] + T * Y[1, :]\n",
    "    Y = torch.as_tensor(Y)\n",
    "    return Y, T, X, U, e_x, e_xu\n",
    "\n",
    "def evaluate_policy_continuous(policy, n=1000, requires_grad=False):\n",
    "    xi = (np.random.rand(n) > 0.5).astype(int)\n",
    "    X = mu_x[None, :] + np.random.randn(n * 5).reshape(n, 5)\n",
    "    eps = [np.random.randn(n) for t in (0, 1)]\n",
    "    Y = np.array([\n",
    "        X @ (beta_x + beta_x_t * t) + (beta_xi + beta_xi_t * t) * xi + (beta0 + beta0_t * t) + eps[t]\n",
    "        for t in (0, 1)\n",
    "    ])\n",
    "    T = policy(X).rsample() if requires_grad else policy(X).sample()\n",
    "    Y = torch.as_tensor(Y) if isinstance(T, torch.Tensor) else Y\n",
    "    Y = (1 - T) * Y[0, :] + T * Y[1, :]\n",
    "    return Y.mean()"
   ]
  },
  {
   "cell_type": "code",
   "execution_count": 7,
   "id": "26eaf456-9e01-40a2-8687-9f6cf9d8f84f",
   "metadata": {},
   "outputs": [],
   "source": [
    "n = 1000\n",
    "np.random.seed(0)\n",
    "Y, T, X, U, e_x, e_xu = generate_data(n)"
   ]
  },
  {
   "cell_type": "code",
   "execution_count": 8,
   "id": "b14c0b72-5f51-4cfe-b369-81009ea78236",
   "metadata": {},
   "outputs": [],
   "source": [
    "def toy_policy(X):\n",
    "    z = torch.as_tensor(X) @ torch.as_tensor(beta_e_x)\n",
    "    e_x = torch.exp(z) / (1 + torch.exp(z))\n",
    "    return torch.stack([e_x, 1. - e_x]).T\n",
    "\n",
    "# def zero_policy(X):\n",
    "#    return np.zeros(X.shape[0], dtype=int)"
   ]
  },
  {
   "cell_type": "markdown",
   "id": "6d91b40e-adfd-4007-b14d-8fd67a3a233a",
   "metadata": {},
   "source": [
    "### Estimate Propensity Score (Conditional Density Estimation)"
   ]
  },
  {
   "cell_type": "markdown",
   "id": "8f276ca6-14ec-4bfd-b443-5681aebb868d",
   "metadata": {},
   "source": [
    "#### Discrete Case"
   ]
  },
  {
   "cell_type": "code",
   "execution_count": 9,
   "id": "430a6dbf-80b0-45a9-8c32-3aac778bae9f",
   "metadata": {},
   "outputs": [
    {
     "data": {
      "text/plain": [
       "0.04417433219435932"
      ]
     },
     "execution_count": 9,
     "metadata": {},
     "output_type": "execute_result"
    }
   ],
   "source": [
    "# Logistic regression is already quite good\n",
    "\n",
    "model = LogisticRegressionCV().fit(X, T)\n",
    "e_xx = model.predict_proba(X)[range(n), T]\n",
    "\n",
    "np.mean(np.abs(e_xx - e_xu))"
   ]
  },
  {
   "cell_type": "code",
   "execution_count": 10,
   "id": "b0d55bf4-131e-48b9-9c5d-33567963583a",
   "metadata": {},
   "outputs": [],
   "source": [
    "p_t = e_xx"
   ]
  },
  {
   "cell_type": "markdown",
   "id": "d32ae6b5-a553-4938-b801-507577fbd957",
   "metadata": {},
   "source": [
    "### Ground Truth"
   ]
  },
  {
   "cell_type": "code",
   "execution_count": 11,
   "id": "01b93677-0b48-4c01-ac31-5d3512df0256",
   "metadata": {},
   "outputs": [
    {
     "data": {
      "text/plain": [
       "tensor(3.6258, dtype=torch.float64)"
      ]
     },
     "execution_count": 11,
     "metadata": {},
     "output_type": "execute_result"
    }
   ],
   "source": [
    "evaluate_policy(toy_policy, n=1000000)"
   ]
  },
  {
   "cell_type": "markdown",
   "id": "192be7f4-218c-438b-936e-1fb36b12d858",
   "metadata": {
    "tags": []
   },
   "source": [
    "### IPW estimator"
   ]
  },
  {
   "cell_type": "code",
   "execution_count": 12,
   "id": "6fb022c7-b509-4806-91ad-d0ea9d033f47",
   "metadata": {},
   "outputs": [],
   "source": [
    "def IPW(Y, T, X, p_t, policy):\n",
    "    n = p_t.shape[0]\n",
    "    r = Y * policy(X)[range(n), T]\n",
    "    est = torch.mean(r / torch.as_tensor(p_t))\n",
    "    return est"
   ]
  },
  {
   "cell_type": "code",
   "execution_count": 13,
   "id": "9122f446-64b0-4136-8e5e-f9a88dffbef4",
   "metadata": {},
   "outputs": [],
   "source": [
    "est_ipw = IPW(Y, T, X, p_t, toy_policy)"
   ]
  },
  {
   "cell_type": "code",
   "execution_count": 14,
   "id": "706245b2-acee-48fb-913c-0806dc1eddc0",
   "metadata": {},
   "outputs": [
    {
     "data": {
      "text/plain": [
       "tensor(3.4380, dtype=torch.float64)"
      ]
     },
     "execution_count": 14,
     "metadata": {},
     "output_type": "execute_result"
    }
   ],
   "source": [
    "est_ipw"
   ]
  },
  {
   "cell_type": "markdown",
   "id": "4d6b579c-ada1-43bb-8891-69257462c55a",
   "metadata": {
    "tags": []
   },
   "source": [
    "### Hajek estimator"
   ]
  },
  {
   "cell_type": "code",
   "execution_count": 15,
   "id": "df4d1e77-7ba8-4144-aab6-1fc0e93a920c",
   "metadata": {},
   "outputs": [],
   "source": [
    "def Hajek(Y, T, X, p_t, policy, return_w=False):\n",
    "    n = p_t.shape[0]\n",
    "    r = Y * policy(X)[range(n), T]\n",
    "    p_t_new = np.empty_like(p_t)\n",
    "    for t in set(T):\n",
    "        p_t_new[T==t] = p_t[T==t] * np.mean((T==t) / p_t)\n",
    "    est = torch.mean(r / torch.as_tensor(p_t_new))\n",
    "    return est"
   ]
  },
  {
   "cell_type": "code",
   "execution_count": 16,
   "id": "1c618850-7e54-465a-b6a5-ca99df3785ec",
   "metadata": {},
   "outputs": [],
   "source": [
    "est_hajek = Hajek(Y, T, X, p_t, toy_policy)"
   ]
  },
  {
   "cell_type": "code",
   "execution_count": 17,
   "id": "adb254d9-1a16-452b-9c98-8b02a2abe850",
   "metadata": {},
   "outputs": [
    {
     "data": {
      "text/plain": [
       "tensor(3.7397, dtype=torch.float64)"
      ]
     },
     "execution_count": 17,
     "metadata": {},
     "output_type": "execute_result"
    }
   ],
   "source": [
    "est_hajek"
   ]
  },
  {
   "cell_type": "markdown",
   "id": "1850ff26-d019-4d86-bf76-b4cbef1cfc92",
   "metadata": {},
   "source": [
    "### Implement Confounding Robust Inference"
   ]
  },
  {
   "cell_type": "code",
   "execution_count": 37,
   "id": "d9617745-3fc7-4206-9db5-4f4417b283b5",
   "metadata": {},
   "outputs": [],
   "source": [
    "def confoundingRobustEstimator(\n",
    "    Y, T, X, p_t, policy,\n",
    "    D=200,\n",
    "    lambd=1.5, \n",
    "    gamma=0.5,\n",
    "    alpha=0.05,\n",
    "    kernel=RBF(),\n",
    "    sigma2=1.0,\n",
    "    hard_kernel_const=False,\n",
    "    f_divergence='KL', \n",
    "    hajek_const=False,\n",
    "    kernel_const=False,\n",
    "    quantile_const=False,\n",
    "    tan_box_const=False,\n",
    "    lr_box_const=False,\n",
    "    f_const=False,\n",
    "    return_w=False,\n",
    "):\n",
    "    n = T.shape[0]\n",
    "    pi = policy(X)[range(n), T] \n",
    "    r = Y * pi\n",
    "    Y_np, r_np, pi_np = map(lambda tensor: tensor.data.numpy(), (Y, r, pi))\n",
    "    \n",
    "    p_t_original = p_t\n",
    "    p_t = normalize_p_t(p_t, T)  # normalization for simply guaranteeing the feasibility for Hajek constraints\n",
    "        \n",
    "    with warnings.catch_warnings():  # to avoid user warning about multiplication operator with `*` and `@`\n",
    "        warnings.simplefilter(\"ignore\")\n",
    "        w = cp.Variable(n)\n",
    "        constraints = [np.zeros(n) <= w]\n",
    "        if hajek_const:\n",
    "            constraints.extend(get_hajek_constraint(w, T, p_t))\n",
    "        if kernel_const:\n",
    "            constraints.extend(get_kernel_constraint(w, T, X, p_t, alpha, sigma2, kernel, D, hard_kernel_const))\n",
    "        if quantile_const:\n",
    "            assert f_const == False, \"quantile constraint is only for box constraints\"\n",
    "            constraints.extend(get_quantile_constraint(w, Y_np, pi_np, T, X, p_t, lambd))\n",
    "        if tan_box_const:\n",
    "            constraints.extend(get_tan_box_constraint(w, p_t, p_t_original, lambd))\n",
    "        if lr_box_const:\n",
    "            constraints.extend(get_likelihood_ratio_box_constraint(w, p_t, lambd))\n",
    "        if f_const:\n",
    "            constraints.extend(get_f_constraint(w, p_t, gamma, f_divergence))\n",
    "            constraints.append(cp.sum(-cp.log(w * p_t)) <= 0.1)\n",
    "        objective = cp.Minimize(cp.sum(r_np * w))\n",
    "        problem = cp.Problem(objective, constraints)\n",
    "        problem.solve(solver=cp.MOSEK if f_const else cp.ECOS)\n",
    "        \n",
    "        print(problem.status)\n",
    "    w = w.value\n",
    "    est = torch.mean(torch.as_tensor(w) * r)\n",
    "    return (est, w) if return_w else est\n",
    "\n",
    "def normalize_p_t(p_t, T):\n",
    "    p_t_new = np.empty_like(p_t)\n",
    "    for t in set(T):\n",
    "        p_t_new[T==t] = p_t[T==t] * np.mean((T==t) / p_t)\n",
    "    return p_t_new\n",
    "\n",
    "def fit_gp_kernel(Y, T, X):\n",
    "    TX = np.concatenate([T[:, None], X], axis=1)\n",
    "    TX /= TX.std(axis=0)[None, :]\n",
    "    kernel = WhiteKernel() + ConstantKernel() * RBF()\n",
    "    model = GaussianProcessRegressor(kernel=kernel).fit(TX[:1000], Y[:1000])\n",
    "    return model.kernel_\n",
    "\n",
    "def get_hajek_constraint(w, T, p_t):\n",
    "    n = T.shape[0]\n",
    "    constraints = []\n",
    "    for t in set(T):\n",
    "        constraints.append(cp.sum(w[T==t]) == n)\n",
    "    return constraints\n",
    "\n",
    "def get_kernel_constraint(w, T, X, p_t, alpha, sigma2, kernel, D, hard_kernel_const):\n",
    "    n = T.shape[0]\n",
    "    D = min(D, n)\n",
    "    M, u, Cov_z, D = getGPQC(T, X, p_t, D, sigma2, kernel)\n",
    "    chi2_bound = chi2(df=D).ppf(1 - alpha)\n",
    "    \n",
    "    z = cp.Variable(D)\n",
    "    if hard_kernel_const:\n",
    "        constraints = [np.zeros(D) ==  M @ w - u]\n",
    "    else:\n",
    "        constraints = [\n",
    "            z == M @ w - u,\n",
    "            cp.sum(z ** 2 / Cov_z) <= chi2_bound,\n",
    "        ]\n",
    "    return constraints\n",
    "\n",
    "def getGPQC(T, X, p_t, D, sigma2, kernel):\n",
    "    n = T.shape[0]\n",
    "    TX = np.concatenate([T[:, None], X], axis=1)\n",
    "    TX /= TX.std(axis=0)[None, :]\n",
    "    K = kernel(TX, TX)\n",
    "    S, V = eigh(K, subset_by_index=[n - D, n-1])\n",
    "    S, V = cutoff_neg_eigvals(S, V)\n",
    "    \n",
    "    M = np.diag(S / (S + sigma2)) @ V.T @ np.diag(p_t)\n",
    "    u = np.diag(S / (S + sigma2)) @ V.T @ np.ones(n)\n",
    "    Cov_z = S - S ** 2 / (S + sigma2)\n",
    "\n",
    "    return M, u, Cov_z, u.shape[0]\n",
    "\n",
    "def cutoff_neg_eigvals(S, V):\n",
    "    V = V[:, S > 1e-6]\n",
    "    S = S[S > 1e-6]\n",
    "    return S, V\n",
    "\n",
    "def get_quantile_constraint(w, Y_np, pi_np, T, X, p_t, lambd):\n",
    "    USE_KERNEL = False\n",
    "    n = T.shape[0]\n",
    "    TX = np.concatenate([T[:, None], X], axis=1)\n",
    "    TX /= TX.std(axis=0)[None, :]\n",
    "    if USE_KERNEL:\n",
    "        kernel = fit_gp_kernel(Y, T, X)\n",
    "        TX = KernelPCA(30).fit_transform(TX)\n",
    "    Q = QuantileRegressor(quantile=1. / (lambd + 1), alpha=0.).fit(TX, Y).predict(TX) # any regressor will do, \n",
    "    ### Carveat: np.ones(n) * w is NOT the element-wise product in cvxpy!!!\n",
    "    return [cp.scalar_product(pi_np * Q, w) == np.sum(pi_np * Q / p_t)]\n",
    "\n",
    "def get_tan_box_constraint(w, p_t, p_t_original, lambd):\n",
    "    # p_t does not always satisfy p_t < 1, therefore, we use p_t_original\n",
    "    # to construct box constraint for w_original and rescale it for w.\n",
    "    a_original = 1 + 1 / lambd * (1 / p_t_original - 1)\n",
    "    b_original = 1 + lambd * (1 / p_t_original - 1)\n",
    "    a = a_original * p_t_original / p_t\n",
    "    b = b_original * p_t_original / p_t\n",
    "    return [a <= w, w <= b]\n",
    "\n",
    "def get_likelihood_ratio_box_constraint(w, p_t, lambd):\n",
    "    a = 1 / (lambd * p_t)\n",
    "    b = lambd / p_t\n",
    "    return [a <= w, w <= b]\n",
    "\n",
    "def get_f_constraint(w, p_t, gamma, f):\n",
    "    EPS = 1e-4\n",
    "    n = p_t.shape[0]\n",
    "    f = {\n",
    "        'KL': lambda u: - cp.entr(u),\n",
    "        'inverse KL': lambda u: - cp.log(u),\n",
    "        'Jensen-Shannon': lambda u: - 0.5 * (cp.entr(u) + cp.log(u)),\n",
    "        'squared Hellinger': lambda u: u - 2 * cp.sqrt(u) + 1,\n",
    "        'Pearson chi squared': lambda u: cp.square(u) - 1,\n",
    "        'Neyman chi squared': lambda u: cp.inv_pos(u) - 1,\n",
    "        'total variation': lambda u: 0.5 * cp.abs(u - 1),\n",
    "    }[f]\n",
    "    ### Carveat: np.ones(n) * w is NOT the element-wise product in cvxpy!!!\n",
    "    constraints = [\n",
    "        cp.sum(f(cp.multiply(w, p_t))) <= gamma * n,\n",
    "        #cp.sum(-cp.log(cp.multiply(w, p_t))) <= 0.1,\n",
    "        cp.scalar_product(w, p_t) == n,\n",
    "        #EPS * np.ones(n) <= w,\n",
    "    ]\n",
    "    return constraints"
   ]
  },
  {
   "cell_type": "markdown",
   "id": "fb1b0cad-426b-4cfc-9cfb-f2619b05ccf0",
   "metadata": {},
   "source": [
    "x = cp.Variable(10)\n",
    "objective = cp.Minimize(cp.sum(np.arange(10) * x))\n",
    "constraints = [np.zeros(10) <= x, cp.sum(x) == 10, cp.sum(-cp.log(np.ones(10) * x)) <= 1]\n",
    "problem = cp.Problem(objective, constraints)\n",
    "problem.solve()"
   ]
  },
  {
   "cell_type": "code",
   "execution_count": null,
   "id": "2279b1ae-b1e1-404f-91f7-367a125bbec6",
   "metadata": {},
   "outputs": [],
   "source": [
    "{\n",
    "    'KL': lambda u: - cp.entr(u),\n",
    "    'inverse KL': lambda u: - cp.log(u),\n",
    "    'Jensen-Shannon': lambda u: - 0.5 * (cp.entr(u) + cp.log(u)),\n",
    "    'squared Hellinger': lambda u: u - 2 * cp.sqrt(u) + 1,\n",
    "    'Pearson chi squared': lambda u: cp.square(u) - 1,\n",
    "    'Neyman chi squared': lambda u: cp.inv_pos(u) - 1,\n",
    "    'total variation': lambda u: 0.5 * cp.abs(u - 1),\n",
    "}"
   ]
  },
  {
   "cell_type": "code",
   "execution_count": 151,
   "id": "7712c45d-7536-462b-bff4-9168345a08f9",
   "metadata": {},
   "outputs": [
    {
     "name": "stdout",
     "output_type": "stream",
     "text": [
      "optimal\n"
     ]
    }
   ],
   "source": [
    "est, w = confoundingRobustEstimator(\n",
    "    Y, T, X, p_t, toy_policy,\n",
    "    D=200,\n",
    "    lambd=1.5, \n",
    "    gamma=0.01,\n",
    "    alpha=0.05,\n",
    "    hard_kernel_const=False,\n",
    "    f_divergence='total variation', \n",
    "    hajek_const=True,\n",
    "    kernel_const=False,\n",
    "    quantile_const=False,\n",
    "    tan_box_const=False,\n",
    "    lr_box_const=True,\n",
    "    f_const=False,\n",
    "    return_w=True\n",
    ")"
   ]
  },
  {
   "cell_type": "code",
   "execution_count": 152,
   "id": "8c141267-1182-4a0b-8e50-f981432d52f7",
   "metadata": {},
   "outputs": [
    {
     "data": {
      "text/plain": [
       "tensor(3.0305, dtype=torch.float64)"
      ]
     },
     "execution_count": 152,
     "metadata": {},
     "output_type": "execute_result"
    }
   ],
   "source": [
    "est"
   ]
  },
  {
   "cell_type": "code",
   "execution_count": 148,
   "id": "c1cf145b-9b47-4d01-8763-9340ea6b5940",
   "metadata": {},
   "outputs": [
    {
     "data": {
      "text/plain": [
       "(3.8456605667492336e-12, 207.97611535197518)"
      ]
     },
     "execution_count": 148,
     "metadata": {},
     "output_type": "execute_result"
    }
   ],
   "source": [
    "min(w), max(w)"
   ]
  },
  {
   "cell_type": "code",
   "execution_count": 125,
   "id": "6b76bf18-e762-4200-b0ea-391a8f8a9907",
   "metadata": {},
   "outputs": [
    {
     "data": {
      "text/plain": [
       "tensor(3.7397, dtype=torch.float64)"
      ]
     },
     "execution_count": 125,
     "metadata": {},
     "output_type": "execute_result"
    }
   ],
   "source": [
    "est_hajek"
   ]
  },
  {
   "cell_type": "code",
   "execution_count": 120,
   "id": "386679c6-2904-4367-ad65-e4443b64ce2e",
   "metadata": {},
   "outputs": [
    {
     "data": {
      "text/plain": [
       "tensor(3.1208, dtype=torch.float64)"
      ]
     },
     "execution_count": 120,
     "metadata": {},
     "output_type": "execute_result"
    }
   ],
   "source": [
    "est"
   ]
  },
  {
   "cell_type": "code",
   "execution_count": 115,
   "id": "86e11c9e-c0e3-4dc6-81bc-6a05d31a7805",
   "metadata": {},
   "outputs": [
    {
     "data": {
      "text/plain": [
       "(999.9999992247955, 3.497439249513266)"
      ]
     },
     "execution_count": 115,
     "metadata": {},
     "output_type": "execute_result"
    }
   ],
   "source": [
    "p_t_ = normalize_p_t(p_t, T)\n",
    "sum(w * p_t_), max(-np.log(w * p_t_))"
   ]
  },
  {
   "cell_type": "code",
   "execution_count": 116,
   "id": "8eafdd0f-f41c-438f-bcc5-e29d86283325",
   "metadata": {},
   "outputs": [
    {
     "data": {
      "text/plain": [
       "False"
      ]
     },
     "execution_count": 116,
     "metadata": {},
     "output_type": "execute_result"
    }
   ],
   "source": [
    "cp.sum(-cp.log(w * p_t)).value <= 0.1"
   ]
  },
  {
   "cell_type": "code",
   "execution_count": 50,
   "id": "2443b824-406e-4488-b52f-e24fd66c1ca9",
   "metadata": {},
   "outputs": [
    {
     "name": "stdout",
     "output_type": "stream",
     "text": [
      "optimal\n"
     ]
    }
   ],
   "source": [
    "# Guessing kernel with approximate solution\n",
    "_, w_guess = confoundingRobustEstimator(\n",
    "    Y, T, X, p_t, toy_policy, lambd=1.5,\n",
    "    hajek_const=True, tan_box_const=True, return_w=True,\n",
    ")\n",
    "e_guess = p_t * w_guess - 1\n",
    "gp_kernel = fit_gp_kernel(e_guess, T, X)\n",
    "sigma2 = gp_kernel.k1.noise_level\n",
    "kernel = gp_kernel.k2"
   ]
  },
  {
   "cell_type": "code",
   "execution_count": 315,
   "id": "ee53d235-48b9-4055-aede-cbe679245fa7",
   "metadata": {},
   "outputs": [
    {
     "name": "stdout",
     "output_type": "stream",
     "text": [
      "optimal\n"
     ]
    }
   ],
   "source": [
    "est = confoundingRobustEstimator(\n",
    "    Y, T, X, p_t, toy_policy,\n",
    "    D=200,\n",
    "    lambd=1.5, \n",
    "    gamma=0.5,\n",
    "    alpha=0.05,\n",
    "    sigma2=sigma2,\n",
    "    kernel=kernel,\n",
    "    hard_kernel_const=False,\n",
    "    f_divergence='KL', \n",
    "    hajek_const=True,\n",
    "    kernel_const=True,\n",
    "    quantile_const=False,\n",
    "    tan_box_const=True,\n",
    "    lr_box_const=False,\n",
    "    f_const=False,\n",
    ")"
   ]
  },
  {
   "cell_type": "code",
   "execution_count": 316,
   "id": "809487d0-78fb-439c-8bae-13ffb94c6dee",
   "metadata": {},
   "outputs": [
    {
     "data": {
      "text/plain": [
       "tensor(3.3533, dtype=torch.float64)"
      ]
     },
     "execution_count": 316,
     "metadata": {},
     "output_type": "execute_result"
    }
   ],
   "source": [
    "est"
   ]
  },
  {
   "cell_type": "markdown",
   "id": "ac3138ac-0869-4c1a-a669-6fa3bcb5a493",
   "metadata": {},
   "source": [
    "def get_sigma2(p_t, p_t_original, lambd, tan_box_const, lr_box_const):\n",
    "    # heuristically decide sigma2\n",
    "    SCALE = 0.1  # <= 1, when chosen to be 1.0, it gives theoeretical upper bound\n",
    "    sigma2 = float('inf')\n",
    "    if tan_box_const:\n",
    "        a_original = 1 + 1 / lambd * (1 / p_t_original - 1)\n",
    "        b_original = 1 + lambd * (1 / p_t_original - 1)\n",
    "        a = a_original * p_t_original / p_t\n",
    "        b = b_original * p_t_original / p_t\n",
    "        sigma2 = min(sigma2, np.mean((0.5 * (b - a) * p_t) ** 2))\n",
    "    if lr_box_const:\n",
    "        sigma2 = min(sigma2, np.mean((0.5 * (lambd - 1. / lambd)) ** 2))\n",
    "    if sigma2 == float('inf'):\n",
    "        sigma2 = 1.0   # just a guess\n",
    "    return SCALE * sigma2"
   ]
  },
  {
   "cell_type": "code",
   "execution_count": 136,
   "id": "9d67fbd8-bca2-4003-8305-82b39f9474d4",
   "metadata": {},
   "outputs": [],
   "source": [
    "def confoundingRobustHajek(r, T, a, b, return_w=False):\n",
    "    r_np = r.data.numpy()\n",
    "    w = np.zeros_like(a)\n",
    "    for t in set(T):\n",
    "        r_t = r_np[T == t]\n",
    "        a_t = a[T == t]\n",
    "        b_t = b[T == t]\n",
    "        with warnings.catch_warnings():  # to avoid user warning about multiplication operator with `*` and `@`\n",
    "            warnings.simplefilter(\"ignore\")\n",
    "            w[T == t] = hajekLP(r_t, a_t, b_t, r.shape[0])\n",
    "    if isinstance(r, torch.Tensor):\n",
    "        est = torch.mean(torch.as_tensor(w) * r)\n",
    "    else:\n",
    "        est = np.mean(w * r_np)\n",
    "    return (est, w) if return_w else est\n",
    "\n",
    "def hajekLP(r, a, b, n):\n",
    "    m = r.shape[0]\n",
    "    w = cp.Variable(m)\n",
    "    phi = cp.Variable()\n",
    "    constraints = [\n",
    "        np.zeros(m) <= w,\n",
    "        0 <= phi,\n",
    "        a * phi <= w,\n",
    "        w <= b * phi,\n",
    "        cp.sum(w) == n\n",
    "    ]\n",
    "    objective = cp.Minimize(cp.sum(r * w))\n",
    "    problem = cp.Problem(objective, constraints)\n",
    "    problem.solve()\n",
    "    return w.value"
   ]
  },
  {
   "cell_type": "code",
   "execution_count": 137,
   "id": "48c91286-0443-468d-a2f9-b8ad0c72b4fb",
   "metadata": {},
   "outputs": [],
   "source": [
    "def get_a_b(p_t, gamma):\n",
    "    a = 1 + 1 / gamma * (1 / p_t - 1)\n",
    "    b = 1 + gamma * (1 / p_t - 1)\n",
    "    return a, b"
   ]
  },
  {
   "cell_type": "code",
   "execution_count": 138,
   "id": "4c9ffc52-aee3-4c12-9da7-8270acb862c4",
   "metadata": {},
   "outputs": [],
   "source": [
    "p_t = e_x\n",
    "a, b = get_a_b(e_x, 1.5)"
   ]
  },
  {
   "cell_type": "code",
   "execution_count": 139,
   "id": "889a7d93-b850-4776-9032-3b6e82c1dced",
   "metadata": {},
   "outputs": [],
   "source": [
    "n = T.shape[0]\n",
    "policy_prob = toy_policy(X)[range(n), T]"
   ]
  },
  {
   "cell_type": "code",
   "execution_count": 140,
   "id": "6df2dcbd-4d55-4a9b-adee-952985ba84ed",
   "metadata": {},
   "outputs": [],
   "source": [
    "est, w = confoundingRobustHajek(torch.as_tensor(Y) * policy_prob, T, a, b, return_w=True)"
   ]
  },
  {
   "cell_type": "code",
   "execution_count": 141,
   "id": "de57e7de-22c2-4e12-ad09-2c887d747feb",
   "metadata": {},
   "outputs": [
    {
     "data": {
      "text/plain": [
       "tensor(3.3490, dtype=torch.float64)"
      ]
     },
     "execution_count": 141,
     "metadata": {},
     "output_type": "execute_result"
    }
   ],
   "source": [
    "est"
   ]
  },
  {
   "cell_type": "code",
   "execution_count": 142,
   "id": "48ee3f51-3cf3-4fbd-924b-43b682efc447",
   "metadata": {},
   "outputs": [],
   "source": [
    "differentiable_r = torch.tensor(np.random.randn(T.shape[0]), requires_grad=True)\n",
    "est, w = confoundingRobustHajek(differentiable_r, T, a, b, return_w=True)"
   ]
  },
  {
   "cell_type": "code",
   "execution_count": 143,
   "id": "8f1ddc5a-0a92-40ca-90fe-bd2e89df6221",
   "metadata": {},
   "outputs": [],
   "source": [
    "est.backward()"
   ]
  },
  {
   "cell_type": "code",
   "execution_count": 144,
   "id": "898fabe0-5840-4a5d-bf1b-f7ffabeed871",
   "metadata": {},
   "outputs": [
    {
     "data": {
      "text/plain": [
       "True"
      ]
     },
     "execution_count": 144,
     "metadata": {},
     "output_type": "execute_result"
    }
   ],
   "source": [
    "torch.allclose(differentiable_r.grad, torch.as_tensor(w / n))"
   ]
  },
  {
   "cell_type": "markdown",
   "id": "cd32558c-cdd0-4263-a9a6-e4ad83f5a0b5",
   "metadata": {},
   "source": [
    "### Implement Confounding Robust Kernel Estimator"
   ]
  },
  {
   "cell_type": "code",
   "execution_count": 146,
   "id": "1940c7f4-d4e6-4725-b75b-0b9912e60d0a",
   "metadata": {},
   "outputs": [],
   "source": [
    "def confoundingRobustKernel(\n",
    "    r, T, X, a, b, p_t, lambd=None, kernel=None, \n",
    "    *,\n",
    "    alpha=0.01, return_w=False, rank_constraints=100, \n",
    "    use_hajek_constraints=True, hard_constraint=False, \n",
    "):\n",
    "    r_np = r.data.numpy() if isinstance(r, torch.Tensor) else r\n",
    "    rank_constraints = min(rank_constraints, n)\n",
    "    with warnings.catch_warnings():\n",
    "        warnings.simplefilter(\"ignore\")\n",
    "        if use_hajek_constraints:\n",
    "            w = binaryKernelLP(r_np, T, X, a, b, p_t, lambd, kernel, alpha, rank_constraints)\n",
    "        else:\n",
    "            w = KernelLP(r_np, T, X, a, b, p_t, lambd, kernel, alpha, rank_constraints, hard_constraint)\n",
    "    if isinstance(r, torch.Tensor):\n",
    "        est = torch.mean(torch.as_tensor(w) * r)\n",
    "    else:\n",
    "        est = np.mean(w * r_np)\n",
    "    return (est, w) if return_w else est\n",
    "\n",
    "\n",
    "def binaryKernelLP(r, T, X, a, b, p_t, lambd, kernel, alpha, rank_constraints):\n",
    "    n = r.shape[0]\n",
    "    assert rank_constraints <= n\n",
    "    TX = np.concatenate([T[:, None], X], axis=1)\n",
    "    _, w = confoundingRobustHajek(r, T, a, b, return_w=True)\n",
    "    e = w * p_t - 1\n",
    "    if not lambd or not kernel:\n",
    "        kernel_ = WhiteKernel() + ConstantKernel() * RBF()\n",
    "        model = GaussianProcessRegressor(kernel=kernel_).fit(TX[:1000], e[:1000])\n",
    "        lambd = model.kernel_.k1.noise_level\n",
    "        kernel = model.kernel_.k2\n",
    "        \n",
    "    K = kernel(TX, TX)\n",
    "    S, V = eigh(K, subset_by_index=[n-rank_constraints, n-1])\n",
    "    \n",
    "    w = cp.Variable(n)\n",
    "    phi0 = cp.Variable()\n",
    "    phi1 = cp.Variable()\n",
    "    z = cp.Variable(rank_constraints)  # low-rank expression of error\n",
    "\n",
    "    p_t_scaled = np.zeros_like(p_t)\n",
    "    p_t_scaled[T == 0] = p_t[T == 0] * np.mean((1 - T) / p_t)\n",
    "    p_t_scaled[T == 1] = p_t[T == 1] * np.mean(T / p_t)\n",
    "\n",
    "    M = np.diag(S / (S + lambd)) @ V.T @ np.diag(p_t_scaled)\n",
    "    u = np.diag(S / (S + lambd)) @ V.T @ np.ones(n)\n",
    "\n",
    "    Cov_z = S - S ** 2 / (S + lambd)\n",
    "    chi2_bound = chi2(df=rank_constraints).ppf(1 - alpha)\n",
    "\n",
    "    constraints = [\n",
    "        np.zeros(n) <= w,\n",
    "        0 <= phi0,\n",
    "        0 <= phi1,\n",
    "        a * (1 - T) * phi0 + a * T * phi1 <= w,\n",
    "        w <= b * (1 - T) * phi0 + b * T * phi1,\n",
    "        cp.sum(w * (1 - T)) == n,\n",
    "        cp.sum(w * T) == n,\n",
    "        z == M @ w - u,\n",
    "        cp.sum(z ** 2 / Cov_z) <= chi2_bound,\n",
    "    ]\n",
    "    objective = cp.Minimize(cp.sum(r * w))\n",
    "    problem = cp.Problem(objective, constraints)\n",
    "    problem.solve()\n",
    "    \n",
    "    return w.value\n",
    "\n",
    "\n",
    "def KernelLP(r, T, X, a, b, p_t, lambd, kernel, alpha, rank_constraints, hard_constraint):\n",
    "    n = r.shape[0]\n",
    "    assert rank_constraints <= n\n",
    "\n",
    "    M, u, Cov_z, rank_constraints = getGPQC(r, T, X, a, b, p_t, rank_constraints, lambd, kernel)\n",
    "    chi2_bound = chi2(df=rank_constraints).ppf(1 - alpha)\n",
    "    \n",
    "    w = cp.Variable(n)\n",
    "    z = cp.Variable(rank_constraints)\n",
    "\n",
    "    constraints = [\n",
    "        np.zeros(n) <= w,\n",
    "        a <= w,\n",
    "        w <= b,\n",
    "        z == M @ w - u,\n",
    "        np.zeros(rank_constraints) == z if hard_constraint else cp.sum(z ** 2 / Cov_z) <= chi2_bound\n",
    "    ]\n",
    "    objective = cp.Minimize(cp.sum(r * w))\n",
    "    problem = cp.Problem(objective, constraints)\n",
    "    problem.solve()\n",
    "    \n",
    "    return w.value\n",
    "\n",
    "def getGPQC(r, T, X, a, b, p_t, rank_constraints, lambd=None, kernel=None):\n",
    "    TX = np.concatenate([T[:, None], X], axis=1)\n",
    "    #TX /= TX.std(axis=0)[None, :]\n",
    "    if not lambd or not kernel:\n",
    "        _, w = confoundingRobustHajek(r, T, a, b, return_w=True)\n",
    "        e = w * p_t - 1\n",
    "        kernel_ = WhiteKernel() + ConstantKernel() * RBF()\n",
    "        model = GaussianProcessRegressor(kernel=kernel_).fit(TX[:1000], e[:1000])\n",
    "        lambd = model.kernel_.k1.noise_level\n",
    "        kernel = model.kernel_.k2\n",
    "    \n",
    "    K = kernel(TX, TX)\n",
    "    S, V = eigh(K, subset_by_index=[n - rank_constraints, n-1])\n",
    "    S, V = cutoff_neg_eigvals(S, V)\n",
    "    \n",
    "    M = np.diag(S / (S + lambd)) @ V.T @ np.diag(p_t)\n",
    "    u = np.diag(S / (S + lambd)) @ V.T @ np.ones(n)\n",
    "    Cov_z = S - S ** 2 / (S + lambd)\n",
    "\n",
    "    return M, u, Cov_z, u.shape[0]\n",
    "\n",
    "def cutoff_neg_eigvals(S, V):\n",
    "    V = V[:, S > 1e-6]\n",
    "    S = S[S > 1e-6]\n",
    "    return S, V"
   ]
  },
  {
   "cell_type": "code",
   "execution_count": 186,
   "id": "911618a3-d8d1-447f-9a21-f01bedfb630a",
   "metadata": {},
   "outputs": [
    {
     "ename": "AttributeError",
     "evalue": "'memoryview' object has no attribute 'numpy'",
     "output_type": "error",
     "traceback": [
      "\u001b[0;31m---------------------------------------------------------------------------\u001b[0m",
      "\u001b[0;31mAttributeError\u001b[0m                            Traceback (most recent call last)",
      "Input \u001b[0;32mIn [186]\u001b[0m, in \u001b[0;36m<cell line: 3>\u001b[0;34m()\u001b[0m\n\u001b[1;32m      1\u001b[0m policy_prob \u001b[38;5;241m=\u001b[39m toy_policy(X)[\u001b[38;5;28mrange\u001b[39m(T\u001b[38;5;241m.\u001b[39mshape[\u001b[38;5;241m0\u001b[39m]), T]\n\u001b[1;32m      2\u001b[0m r \u001b[38;5;241m=\u001b[39m Y \u001b[38;5;241m*\u001b[39m policy_prob\n\u001b[0;32m----> 3\u001b[0m est, w \u001b[38;5;241m=\u001b[39m \u001b[43mconfoundingRobustKernel\u001b[49m\u001b[43m(\u001b[49m\u001b[43mr\u001b[49m\u001b[43m,\u001b[49m\u001b[43m \u001b[49m\u001b[43mT\u001b[49m\u001b[43m,\u001b[49m\u001b[43m \u001b[49m\u001b[43mX\u001b[49m\u001b[43m,\u001b[49m\u001b[43m \u001b[49m\u001b[43ma\u001b[49m\u001b[43m,\u001b[49m\u001b[43m \u001b[49m\u001b[43mb\u001b[49m\u001b[43m,\u001b[49m\u001b[43m \u001b[49m\u001b[43mp_t\u001b[49m\u001b[43m,\u001b[49m\u001b[43m \u001b[49m\u001b[43mreturn_w\u001b[49m\u001b[38;5;241;43m=\u001b[39;49m\u001b[38;5;28;43;01mTrue\u001b[39;49;00m\u001b[43m)\u001b[49m\n",
      "Input \u001b[0;32mIn [146]\u001b[0m, in \u001b[0;36mconfoundingRobustKernel\u001b[0;34m(r, T, X, a, b, p_t, lambd, kernel, alpha, return_w, rank_constraints, use_hajek_constraints, hard_constraint)\u001b[0m\n\u001b[1;32m     10\u001b[0m warnings\u001b[38;5;241m.\u001b[39msimplefilter(\u001b[38;5;124m\"\u001b[39m\u001b[38;5;124mignore\u001b[39m\u001b[38;5;124m\"\u001b[39m)\n\u001b[1;32m     11\u001b[0m \u001b[38;5;28;01mif\u001b[39;00m use_hajek_constraints:\n\u001b[0;32m---> 12\u001b[0m     w \u001b[38;5;241m=\u001b[39m \u001b[43mbinaryKernelLP\u001b[49m\u001b[43m(\u001b[49m\u001b[43mr_np\u001b[49m\u001b[43m,\u001b[49m\u001b[43m \u001b[49m\u001b[43mT\u001b[49m\u001b[43m,\u001b[49m\u001b[43m \u001b[49m\u001b[43mX\u001b[49m\u001b[43m,\u001b[49m\u001b[43m \u001b[49m\u001b[43ma\u001b[49m\u001b[43m,\u001b[49m\u001b[43m \u001b[49m\u001b[43mb\u001b[49m\u001b[43m,\u001b[49m\u001b[43m \u001b[49m\u001b[43mp_t\u001b[49m\u001b[43m,\u001b[49m\u001b[43m \u001b[49m\u001b[43mlambd\u001b[49m\u001b[43m,\u001b[49m\u001b[43m \u001b[49m\u001b[43mkernel\u001b[49m\u001b[43m,\u001b[49m\u001b[43m \u001b[49m\u001b[43malpha\u001b[49m\u001b[43m,\u001b[49m\u001b[43m \u001b[49m\u001b[43mrank_constraints\u001b[49m\u001b[43m)\u001b[49m\n\u001b[1;32m     13\u001b[0m \u001b[38;5;28;01melse\u001b[39;00m:\n\u001b[1;32m     14\u001b[0m     w \u001b[38;5;241m=\u001b[39m KernelLP(r_np, T, X, a, b, p_t, lambd, kernel, alpha, rank_constraints, hard_constraint)\n",
      "Input \u001b[0;32mIn [146]\u001b[0m, in \u001b[0;36mbinaryKernelLP\u001b[0;34m(r, T, X, a, b, p_t, lambd, kernel, alpha, rank_constraints)\u001b[0m\n\u001b[1;32m     24\u001b[0m \u001b[38;5;28;01massert\u001b[39;00m rank_constraints \u001b[38;5;241m<\u001b[39m\u001b[38;5;241m=\u001b[39m n\n\u001b[1;32m     25\u001b[0m TX \u001b[38;5;241m=\u001b[39m np\u001b[38;5;241m.\u001b[39mconcatenate([T[:, \u001b[38;5;28;01mNone\u001b[39;00m], X], axis\u001b[38;5;241m=\u001b[39m\u001b[38;5;241m1\u001b[39m)\n\u001b[0;32m---> 26\u001b[0m _, w \u001b[38;5;241m=\u001b[39m \u001b[43mconfoundingRobustHajek\u001b[49m\u001b[43m(\u001b[49m\u001b[43mr\u001b[49m\u001b[43m,\u001b[49m\u001b[43m \u001b[49m\u001b[43mT\u001b[49m\u001b[43m,\u001b[49m\u001b[43m \u001b[49m\u001b[43ma\u001b[49m\u001b[43m,\u001b[49m\u001b[43m \u001b[49m\u001b[43mb\u001b[49m\u001b[43m,\u001b[49m\u001b[43m \u001b[49m\u001b[43mreturn_w\u001b[49m\u001b[38;5;241;43m=\u001b[39;49m\u001b[38;5;28;43;01mTrue\u001b[39;49;00m\u001b[43m)\u001b[49m\n\u001b[1;32m     27\u001b[0m e \u001b[38;5;241m=\u001b[39m w \u001b[38;5;241m*\u001b[39m p_t \u001b[38;5;241m-\u001b[39m \u001b[38;5;241m1\u001b[39m\n\u001b[1;32m     28\u001b[0m \u001b[38;5;28;01mif\u001b[39;00m \u001b[38;5;129;01mnot\u001b[39;00m lambd \u001b[38;5;129;01mor\u001b[39;00m \u001b[38;5;129;01mnot\u001b[39;00m kernel:\n",
      "Input \u001b[0;32mIn [136]\u001b[0m, in \u001b[0;36mconfoundingRobustHajek\u001b[0;34m(r, T, a, b, return_w)\u001b[0m\n\u001b[1;32m      1\u001b[0m \u001b[38;5;28;01mdef\u001b[39;00m \u001b[38;5;21mconfoundingRobustHajek\u001b[39m(r, T, a, b, return_w\u001b[38;5;241m=\u001b[39m\u001b[38;5;28;01mFalse\u001b[39;00m):\n\u001b[0;32m----> 2\u001b[0m     r_np \u001b[38;5;241m=\u001b[39m \u001b[43mr\u001b[49m\u001b[38;5;241;43m.\u001b[39;49m\u001b[43mdata\u001b[49m\u001b[38;5;241;43m.\u001b[39;49m\u001b[43mnumpy\u001b[49m()\n\u001b[1;32m      3\u001b[0m     w \u001b[38;5;241m=\u001b[39m np\u001b[38;5;241m.\u001b[39mzeros_like(a)\n\u001b[1;32m      4\u001b[0m     \u001b[38;5;28;01mfor\u001b[39;00m t \u001b[38;5;129;01min\u001b[39;00m \u001b[38;5;28mset\u001b[39m(T):\n",
      "\u001b[0;31mAttributeError\u001b[0m: 'memoryview' object has no attribute 'numpy'"
     ]
    }
   ],
   "source": [
    "policy_prob = toy_policy(X)[range(T.shape[0]), T]\n",
    "r = Y * policy_prob\n",
    "est, w = confoundingRobustKernel(r, T, X, a, b, p_t, return_w=True)"
   ]
  },
  {
   "cell_type": "code",
   "execution_count": 67,
   "id": "811121e4-0a14-459d-9223-b528cdf5cbd1",
   "metadata": {},
   "outputs": [
    {
     "data": {
      "text/plain": [
       "tensor(3.6745, dtype=torch.float64)"
      ]
     },
     "execution_count": 67,
     "metadata": {},
     "output_type": "execute_result"
    }
   ],
   "source": [
    "est"
   ]
  },
  {
   "cell_type": "code",
   "execution_count": 68,
   "id": "d18bd70a-24d4-44d0-a0c4-9ae4da15aaf7",
   "metadata": {},
   "outputs": [],
   "source": [
    "est, w = confoundingRobustKernel(torch.as_tensor(Y) * policy_prob, T, X, a, b, p_t, return_w=True, use_hajek_constraints=False)"
   ]
  },
  {
   "cell_type": "code",
   "execution_count": 69,
   "id": "1f9ec2ed-2f4d-4aa7-96ff-f3a89d907c8e",
   "metadata": {},
   "outputs": [
    {
     "data": {
      "text/plain": [
       "tensor(3.7025, dtype=torch.float64)"
      ]
     },
     "execution_count": 69,
     "metadata": {},
     "output_type": "execute_result"
    }
   ],
   "source": [
    "est  # without sum-up-to-one constraints"
   ]
  },
  {
   "cell_type": "code",
   "execution_count": 70,
   "id": "e74af3a6-46e0-404f-b0c4-778f3cee1c78",
   "metadata": {},
   "outputs": [],
   "source": [
    "est, w = confoundingRobustKernel(torch.as_tensor(Y) * policy_prob, T, X, a, b, p_t, return_w=True, use_hajek_constraints=False, rank_constraints=1000)"
   ]
  },
  {
   "cell_type": "code",
   "execution_count": 71,
   "id": "7b1e03ee-65b2-4748-9ad0-eb02b57dfc3c",
   "metadata": {},
   "outputs": [
    {
     "data": {
      "text/plain": [
       "tensor(3.6451, dtype=torch.float64)"
      ]
     },
     "execution_count": 71,
     "metadata": {},
     "output_type": "execute_result"
    }
   ],
   "source": [
    "est  # without sum-up-to-one constraints"
   ]
  },
  {
   "cell_type": "code",
   "execution_count": 72,
   "id": "459a46fa-ba2c-49e6-96f1-629743b7f9ed",
   "metadata": {},
   "outputs": [],
   "source": [
    "est, w = confoundingRobustKernel(torch.as_tensor(Y) * policy_prob, T, X, a, b, p_t, return_w=True, use_hajek_constraints=False, rank_constraints=1000, hard_constraint=True)"
   ]
  },
  {
   "cell_type": "code",
   "execution_count": 73,
   "id": "c984d2f5-5eb9-47b3-a16f-9414fa2f3f40",
   "metadata": {},
   "outputs": [
    {
     "data": {
      "text/plain": [
       "tensor(3.8539, dtype=torch.float64)"
      ]
     },
     "execution_count": 73,
     "metadata": {},
     "output_type": "execute_result"
    }
   ],
   "source": [
    "est  # without sum-up-to-one constraints"
   ]
  },
  {
   "cell_type": "markdown",
   "id": "f058a91f-2c45-482c-90bf-360a10833ff5",
   "metadata": {},
   "source": [
    "### Compare Policy Learning Performance"
   ]
  },
  {
   "cell_type": "code",
   "execution_count": 74,
   "id": "7d423589-3c4f-4915-93fd-8bf9f48d59e8",
   "metadata": {},
   "outputs": [],
   "source": []
  },
  {
   "cell_type": "code",
   "execution_count": 118,
   "id": "d1e50f91-9bcb-4028-a87e-09e15de4d177",
   "metadata": {},
   "outputs": [],
   "source": [
    "def base_policy(X):\n",
    "    return 0.5 * torch.ones(X.shape[0], dtype=float)\n",
    "\n",
    "def LR_policy(X, beta):\n",
    "    X = np.concatenate([np.ones([X.shape[0], 1]), X], axis=1)\n",
    "    return torch.sigmoid(torch.tensor(X) @ beta)"
   ]
  },
  {
   "cell_type": "code",
   "execution_count": 119,
   "id": "b1c061b6-9fbd-4de8-96ac-ccee3fbfcf5a",
   "metadata": {},
   "outputs": [],
   "source": [
    "class nnPolicy(torch.nn.Module):\n",
    "    def __init__(self):\n",
    "        super().__init__()\n",
    "        self.nn = torch.nn.Sequential(\n",
    "            torch.nn.Linear(5, 32),\n",
    "            torch.nn.ReLU(),\n",
    "            torch.nn.Linear(32, 32),\n",
    "            torch.nn.ReLU(),\n",
    "            torch.nn.Linear(32, 1),\n",
    "            torch.nn.Sigmoid(),\n",
    "        )\n",
    "        self.nn[-2].weight.data[:] = 0.\n",
    "        self.nn[-2].bias.data[:] = 0.\n",
    "\n",
    "    def forward(self, X):\n",
    "        X = torch.as_tensor(X, dtype=torch.float32)\n",
    "        return self.nn(X)[:, 0]"
   ]
  },
  {
   "cell_type": "code",
   "execution_count": 120,
   "id": "4e15e5d7-d487-4bfa-a46b-3a6b77e2ec48",
   "metadata": {},
   "outputs": [
    {
     "data": {
      "text/plain": [
       "tensor(3.7483, dtype=torch.float64)"
      ]
     },
     "execution_count": 120,
     "metadata": {},
     "output_type": "execute_result"
    }
   ],
   "source": [
    "evaluate_policy(base_policy, n=100000)"
   ]
  },
  {
   "cell_type": "code",
   "execution_count": 121,
   "id": "6717fbcd-2256-4c46-9d0d-74413a230e6b",
   "metadata": {},
   "outputs": [
    {
     "data": {
      "text/plain": [
       "tensor(3.7401, dtype=torch.float64, grad_fn=<MeanBackward0>)"
      ]
     },
     "execution_count": 121,
     "metadata": {},
     "output_type": "execute_result"
    }
   ],
   "source": [
    "nn_policy = nnPolicy()\n",
    "evaluate_policy(nn_policy, n=100000)"
   ]
  },
  {
   "cell_type": "markdown",
   "id": "c7eb5d5d-af4a-4755-80dd-9904060f31fc",
   "metadata": {},
   "source": [
    "#### Select Kernel"
   ]
  },
  {
   "cell_type": "code",
   "execution_count": 122,
   "id": "13ce10e9-1412-4cdb-b04f-c248dcf7a3f3",
   "metadata": {},
   "outputs": [],
   "source": [
    "r = torch.as_tensor(Y) * policy_prob\n",
    "TX = np.concatenate([T[:, None], X], axis=1)\n",
    "est, w = confoundingRobustHajek(r, T, a, b, return_w=True)\n",
    "_, w = confoundingRobustHajek(r, T, a, b, return_w=True)\n",
    "e = w * p_t - 1\n",
    "kernel_ = WhiteKernel() + ConstantKernel() * RBF()\n",
    "model = GaussianProcessRegressor(kernel=kernel_).fit(TX[:1000], e[:1000])\n",
    "lambd = model.kernel_.k1.noise_level\n",
    "kernel = model.kernel_.k2"
   ]
  },
  {
   "cell_type": "markdown",
   "id": "a7135e18-9fd9-4400-b83f-b1e4e7045ea5",
   "metadata": {},
   "source": [
    "#### Best Policy"
   ]
  },
  {
   "cell_type": "code",
   "execution_count": 123,
   "id": "72178905-238f-4688-b849-e5ddbc59f357",
   "metadata": {},
   "outputs": [
    {
     "name": "stderr",
     "output_type": "stream",
     "text": [
      "Value: 4.752472695762587: 100%|█████████████████████| 101/101 [00:07<00:00, 14.20it/s]\n"
     ]
    }
   ],
   "source": [
    "train_steps = 101\n",
    "beta_best = torch.zeros(6, requires_grad=True, dtype=float)\n",
    "best_policy = lambda X: LR_policy(X, beta_best)\n",
    "optimizer = torch.optim.RMSprop(lr=1e-1, params=[beta_best])\n",
    "# best_policy = nnPolicy()\n",
    "# optimizer = torch.optim.Adam(lr=1e-2, params=best_policy.parameters(), weight_decay=0.00)\n",
    "pbar = tqdm.tqdm(range(train_steps))\n",
    "for i in pbar:\n",
    "    value = evaluate_policy(best_policy, n=100000)\n",
    "    (- value).backward()\n",
    "    optimizer.step()\n",
    "    optimizer.zero_grad()\n",
    "    pbar.set_description(f\"Value: {value}\")"
   ]
  },
  {
   "cell_type": "markdown",
   "id": "fd5860f1-5888-4134-809a-c6d88eaaee6f",
   "metadata": {
    "tags": []
   },
   "source": [
    "#### Just Run IPW optimization"
   ]
  },
  {
   "cell_type": "code",
   "execution_count": 124,
   "id": "3faaf59a-d1e7-4e87-9b01-1b21de25ab0a",
   "metadata": {},
   "outputs": [
    {
     "name": "stderr",
     "output_type": "stream",
     "text": [
      "Value: 5.3468581321296895: 100%|███████████████████| 101/101 [00:00<00:00, 274.24it/s]\n"
     ]
    }
   ],
   "source": [
    "train_steps = 101\n",
    "beta_ipw = torch.zeros(6, requires_grad=True, dtype=float)\n",
    "ipw_policy = lambda X: LR_policy(X, beta_ipw)\n",
    "optimizer = torch.optim.RMSprop(lr=1e-1, params=[beta_ipw])\n",
    "#ipw_policy = nnPolicy()\n",
    "#optimizer = torch.optim.Adam(lr=1e-2, params=ipw_policy.parameters(), weight_decay=0.01)\n",
    "pbar = tqdm.tqdm(range(train_steps))\n",
    "for i in pbar:\n",
    "    ipw_prob = ipw_policy(X) * torch.tensor(T) + (1 - ipw_policy(X)) * torch.tensor(1 - T)\n",
    "    r = torch.tensor(Y) * ipw_prob\n",
    "    value = IPW(r, p_t)\n",
    "    (- value).backward()\n",
    "    optimizer.step()\n",
    "    optimizer.zero_grad()\n",
    "    pbar.set_description(f\"Value: {value}\")"
   ]
  },
  {
   "cell_type": "code",
   "execution_count": 125,
   "id": "6f68a7fc-d8b5-4677-a723-5f880e3643c9",
   "metadata": {},
   "outputs": [
    {
     "data": {
      "text/plain": [
       "tensor(4.4203, dtype=torch.float64, grad_fn=<MeanBackward0>)"
      ]
     },
     "execution_count": 125,
     "metadata": {},
     "output_type": "execute_result"
    }
   ],
   "source": [
    "evaluate_policy(ipw_policy, n=100000)"
   ]
  },
  {
   "cell_type": "code",
   "execution_count": 129,
   "id": "31d61f71-ed95-4781-8014-9e88b53f67c0",
   "metadata": {},
   "outputs": [
    {
     "data": {
      "text/plain": [
       "tensor(5.0492, dtype=torch.float64, grad_fn=<MeanBackward0>)"
      ]
     },
     "execution_count": 129,
     "metadata": {},
     "output_type": "execute_result"
    }
   ],
   "source": [
    "# IPW with True propensity\n",
    "IPW(r, e_xu)"
   ]
  },
  {
   "cell_type": "code",
   "execution_count": 126,
   "id": "0d57de39-fe6f-4e48-b547-70786284d17e",
   "metadata": {},
   "outputs": [
    {
     "data": {
      "text/plain": [
       "tensor(4.7409, dtype=torch.float64, grad_fn=<MeanBackward0>)"
      ]
     },
     "execution_count": 126,
     "metadata": {},
     "output_type": "execute_result"
    }
   ],
   "source": [
    "est = confoundingRobustKernel(r, T, X, a, b, p_t)\n",
    "est"
   ]
  },
  {
   "cell_type": "code",
   "execution_count": 127,
   "id": "af0f05fe-4b4d-4c5b-8a02-eae4064f099a",
   "metadata": {},
   "outputs": [
    {
     "data": {
      "text/plain": [
       "tensor(4.5096, dtype=torch.float64, grad_fn=<MeanBackward0>)"
      ]
     },
     "execution_count": 127,
     "metadata": {},
     "output_type": "execute_result"
    }
   ],
   "source": [
    "est = confoundingRobustKernel(r, T, X, a, b, p_t, rank_constraints=900)\n",
    "est"
   ]
  },
  {
   "cell_type": "code",
   "execution_count": 128,
   "id": "cd099d55-ae01-4e07-9ea4-7a1094c46fdb",
   "metadata": {},
   "outputs": [
    {
     "data": {
      "text/plain": [
       "tensor(4.5096, dtype=torch.float64, grad_fn=<MeanBackward0>)"
      ]
     },
     "execution_count": 128,
     "metadata": {},
     "output_type": "execute_result"
    }
   ],
   "source": [
    "est = confoundingRobustHajek(r, T, a, b)\n",
    "est"
   ]
  },
  {
   "cell_type": "code",
   "execution_count": 85,
   "id": "c90ec5a7-9e92-4f55-987c-2b58f5168c2b",
   "metadata": {},
   "outputs": [
    {
     "name": "stderr",
     "output_type": "stream",
     "text": [
      "100%|█████████████████████████████████████████████████| 31/31 [05:56<00:00, 11.51s/it]\n"
     ]
    }
   ],
   "source": [
    "r = torch.as_tensor(Y) * ipw_prob\n",
    "rank = [j ** 2 for j in range(1, 32)]\n",
    "y = []\n",
    "for i in tqdm.tqdm(rank):\n",
    "    y.append(confoundingRobustKernel(r, T, X, a, b, p_t, rank_constraints=i))"
   ]
  },
  {
   "cell_type": "code",
   "execution_count": 86,
   "id": "6b9557f2-583d-41d2-a4f9-7fd3bb29968a",
   "metadata": {},
   "outputs": [
    {
     "data": {
      "text/plain": [
       "[<matplotlib.lines.Line2D at 0x7f753ae348b0>]"
      ]
     },
     "execution_count": 86,
     "metadata": {},
     "output_type": "execute_result"
    },
    {
     "data": {
      "image/png": "[encoded data removed]",
      "text/plain": [
       "<Figure size 432x288 with 1 Axes>"
      ]
     },
     "metadata": {
      "needs_background": "light"
     },
     "output_type": "display_data"
    }
   ],
   "source": [
    "plt.plot(rank, [value.detach().numpy() for value in y])\n",
    "plt.plot(rank, [evaluate_policy(ipw_policy, n=100000).detach().numpy()] * len(rank))"
   ]
  },
  {
   "cell_type": "code",
   "execution_count": 87,
   "id": "848ea5e3-3d4b-44e4-9a22-cb53f7fc0fa0",
   "metadata": {},
   "outputs": [
    {
     "name": "stderr",
     "output_type": "stream",
     "text": [
      "100%|█████████████████████████████████████████████████| 31/31 [05:58<00:00, 11.56s/it]\n"
     ]
    }
   ],
   "source": [
    "r = torch.as_tensor(Y) * ipw_prob\n",
    "rank = [j ** 2 for j in range(1, 32)]\n",
    "y_hard = []\n",
    "for i in tqdm.tqdm(rank):\n",
    "    y_hard.append(confoundingRobustKernel(r, T, X, a, b, p_t, rank_constraints=i, hard_constraint=True))"
   ]
  },
  {
   "cell_type": "code",
   "execution_count": 88,
   "id": "45a0a056-14d0-457a-83c3-301467e8fa18",
   "metadata": {},
   "outputs": [
    {
     "data": {
      "text/plain": [
       "[<matplotlib.lines.Line2D at 0x7f753ad390d0>]"
      ]
     },
     "execution_count": 88,
     "metadata": {},
     "output_type": "execute_result"
    },
    {
     "data": {
      "image/png": "[encoded data removed]",
      "text/plain": [
       "<Figure size 432x288 with 1 Axes>"
      ]
     },
     "metadata": {
      "needs_background": "light"
     },
     "output_type": "display_data"
    }
   ],
   "source": [
    "plt.plot(rank, [value.detach().numpy() for value in y])\n",
    "plt.plot(rank, [evaluate_policy(ipw_policy, n=100000).detach().numpy()] * len(rank))\n",
    "plt.plot(rank, [value.detach().numpy() for value in y_hard])"
   ]
  },
  {
   "cell_type": "code",
   "execution_count": 89,
   "id": "9443ca1a-bc28-4baf-8318-79b800a16bd5",
   "metadata": {},
   "outputs": [
    {
     "data": {
      "text/plain": [
       "0.09274408626053594"
      ]
     },
     "execution_count": 89,
     "metadata": {},
     "output_type": "execute_result"
    }
   ],
   "source": [
    "Y.std() / 1000 ** 0.5"
   ]
  },
  {
   "cell_type": "markdown",
   "id": "c6b8f2b0-5765-48a5-8ed5-745e0eedcd57",
   "metadata": {},
   "source": [
    "#### Compare Policy Improvement"
   ]
  },
  {
   "cell_type": "code",
   "execution_count": 90,
   "id": "d472a23e-fbcc-4a4e-912c-3ea335fa1446",
   "metadata": {},
   "outputs": [
    {
     "data": {
      "text/plain": [
       "tensor(3.7545, dtype=torch.float64)"
      ]
     },
     "execution_count": 90,
     "metadata": {},
     "output_type": "execute_result"
    }
   ],
   "source": [
    "evaluate_policy(base_policy, n=100000)"
   ]
  },
  {
   "cell_type": "code",
   "execution_count": 91,
   "id": "cb794dbe-697f-4bf4-b9d1-ca84953e4552",
   "metadata": {
    "tags": []
   },
   "outputs": [
    {
     "name": "stderr",
     "output_type": "stream",
     "text": [
      "Improvement: 0.8412939156118103: 100%|██████████████| 101/101 [00:02<00:00, 40.45it/s]\n"
     ]
    }
   ],
   "source": [
    "# Hajek policy improvement\n",
    "train_steps = 101\n",
    "beta_hajek = torch.zeros(6, requires_grad=True, dtype=float)\n",
    "hajek_policy = lambda X: LR_policy(X, beta_hajek)\n",
    "optimizer = torch.optim.RMSprop(lr=1e-1, params=[beta_hajek])\n",
    "# hajek_policy = nnPolicy()\n",
    "# optimizer = torch.optim.Adam(lr=3e-2, params=hajek_policy.parameters(), weight_decay=0.01)\n",
    "pbar = tqdm.tqdm(range(train_steps))\n",
    "for i in pbar:\n",
    "    # base_prob =  0.5 * good_policy(X) * torch.tensor(T) + (1 - 0.5 * good_policy(X)) * torch.tensor(1 - T)\n",
    "    base_prob =  base_policy(X) * torch.tensor(T) + (1 - base_policy(X)) * torch.tensor(1 - T)\n",
    "    hajek_prob = hajek_policy(X) * torch.tensor(T) + (1 - hajek_policy(X)) * torch.tensor(1 - T)\n",
    "    r = torch.tensor(Y) * (hajek_prob - base_prob)\n",
    "    hajek_improvement, w = confoundingRobustHajek(r, T, a, b, return_w=True)\n",
    "    (- hajek_improvement).backward()\n",
    "    optimizer.step()\n",
    "    optimizer.zero_grad()\n",
    "    pbar.set_description(f\"Improvement: {hajek_improvement}\")"
   ]
  },
  {
   "cell_type": "code",
   "execution_count": 92,
   "id": "77936c22-db7b-4506-86ce-85fd415a2067",
   "metadata": {},
   "outputs": [
    {
     "data": {
      "text/plain": [
       "tensor(4.4639, dtype=torch.float64, grad_fn=<MeanBackward0>)"
      ]
     },
     "execution_count": 92,
     "metadata": {},
     "output_type": "execute_result"
    }
   ],
   "source": [
    "evaluate_policy(hajek_policy, n=100000)"
   ]
  },
  {
   "cell_type": "code",
   "execution_count": 93,
   "id": "4f531161-ffca-4feb-8c89-599ad60bd1ec",
   "metadata": {},
   "outputs": [
    {
     "name": "stderr",
     "output_type": "stream",
     "text": [
      "Improvement: 0.9907096748300198: 100%|██████████████| 101/101 [00:59<00:00,  1.70it/s]\n"
     ]
    }
   ],
   "source": [
    "# Kernel policy improvement\n",
    "train_steps = 101\n",
    "beta_kernel = torch.zeros(6, requires_grad=True, dtype=float)\n",
    "kernel_policy = lambda X: LR_policy(X, beta_kernel)\n",
    "optimizer = torch.optim.RMSprop(lr=1e-1, params=[beta_kernel])\n",
    "# kernel_policy = nnPolicy()\n",
    "# optimizer = torch.optim.Adam(lr=3e-2, params=kernel_policy.parameters(), weight_decay=0.01)\n",
    "pbar = tqdm.tqdm(range(train_steps))\n",
    "for i in pbar:\n",
    "    base_prob =  base_policy(X) * torch.tensor(T) + (1 - base_policy(X)) * torch.tensor(1 - T)\n",
    "    kernel_prob = kernel_policy(X) * torch.tensor(T) + (1 - kernel_policy(X)) * torch.tensor(1 - T)\n",
    "    r = torch.tensor(Y) * (kernel_prob - base_prob)\n",
    "    kernel_improvement, w = confoundingRobustKernel(r, T, X, a, b, p_t, lambd, kernel, return_w=True, use_hajek_constraints=False)\n",
    "    (- kernel_improvement).backward()\n",
    "    optimizer.step()\n",
    "    optimizer.zero_grad()\n",
    "    pbar.set_description(f\"Improvement: {kernel_improvement}\")"
   ]
  },
  {
   "cell_type": "code",
   "execution_count": 94,
   "id": "8a98f488-14be-4dff-9fdd-9dad89deb1af",
   "metadata": {},
   "outputs": [
    {
     "data": {
      "text/plain": [
       "tensor(4.4334, dtype=torch.float64, grad_fn=<MeanBackward0>)"
      ]
     },
     "execution_count": 94,
     "metadata": {},
     "output_type": "execute_result"
    }
   ],
   "source": [
    "evaluate_policy(kernel_policy, n=100000)"
   ]
  },
  {
   "cell_type": "code",
   "execution_count": 95,
   "id": "d2a78f8d-41b6-4bdf-bc44-b0267b1e320e",
   "metadata": {},
   "outputs": [
    {
     "name": "stderr",
     "output_type": "stream",
     "text": [
      "Improvement: 1.0272390629886947: 100%|██████████████| 101/101 [01:03<00:00,  1.58it/s]\n"
     ]
    }
   ],
   "source": [
    "# Kernel policy improvement\n",
    "train_steps = 101\n",
    "beta_kernel = torch.zeros(6, requires_grad=True, dtype=float)\n",
    "kernel_policy = lambda X: LR_policy(X, beta_kernel)\n",
    "optimizer = torch.optim.RMSprop(lr=1e-1, params=[beta_kernel])\n",
    "# kernel_policy = nnPolicy()\n",
    "# optimizer = torch.optim.Adam(lr=3e-2, params=kernel_policy.parameters(), weight_decay=0.01)\n",
    "pbar = tqdm.tqdm(range(train_steps))\n",
    "for i in pbar:\n",
    "    base_prob =  base_policy(X) * torch.tensor(T) + (1 - base_policy(X)) * torch.tensor(1 - T)\n",
    "    kernel_prob = kernel_policy(X) * torch.tensor(T) + (1 - kernel_policy(X)) * torch.tensor(1 - T)\n",
    "    r = torch.tensor(Y) * (kernel_prob - base_prob)\n",
    "    kernel_improvement, w = confoundingRobustKernel(r, T, X, a, b, p_t, lambd, kernel, return_w=True)\n",
    "    (- kernel_improvement).backward()\n",
    "    optimizer.step()\n",
    "    optimizer.zero_grad()\n",
    "    pbar.set_description(f\"Improvement: {kernel_improvement}\")"
   ]
  },
  {
   "cell_type": "code",
   "execution_count": 96,
   "id": "73ebbec4-df1f-4f17-a7e3-ad4281c3df72",
   "metadata": {},
   "outputs": [
    {
     "data": {
      "text/plain": [
       "tensor(4.4486, dtype=torch.float64, grad_fn=<MeanBackward0>)"
      ]
     },
     "execution_count": 96,
     "metadata": {},
     "output_type": "execute_result"
    }
   ],
   "source": [
    "evaluate_policy(kernel_policy, n=100000)"
   ]
  },
  {
   "cell_type": "markdown",
   "id": "3bb89ee4-1cbf-4ce7-a209-c82e62340fd2",
   "metadata": {},
   "source": [
    "### Just run min-max optimzation"
   ]
  },
  {
   "cell_type": "code",
   "execution_count": 112,
   "id": "bc917df7-0a67-491f-b4e2-8d7eb64b1144",
   "metadata": {
    "tags": []
   },
   "outputs": [
    {
     "name": "stderr",
     "output_type": "stream",
     "text": [
      "Value: 4.5913103168639: 100%|███████████████████████| 101/101 [00:02<00:00, 39.54it/s]\n"
     ]
    }
   ],
   "source": [
    "# Hajek policy min-max value\n",
    "train_steps = 101\n",
    "beta_hajek = torch.zeros(6, requires_grad=True, dtype=float)\n",
    "hajek_policy = lambda X: LR_policy(X, beta_hajek)\n",
    "optimizer = torch.optim.RMSprop(lr=1e-1, params=[beta_hajek])\n",
    "# NN seems to overfit\n",
    "# hajek_policy = nnPolicy()\n",
    "# hajek_policy = ipw_policy  # degrades the ipw policy\n",
    "# optimizer = torch.optim.Adam(lr=1e-2, params=hajek_policy.parameters(), weight_decay=0.01)\n",
    "pbar = tqdm.tqdm(range(train_steps))\n",
    "for i in pbar:\n",
    "    hajek_prob = hajek_policy(X) * torch.tensor(T) + (1 - hajek_policy(X)) * torch.tensor(1 - T)\n",
    "    r = torch.tensor(Y) * hajek_prob\n",
    "    hajek_value, w = confoundingRobustHajek(r, T, a, b, return_w=True)\n",
    "    (- hajek_value).backward()\n",
    "    optimizer.step()\n",
    "    optimizer.zero_grad()\n",
    "    pbar.set_description(f\"Value: {hajek_value}\")"
   ]
  },
  {
   "cell_type": "code",
   "execution_count": 113,
   "id": "13c26fa8-9f5b-40e9-9905-f8c71837e821",
   "metadata": {},
   "outputs": [
    {
     "data": {
      "text/plain": [
       "tensor(4.6923, dtype=torch.float64, grad_fn=<MeanBackward0>)"
      ]
     },
     "execution_count": 113,
     "metadata": {},
     "output_type": "execute_result"
    }
   ],
   "source": [
    "evaluate_policy(hajek_policy, n=100000)"
   ]
  },
  {
   "cell_type": "code",
   "execution_count": 114,
   "id": "27a4bd1b-7d23-437d-8342-8a63955e4d96",
   "metadata": {},
   "outputs": [
    {
     "data": {
      "text/plain": [
       "tensor(4.7703, dtype=torch.float64, grad_fn=<MeanBackward0>)"
      ]
     },
     "execution_count": 114,
     "metadata": {},
     "output_type": "execute_result"
    }
   ],
   "source": [
    "est = confoundingRobustKernel(r, T, X, a, b, p_t, lambd, kernel)\n",
    "est"
   ]
  },
  {
   "cell_type": "code",
   "execution_count": 100,
   "id": "f3fdf7b7-97ce-4467-9245-5b7988855917",
   "metadata": {},
   "outputs": [
    {
     "name": "stderr",
     "output_type": "stream",
     "text": [
      "Value: 4.732229328016516: 100%|█████████████████████| 101/101 [01:05<00:00,  1.55it/s]\n"
     ]
    }
   ],
   "source": [
    "# Kernel policy min-max value\n",
    "train_steps = 101\n",
    "beta_kernel = torch.zeros(6, requires_grad=True, dtype=float)\n",
    "kernel_policy = lambda X: LR_policy(X, beta_kernel)\n",
    "optimizer = torch.optim.RMSprop(lr=1e-1, params=[beta_kernel])\n",
    "# kernel_policy = nnPolicy()\n",
    "# optimizer = torch.optim.Adam(lr=3e-2, params=kernel_policy.parameters(), weight_decay=0.01)\n",
    "pbar = tqdm.tqdm(range(train_steps))\n",
    "for i in pbar:\n",
    "    kernel_prob = kernel_policy(X) * torch.tensor(T) + (1 - kernel_policy(X)) * torch.tensor(1 - T)\n",
    "    r = torch.tensor(Y) * kernel_prob\n",
    "    kernel_value, w = confoundingRobustKernel(r, T, X, a, b, p_t, lambd, kernel, return_w=True, use_hajek_constraints=False)\n",
    "    (- kernel_value).backward()\n",
    "    optimizer.step()\n",
    "    optimizer.zero_grad()\n",
    "    pbar.set_description(f\"Value: {kernel_value}\")"
   ]
  },
  {
   "cell_type": "code",
   "execution_count": 101,
   "id": "a4698840-9670-4345-8ed2-d63f69cde402",
   "metadata": {},
   "outputs": [
    {
     "data": {
      "text/plain": [
       "tensor(4.7411, dtype=torch.float64, grad_fn=<MeanBackward0>)"
      ]
     },
     "execution_count": 101,
     "metadata": {},
     "output_type": "execute_result"
    }
   ],
   "source": [
    "evaluate_policy(kernel_policy, n=100000)"
   ]
  },
  {
   "cell_type": "code",
   "execution_count": 102,
   "id": "949860d2-2e59-4648-a4db-6e4bed0b90fe",
   "metadata": {},
   "outputs": [
    {
     "name": "stderr",
     "output_type": "stream",
     "text": [
      "Value: 4.723453506778068: 100%|█████████████████████| 101/101 [01:06<00:00,  1.51it/s]\n"
     ]
    }
   ],
   "source": [
    "# Kernel policy min-max value\n",
    "train_steps = 101\n",
    "beta_kernel = torch.zeros(6, requires_grad=True, dtype=float)\n",
    "kernel_policy = lambda X: LR_policy(X, beta_kernel)\n",
    "optimizer = torch.optim.RMSprop(lr=1e-1, params=[beta_kernel])\n",
    "# kernel_policy = nnPolicy()\n",
    "# optimizer = torch.optim.Adam(lr=3e-2, params=kernel_policy.parameters(), weight_decay=0.01)\n",
    "pbar = tqdm.tqdm(range(train_steps))\n",
    "for i in pbar:\n",
    "    kernel_prob = kernel_policy(X) * torch.tensor(T) + (1 - kernel_policy(X)) * torch.tensor(1 - T)\n",
    "    r = torch.tensor(Y) * kernel_prob\n",
    "    kernel_value, w = confoundingRobustKernel(r, T, X, a, b, p_t, lambd, kernel, return_w=True)\n",
    "    (- kernel_value).backward()\n",
    "    optimizer.step()\n",
    "    optimizer.zero_grad()\n",
    "    pbar.set_description(f\"Value: {kernel_value}\")"
   ]
  },
  {
   "cell_type": "code",
   "execution_count": 103,
   "id": "8c9fa174-3ae7-4fc8-bea9-b07b0f6b456d",
   "metadata": {},
   "outputs": [
    {
     "data": {
      "text/plain": [
       "tensor(4.7271, dtype=torch.float64, grad_fn=<MeanBackward0>)"
      ]
     },
     "execution_count": 103,
     "metadata": {},
     "output_type": "execute_result"
    }
   ],
   "source": [
    "evaluate_policy(kernel_policy, n=100000)"
   ]
  },
  {
   "cell_type": "markdown",
   "id": "fcb6681d-0cbc-498c-87fe-14518e3307d3",
   "metadata": {},
   "source": [
    "### Conclusions\n",
    "- The difference in performance is sample-dependent\n",
    "  - If the sample is well confounded, then kernel + hajek tends to be better than hajek\n",
    "- IPW estimator is good enough in most cases, so we might not actually need confounding-robust methods\n",
    "- Still, kernel + hajek method offers better lower-bound of the policy value, so it must have some use cases."
   ]
  },
  {
   "cell_type": "markdown",
   "id": "417a7aee-64db-43bf-8f5f-c85431205461",
   "metadata": {},
   "source": [
    "### Make a Table for Slide"
   ]
  },
  {
   "cell_type": "code",
   "execution_count": null,
   "id": "57708d10-0a72-4c40-93d3-a90ee6d52626",
   "metadata": {},
   "outputs": [],
   "source": [
    "pi1 = lambda x: 0.5\n",
    "pi2 = toy_policy\n",
    "pi3 = best_policy\n",
    "pi4 = hajek_policy\n",
    "pi5 = kernel_policy\n",
    "pi6 = ipw_policy"
   ]
  },
  {
   "cell_type": "code",
   "execution_count": null,
   "id": "b07db702-4249-4340-abee-31a733991669",
   "metadata": {},
   "outputs": [],
   "source": [
    "table = {}\n",
    "for i, pi in tqdm.tqdm(enumerate([pi1, pi2, pi3, pi4, pi5, pi6])):\n",
    "    table[f\"$\\\\pi_{i+1}$\"] = row = {}\n",
    "    row['$V_\\\\text{inf}$'] = float(evaluate_policy(pi, n=100000))\n",
    "    prob = pi(X) * torch.tensor(T) + (1 - pi(X)) * torch.tensor(1 - T)\n",
    "    r = torch.tensor(Y) * prob\n",
    "    row['$\\\\hat V_\\\\text{inf}^\\\\Hajek$'] = float(confoundingRobustHajek(r, T, a, b))\n",
    "    row['$\\\\hat V_\\\\text{inf}^\\\\kernel$'] = float(confoundingRobustKernel(r, T, X, a, b, p_t))\n",
    "    row['$\\\\hat V_\\\\text{inf}^\\\\text{IPW}$'] = float(IPW(r, p_t))"
   ]
  },
  {
   "cell_type": "code",
   "execution_count": null,
   "id": "e7b99c09-4f54-4520-8475-3cd0350ffd85",
   "metadata": {},
   "outputs": [],
   "source": [
    "table_copy = table.copy()\n",
    "table.pop(\"$\\\\pi_6$\")"
   ]
  },
  {
   "cell_type": "code",
   "execution_count": null,
   "id": "43579457-5d7d-4556-9815-4333d60de3c5",
   "metadata": {},
   "outputs": [],
   "source": [
    "print(\"\\\\begin{tabular}{ | m{4em} || \" + \"m{3em} \" * len(table) + \"| }\")\n",
    "print(\"\\\\hline\")\n",
    "header = \"{}\\t\" + \"&{}\\t\" * len(table) + \"\\\\\\\\\"\n",
    "print(header.format(\"\", *table.keys()))\n",
    "print(\"\\\\hline\")\n",
    "\n",
    "row_names = table[\"$\\\\pi_1$\"].keys()\n",
    "for row in row_names:\n",
    "    s = \"{}\\t\" + \"&{:1.3f}\\t\" * len(table) + \"\\\\\\\\\"\n",
    "    print(s.format(row, *[col[row] for col in table.values()]))\n",
    "    print(\"\\\\hline\")\n",
    "print(\"\\\\end{tabular}\")\n"
   ]
  },
  {
   "cell_type": "markdown",
   "id": "c00d4a48-9cf3-47c8-a017-367bd0cf22f5",
   "metadata": {
    "tags": []
   },
   "source": [
    "### Estimate Propensity Score (Conditional Density Estimation)\n",
    "- This requires consistent nominal propensity score (p_obs(t|x))\n",
    "- For discrete t, just run kernel logistic regressionregret_kernel"
   ]
  },
  {
   "cell_type": "markdown",
   "id": "86d4e905-c91c-43c7-b967-cc7bcd7103b5",
   "metadata": {},
   "source": [
    "#### Discrete Case"
   ]
  },
  {
   "cell_type": "code",
   "execution_count": null,
   "id": "1d8a554e-b59d-443c-940a-874042c719ad",
   "metadata": {},
   "outputs": [],
   "source": [
    "from sklearn.linear_model import LogisticRegressionCV\n",
    "# from sklearn.metrics import roc_auc_score, make_scorer\n",
    "# roc_auc_score = make_scorer(roc_auc_score, greater_is_better=True, needs_proba=True)\n",
    "\n",
    "model = LogisticRegressionCV().fit(X, T)\n",
    "e_xx = model.predict_proba(X)[:, 1]\n",
    "\n",
    "np.mean(np.abs(e_xx - e_x))"
   ]
  },
  {
   "cell_type": "code",
   "execution_count": null,
   "id": "95f90853-b1ba-4f3f-b164-8f0915553ad2",
   "metadata": {},
   "outputs": [],
   "source": [
    "import optuna\n",
    "from sklearn.decomposition import KernelPCA\n",
    "from sklearn.linear_model import LogisticRegression\n",
    "from sklearn.pipeline import Pipeline\n",
    "from sklearn.model_selection import cross_val_score\n",
    "\n",
    "def objective(trial):\n",
    "    gamma = trial.suggest_float('gamma', 1e-2, 1e+2, log=True)\n",
    "    lambd = trial.suggest_float('lambd', 1e-3, 1e+3, log=True)\n",
    "    model = Pipeline([\n",
    "        ('kpca', KernelPCA(n_components=100, kernel='rbf', gamma=gamma)),\n",
    "        ('LogReg', LogisticRegression(C=1/lambd)),\n",
    "    ])   \n",
    "    cv_scores = cross_val_score(model, X, y=T, cv=4)\n",
    "    return cv_scores.mean()"
   ]
  },
  {
   "cell_type": "code",
   "execution_count": null,
   "id": "95449911-6b00-4578-b005-cdee0526b2c8",
   "metadata": {},
   "outputs": [],
   "source": [
    "study = optuna.create_study(direction='maximize')\n",
    "study.optimize(func=objective, n_trials=100)"
   ]
  },
  {
   "cell_type": "code",
   "execution_count": null,
   "id": "c151c600-9947-43cb-abc1-6e0ce5955f4f",
   "metadata": {},
   "outputs": [],
   "source": [
    "study.best_params"
   ]
  },
  {
   "cell_type": "code",
   "execution_count": null,
   "id": "30624914-027f-4717-9b6b-b693bbf4c235",
   "metadata": {},
   "outputs": [],
   "source": [
    "Z = KernelPCA(n_components=200, kernel='rbf', gamma=0.01).fit_transform(X)\n",
    "model = LogisticRegression(C=5).fit(Z, T)\n",
    "e_xx = model.predict_proba(Z)[:, 1]\n",
    "\n",
    "np.mean(np.abs(e_xx - e_x))"
   ]
  },
  {
   "cell_type": "code",
   "execution_count": null,
   "id": "a8b29946-0d5f-43af-ab66-08693ce19644",
   "metadata": {},
   "outputs": [],
   "source": [
    "np.mean(1 / e_x * T), np.mean(1 / (1 - e_x) * (1 - T)), # both should be 1"
   ]
  },
  {
   "cell_type": "code",
   "execution_count": null,
   "id": "c52a868d-77b7-4f17-ad20-f19fadc1313d",
   "metadata": {},
   "outputs": [],
   "source": [
    "np.mean(1 / e_xx * T), np.mean(1 / (1 - e_xx) * (1 - T)), # both should be 1"
   ]
  },
  {
   "cell_type": "markdown",
   "id": "efc3f9c3-9589-42d7-b680-b3f5a2459f7d",
   "metadata": {},
   "source": [
    "#### Continuous Case (Maybe on the next notebook)"
   ]
  },
  {
   "cell_type": "code",
   "execution_count": null,
   "id": "ec52f0ef-5070-4431-aa95-d34d16532698",
   "metadata": {},
   "outputs": [],
   "source": [
    "from statsmodels.nonparametric.kernel_density import KDEMultivariateConditional"
   ]
  },
  {
   "cell_type": "code",
   "execution_count": null,
   "id": "e7c75871-e5b0-4cf1-80a9-d71179e1e4a9",
   "metadata": {},
   "outputs": [],
   "source": [
    "EPS = 1e-6\n",
    "\n",
    "def benchmark_bandwidth(bw, T, X, cv=5):\n",
    "    n = T.shape[0]\n",
    "    indep_type='c' * X.shape[1]\n",
    "    dep_type='u'\n",
    "    split = (np.arange(n) % 5)\n",
    "    cross_entropy = 0\n",
    "    for i in range(cv):\n",
    "        train = (split != i)\n",
    "        test = (split == i)\n",
    "        model = KDEMultivariateConditional(T[train, None], X[train, :], dep_type='c', indep_type='c' * X.shape[1], bw=bw)\n",
    "        cross_entropy += np.mean(model.pdf(T[test, None], X[test, :]) + EPS) / cv\n",
    "    return cross_entropy"
   ]
  },
  {
   "cell_type": "code",
   "execution_count": null,
   "id": "0601e3f6-4f21-4744-b52d-cff4ed8cf82d",
   "metadata": {},
   "outputs": [],
   "source": [
    "best_scale = 0\n",
    "best_score = - float('inf')\n",
    "for scale in [0.1, 0.2, 0.3, 0.5, 0.7, 1, 1.5, 2, 3, 5]:\n",
    "    bw = scale * np.concatenate([[Y.std()], X.std(axis=0)]) / Y.shape[0] ** (1 / 7)\n",
    "    score = benchmark_bandwidth(bw, Y, X)\n",
    "    if score > best_score:\n",
    "        best_scale = scale\n",
    "        best_score = score"
   ]
  },
  {
   "cell_type": "code",
   "execution_count": null,
   "id": "dcfb74c5-773c-4ba0-8562-d92ebee0bf63",
   "metadata": {},
   "outputs": [],
   "source": [
    "best_scale, best_score"
   ]
  },
  {
   "cell_type": "code",
   "execution_count": null,
   "id": "ad8a2066-614d-4390-bb2b-7730d19ce30b",
   "metadata": {},
   "outputs": [],
   "source": [
    "bw0 = best_scale * np.concatenate([[Y.std()], X.std(axis=0)]) / Y.shape[0] ** (1 / 7)\n",
    "model = KDEMultivariateConditional(Y[:, None], X, dep_type='c', indep_type='c' * X.shape[1], bw=bw0)"
   ]
  },
  {
   "cell_type": "code",
   "execution_count": null,
   "id": "97445cb5-246d-458d-9faa-2af729248646",
   "metadata": {},
   "outputs": [],
   "source": [
    "e_xx = model.pdf(Y[:, None], X)\n",
    "e_xx"
   ]
  },
  {
   "cell_type": "code",
   "execution_count": null,
   "id": "7fc365b9-566e-4dfc-a52f-f9b29cd6a463",
   "metadata": {},
   "outputs": [],
   "source": [
    "plt.hist(e_xx)"
   ]
  },
  {
   "cell_type": "code",
   "execution_count": null,
   "id": "23633bf1-ab0b-407c-8301-e8cac42995b2",
   "metadata": {},
   "outputs": [],
   "source": [
    "model.bw"
   ]
  },
  {
   "cell_type": "code",
   "execution_count": null,
   "id": "8c2e5190-6262-4c27-8ccd-7a44587c0482",
   "metadata": {},
   "outputs": [],
   "source": [
    "[np.mean(1. / e_xx * ((i <= Y) & (Y <= i + 1))) for i in range(7)]  # Should go to 1"
   ]
  },
  {
   "cell_type": "code",
   "execution_count": null,
   "id": "107e61f5-4574-4956-9d01-5c9bba9dd833",
   "metadata": {},
   "outputs": [],
   "source": [
    "# Shouldn't we use loo estimate for propensity? (For reducing the sampling bias)"
   ]
  },
  {
   "cell_type": "code",
   "execution_count": null,
   "id": "3d1c0419-f4b2-4446-ab71-5e6eee188523",
   "metadata": {},
   "outputs": [],
   "source": [
    "model_loocv = KDEMultivariateConditional(Y[:500, None], X[:500], dep_type='c', indep_type='c' * X.shape[1], bw='cv_ml')\n",
    "model_loocv = KDEMultivariateConditional(Y[:, None], X, dep_type='c', indep_type='c' * X.shape[1], bw=model_loocv.bw)\n",
    "model_loocv.pdf(T[:, None], X)"
   ]
  },
  {
   "cell_type": "code",
   "execution_count": null,
   "id": "8a95f284-4895-4f89-911f-a55ee335f215",
   "metadata": {},
   "outputs": [],
   "source": [
    "model_loocv.bw"
   ]
  },
  {
   "cell_type": "code",
   "execution_count": null,
   "id": "b207be7d-493b-4bb7-a554-d15aeeaff518",
   "metadata": {},
   "outputs": [],
   "source": [
    "e_xx = model_loocv.pdf(Y[:, None], X)\n",
    "e_xx"
   ]
  },
  {
   "cell_type": "code",
   "execution_count": null,
   "id": "00379916-a010-4344-acb0-ed140593554b",
   "metadata": {},
   "outputs": [],
   "source": [
    "[np.mean(1. / e_xx * ((i <= Y) & (Y <= i + 1))) for i in range(7)]  # Should go to 1"
   ]
  },
  {
   "cell_type": "code",
   "execution_count": null,
   "id": "63944a93-0dbd-48c3-90c2-36996d39e4ca",
   "metadata": {},
   "outputs": [],
   "source": [
    "Y, T, X, U, e_x, e_xu = generate_data(2000)"
   ]
  },
  {
   "cell_type": "code",
   "execution_count": null,
   "id": "f1fd567f-84fa-49b6-b7da-35c624fab0e4",
   "metadata": {},
   "outputs": [],
   "source": [
    "# Maybe better to use gaussian process regression\n",
    "from sklearn.gaussian_process import GaussianProcessRegressor\n",
    "from sklearn.gaussian_process.kernels import ConstantKernel, WhiteKernel, RBF\n",
    "from scipy.stats import norm\n",
    "\n",
    "kernel = WhiteKernel() + ConstantKernel() * RBF()\n",
    "model = GaussianProcessRegressor(kernel=kernel).fit(X, Y)\n",
    "mu, sigma = model.predict(X, return_std=True)\n",
    "e_xx = norm.pdf(Y, loc=mu, scale=sigma)"
   ]
  },
  {
   "cell_type": "code",
   "execution_count": null,
   "id": "a81897c5-fc21-4a56-883c-5d5ec400d79f",
   "metadata": {},
   "outputs": [],
   "source": [
    "plt.hist(e_xx)"
   ]
  },
  {
   "cell_type": "code",
   "execution_count": null,
   "id": "0a323a80-9992-431d-a38b-37ec4b41aee0",
   "metadata": {},
   "outputs": [],
   "source": [
    "[np.mean(1. / e_xx * ((i <= Y) & (Y <= i + 1))) for i in range(7)]  # Should go to 1"
   ]
  },
  {
   "cell_type": "code",
   "execution_count": null,
   "id": "265b6a80-fba6-4847-a569-c2314db4b076",
   "metadata": {},
   "outputs": [],
   "source": []
  }
 ],
 "metadata": {
  "kernelspec": {
   "display_name": "Python 3",
   "language": "python",
   "name": "python3"
  },
  "language_info": {
   "codemirror_mode": {
    "name": "ipython",
    "version": 3
   },
   "file_extension": ".py",
   "mimetype": "text/x-python",
   "name": "python",
   "nbconvert_exporter": "python",
   "pygments_lexer": "ipython3",
   "version": "3.8.10"
  }
 },
 "nbformat": 4,
 "nbformat_minor": 5
}
