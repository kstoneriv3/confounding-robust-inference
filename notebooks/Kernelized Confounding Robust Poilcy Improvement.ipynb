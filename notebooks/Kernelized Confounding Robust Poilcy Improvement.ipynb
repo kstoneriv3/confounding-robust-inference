{
 "cells": [
  {
   "cell_type": "code",
   "execution_count": 23,
   "id": "94f55962-82f5-4afa-ae92-50fa552365c5",
   "metadata": {},
   "outputs": [],
   "source": [
    "import numpy as np\n",
    "import cvxpy as cp"
   ]
  },
  {
   "cell_type": "markdown",
   "id": "fb264d9a-0481-4907-9484-72ac3934fa59",
   "metadata": {},
   "source": [
    "Toy Example"
   ]
  },
  {
   "cell_type": "code",
   "execution_count": null,
   "id": "2bbcf842-c8e8-4353-83a2-4a47a09b3ff9",
   "metadata": {},
   "outputs": [],
   "source": [
    "X"
   ]
  },
  {
   "cell_type": "markdown",
   "id": "6fd151ad-3655-4fc8-a774-cbdbbb819c01",
   "metadata": {},
   "source": [
    "### Examples of cvxpy and cvxpylayers"
   ]
  },
  {
   "cell_type": "code",
   "execution_count": 2,
   "id": "fb5cd970-fa41-4e60-8a42-680b676f223a",
   "metadata": {},
   "outputs": [],
   "source": [
    "m = 15\n",
    "n = 10\n",
    "np.random.seed(1)\n",
    "s0 = np.random.randn(m)\n",
    "lamb0 = np.maximum(-s0, 0)\n",
    "s0 = np.maximum(s0, 0)\n",
    "x0 = np.random.randn(n)\n",
    "A = np.random.randn(m, n)\n",
    "b = A @ x0 + s0\n",
    "c = -A.T @ lamb0"
   ]
  },
  {
   "cell_type": "code",
   "execution_count": 16,
   "id": "e8680d4c-ecc7-4a83-b1af-e731d50aff88",
   "metadata": {},
   "outputs": [
    {
     "data": {
      "text/plain": [
       "-13.388855525388324"
      ]
     },
     "execution_count": 16,
     "metadata": {},
     "output_type": "execute_result"
    }
   ],
   "source": [
    "# Define and solve the CVXPY problem.\n",
    "x = cp.Variable(n)\n",
    "objective = cp.Minimize(c.T@x + cp.sum_squares(x) * 1e-2)\n",
    "constraints = [\n",
    "    A @ x <= b,\n",
    "    cp.sum_squares(A @ x) <= np.sum(b ** 2) / 2\n",
    "]\n",
    "prob = cp.Problem(objective, constraints)\n",
    "prob.solve()"
   ]
  },
  {
   "cell_type": "code",
   "execution_count": 12,
   "id": "53183410-48f5-4a73-bdcf-b1b876c812bd",
   "metadata": {},
   "outputs": [
    {
     "name": "stdout",
     "output_type": "stream",
     "text": [
      "\n",
      "The optimal value is -13.48916108876133\n",
      "A solution x is\n",
      "[-1.21344369 -0.22703139 -0.82121289 -0.4959934   0.12467037 -0.46052435\n",
      "  1.49070295  0.42483225  1.20058554  1.87999998]\n",
      "A dual solution is\n",
      "[2.12092392e-09 1.19413482e+00 2.07031246e+00 1.04310871e-08\n",
      " 4.24186157e-09 1.45569757e+00 5.12293992e-09 1.03816048e-08\n",
      " 3.90312958e-09 3.30334738e-09 6.30526169e-01 2.66488454e-07\n",
      " 2.87627667e-01 2.72986790e-01 2.40614618e-09]\n"
     ]
    }
   ],
   "source": [
    "# Print result.\n",
    "print(\"\\nThe optimal value is\", prob.value)\n",
    "print(\"A solution x is\")\n",
    "print(x.value)\n",
    "print(\"A dual solution is\")\n",
    "print(prob.constraints[0].dual_value)"
   ]
  },
  {
   "cell_type": "code",
   "execution_count": 19,
   "id": "f54d88c5-1dd7-4694-94da-443130026b4f",
   "metadata": {},
   "outputs": [],
   "source": [
    "n, m = 2, 3\n",
    "x = cp.Variable(n)\n",
    "A = cp.Parameter((m, n))\n",
    "b = cp.Parameter(m)\n",
    "constraints = [x + cp.sum_squares(x) <= 0]\n",
    "objective = cp.Minimize(0.5 * cp.pnorm(A @ x - b, p=1))\n",
    "problem = cp.Problem(objective, constraints)\n",
    "assert problem.is_dpp()"
   ]
  },
  {
   "cell_type": "code",
   "execution_count": 21,
   "id": "e0a613d0-1eb0-4189-9a7e-de5cc2353c26",
   "metadata": {},
   "outputs": [],
   "source": [
    "import cvxpy as cp\n",
    "import torch\n",
    "from cvxpylayers.torch import CvxpyLayer\n",
    "\n",
    "n, m = 2, 3\n",
    "x = cp.Variable(n)\n",
    "A = cp.Parameter((m, n))\n",
    "b = cp.Parameter(m)\n",
    "constraints = [x >= 0]\n",
    "objective = cp.Minimize(0.5 * cp.pnorm(A @ x - b, p=1))\n",
    "problem = cp.Problem(objective, constraints)\n",
    "assert problem.is_dpp()\n",
    "\n",
    "cvxpylayer = CvxpyLayer(problem, parameters=[A, b], variables=[x])\n",
    "A_tch = torch.randn(m, n, requires_grad=True)\n",
    "b_tch = torch.randn(m, requires_grad=True)\n",
    "\n",
    "# solve the problem\n",
    "solution, = cvxpylayer(A_tch, b_tch)\n",
    "\n",
    "# compute the gradient of the sum of the solution with respect to A, b\n",
    "solution.sum().backward()"
   ]
  },
  {
   "cell_type": "code",
   "execution_count": null,
   "id": "f15e16ba-5202-4a03-a3dd-99d1d6a7c402",
   "metadata": {},
   "outputs": [],
   "source": []
  }
 ],
 "metadata": {
  "kernelspec": {
   "display_name": "Python 3",
   "language": "python",
   "name": "python3"
  },
  "language_info": {
   "codemirror_mode": {
    "name": "ipython",
    "version": 3
   },
   "file_extension": ".py",
   "mimetype": "text/x-python",
   "name": "python",
   "nbconvert_exporter": "python",
   "pygments_lexer": "ipython3",
   "version": "3.8.10"
  }
 },
 "nbformat": 4,
 "nbformat_minor": 5
}
