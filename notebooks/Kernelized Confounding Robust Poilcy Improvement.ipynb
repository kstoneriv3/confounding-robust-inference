{
 "cells": [
  {
   "cell_type": "code",
   "execution_count": 16,
   "id": "94f55962-82f5-4afa-ae92-50fa552365c5",
   "metadata": {},
   "outputs": [],
   "source": [
    "import numpy as np\n",
    "import cvxpy as cp\n",
    "import torch"
   ]
  },
  {
   "cell_type": "code",
   "execution_count": 36,
   "id": "73a7049b-e599-4611-8fdb-6645838e85e3",
   "metadata": {},
   "outputs": [],
   "source": [
    "from scipy.linalg import eigh\n",
    "from scipy.stats import chi2"
   ]
  },
  {
   "cell_type": "code",
   "execution_count": 2,
   "id": "a67d678e-0d10-49ce-bb57-73cf322de723",
   "metadata": {},
   "outputs": [],
   "source": [
    "from matplotlib import pyplot as plt"
   ]
  },
  {
   "cell_type": "code",
   "execution_count": 79,
   "id": "d320e18a-bc38-466b-b32e-0cdb83534424",
   "metadata": {},
   "outputs": [],
   "source": [
    "import warnings"
   ]
  },
  {
   "cell_type": "markdown",
   "id": "7ada7874-e869-432d-81a0-d2c99cb26b35",
   "metadata": {},
   "source": [
    "### Synthetic Data from Kallus 2018"
   ]
  },
  {
   "cell_type": "code",
   "execution_count": 3,
   "id": "b38da168-0ae9-42ae-91ef-97b8df8c0170",
   "metadata": {},
   "outputs": [],
   "source": [
    "beta0 = 2.5\n",
    "beta0_t = -2\n",
    "beta_x = np.asarray([0, .5, -0.5, 0, 0])\n",
    "beta_x_t = np.asarray([-1.5, 1, -1.5, 1., 0.5])\n",
    "beta_xi = 1\n",
    "beta_xi_t = -2\n",
    "beta_e_x = np.asarray([0, .75, -.5, 0, -1])\n",
    "mu_x = np.asarray([-1, .5, -1, 0, -1]);\n",
    "\n",
    "def generate_data(n):\n",
    "    xi = (np.random.rand(n) > 0.5).astype(int)\n",
    "    X = mu_x[None, :] + np.random.randn(n * 5).reshape(n, 5)\n",
    "    eps = [np.random.randn(n) for t in (0, 1)]\n",
    "    Y = np.array([\n",
    "        X @ (beta_x + beta_x_t * t) + (beta_xi + beta_xi_t * t) * xi + (beta0 + beta0_t * t) + eps[t]\n",
    "        for t in (0, 1)\n",
    "    ])\n",
    "    U = (Y[0, :] > Y[1, :]).astype(int)\n",
    "    z = X @ beta_e_x\n",
    "    e_x = np.exp(z) / (1 + np.exp(z))\n",
    "    e_xu = (6 * e_x) / (4 + 5 * U + e_x * (2 - 5 * U))\n",
    "    T = (np.random.rand(n) < e_xu).astype(int)\n",
    "    Y = Y[T, range(n)]\n",
    "    return Y, T, X, U, e_x, e_xu\n",
    "\n",
    "def evaluate_policy(policy, n=1000):\n",
    "    xi = (np.random.rand(n) > 0.5).astype(int)\n",
    "    X = mu_x[None, :] + np.random.randn(n * 5).reshape(n, 5)\n",
    "    eps = [np.random.randn(n) for t in (0, 1)]\n",
    "    Y = np.array([\n",
    "        X @ (beta_x + beta_x_t * t) + (beta_xi + beta_xi_t * t) * xi + (beta0 + beta0_t * t) + eps[t]\n",
    "        for t in (0, 1)\n",
    "    ])\n",
    "    e_x = policy(X)\n",
    "    T = (np.random.rand(n) < e_x).astype(int)\n",
    "    Y = Y[T, range(n)]\n",
    "    return Y.mean()"
   ]
  },
  {
   "cell_type": "code",
   "execution_count": 159,
   "id": "26eaf456-9e01-40a2-8687-9f6cf9d8f84f",
   "metadata": {},
   "outputs": [],
   "source": [
    "n = 1000\n",
    "Y, T, X, U, e_x, e_xu = generate_data(n)\n",
    "p_t = e_x * T + (1 - e_x) * (1 - T)  # p_obs(T|X), e_x:=p(T=1|X)"
   ]
  },
  {
   "cell_type": "code",
   "execution_count": 4,
   "id": "b14c0b72-5f51-4cfe-b369-81009ea78236",
   "metadata": {},
   "outputs": [],
   "source": [
    "def toy_policy(X):\n",
    "    z = X @ beta_e_x\n",
    "    e_x = np.exp(z) / (1 + np.exp(z))\n",
    "    return e_x\n",
    "\n",
    "def zero_policy(X):\n",
    "    return np.zeros(X.shape[0], dtype=int)"
   ]
  },
  {
   "cell_type": "code",
   "execution_count": null,
   "id": "033cb79d-8bdd-4ce4-acd4-b5099573705a",
   "metadata": {},
   "outputs": [],
   "source": [
    "policy_prob = toy_policy(X) * T + (1 - toy_policy(X)) * (1 - T)"
   ]
  },
  {
   "cell_type": "markdown",
   "id": "6d91b40e-adfd-4007-b14d-8fd67a3a233a",
   "metadata": {},
   "source": [
    "### Estimate Propensity Score (Conditional Density Estimation)"
   ]
  },
  {
   "cell_type": "markdown",
   "id": "8f276ca6-14ec-4bfd-b443-5681aebb868d",
   "metadata": {},
   "source": [
    "#### Discrete Case"
   ]
  },
  {
   "cell_type": "code",
   "execution_count": 160,
   "id": "430a6dbf-80b0-45a9-8c32-3aac778bae9f",
   "metadata": {},
   "outputs": [
    {
     "data": {
      "text/plain": [
       "0.028977734152883666"
      ]
     },
     "execution_count": 160,
     "metadata": {},
     "output_type": "execute_result"
    }
   ],
   "source": [
    "# Logistic regression is already quite good\n",
    "from sklearn.linear_model import LogisticRegressionCV\n",
    "\n",
    "model = LogisticRegressionCV().fit(X, T)\n",
    "e_xx = model.predict_proba(X)[:, 1]\n",
    "\n",
    "np.mean(np.abs(e_xx - e_x))"
   ]
  },
  {
   "cell_type": "code",
   "execution_count": 83,
   "id": "a4caf7ea-52f4-4053-bcf0-5c047c8e88aa",
   "metadata": {},
   "outputs": [],
   "source": [
    "# But Kernel Logistic Regression is slightly better\n",
    "import optuna\n",
    "from sklearn.decomposition import KernelPCA\n",
    "from sklearn.linear_model import LogisticRegression\n",
    "from sklearn.pipeline import Pipeline\n",
    "from sklearn.model_selection import cross_val_score\n",
    "\n",
    "def objective(trial):\n",
    "    gamma = trial.suggest_float('gamma', 1e-2, 1e+2, log=True)\n",
    "    lambd = trial.suggest_float('lambd', 1e-3, 1e+3, log=True)\n",
    "    model = Pipeline([\n",
    "        ('kpca', KernelPCA(n_components=100, kernel='rbf', gamma=gamma)),\n",
    "        ('LogReg', LogisticRegression(C=1/lambd)),\n",
    "    ])   \n",
    "    cv_scores = cross_val_score(model, X, y=T, cv=4)\n",
    "    return cv_scores.mean()"
   ]
  },
  {
   "cell_type": "code",
   "execution_count": null,
   "id": "70791c94-573c-4031-8743-70bc6bf19874",
   "metadata": {},
   "outputs": [],
   "source": [
    "study = optuna.create_study(direction='maximize')\n",
    "study.optimize(func=objective, n_trials=100)"
   ]
  },
  {
   "cell_type": "code",
   "execution_count": 332,
   "id": "43deca72-a503-4e24-bea2-23e6bac4ad77",
   "metadata": {},
   "outputs": [
    {
     "data": {
      "text/plain": [
       "{'gamma': 0.010034979398825772, 'lambd': 0.21459944940837156}"
      ]
     },
     "execution_count": 332,
     "metadata": {},
     "output_type": "execute_result"
    }
   ],
   "source": [
    "study.best_params  # {'gamma': 0.010034979398825772, 'lambd': 0.21459944940837156}"
   ]
  },
  {
   "cell_type": "code",
   "execution_count": 84,
   "id": "d40af776-f6f2-451b-a8ca-21dc5da4efd7",
   "metadata": {},
   "outputs": [
    {
     "data": {
      "text/plain": [
       "0.03826673841730191"
      ]
     },
     "execution_count": 84,
     "metadata": {},
     "output_type": "execute_result"
    }
   ],
   "source": [
    "Z = KernelPCA(n_components=200, kernel='rbf', gamma=0.01).fit_transform(X)\n",
    "model = LogisticRegression(C=5).fit(Z, T)\n",
    "e_xx = model.predict_proba(Z)[:, 1]\n",
    "\n",
    "np.mean(np.abs(e_xx - e_x))"
   ]
  },
  {
   "cell_type": "code",
   "execution_count": 85,
   "id": "a86000ed-4bab-4826-b0cd-27c9138d54d2",
   "metadata": {},
   "outputs": [
    {
     "data": {
      "text/plain": [
       "(0.971735148999058, 1.2553961580268826)"
      ]
     },
     "execution_count": 85,
     "metadata": {},
     "output_type": "execute_result"
    }
   ],
   "source": [
    "np.mean(1 / e_x * T), np.mean(1 / (1 - e_x) * (1 - T)), # both should be 1"
   ]
  },
  {
   "cell_type": "code",
   "execution_count": 86,
   "id": "3ead9312-bacc-41b0-9da3-b5a2d7aaab78",
   "metadata": {},
   "outputs": [
    {
     "data": {
      "text/plain": [
       "(0.9921816798668701, 0.913243440765119)"
      ]
     },
     "execution_count": 86,
     "metadata": {},
     "output_type": "execute_result"
    }
   ],
   "source": [
    "np.mean(1 / e_xx * T), np.mean(1 / (1 - e_xx) * (1 - T)), # both should be 1"
   ]
  },
  {
   "cell_type": "markdown",
   "id": "d32ae6b5-a553-4938-b801-507577fbd957",
   "metadata": {},
   "source": [
    "### Ground Truth"
   ]
  },
  {
   "cell_type": "code",
   "execution_count": 161,
   "id": "01b93677-0b48-4c01-ac31-5d3512df0256",
   "metadata": {},
   "outputs": [
    {
     "data": {
      "text/plain": [
       "3.8738391429170824"
      ]
     },
     "execution_count": 161,
     "metadata": {},
     "output_type": "execute_result"
    }
   ],
   "source": [
    "evaluate_policy(toy_policy, n=1000000)"
   ]
  },
  {
   "cell_type": "markdown",
   "id": "192be7f4-218c-438b-936e-1fb36b12d858",
   "metadata": {
    "tags": []
   },
   "source": [
    "### IPW estimator"
   ]
  },
  {
   "cell_type": "code",
   "execution_count": 162,
   "id": "8324d72a-d040-4d7e-bda5-4f29ee921f49",
   "metadata": {},
   "outputs": [],
   "source": [
    "est_ipw = np.mean(policy_prob / p_t * Y)"
   ]
  },
  {
   "cell_type": "code",
   "execution_count": 163,
   "id": "706245b2-acee-48fb-913c-0806dc1eddc0",
   "metadata": {},
   "outputs": [
    {
     "data": {
      "text/plain": [
       "4.0437559536096055"
      ]
     },
     "execution_count": 163,
     "metadata": {},
     "output_type": "execute_result"
    }
   ],
   "source": [
    "est_ipw"
   ]
  },
  {
   "cell_type": "markdown",
   "id": "1850ff26-d019-4d86-bf76-b4cbef1cfc92",
   "metadata": {},
   "source": [
    "### Implement Confounding Robust Hajek Estimator    "
   ]
  },
  {
   "cell_type": "code",
   "execution_count": 164,
   "id": "9d67fbd8-bca2-4003-8305-82b39f9474d4",
   "metadata": {},
   "outputs": [],
   "source": [
    "def confoundingRobustHajek(r, T, a, b, return_w=False):\n",
    "    r_np = r.data.numpy() if isinstance(r, torch.Tensor) else r\n",
    "    w = np.zeros_like(a)\n",
    "    for t in set(T):\n",
    "        r_t = r_np[T == t]\n",
    "        a_t = a[T == t]\n",
    "        b_t = b[T == t]\n",
    "        with warnings.catch_warnings():  # to avoid user warning about multiplication operator with `*` and `@`\n",
    "            warnings.simplefilter(\"ignore\")\n",
    "            w[T == t] = hajekLP(r_t, a_t, b_t, r.shape[0])\n",
    "    if isinstance(r, torch.Tensor):\n",
    "        est = torch.mean(torch.as_tensor(w) * r)\n",
    "    else:\n",
    "        est = np.mean(w * r_np)\n",
    "    return (est, w) if return_w else est\n",
    "\n",
    "def hajekLP(r, a, b, n):\n",
    "    m = r.shape[0]\n",
    "    w = cp.Variable(m)\n",
    "    phi = cp.Variable()\n",
    "    constraints = [\n",
    "        np.zeros(m) <= w,\n",
    "        0 <= phi,\n",
    "        a * phi <= w,\n",
    "        w <= b * phi,\n",
    "        cp.sum(w) == n\n",
    "    ]\n",
    "    objective = cp.Minimize(cp.sum(r * w))\n",
    "    problem = cp.Problem(objective, constraints)\n",
    "    problem.solve()\n",
    "    return w.value"
   ]
  },
  {
   "cell_type": "code",
   "execution_count": 165,
   "id": "48c91286-0443-468d-a2f9-b8ad0c72b4fb",
   "metadata": {},
   "outputs": [],
   "source": [
    "def get_a_b(e_x, T, gamma):\n",
    "    p_t = e_x * T + (1 - e_x) * (1 - T)  # p_obs(t|x)\n",
    "    a = 1 + 1 / gamma * (1 / p_t - 1)\n",
    "    b = 1 + gamma * (1 / p_t - 1)\n",
    "    return a, b"
   ]
  },
  {
   "cell_type": "code",
   "execution_count": 166,
   "id": "4c9ffc52-aee3-4c12-9da7-8270acb862c4",
   "metadata": {},
   "outputs": [],
   "source": [
    "a, b = get_a_b(e_xx, T, 1.5)\n",
    "p_t = (e_xx * T + (1 - e_xx) * (1 - T))"
   ]
  },
  {
   "cell_type": "code",
   "execution_count": 167,
   "id": "6df2dcbd-4d55-4a9b-adee-952985ba84ed",
   "metadata": {},
   "outputs": [],
   "source": [
    "est, w = confoundingRobustHajek(Y * policy_prob, T, a, b, return_w=True)"
   ]
  },
  {
   "cell_type": "code",
   "execution_count": 168,
   "id": "de57e7de-22c2-4e12-ad09-2c887d747feb",
   "metadata": {},
   "outputs": [
    {
     "data": {
      "text/plain": [
       "3.7080853416655826"
      ]
     },
     "execution_count": 168,
     "metadata": {},
     "output_type": "execute_result"
    }
   ],
   "source": [
    "est"
   ]
  },
  {
   "cell_type": "code",
   "execution_count": 169,
   "id": "48ee3f51-3cf3-4fbd-924b-43b682efc447",
   "metadata": {},
   "outputs": [],
   "source": [
    "differentiable_r = torch.tensor(np.random.randn(T.shape[0]), requires_grad=True)\n",
    "est, w = confoundingRobustHajek(differentiable_r, T, a, b, return_w=True)"
   ]
  },
  {
   "cell_type": "code",
   "execution_count": 170,
   "id": "8f1ddc5a-0a92-40ca-90fe-bd2e89df6221",
   "metadata": {},
   "outputs": [],
   "source": [
    "est.backward()"
   ]
  },
  {
   "cell_type": "code",
   "execution_count": 171,
   "id": "898fabe0-5840-4a5d-bf1b-f7ffabeed871",
   "metadata": {},
   "outputs": [
    {
     "data": {
      "text/plain": [
       "True"
      ]
     },
     "execution_count": 171,
     "metadata": {},
     "output_type": "execute_result"
    }
   ],
   "source": [
    "torch.allclose(differentiable_r.grad, torch.as_tensor(w / n))"
   ]
  },
  {
   "cell_type": "markdown",
   "id": "cd32558c-cdd0-4263-a9a6-e4ad83f5a0b5",
   "metadata": {},
   "source": [
    "### Implement Confounding Robust Kernel Estimator"
   ]
  },
  {
   "cell_type": "code",
   "execution_count": 197,
   "id": "b0958fe6-fad8-4801-9264-e9857c91d2c5",
   "metadata": {},
   "outputs": [],
   "source": [
    "from sklearn.gaussian_process import GaussianProcessRegressor\n",
    "from sklearn.gaussian_process.kernels import ConstantKernel, WhiteKernel, RBF"
   ]
  },
  {
   "cell_type": "code",
   "execution_count": 233,
   "id": "1940c7f4-d4e6-4725-b75b-0b9912e60d0a",
   "metadata": {},
   "outputs": [],
   "source": [
    "def confoundingRobustKernel(r, T, X, a, b, p_t, alpha=0.01, return_w=False):\n",
    "    r_np = r.data.numpy() if isinstance(r, torch.Tensor) else r\n",
    "    with warnings.catch_warnings():\n",
    "        warnings.simplefilter(\"ignore\")\n",
    "        # w = KernelLP(r_np, T, X, a, b, p_t, alpha)\n",
    "        w = binaryKernelLP(r_np, T, X, a, b, p_t, alpha)\n",
    "    if isinstance(r, torch.Tensor):\n",
    "        est = torch.mean(torch.as_tensor(w) * r)\n",
    "    else:\n",
    "        est = np.mean(w * r_np)\n",
    "    return (est, w) if return_w else est\n",
    "\n",
    "\n",
    "def binaryKernelLP(r, T, X, a, b, p_t, alpha):\n",
    "    n = r.shape[0]\n",
    "    \n",
    "    TX = np.concatenate([T[:, None], X], axis=1)\n",
    "    _, w = confoundingRobustHajek(r, T, a, b, return_w=True)\n",
    "    e = w * p_t - 1\n",
    "    kernel_ = WhiteKernel() + ConstantKernel() * RBF()\n",
    "    model = GaussianProcessRegressor(kernel=kernel_).fit(TX[:1000], e[:1000])\n",
    "\n",
    "    lambd = model.kernel_.k1.noise_level\n",
    "    kernel = model.kernel_.k2\n",
    "    K = kernel(TX, TX)\n",
    "    S, V = eigh(K, subset_by_index=[max(0, n-200), n-1])\n",
    "    \n",
    "    w = cp.Variable(n)\n",
    "    phi0 = cp.Variable()\n",
    "    phi1 = cp.Variable()\n",
    "    z = cp.Variable(min(200, n))  # low-rank expression of error\n",
    "\n",
    "    p_t_scaled = np.zeros_like(p_t)\n",
    "    p_t_scaled[T == 0] = p_t[T == 0] * np.mean((1 - T) / p_t)\n",
    "    p_t_scaled[T == 1] = p_t[T == 1] * np.mean(T / p_t)\n",
    "\n",
    "    M = np.diag(S / (S + lambd)) @ V.T @ np.diag(p_t_scaled)\n",
    "    u = np.diag(S / (S + lambd)) @ V.T @ np.ones(n)\n",
    "\n",
    "    Cov_z = S - S ** 2 / (S + lambd)\n",
    "    chi2_bound = chi2(df=min(200, n)).ppf(1 - alpha)\n",
    "\n",
    "    constraints = [\n",
    "        np.zeros(n) <= w,\n",
    "        0 <= phi0,\n",
    "        0 <= phi1,\n",
    "        a * (1 - T) * phi0 + a * T * phi1 <= w,\n",
    "        w <= b * (1 - T) * phi0 + b * T * phi1,\n",
    "        cp.sum(w * (1 - T)) == n,\n",
    "        cp.sum(w * T) == n,\n",
    "        z == M @ w - u,\n",
    "        cp.sum(z ** 2 / Cov_z) <= chi2_bound,\n",
    "    ]\n",
    "    objective = cp.Minimize(cp.sum(r * w))\n",
    "    problem = cp.Problem(objective, constraints)\n",
    "    problem.solve()\n",
    "    \n",
    "    return w.value\n",
    "\n",
    "\n",
    "def KernelLP(r, T, X, a, b, p_t, alpha):\n",
    "    n = r.shape[0]\n",
    "    TX = np.concatenate([T[:, None], X], axis=1)\n",
    "    _, w = confoundingRobustHajek(r, T, a, b, return_w=True)\n",
    "    e = w * p_t - 1\n",
    "    kernel_ = WhiteKernel() + ConstantKernel() * RBF()\n",
    "    model = GaussianProcessRegressor(kernel=kernel_).fit(TX[:1000], e[:1000])\n",
    "\n",
    "    lambd = model.kernel_.k1.noise_level\n",
    "    kernel = model.kernel_.k2\n",
    "    \n",
    "    K = kernel(TX, TX)\n",
    "    S, V = eigh(K, subset_by_index=[max(0, n - 200), n-1])\n",
    "    M = np.diag(S / (S + lambd)) @ V.T @ np.diag(p_t)\n",
    "    u = np.diag(S / (S + lambd)) @ V.T @ np.ones(n)\n",
    "\n",
    "    w = cp.Variable(n)\n",
    "    z = cp.Variable(min(200, n))\n",
    "\n",
    "    Cov_z = S - S ** 2 / (S + lambd)\n",
    "    chi2_bound = chi2(df=min(200, n)).ppf(1 - alpha)\n",
    "\n",
    "    constraints = [\n",
    "        np.zeros(n) <= w,\n",
    "        a <= w,\n",
    "        w <= b,\n",
    "        z == M @ w - u,\n",
    "        cp.sum(z ** 2 / Cov_z) <= chi2_bound,\n",
    "    ]\n",
    "    objective = cp.Minimize(cp.sum(r * w))\n",
    "    problem = cp.Problem(objective, constraints)\n",
    "    problem.solve()\n",
    "    \n",
    "    return w.value"
   ]
  },
  {
   "cell_type": "code",
   "execution_count": 199,
   "id": "911618a3-d8d1-447f-9a21-f01bedfb630a",
   "metadata": {},
   "outputs": [],
   "source": [
    "est, w = confoundingRobustKernel(Y * policy_prob, T, X, a, b, p_t, return_w=True)"
   ]
  },
  {
   "cell_type": "code",
   "execution_count": 200,
   "id": "811121e4-0a14-459d-9223-b528cdf5cbd1",
   "metadata": {},
   "outputs": [
    {
     "data": {
      "text/plain": [
       "3.836812650648408"
      ]
     },
     "execution_count": 200,
     "metadata": {},
     "output_type": "execute_result"
    }
   ],
   "source": [
    "est"
   ]
  },
  {
   "cell_type": "code",
   "execution_count": 203,
   "id": "d18bd70a-24d4-44d0-a0c4-9ae4da15aaf7",
   "metadata": {},
   "outputs": [],
   "source": [
    "est, w = confoundingRobustKernel(Y * policy_prob, T, X, a, b, p_t, return_w=True)"
   ]
  },
  {
   "cell_type": "code",
   "execution_count": 204,
   "id": "1f9ec2ed-2f4d-4aa7-96ff-f3a89d907c8e",
   "metadata": {},
   "outputs": [
    {
     "data": {
      "text/plain": [
       "3.778053728124258"
      ]
     },
     "execution_count": 204,
     "metadata": {},
     "output_type": "execute_result"
    }
   ],
   "source": [
    "est  # without sum-up-to-one constraints"
   ]
  },
  {
   "cell_type": "markdown",
   "id": "f058a91f-2c45-482c-90bf-360a10833ff5",
   "metadata": {},
   "source": [
    "### Compare Policy Improvement Performance"
   ]
  },
  {
   "cell_type": "code",
   "execution_count": 229,
   "id": "7d423589-3c4f-4915-93fd-8bf9f48d59e8",
   "metadata": {},
   "outputs": [],
   "source": [
    "import tqdm"
   ]
  },
  {
   "cell_type": "code",
   "execution_count": 230,
   "id": "d1e50f91-9bcb-4028-a87e-09e15de4d177",
   "metadata": {},
   "outputs": [],
   "source": [
    "def base_policy(X):\n",
    "    return 0.5 * torch.ones(X.shape[0], dtype=float)\n",
    "\n",
    "def LR_policy(X, beta):\n",
    "    X = np.concatenate([np.ones([X.shape[0], 1]), X], axis=1)\n",
    "    return torch.sigmoid(torch.tensor(X) @ beta)"
   ]
  },
  {
   "cell_type": "code",
   "execution_count": 244,
   "id": "4e15e5d7-d487-4bfa-a46b-3a6b77e2ec48",
   "metadata": {},
   "outputs": [
    {
     "data": {
      "text/plain": [
       "3.7388695719109504"
      ]
     },
     "execution_count": 244,
     "metadata": {},
     "output_type": "execute_result"
    }
   ],
   "source": [
    "evaluate_policy(lambda X: base_policy(X).detach().numpy(), n=100000)"
   ]
  },
  {
   "cell_type": "code",
   "execution_count": 238,
   "id": "265ddd7a-ef5b-4c8b-a431-e6e3eec59bcf",
   "metadata": {},
   "outputs": [
    {
     "name": "stderr",
     "output_type": "stream",
     "text": [
      "Regret: -1.5053225833146258: 100%|██████████████████| 101/101 [00:02<00:00, 42.64it/s]\n"
     ]
    }
   ],
   "source": [
    "# Hajek policy improvement\n",
    "train_steps = 101\n",
    "beta_hajek = torch.zeros(6, requires_grad=True, dtype=float)\n",
    "optimizer = torch.optim.SGD(lr=1e-1, params=[beta_hajek])\n",
    "pbar = tqdm.tqdm(range(train_steps))\n",
    "for i in pbar:\n",
    "    base_prob =  base_policy(X) * torch.tensor(T) + (1 - base_policy(X)) * torch.tensor(1 - T)\n",
    "    hajek_prob = LR_policy(X, beta_hajek) * torch.tensor(T) + (1 - LR_policy(X, beta_hajek)) * torch.tensor(1 - T)\n",
    "    r = torch.tensor(Y) * (base_prob - hajek_prob)\n",
    "    regret_hajek, w = confoundingRobustHajek(r, T, a, b, return_w=True)\n",
    "    regret_hajek.backward()\n",
    "    optimizer.step()\n",
    "    optimizer.zero_grad()\n",
    "    pbar.set_description(f\"Regret: {regret_hajek}\")"
   ]
  },
  {
   "cell_type": "code",
   "execution_count": 240,
   "id": "c89eefb6-7fe0-4ea0-9149-3a56e8a146f5",
   "metadata": {},
   "outputs": [
    {
     "data": {
      "text/plain": [
       "4.521893349423752"
      ]
     },
     "execution_count": 240,
     "metadata": {},
     "output_type": "execute_result"
    }
   ],
   "source": [
    "evaluate_policy(lambda X: LR_policy(X, beta_hajek).detach().numpy(), n=100000)"
   ]
  },
  {
   "cell_type": "code",
   "execution_count": null,
   "id": "6fdc0d71-7f9e-4396-a0d1-aa6a364a34ba",
   "metadata": {},
   "outputs": [],
   "source": [
    "optimizer = torch.optim.SGD(lr=1e-1, params=[beta_hajek])\n",
    "pbar = tqdm.tqdm(range(train_steps))\n",
    "for i in pbar:\n",
    "    base_prob =  base_policy(X) * torch.tensor(T) + (1 - base_policy(X)) * torch.tensor(1 - T)\n",
    "    hajek_prob = LR_policy(X, beta_hajek) * torch.tensor(T) + (1 - LR_policy(X, beta_hajek)) * torch.tensor(1 - T)\n",
    "    r = torch.tensor(Y) * (base_prob - hajek_prob)\n",
    "    regret_hajek, w = confoundingRobustHajek(r, T, a, b, return_w=True)\n",
    "    regret_hajek.backward()\n",
    "    optimizer.step()\n",
    "    optimizer.zero_grad()\n",
    "    pbar.set_description(f\"Regret: {regret_hajek}\")"
   ]
  },
  {
   "cell_type": "code",
   "execution_count": null,
   "id": "a0f49c74-4804-4f3a-9f7a-4e169642026f",
   "metadata": {},
   "outputs": [],
   "source": [
    "evaluate_policy(lambda X: LR_policy(X, beta_hajek).detach().numpy(), n=100000)"
   ]
  },
  {
   "cell_type": "code",
   "execution_count": 247,
   "id": "4f531161-ffca-4feb-8c89-599ad60bd1ec",
   "metadata": {},
   "outputs": [
    {
     "name": "stderr",
     "output_type": "stream",
     "text": [
      "Regret: -1.269788990985005: 100%|███████████████████| 101/101 [08:13<00:00,  4.88s/it]\n"
     ]
    }
   ],
   "source": [
    "# Kernel policy improvement\n",
    "train_steps = 101\n",
    "beta_kernel = torch.zeros(6, requires_grad=True, dtype=float)\n",
    "optimizer = torch.optim.SGD(lr=1e-1, params=[beta_kernel])\n",
    "pbar = tqdm.tqdm(range(train_steps))\n",
    "for i in pbar:\n",
    "    base_prob =  base_policy(X) * torch.tensor(T) + (1 - base_policy(X)) * torch.tensor(1 - T)\n",
    "    kernel_prob = LR_policy(X, beta_kernel) * torch.tensor(T) + (1 - LR_policy(X, beta_kernel)) * torch.tensor(1 - T)\n",
    "    r = torch.tensor(Y) * (base_prob - kernel_prob)\n",
    "    regret_kernel, w = confoundingRobustKernel(r, T, X, a, b, p_t, return_w=True)\n",
    "    regret_kernel.backward()\n",
    "    optimizer.step()\n",
    "    optimizer.zero_grad()\n",
    "    pbar.set_description(f\"Regret: {regret_kernel}\")"
   ]
  },
  {
   "cell_type": "code",
   "execution_count": 248,
   "id": "8a98f488-14be-4dff-9fdd-9dad89deb1af",
   "metadata": {},
   "outputs": [
    {
     "data": {
      "text/plain": [
       "4.530360478396068"
      ]
     },
     "execution_count": 248,
     "metadata": {},
     "output_type": "execute_result"
    }
   ],
   "source": [
    "evaluate_policy(lambda X: LR_policy(X, beta_kernel).detach().numpy(), n=100000)"
   ]
  },
  {
   "cell_type": "code",
   "execution_count": null,
   "id": "0036d048-3e90-427d-8fb6-5a031cd15153",
   "metadata": {},
   "outputs": [
    {
     "name": "stderr",
     "output_type": "stream",
     "text": [
      "Regret: -1.2980486651492615:  14%|██▋                | 14/101 [01:08<07:26,  5.13s/it]"
     ]
    }
   ],
   "source": [
    "pbar = tqdm.tqdm(range(train_steps))\n",
    "for i in pbar:\n",
    "    base_prob =  base_policy(X) * torch.tensor(T) + (1 - base_policy(X)) * torch.tensor(1 - T)\n",
    "    kernel_prob = LR_policy(X, beta_kernel) * torch.tensor(T) + (1 - LR_policy(X, beta_kernel)) * torch.tensor(1 - T)\n",
    "    r = torch.tensor(Y) * (base_prob - kernel_prob)\n",
    "    regret_kernel, w = confoundingRobustKernel(r, T, X, a, b, p_t, return_w=True)\n",
    "    regret_kernel.backward()\n",
    "    optimizer.step()\n",
    "    optimizer.zero_grad()\n",
    "    pbar.set_description(f\"Regret: {regret_kernel}\")"
   ]
  },
  {
   "cell_type": "code",
   "execution_count": null,
   "id": "e8ac7cf6-1e77-4312-b222-0a3b1847c08a",
   "metadata": {},
   "outputs": [],
   "source": [
    "evaluate_policy(lambda X: LR_policy(X, beta_kernel).detach().numpy(), n=100000)"
   ]
  },
  {
   "cell_type": "markdown",
   "id": "c00d4a48-9cf3-47c8-a017-367bd0cf22f5",
   "metadata": {},
   "source": [
    "### Estimate Propensity Score (Conditional Density Estimation)\n",
    "- This requires consistent nominal propensity score (p_obs(t|x))\n",
    "- For discrete t, just run kernel logistic regressionregret_kernel"
   ]
  },
  {
   "cell_type": "markdown",
   "id": "86d4e905-c91c-43c7-b967-cc7bcd7103b5",
   "metadata": {},
   "source": [
    "#### Discrete Case"
   ]
  },
  {
   "cell_type": "code",
   "execution_count": 356,
   "id": "1d8a554e-b59d-443c-940a-874042c719ad",
   "metadata": {},
   "outputs": [
    {
     "data": {
      "text/plain": [
       "0.03245225608333301"
      ]
     },
     "execution_count": 356,
     "metadata": {},
     "output_type": "execute_result"
    }
   ],
   "source": [
    "from sklearn.linear_model import LogisticRegressionCV\n",
    "# from sklearn.metrics import roc_auc_score, make_scorer\n",
    "# roc_auc_score = make_scorer(roc_auc_score, greater_is_better=True, needs_proba=True)\n",
    "\n",
    "model = LogisticRegressionCV().fit(X, T)\n",
    "e_xx = model.predict_proba(X)[:, 1]\n",
    "\n",
    "np.mean(np.abs(e_xx - e_x))"
   ]
  },
  {
   "cell_type": "code",
   "execution_count": 9,
   "id": "95f90853-b1ba-4f3f-b164-8f0915553ad2",
   "metadata": {},
   "outputs": [],
   "source": [
    "import optuna\n",
    "from sklearn.decomposition import KernelPCA\n",
    "from sklearn.linear_model import LogisticRegression\n",
    "from sklearn.pipeline import Pipeline\n",
    "from sklearn.model_selection import cross_val_score\n",
    "\n",
    "def objective(trial):\n",
    "    gamma = trial.suggest_float('gamma', 1e-2, 1e+2, log=True)\n",
    "    lambd = trial.suggest_float('lambd', 1e-3, 1e+3, log=True)\n",
    "    model = Pipeline([\n",
    "        ('kpca', KernelPCA(n_components=100, kernel='rbf', gamma=gamma)),\n",
    "        ('LogReg', LogisticRegression(C=1/lambd)),\n",
    "    ])   \n",
    "    cv_scores = cross_val_score(model, X, y=T, cv=4)\n",
    "    return cv_scores.mean()"
   ]
  },
  {
   "cell_type": "code",
   "execution_count": null,
   "id": "95449911-6b00-4578-b005-cdee0526b2c8",
   "metadata": {},
   "outputs": [],
   "source": [
    "study = optuna.create_study(direction='maximize')\n",
    "study.optimize(func=objective, n_trials=100)"
   ]
  },
  {
   "cell_type": "code",
   "execution_count": 332,
   "id": "c151c600-9947-43cb-abc1-6e0ce5955f4f",
   "metadata": {},
   "outputs": [
    {
     "data": {
      "text/plain": [
       "{'gamma': 0.010034979398825772, 'lambd': 0.21459944940837156}"
      ]
     },
     "execution_count": 332,
     "metadata": {},
     "output_type": "execute_result"
    }
   ],
   "source": [
    "study.best_params"
   ]
  },
  {
   "cell_type": "code",
   "execution_count": 10,
   "id": "30624914-027f-4717-9b6b-b693bbf4c235",
   "metadata": {},
   "outputs": [
    {
     "data": {
      "text/plain": [
       "0.023502960435053497"
      ]
     },
     "execution_count": 10,
     "metadata": {},
     "output_type": "execute_result"
    }
   ],
   "source": [
    "Z = KernelPCA(n_components=200, kernel='rbf', gamma=0.01).fit_transform(X)\n",
    "model = LogisticRegression(C=5).fit(Z, T)\n",
    "e_xx = model.predict_proba(Z)[:, 1]\n",
    "\n",
    "np.mean(np.abs(e_xx - e_x))"
   ]
  },
  {
   "cell_type": "code",
   "execution_count": 11,
   "id": "a8b29946-0d5f-43af-ab66-08693ce19644",
   "metadata": {},
   "outputs": [
    {
     "data": {
      "text/plain": [
       "(0.9926845079200554, 0.9795193002344411)"
      ]
     },
     "execution_count": 11,
     "metadata": {},
     "output_type": "execute_result"
    }
   ],
   "source": [
    "np.mean(1 / e_x * T), np.mean(1 / (1 - e_x) * (1 - T)), # both should be 1"
   ]
  },
  {
   "cell_type": "code",
   "execution_count": 12,
   "id": "c52a868d-77b7-4f17-ad20-f19fadc1313d",
   "metadata": {},
   "outputs": [
    {
     "data": {
      "text/plain": [
       "(0.9978398603769248, 0.9503035986662446)"
      ]
     },
     "execution_count": 12,
     "metadata": {},
     "output_type": "execute_result"
    }
   ],
   "source": [
    "np.mean(1 / e_xx * T), np.mean(1 / (1 - e_xx) * (1 - T)), # both should be 1"
   ]
  },
  {
   "cell_type": "markdown",
   "id": "efc3f9c3-9589-42d7-b680-b3f5a2459f7d",
   "metadata": {},
   "source": [
    "#### Continuous Case (Maybe on the next notebook)"
   ]
  },
  {
   "cell_type": "code",
   "execution_count": 598,
   "id": "ec52f0ef-5070-4431-aa95-d34d16532698",
   "metadata": {},
   "outputs": [],
   "source": [
    "from statsmodels.nonparametric.kernel_density import KDEMultivariateConditional"
   ]
  },
  {
   "cell_type": "code",
   "execution_count": 614,
   "id": "e7c75871-e5b0-4cf1-80a9-d71179e1e4a9",
   "metadata": {},
   "outputs": [],
   "source": [
    "EPS = 1e-6\n",
    "\n",
    "def benchmark_bandwidth(bw, T, X, cv=5):\n",
    "    n = T.shape[0]\n",
    "    indep_type='c' * X.shape[1]\n",
    "    dep_type='u'\n",
    "    split = (np.arange(n) % 5)\n",
    "    cross_entropy = 0\n",
    "    for i in range(cv):\n",
    "        train = (split != i)\n",
    "        test = (split == i)\n",
    "        model = KDEMultivariateConditional(T[train, None], X[train, :], dep_type='c', indep_type='c' * X.shape[1], bw=bw)\n",
    "        cross_entropy += np.mean(model.pdf(T[test, None], X[test, :]) + EPS) / cv\n",
    "    return cross_entropy"
   ]
  },
  {
   "cell_type": "code",
   "execution_count": 615,
   "id": "0601e3f6-4f21-4744-b52d-cff4ed8cf82d",
   "metadata": {},
   "outputs": [
    {
     "name": "stderr",
     "output_type": "stream",
     "text": [
      "/home/kei/Desktop/env_pillbox/lib/python3.8/site-packages/statsmodels/nonparametric/kernel_density.py:527: RuntimeWarning: invalid value encountered in double_scalars\n",
      "  pdf_est.append(f_yx / f_x)\n"
     ]
    }
   ],
   "source": [
    "best_scale = 0\n",
    "best_score = - float('inf')\n",
    "for scale in [0.1, 0.2, 0.3, 0.5, 0.7, 1, 1.5, 2, 3, 5]:\n",
    "    bw = scale * np.concatenate([[Y.std()], X.std(axis=0)]) / Y.shape[0] ** (1 / 7)\n",
    "    score = benchmark_bandwidth(bw, Y, X)\n",
    "    if score > best_score:\n",
    "        best_scale = scale\n",
    "        best_score = score"
   ]
  },
  {
   "cell_type": "code",
   "execution_count": 616,
   "id": "dcfb74c5-773c-4ba0-8562-d92ebee0bf63",
   "metadata": {},
   "outputs": [
    {
     "data": {
      "text/plain": [
       "(0.3, 0.19784318708431387)"
      ]
     },
     "execution_count": 616,
     "metadata": {},
     "output_type": "execute_result"
    }
   ],
   "source": [
    "best_scale, best_score"
   ]
  },
  {
   "cell_type": "code",
   "execution_count": 637,
   "id": "ad8a2066-614d-4390-bb2b-7730d19ce30b",
   "metadata": {},
   "outputs": [],
   "source": [
    "bw0 = best_scale * np.concatenate([[Y.std()], X.std(axis=0)]) / Y.shape[0] ** (1 / 7)\n",
    "model = KDEMultivariateConditional(Y[:, None], X, dep_type='c', indep_type='c' * X.shape[1], bw=bw0)"
   ]
  },
  {
   "cell_type": "code",
   "execution_count": 638,
   "id": "97445cb5-246d-458d-9faa-2af729248646",
   "metadata": {},
   "outputs": [
    {
     "data": {
      "text/plain": [
       "array([1.62958717, 1.62951695, 1.62941804, ..., 1.62956773, 1.62958717,\n",
       "       1.62958716])"
      ]
     },
     "execution_count": 638,
     "metadata": {},
     "output_type": "execute_result"
    }
   ],
   "source": [
    "e_xx = model.pdf(Y[:, None], X)\n",
    "e_xx"
   ]
  },
  {
   "cell_type": "code",
   "execution_count": 639,
   "id": "7fc365b9-566e-4dfc-a52f-f9b29cd6a463",
   "metadata": {},
   "outputs": [
    {
     "data": {
      "text/plain": [
       "(array([3.000e+00, 5.000e+00, 7.000e+00, 9.000e+00, 2.100e+01, 2.500e+01,\n",
       "        2.900e+01, 4.700e+01, 1.230e+02, 7.731e+03]),\n",
       " array([1.15235734, 1.20008033, 1.24780331, 1.29552629, 1.34324927,\n",
       "        1.39097226, 1.43869524, 1.48641822, 1.5341412 , 1.58186419,\n",
       "        1.62958717]),\n",
       " <BarContainer object of 10 artists>)"
      ]
     },
     "execution_count": 639,
     "metadata": {},
     "output_type": "execute_result"
    },
    {
     "data": {
      "image/png": "[encoded data removed]",
      "text/plain": [
       "<Figure size 432x288 with 1 Axes>"
      ]
     },
     "metadata": {
      "needs_background": "light"
     },
     "output_type": "display_data"
    }
   ],
   "source": [
    "plt.hist(e_xx)"
   ]
  },
  {
   "cell_type": "code",
   "execution_count": 640,
   "id": "23633bf1-ab0b-407c-8301-e8cac42995b2",
   "metadata": {},
   "outputs": [
    {
     "data": {
      "text/plain": [
       "array([0.24481187, 0.08247946, 0.08201479, 0.08216818, 0.08203077,\n",
       "       0.08354723])"
      ]
     },
     "execution_count": 640,
     "metadata": {},
     "output_type": "execute_result"
    }
   ],
   "source": [
    "model.bw"
   ]
  },
  {
   "cell_type": "code",
   "execution_count": 636,
   "id": "8c2e5190-6262-4c27-8ccd-7a44587c0482",
   "metadata": {},
   "outputs": [
    {
     "data": {
      "text/plain": [
       "[0.0036205488784271846,\n",
       " 0.005530541824885594,\n",
       " 0.008353342645354245,\n",
       " 0.0092354679017507,\n",
       " 0.008828923218367986,\n",
       " 0.006834553073471655,\n",
       " 0.0047634763845408505]"
      ]
     },
     "execution_count": 636,
     "metadata": {},
     "output_type": "execute_result"
    }
   ],
   "source": [
    "[np.mean(1. / e_xx * ((i <= Y) & (Y <= i + 1))) for i in range(7)]  # Should go to 1"
   ]
  },
  {
   "cell_type": "code",
   "execution_count": 650,
   "id": "107e61f5-4574-4956-9d01-5c9bba9dd833",
   "metadata": {},
   "outputs": [],
   "source": [
    "# Shouldn't we use loo estimate for propensity? (For reducing the sampling bias)"
   ]
  },
  {
   "cell_type": "code",
   "execution_count": 651,
   "id": "3d1c0419-f4b2-4446-ab71-5e6eee188523",
   "metadata": {},
   "outputs": [
    {
     "data": {
      "text/plain": [
       "array([0.00156597, 0.11336096, 0.18019459, ..., 0.15350272, 0.27772491,\n",
       "       0.00683612])"
      ]
     },
     "execution_count": 651,
     "metadata": {},
     "output_type": "execute_result"
    }
   ],
   "source": [
    "model_loocv = KDEMultivariateConditional(Y[:500, None], X[:500], dep_type='c', indep_type='c' * X.shape[1], bw='cv_ml')\n",
    "model_loocv = KDEMultivariateConditional(Y[:, None], X, dep_type='c', indep_type='c' * X.shape[1], bw=model_loocv.bw)\n",
    "model_loocv.pdf(T[:, None], X)"
   ]
  },
  {
   "cell_type": "code",
   "execution_count": 652,
   "id": "8a95f284-4895-4f89-911f-a55ee335f215",
   "metadata": {},
   "outputs": [
    {
     "data": {
      "text/plain": [
       "array([1.16864112, 0.39784615, 0.47414212, 0.34012805, 0.49598966,\n",
       "       1.03207938])"
      ]
     },
     "execution_count": 652,
     "metadata": {},
     "output_type": "execute_result"
    }
   ],
   "source": [
    "model_loocv.bw"
   ]
  },
  {
   "cell_type": "code",
   "execution_count": 653,
   "id": "b207be7d-493b-4bb7-a554-d15aeeaff518",
   "metadata": {},
   "outputs": [
    {
     "data": {
      "text/plain": [
       "array([0.16803556, 0.19643081, 0.13837616, ..., 0.08974823, 0.28981744,\n",
       "       0.16892645])"
      ]
     },
     "execution_count": 653,
     "metadata": {},
     "output_type": "execute_result"
    }
   ],
   "source": [
    "e_xx = model_loocv.pdf(Y[:, None], X)\n",
    "e_xx"
   ]
  },
  {
   "cell_type": "code",
   "execution_count": 654,
   "id": "00379916-a010-4344-acb0-ed140593554b",
   "metadata": {},
   "outputs": [
    {
     "data": {
      "text/plain": [
       "[0.42097172629623864,\n",
       " 0.5610275108978744,\n",
       " 0.7806948645405306,\n",
       " 0.8323803841286099,\n",
       " 0.8266400377542329,\n",
       " 0.6698018012108039,\n",
       " 0.4903058358518989]"
      ]
     },
     "execution_count": 654,
     "metadata": {},
     "output_type": "execute_result"
    }
   ],
   "source": [
    "[np.mean(1. / e_xx * ((i <= Y) & (Y <= i + 1))) for i in range(7)]  # Should go to 1"
   ]
  },
  {
   "cell_type": "code",
   "execution_count": 660,
   "id": "63944a93-0dbd-48c3-90c2-36996d39e4ca",
   "metadata": {},
   "outputs": [],
   "source": [
    "Y, T, X, U, e_x, e_xu = generate_data(2000)"
   ]
  },
  {
   "cell_type": "code",
   "execution_count": 661,
   "id": "f1fd567f-84fa-49b6-b7da-35c624fab0e4",
   "metadata": {},
   "outputs": [],
   "source": [
    "# Maybe better to use gaussian process regression\n",
    "from sklearn.gaussian_process import GaussianProcessRegressor\n",
    "from sklearn.gaussian_process.kernels import ConstantKernel, WhiteKernel, RBF\n",
    "from scipy.stats import norm\n",
    "\n",
    "kernel = WhiteKernel() + ConstantKernel() * RBF()\n",
    "model = GaussianProcessRegressor(kernel=kernel).fit(X, Y)\n",
    "mu, sigma = model.predict(X, return_std=True)\n",
    "e_xx = norm.pdf(Y, loc=mu, scale=sigma)"
   ]
  },
  {
   "cell_type": "code",
   "execution_count": 662,
   "id": "a81897c5-fc21-4a56-883c-5d5ec400d79f",
   "metadata": {},
   "outputs": [
    {
     "data": {
      "text/plain": [
       "(array([ 76.,  55.,  81.,  93., 115., 140., 171., 221., 272., 776.]),\n",
       " array([2.06249815e-07, 2.74513965e-02, 5.49025868e-02, 8.23537771e-02,\n",
       "        1.09804967e-01, 1.37256158e-01, 1.64707348e-01, 1.92158538e-01,\n",
       "        2.19609729e-01, 2.47060919e-01, 2.74512109e-01]),\n",
       " <BarContainer object of 10 artists>)"
      ]
     },
     "execution_count": 662,
     "metadata": {},
     "output_type": "execute_result"
    },
    {
     "data": {
      "image/png": "[encoded data removed]",
      "text/plain": [
       "<Figure size 432x288 with 1 Axes>"
      ]
     },
     "metadata": {
      "needs_background": "light"
     },
     "output_type": "display_data"
    }
   ],
   "source": [
    "plt.hist(e_xx)"
   ]
  },
  {
   "cell_type": "code",
   "execution_count": 663,
   "id": "0a323a80-9992-431d-a38b-37ec4b41aee0",
   "metadata": {},
   "outputs": [
    {
     "data": {
      "text/plain": [
       "[0.32881986213236836,\n",
       " 0.7800613489446759,\n",
       " 1.1082520007466337,\n",
       " 2425.996762904727,\n",
       " 2.3731976440293625,\n",
       " 3.270582402658918,\n",
       " 1.5545976263818995]"
      ]
     },
     "execution_count": 663,
     "metadata": {},
     "output_type": "execute_result"
    }
   ],
   "source": [
    "[np.mean(1. / e_xx * ((i <= Y) & (Y <= i + 1))) for i in range(7)]  # Should go to 1"
   ]
  },
  {
   "cell_type": "code",
   "execution_count": null,
   "id": "265b6a80-fba6-4847-a569-c2314db4b076",
   "metadata": {},
   "outputs": [],
   "source": []
  }
 ],
 "metadata": {
  "kernelspec": {
   "display_name": "Python 3",
   "language": "python",
   "name": "python3"
  },
  "language_info": {
   "codemirror_mode": {
    "name": "ipython",
    "version": 3
   },
   "file_extension": ".py",
   "mimetype": "text/x-python",
   "name": "python",
   "nbconvert_exporter": "python",
   "pygments_lexer": "ipython3",
   "version": "3.8.10"
  }
 },
 "nbformat": 4,
 "nbformat_minor": 5
}
