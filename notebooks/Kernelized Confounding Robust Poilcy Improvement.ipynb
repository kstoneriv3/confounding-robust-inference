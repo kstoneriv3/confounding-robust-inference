{
 "cells": [
  {
   "cell_type": "code",
   "execution_count": 2,
   "id": "94f55962-82f5-4afa-ae92-50fa552365c5",
   "metadata": {},
   "outputs": [],
   "source": [
    "import numpy as np\n",
    "import cvxpy as cp"
   ]
  },
  {
   "cell_type": "code",
   "execution_count": 38,
   "id": "a67d678e-0d10-49ce-bb57-73cf322de723",
   "metadata": {},
   "outputs": [],
   "source": [
    "from matplotlib import pyplot as plt"
   ]
  },
  {
   "cell_type": "markdown",
   "id": "6fd151ad-3655-4fc8-a774-cbdbbb819c01",
   "metadata": {},
   "source": [
    "### Examples of cvxpy and cvxpylayers"
   ]
  },
  {
   "cell_type": "code",
   "execution_count": 4,
   "id": "fb5cd970-fa41-4e60-8a42-680b676f223a",
   "metadata": {},
   "outputs": [],
   "source": [
    "m = 15\n",
    "n = 10\n",
    "np.random.seed(1)\n",
    "s0 = np.random.randn(m)\n",
    "lamb0 = np.maximum(-s0, 0)\n",
    "s0 = np.maximum(s0, 0)\n",
    "x0 = np.random.randn(n)\n",
    "A = np.random.randn(m, n)\n",
    "b = A @ x0 + s0\n",
    "c = -A.T @ lamb0"
   ]
  },
  {
   "cell_type": "code",
   "execution_count": 5,
   "id": "e8680d4c-ecc7-4a83-b1af-e731d50aff88",
   "metadata": {},
   "outputs": [
    {
     "data": {
      "text/plain": [
       "-13.388855525388324"
      ]
     },
     "execution_count": 5,
     "metadata": {},
     "output_type": "execute_result"
    }
   ],
   "source": [
    "# Define and solve the CVXPY problem.\n",
    "x = cp.Variable(n)\n",
    "objective = cp.Minimize(c.T@x + cp.sum_squares(x) * 1e-2)\n",
    "constraints = [\n",
    "    A @ x <= b,\n",
    "    cp.sum_squares(A @ x) <= np.sum(b ** 2) / 2\n",
    "]\n",
    "prob = cp.Problem(objective, constraints)\n",
    "prob.solve()"
   ]
  },
  {
   "cell_type": "code",
   "execution_count": 6,
   "id": "53183410-48f5-4a73-bdcf-b1b876c812bd",
   "metadata": {},
   "outputs": [
    {
     "name": "stdout",
     "output_type": "stream",
     "text": [
      "\n",
      "The optimal value is -13.388855525388324\n",
      "A solution x is\n",
      "[-1.21425975 -0.22544726 -0.82587237 -0.4940789   0.13023043 -0.46215896\n",
      "  1.4850115   0.42419635  1.19464608  1.87527732]\n",
      "A dual solution is\n",
      "[1.12011945e-08 1.19282824e+00 2.13491766e+00 5.43570788e-08\n",
      " 2.21013673e-08 1.39783152e+00 2.70849582e-08 5.31067943e-08\n",
      " 2.05629661e-08 1.74569441e-08 6.16643520e-01 2.85555214e-04\n",
      " 2.98221760e-01 2.87084912e-01 1.24290736e-08]\n"
     ]
    }
   ],
   "source": [
    "# Print result.\n",
    "print(\"\\nThe optimal value is\", prob.value)\n",
    "print(\"A solution x is\")\n",
    "print(x.value)\n",
    "print(\"A dual solution is\")\n",
    "print(prob.constraints[0].dual_value)"
   ]
  },
  {
   "cell_type": "code",
   "execution_count": 7,
   "id": "f54d88c5-1dd7-4694-94da-443130026b4f",
   "metadata": {},
   "outputs": [],
   "source": [
    "n, m = 2, 3\n",
    "x = cp.Variable(n)\n",
    "A = cp.Parameter((m, n))\n",
    "b = cp.Parameter(m)\n",
    "constraints = [x + cp.sum_squares(x) <= 0]\n",
    "objective = cp.Minimize(0.5 * cp.pnorm(A @ x - b, p=1))\n",
    "problem = cp.Problem(objective, constraints)\n",
    "assert problem.is_dpp()"
   ]
  },
  {
   "cell_type": "code",
   "execution_count": 8,
   "id": "e0a613d0-1eb0-4189-9a7e-de5cc2353c26",
   "metadata": {},
   "outputs": [],
   "source": [
    "import cvxpy as cp\n",
    "import torch\n",
    "from cvxpylayers.torch import CvxpyLayer\n",
    "\n",
    "n, m = 2, 3\n",
    "x = cp.Variable(n)\n",
    "A = cp.Parameter((m, n))\n",
    "b = cp.Parameter(m)\n",
    "constraints = [x >= 0]\n",
    "objective = cp.Minimize(0.5 * cp.pnorm(A @ x - b, p=1))\n",
    "problem = cp.Problem(objective, constraints)\n",
    "assert problem.is_dpp()\n",
    "\n",
    "cvxpylayer = CvxpyLayer(problem, parameters=[A, b], variables=[x])\n",
    "A_tch = torch.randn(m, n, requires_grad=True)\n",
    "b_tch = torch.randn(m, requires_grad=True)\n",
    "\n",
    "# solve the problem\n",
    "solution, = cvxpylayer(A_tch, b_tch)\n",
    "\n",
    "# compute the gradient of the sum of the solution with respect to A, b\n",
    "solution.sum().backward()"
   ]
  },
  {
   "cell_type": "markdown",
   "id": "7ada7874-e869-432d-81a0-d2c99cb26b35",
   "metadata": {},
   "source": [
    "### Synthetic Data from Kallus 2018"
   ]
  },
  {
   "cell_type": "code",
   "execution_count": 9,
   "id": "ed69a14b-dfc0-4de9-ab38-7a5c3e44355f",
   "metadata": {},
   "outputs": [
    {
     "data": {
      "text/plain": [
       "array([0.43367635, 0.80736053, 0.3152448 , 0.89288871, 0.57785722,\n",
       "       0.1840102 , 0.78792923, 0.61203118, 0.05390927, 0.42019368])"
      ]
     },
     "execution_count": 9,
     "metadata": {},
     "output_type": "execute_result"
    }
   ],
   "source": [
    "np.random.rand(10)"
   ]
  },
  {
   "cell_type": "code",
   "execution_count": 53,
   "id": "b38da168-0ae9-42ae-91ef-97b8df8c0170",
   "metadata": {},
   "outputs": [],
   "source": [
    "beta0 = 2.5\n",
    "beta0_t = -2\n",
    "beta_x = np.asarray([0, .5, -0.5, 0, 0])\n",
    "beta_x_t = np.asarray([-1.5, 1, -1.5, 1., 0.5])\n",
    "beta_xi = 1\n",
    "beta_xi_t = -2\n",
    "beta_e_x = np.asarray([0, .75, -.5, 0, -1])\n",
    "mu_x = np.asarray([-1, .5, -1, 0, -1]);\n",
    "\n",
    "def generate_data(n):\n",
    "    xi = (np.random.rand(n) > 0.5).astype(int)\n",
    "    X = mu_x[None, :] + np.random.randn(n * 5).reshape(n, 5)\n",
    "    eps = [np.random.randn(n) for t in (0, 1)]\n",
    "    Y = np.array([\n",
    "        X @ (beta_x + beta_x_t * t) + (beta_xi + beta_xi_t * t) * xi + (beta0 + beta0_t * t) + eps[t]\n",
    "        for t in (0, 1)\n",
    "    ])\n",
    "    U = (Y[0, :] > Y[1, :]).astype(int)\n",
    "    z = X @ beta_e_x\n",
    "    e_x = np.exp(z) / (1 + np.exp(z))\n",
    "    e_xu = (6 * e_x) / (4 + 5 * U + e_x * (2 - 5 * U))\n",
    "    T = (np.random.rand(n) < e_xu).astype(int)\n",
    "    Y = Y[T, range(n)]\n",
    "    return Y, T, X, U, e_x, e_xu\n",
    "\n",
    "def evaluate_policy(policy, n=1000):\n",
    "    xi = (np.random.rand(n) > 0.5).astype(int)\n",
    "    X = mu_x[None, :] + np.random.randn(n * 5).reshape(n, 5)\n",
    "    eps = [np.random.randn(n) for t in (0, 1)]\n",
    "    Y = np.array([\n",
    "        X @ (beta_x + beta_x_t * t) + (beta_xi + beta_xi_t * t) * xi + (beta0 + beta0_t * t) + eps[t]\n",
    "        for t in (0, 1)\n",
    "    ])\n",
    "    e_x = policy(X)\n",
    "    T = (np.random.rand(n) < e_x).astype(int)\n",
    "    Y = Y[T, range(n)]\n",
    "    return Y.mean()"
   ]
  },
  {
   "cell_type": "code",
   "execution_count": 258,
   "id": "26eaf456-9e01-40a2-8687-9f6cf9d8f84f",
   "metadata": {},
   "outputs": [],
   "source": [
    "Y, T, X, U, e_x, e_xu = generate_data(800)"
   ]
  },
  {
   "cell_type": "code",
   "execution_count": 259,
   "id": "b14c0b72-5f51-4cfe-b369-81009ea78236",
   "metadata": {},
   "outputs": [
    {
     "data": {
      "text/plain": [
       "3.9177610212929896"
      ]
     },
     "execution_count": 259,
     "metadata": {},
     "output_type": "execute_result"
    }
   ],
   "source": [
    "def toy_policy(X):\n",
    "    z = X @ beta_e_x\n",
    "    e_x = np.exp(z) / (1 + np.exp(z))\n",
    "    return e_x\n",
    "\n",
    "def zero_policy(X):\n",
    "    return np.zeros(X.shape[0], dtype=int)\n",
    "\n",
    "evaluate_policy(toy_policy)"
   ]
  },
  {
   "cell_type": "markdown",
   "id": "1850ff26-d019-4d86-bf76-b4cbef1cfc92",
   "metadata": {},
   "source": [
    "### Implement Confounding Robust Hajek Estimator    "
   ]
  },
  {
   "cell_type": "code",
   "execution_count": 231,
   "id": "9d67fbd8-bca2-4003-8305-82b39f9474d4",
   "metadata": {},
   "outputs": [],
   "source": [
    "def confoundingRobustHajek(r, T, a, b, return_w=False):\n",
    "    r_np = r.data.numpy() if isinstance(r, torch.Tensor) else r\n",
    "    w = np.zeros_like(a)\n",
    "    ret = torch.zeros(1)\n",
    "    for t in set(T):\n",
    "        r_t = r_np[T == t]\n",
    "        a_t = a[T == t]\n",
    "        b_t = b[T == t]\n",
    "        w[T == t] = hajekLP(r_t, a_t, b_t)\n",
    "    if isinstance(r, torch.Tensor):\n",
    "        est = torch.mean(torch.as_tensor(w) * r)\n",
    "    else:\n",
    "        est = np.mean(w * r_np)\n",
    "    return (est, w) if return_w else est\n",
    "\n",
    "def hajekLP(r, a, b):\n",
    "    n = r.shape[0]\n",
    "    w = cp.Variable(n)\n",
    "    phi = cp.Variable(1)\n",
    "    constraints = [\n",
    "        np.zeros(n) <= w,\n",
    "        0 <= phi,\n",
    "        a * phi <= w,\n",
    "        w <= b * phi,\n",
    "        cp.sum(w) == n\n",
    "    ]\n",
    "    objective = cp.Maximize(cp.sum(r * w))\n",
    "    problem = cp.Problem(objective, constraints)\n",
    "    problem.solve()\n",
    "    return w.value / phi.value"
   ]
  },
  {
   "cell_type": "code",
   "execution_count": 232,
   "id": "48c91286-0443-468d-a2f9-b8ad0c72b4fb",
   "metadata": {},
   "outputs": [],
   "source": [
    "def get_a_b(e_x, gamma):\n",
    "    a = 1 + 1 / gamma * (1 / e_x - 1)\n",
    "    b = 1 + gamma * (1 / e_x - 1)\n",
    "    return a, b"
   ]
  },
  {
   "cell_type": "code",
   "execution_count": 253,
   "id": "6df2dcbd-4d55-4a9b-adee-952985ba84ed",
   "metadata": {},
   "outputs": [
    {
     "name": "stderr",
     "output_type": "stream",
     "text": [
      "/home/kei/Desktop/env_pillbox/lib/python3.8/site-packages/cvxpy/expressions/expression.py:593: UserWarning: \n",
      "This use of ``*`` has resulted in matrix multiplication.\n",
      "Using ``*`` for matrix multiplication has been deprecated since CVXPY 1.1.\n",
      "    Use ``*`` for matrix-scalar and vector-scalar multiplication.\n",
      "    Use ``@`` for matrix-matrix and matrix-vector multiplication.\n",
      "    Use ``multiply`` for elementwise multiplication.\n",
      "This code path has been hit 86 times so far.\n",
      "\n",
      "  warnings.warn(msg, UserWarning)\n",
      "/home/kei/Desktop/env_pillbox/lib/python3.8/site-packages/cvxpy/expressions/expression.py:593: UserWarning: \n",
      "This use of ``*`` has resulted in matrix multiplication.\n",
      "Using ``*`` for matrix multiplication has been deprecated since CVXPY 1.1.\n",
      "    Use ``*`` for matrix-scalar and vector-scalar multiplication.\n",
      "    Use ``@`` for matrix-matrix and matrix-vector multiplication.\n",
      "    Use ``multiply`` for elementwise multiplication.\n",
      "This code path has been hit 87 times so far.\n",
      "\n",
      "  warnings.warn(msg, UserWarning)\n"
     ]
    }
   ],
   "source": [
    "a, b = get_a_b(e_x, 1.5)\n",
    "est = confoundingRobustHajek(Y * toy_policy(X), T, a, b)"
   ]
  },
  {
   "cell_type": "code",
   "execution_count": 254,
   "id": "de57e7de-22c2-4e12-ad09-2c887d747feb",
   "metadata": {},
   "outputs": [
    {
     "data": {
      "text/plain": [
       "4.05609094141064"
      ]
     },
     "execution_count": 254,
     "metadata": {},
     "output_type": "execute_result"
    }
   ],
   "source": [
    "est"
   ]
  },
  {
   "cell_type": "code",
   "execution_count": 255,
   "id": "48ee3f51-3cf3-4fbd-924b-43b682efc447",
   "metadata": {},
   "outputs": [
    {
     "name": "stderr",
     "output_type": "stream",
     "text": [
      "/home/kei/Desktop/env_pillbox/lib/python3.8/site-packages/cvxpy/expressions/expression.py:593: UserWarning: \n",
      "This use of ``*`` has resulted in matrix multiplication.\n",
      "Using ``*`` for matrix multiplication has been deprecated since CVXPY 1.1.\n",
      "    Use ``*`` for matrix-scalar and vector-scalar multiplication.\n",
      "    Use ``@`` for matrix-matrix and matrix-vector multiplication.\n",
      "    Use ``multiply`` for elementwise multiplication.\n",
      "This code path has been hit 88 times so far.\n",
      "\n",
      "  warnings.warn(msg, UserWarning)\n",
      "/home/kei/Desktop/env_pillbox/lib/python3.8/site-packages/cvxpy/expressions/expression.py:593: UserWarning: \n",
      "This use of ``*`` has resulted in matrix multiplication.\n",
      "Using ``*`` for matrix multiplication has been deprecated since CVXPY 1.1.\n",
      "    Use ``*`` for matrix-scalar and vector-scalar multiplication.\n",
      "    Use ``@`` for matrix-matrix and matrix-vector multiplication.\n",
      "    Use ``multiply`` for elementwise multiplication.\n",
      "This code path has been hit 89 times so far.\n",
      "\n",
      "  warnings.warn(msg, UserWarning)\n"
     ]
    }
   ],
   "source": [
    "differentiable_r = torch.tensor(np.random.randn(n), requires_grad=True)\n",
    "est, w = confoundingRobustHajek(differentiable_r, T, a, b, return_w=True)"
   ]
  },
  {
   "cell_type": "code",
   "execution_count": 256,
   "id": "8f1ddc5a-0a92-40ca-90fe-bd2e89df6221",
   "metadata": {},
   "outputs": [],
   "source": [
    "est.backward()"
   ]
  },
  {
   "cell_type": "code",
   "execution_count": 257,
   "id": "898fabe0-5840-4a5d-bf1b-f7ffabeed871",
   "metadata": {},
   "outputs": [
    {
     "data": {
      "text/plain": [
       "True"
      ]
     },
     "execution_count": 257,
     "metadata": {},
     "output_type": "execute_result"
    }
   ],
   "source": [
    "torch.allclose(differentiable_r.grad, torch.as_tensor(w / n))"
   ]
  },
  {
   "cell_type": "markdown",
   "id": "cd32558c-cdd0-4263-a9a6-e4ad83f5a0b5",
   "metadata": {},
   "source": [
    "### Implement Confounding Robust Kernel Estimator\n",
    "- This requires consistent nominal propensity score (p_obs(t|x))\n",
    "- For discrete t, just run kernel logistic regression"
   ]
  },
  {
   "cell_type": "code",
   "execution_count": 273,
   "id": "1d8a554e-b59d-443c-940a-874042c719ad",
   "metadata": {},
   "outputs": [
    {
     "data": {
      "text/plain": [
       "0.039824902382792536"
      ]
     },
     "execution_count": 273,
     "metadata": {},
     "output_type": "execute_result"
    }
   ],
   "source": [
    "from sklearn.decomposition import KernelPCA\n",
    "from sklearn.linear_model import LogisticRegressionCV\n",
    "\n",
    "Z = KernelPCA(n_components=400).fit_transform(X)\n",
    "clf = LogisticRegressionCV().fit(Z, T)\n",
    "e_xx = clf.predict_proba(Z)[:, 1]\n",
    "\n",
    "np.mean(np.abs(e_xx - e_x))"
   ]
  },
  {
   "cell_type": "code",
   "execution_count": null,
   "id": "7a5d2819-d00c-4b57-8c46-d3ac6bbf8998",
   "metadata": {},
   "outputs": [],
   "source": [
    "import optuna\n",
    "from sklearn.pipeline import Pipeline\n",
    "from sklearn.model_selection import cross_val_score\n",
    "\n",
    "def objective("
   ]
  },
  {
   "cell_type": "markdown",
   "id": "0deb2865-aa0b-40ec-a549-f515ba08a641",
   "metadata": {},
   "source": [
    "### Compare Policy Improvement Performance"
   ]
  },
  {
   "cell_type": "code",
   "execution_count": null,
   "id": "101277a8-78bd-4e57-b5d0-567c6d70225a",
   "metadata": {},
   "outputs": [],
   "source": []
  }
 ],
 "metadata": {
  "kernelspec": {
   "display_name": "Python 3",
   "language": "python",
   "name": "python3"
  },
  "language_info": {
   "codemirror_mode": {
    "name": "ipython",
    "version": 3
   },
   "file_extension": ".py",
   "mimetype": "text/x-python",
   "name": "python",
   "nbconvert_exporter": "python",
   "pygments_lexer": "ipython3",
   "version": "3.8.10"
  }
 },
 "nbformat": 4,
 "nbformat_minor": 5
}
