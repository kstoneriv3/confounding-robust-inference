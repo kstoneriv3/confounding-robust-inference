{
 "cells": [
  {
   "cell_type": "code",
   "execution_count": 1,
   "id": "94f55962-82f5-4afa-ae92-50fa552365c5",
   "metadata": {},
   "outputs": [],
   "source": [
    "import numpy as np\n",
    "import cvxpy as cp\n",
    "import torch"
   ]
  },
  {
   "cell_type": "code",
   "execution_count": 2,
   "id": "73a7049b-e599-4611-8fdb-6645838e85e3",
   "metadata": {},
   "outputs": [],
   "source": [
    "from scipy.linalg import eigh\n",
    "from scipy.stats import chi2"
   ]
  },
  {
   "cell_type": "code",
   "execution_count": 3,
   "id": "a67d678e-0d10-49ce-bb57-73cf322de723",
   "metadata": {},
   "outputs": [],
   "source": [
    "from matplotlib import pyplot as plt"
   ]
  },
  {
   "cell_type": "code",
   "execution_count": 4,
   "id": "d320e18a-bc38-466b-b32e-0cdb83534424",
   "metadata": {},
   "outputs": [],
   "source": [
    "import warnings"
   ]
  },
  {
   "cell_type": "markdown",
   "id": "7ada7874-e869-432d-81a0-d2c99cb26b35",
   "metadata": {},
   "source": [
    "### Synthetic Data from Kallus 2018"
   ]
  },
  {
   "cell_type": "code",
   "execution_count": 18,
   "id": "b38da168-0ae9-42ae-91ef-97b8df8c0170",
   "metadata": {},
   "outputs": [],
   "source": [
    "beta0 = 2.5\n",
    "beta0_t = -2\n",
    "beta_x = np.asarray([0, .5, -0.5, 0, 0])\n",
    "beta_x_t = np.asarray([-1.5, 1, -1.5, 1., 0.5])\n",
    "beta_xi = 1\n",
    "beta_xi_t = -2\n",
    "beta_e_x = np.asarray([0, .75, -.5, 0, -1])\n",
    "mu_x = np.asarray([-1, .5, -1, 0, -1]);\n",
    "\n",
    "def generate_data(n):\n",
    "    xi = (np.random.rand(n) > 0.5).astype(int)\n",
    "    X = mu_x[None, :] + np.random.randn(n * 5).reshape(n, 5)\n",
    "    eps = [np.random.randn(n) for t in (0, 1)]\n",
    "    Y = np.array([\n",
    "        X @ (beta_x + beta_x_t * t) + (beta_xi + beta_xi_t * t) * xi + (beta0 + beta0_t * t) + eps[t]\n",
    "        for t in (0, 1)\n",
    "    ])\n",
    "    U = (Y[0, :] > Y[1, :]).astype(int)\n",
    "    z = X @ beta_e_x\n",
    "    e_x = np.exp(z) / (1 + np.exp(z))\n",
    "    e_xu = (6 * e_x) / (4 + 5 * U + e_x * (2 - 5 * U))\n",
    "    T = (np.random.rand(n) < e_xu).astype(int)\n",
    "    Y = Y[T, range(n)]\n",
    "    return Y, T, X, U, e_x, e_xu\n",
    "\n",
    "def evaluate_policy(policy, n=1000):\n",
    "    xi = (np.random.rand(n) > 0.5).astype(int)\n",
    "    X = mu_x[None, :] + np.random.randn(n * 5).reshape(n, 5)\n",
    "    eps = [np.random.randn(n) for t in (0, 1)]\n",
    "    Y = np.array([\n",
    "        X @ (beta_x + beta_x_t * t) + (beta_xi + beta_xi_t * t) * xi + (beta0 + beta0_t * t) + eps[t]\n",
    "        for t in (0, 1)\n",
    "    ])\n",
    "    e_x = policy(X)\n",
    "    Y = torch.as_tensor(Y) if isinstance(e_x, torch.Tensor) else Y\n",
    "    Y = Y[0, :] * (1 - e_x) + Y[1, :] * e_x\n",
    "    return Y.mean()"
   ]
  },
  {
   "cell_type": "code",
   "execution_count": 19,
   "id": "26eaf456-9e01-40a2-8687-9f6cf9d8f84f",
   "metadata": {},
   "outputs": [],
   "source": [
    "n = 1000\n",
    "Y, T, X, U, e_x, e_xu = generate_data(n)\n",
    "p_t = e_x * T + (1 - e_x) * (1 - T)  # p_obs(T|X), e_x:=p(T=1|X)"
   ]
  },
  {
   "cell_type": "code",
   "execution_count": 125,
   "id": "b14c0b72-5f51-4cfe-b369-81009ea78236",
   "metadata": {},
   "outputs": [],
   "source": [
    "def toy_policy(X):\n",
    "    z = torch.as_tensor(X) @ torch.as_tensor(beta_e_x)\n",
    "    e_x = torch.exp(z) / (1 + torch.exp(z))\n",
    "    return e_x\n",
    "\n",
    "# def zero_policy(X):\n",
    "#    return np.zeros(X.shape[0], dtype=int)"
   ]
  },
  {
   "cell_type": "markdown",
   "id": "6d91b40e-adfd-4007-b14d-8fd67a3a233a",
   "metadata": {},
   "source": [
    "### Estimate Propensity Score (Conditional Density Estimation)"
   ]
  },
  {
   "cell_type": "markdown",
   "id": "8f276ca6-14ec-4bfd-b443-5681aebb868d",
   "metadata": {},
   "source": [
    "#### Discrete Case"
   ]
  },
  {
   "cell_type": "code",
   "execution_count": 9,
   "id": "430a6dbf-80b0-45a9-8c32-3aac778bae9f",
   "metadata": {},
   "outputs": [
    {
     "data": {
      "text/plain": [
       "0.0356117497199737"
      ]
     },
     "execution_count": 9,
     "metadata": {},
     "output_type": "execute_result"
    }
   ],
   "source": [
    "# Logistic regression is already quite good\n",
    "from sklearn.linear_model import LogisticRegressionCV\n",
    "\n",
    "model = LogisticRegressionCV().fit(X, T)\n",
    "e_xx = model.predict_proba(X)[:, 1]\n",
    "\n",
    "np.mean(np.abs(e_xx - e_x))"
   ]
  },
  {
   "cell_type": "code",
   "execution_count": 10,
   "id": "a4caf7ea-52f4-4053-bcf0-5c047c8e88aa",
   "metadata": {},
   "outputs": [],
   "source": [
    "# But Kernel Logistic Regression is slightly better\n",
    "import optuna\n",
    "from sklearn.decomposition import KernelPCA\n",
    "from sklearn.linear_model import LogisticRegression\n",
    "from sklearn.pipeline import Pipeline\n",
    "from sklearn.model_selection import cross_val_score\n",
    "\n",
    "def objective(trial):\n",
    "    gamma = trial.suggest_float('gamma', 1e-2, 1e+2, log=True)\n",
    "    lambd = trial.suggest_float('lambd', 1e-3, 1e+3, log=True)\n",
    "    model = Pipeline([\n",
    "        ('kpca', KernelPCA(n_components=100, kernel='rbf', gamma=gamma)),\n",
    "        ('LogReg', LogisticRegression(C=1/lambd)),\n",
    "    ])   \n",
    "    cv_scores = cross_val_score(model, X, y=T, cv=4)\n",
    "    return cv_scores.mean()"
   ]
  },
  {
   "cell_type": "code",
   "execution_count": null,
   "id": "70791c94-573c-4031-8743-70bc6bf19874",
   "metadata": {},
   "outputs": [],
   "source": [
    "study = optuna.create_study(direction='maximize')\n",
    "study.optimize(func=objective, n_trials=100)"
   ]
  },
  {
   "cell_type": "code",
   "execution_count": 332,
   "id": "43deca72-a503-4e24-bea2-23e6bac4ad77",
   "metadata": {},
   "outputs": [
    {
     "data": {
      "text/plain": [
       "{'gamma': 0.010034979398825772, 'lambd': 0.21459944940837156}"
      ]
     },
     "execution_count": 332,
     "metadata": {},
     "output_type": "execute_result"
    }
   ],
   "source": [
    "study.best_params  # {'gamma': 0.010034979398825772, 'lambd': 0.21459944940837156}"
   ]
  },
  {
   "cell_type": "code",
   "execution_count": 20,
   "id": "d40af776-f6f2-451b-a8ca-21dc5da4efd7",
   "metadata": {},
   "outputs": [
    {
     "data": {
      "text/plain": [
       "0.026327376274901566"
      ]
     },
     "execution_count": 20,
     "metadata": {},
     "output_type": "execute_result"
    }
   ],
   "source": [
    "Z = KernelPCA(n_components=200, kernel='rbf', gamma=0.01).fit_transform(X)\n",
    "model = LogisticRegression(C=5).fit(Z, T)\n",
    "e_xx = model.predict_proba(Z)[:, 1]\n",
    "\n",
    "np.mean(np.abs(e_xx - e_x))"
   ]
  },
  {
   "cell_type": "code",
   "execution_count": 21,
   "id": "a86000ed-4bab-4826-b0cd-27c9138d54d2",
   "metadata": {},
   "outputs": [
    {
     "data": {
      "text/plain": [
       "(0.9630648973485532, 1.013329970379703)"
      ]
     },
     "execution_count": 21,
     "metadata": {},
     "output_type": "execute_result"
    }
   ],
   "source": [
    "np.mean(1 / e_x * T), np.mean(1 / (1 - e_x) * (1 - T)), # both should be 1"
   ]
  },
  {
   "cell_type": "code",
   "execution_count": 22,
   "id": "3ead9312-bacc-41b0-9da3-b5a2d7aaab78",
   "metadata": {},
   "outputs": [
    {
     "data": {
      "text/plain": [
       "(0.9847656273042168, 0.8863945646496162)"
      ]
     },
     "execution_count": 22,
     "metadata": {},
     "output_type": "execute_result"
    }
   ],
   "source": [
    "np.mean(1 / e_xx * T), np.mean(1 / (1 - e_xx) * (1 - T)), # both should be 1"
   ]
  },
  {
   "cell_type": "markdown",
   "id": "d32ae6b5-a553-4938-b801-507577fbd957",
   "metadata": {},
   "source": [
    "### Ground Truth"
   ]
  },
  {
   "cell_type": "code",
   "execution_count": 23,
   "id": "01b93677-0b48-4c01-ac31-5d3512df0256",
   "metadata": {},
   "outputs": [
    {
     "data": {
      "text/plain": [
       "3.8726073418164897"
      ]
     },
     "execution_count": 23,
     "metadata": {},
     "output_type": "execute_result"
    }
   ],
   "source": [
    "evaluate_policy(toy_policy, n=1000000)"
   ]
  },
  {
   "cell_type": "markdown",
   "id": "192be7f4-218c-438b-936e-1fb36b12d858",
   "metadata": {
    "tags": []
   },
   "source": [
    "### IPW estimator"
   ]
  },
  {
   "cell_type": "code",
   "execution_count": 27,
   "id": "6fb022c7-b509-4806-91ad-d0ea9d033f47",
   "metadata": {},
   "outputs": [],
   "source": [
    "def IPW(r, p_t, return_w=False):\n",
    "    if isinstance(r, torch.Tensor):\n",
    "        est = torch.mean(r / torch.as_tensor(p_t))\n",
    "    else:\n",
    "        est = np.mean(r / p_t)\n",
    "    return (est, w) if return_w else est\n"
   ]
  },
  {
   "cell_type": "code",
   "execution_count": 30,
   "id": "9122f446-64b0-4136-8e5e-f9a88dffbef4",
   "metadata": {},
   "outputs": [],
   "source": [
    "policy_prob = toy_policy(X) * T + (1 - toy_policy(X)) * (1 - T)\n",
    "est_ipw = IPW(Y * policy_prob, p_t)"
   ]
  },
  {
   "cell_type": "code",
   "execution_count": 31,
   "id": "706245b2-acee-48fb-913c-0806dc1eddc0",
   "metadata": {},
   "outputs": [
    {
     "data": {
      "text/plain": [
       "3.984689209821492"
      ]
     },
     "execution_count": 31,
     "metadata": {},
     "output_type": "execute_result"
    }
   ],
   "source": [
    "est_ipw"
   ]
  },
  {
   "cell_type": "markdown",
   "id": "1850ff26-d019-4d86-bf76-b4cbef1cfc92",
   "metadata": {},
   "source": [
    "### Implement Confounding Robust Hajek Estimator    "
   ]
  },
  {
   "cell_type": "code",
   "execution_count": 32,
   "id": "9d67fbd8-bca2-4003-8305-82b39f9474d4",
   "metadata": {},
   "outputs": [],
   "source": [
    "def confoundingRobustHajek(r, T, a, b, return_w=False):\n",
    "    r_np = r.data.numpy() if isinstance(r, torch.Tensor) else r\n",
    "    w = np.zeros_like(a)\n",
    "    for t in set(T):\n",
    "        r_t = r_np[T == t]\n",
    "        a_t = a[T == t]\n",
    "        b_t = b[T == t]\n",
    "        with warnings.catch_warnings():  # to avoid user warning about multiplication operator with `*` and `@`\n",
    "            warnings.simplefilter(\"ignore\")\n",
    "            w[T == t] = hajekLP(r_t, a_t, b_t, r.shape[0])\n",
    "    if isinstance(r, torch.Tensor):\n",
    "        est = torch.mean(torch.as_tensor(w) * r)\n",
    "    else:\n",
    "        est = np.mean(w * r_np)\n",
    "    return (est, w) if return_w else est\n",
    "\n",
    "def hajekLP(r, a, b, n):\n",
    "    m = r.shape[0]\n",
    "    w = cp.Variable(m)\n",
    "    phi = cp.Variable()\n",
    "    constraints = [\n",
    "        np.zeros(m) <= w,\n",
    "        0 <= phi,\n",
    "        a * phi <= w,\n",
    "        w <= b * phi,\n",
    "        cp.sum(w) == n\n",
    "    ]\n",
    "    objective = cp.Minimize(cp.sum(r * w))\n",
    "    problem = cp.Problem(objective, constraints)\n",
    "    problem.solve()\n",
    "    return w.value"
   ]
  },
  {
   "cell_type": "code",
   "execution_count": 33,
   "id": "48c91286-0443-468d-a2f9-b8ad0c72b4fb",
   "metadata": {},
   "outputs": [],
   "source": [
    "def get_a_b(e_x, T, gamma):\n",
    "    p_t = e_x * T + (1 - e_x) * (1 - T)  # p_obs(t|x)\n",
    "    a = 1 + 1 / gamma * (1 / p_t - 1)\n",
    "    b = 1 + gamma * (1 / p_t - 1)\n",
    "    return a, b"
   ]
  },
  {
   "cell_type": "code",
   "execution_count": 34,
   "id": "4c9ffc52-aee3-4c12-9da7-8270acb862c4",
   "metadata": {},
   "outputs": [],
   "source": [
    "a, b = get_a_b(e_xx, T, 1.5)\n",
    "p_t = (e_xx * T + (1 - e_xx) * (1 - T))"
   ]
  },
  {
   "cell_type": "code",
   "execution_count": 35,
   "id": "6df2dcbd-4d55-4a9b-adee-952985ba84ed",
   "metadata": {},
   "outputs": [],
   "source": [
    "est, w = confoundingRobustHajek(Y * policy_prob, T, a, b, return_w=True)"
   ]
  },
  {
   "cell_type": "code",
   "execution_count": 36,
   "id": "de57e7de-22c2-4e12-ad09-2c887d747feb",
   "metadata": {},
   "outputs": [
    {
     "data": {
      "text/plain": [
       "3.715661668247829"
      ]
     },
     "execution_count": 36,
     "metadata": {},
     "output_type": "execute_result"
    }
   ],
   "source": [
    "est"
   ]
  },
  {
   "cell_type": "code",
   "execution_count": 37,
   "id": "48ee3f51-3cf3-4fbd-924b-43b682efc447",
   "metadata": {},
   "outputs": [],
   "source": [
    "differentiable_r = torch.tensor(np.random.randn(T.shape[0]), requires_grad=True)\n",
    "est, w = confoundingRobustHajek(differentiable_r, T, a, b, return_w=True)"
   ]
  },
  {
   "cell_type": "code",
   "execution_count": 38,
   "id": "8f1ddc5a-0a92-40ca-90fe-bd2e89df6221",
   "metadata": {},
   "outputs": [],
   "source": [
    "est.backward()"
   ]
  },
  {
   "cell_type": "code",
   "execution_count": 39,
   "id": "898fabe0-5840-4a5d-bf1b-f7ffabeed871",
   "metadata": {},
   "outputs": [
    {
     "data": {
      "text/plain": [
       "True"
      ]
     },
     "execution_count": 39,
     "metadata": {},
     "output_type": "execute_result"
    }
   ],
   "source": [
    "torch.allclose(differentiable_r.grad, torch.as_tensor(w / n))"
   ]
  },
  {
   "cell_type": "markdown",
   "id": "cd32558c-cdd0-4263-a9a6-e4ad83f5a0b5",
   "metadata": {},
   "source": [
    "### Implement Confounding Robust Kernel Estimator"
   ]
  },
  {
   "cell_type": "code",
   "execution_count": 40,
   "id": "b0958fe6-fad8-4801-9264-e9857c91d2c5",
   "metadata": {},
   "outputs": [],
   "source": [
    "from sklearn.gaussian_process import GaussianProcessRegressor\n",
    "from sklearn.gaussian_process.kernels import ConstantKernel, WhiteKernel, RBF"
   ]
  },
  {
   "cell_type": "code",
   "execution_count": 41,
   "id": "1940c7f4-d4e6-4725-b75b-0b9912e60d0a",
   "metadata": {},
   "outputs": [],
   "source": [
    "def confoundingRobustKernel(r, T, X, a, b, p_t, alpha=0.01, return_w=False, rank_constraints=100, use_hajek_constraints=True):\n",
    "    r_np = r.data.numpy() if isinstance(r, torch.Tensor) else r\n",
    "    rank_constraints = min(rank_constraints, n)\n",
    "    with warnings.catch_warnings():\n",
    "        warnings.simplefilter(\"ignore\")\n",
    "        if use_hajek_constraints:\n",
    "            w = binaryKernelLP(r_np, T, X, a, b, p_t, alpha, rank_constraints)\n",
    "        else:\n",
    "            w = KernelLP(r_np, T, X, a, b, p_t, alpha, rank_constraints)\n",
    "    if isinstance(r, torch.Tensor):\n",
    "        est = torch.mean(torch.as_tensor(w) * r)\n",
    "    else:\n",
    "        est = np.mean(w * r_np)\n",
    "    return (est, w) if return_w else est\n",
    "\n",
    "\n",
    "def binaryKernelLP(r, T, X, a, b, p_t, alpha, rank_constraints):\n",
    "    n = r.shape[0]\n",
    "    assert rank_constraints <= n\n",
    "    TX = np.concatenate([T[:, None], X], axis=1)\n",
    "    _, w = confoundingRobustHajek(r, T, a, b, return_w=True)\n",
    "    e = w * p_t - 1\n",
    "    kernel_ = WhiteKernel() + ConstantKernel() * RBF()\n",
    "    model = GaussianProcessRegressor(kernel=kernel_).fit(TX[:1000], e[:1000])\n",
    "\n",
    "    lambd = model.kernel_.k1.noise_level\n",
    "    kernel = model.kernel_.k2\n",
    "    K = kernel(TX, TX)\n",
    "    S, V = eigh(K, subset_by_index=[n-rank_constraints, n-1])\n",
    "    \n",
    "    w = cp.Variable(n)\n",
    "    phi0 = cp.Variable()\n",
    "    phi1 = cp.Variable()\n",
    "    z = cp.Variable(rank_constraints)  # low-rank expression of error\n",
    "\n",
    "    p_t_scaled = np.zeros_like(p_t)\n",
    "    p_t_scaled[T == 0] = p_t[T == 0] * np.mean((1 - T) / p_t)\n",
    "    p_t_scaled[T == 1] = p_t[T == 1] * np.mean(T / p_t)\n",
    "\n",
    "    M = np.diag(S / (S + lambd)) @ V.T @ np.diag(p_t_scaled)\n",
    "    u = np.diag(S / (S + lambd)) @ V.T @ np.ones(n)\n",
    "\n",
    "    Cov_z = S - S ** 2 / (S + lambd)\n",
    "    chi2_bound = chi2(df=rank_constraints).ppf(1 - alpha)\n",
    "\n",
    "    constraints = [\n",
    "        np.zeros(n) <= w,\n",
    "        0 <= phi0,\n",
    "        0 <= phi1,\n",
    "        a * (1 - T) * phi0 + a * T * phi1 <= w,\n",
    "        w <= b * (1 - T) * phi0 + b * T * phi1,\n",
    "        cp.sum(w * (1 - T)) == n,\n",
    "        cp.sum(w * T) == n,\n",
    "        z == M @ w - u,\n",
    "        cp.sum(z ** 2 / Cov_z) <= chi2_bound,\n",
    "    ]\n",
    "    objective = cp.Minimize(cp.sum(r * w))\n",
    "    problem = cp.Problem(objective, constraints)\n",
    "    problem.solve()\n",
    "    \n",
    "    return w.value\n",
    "\n",
    "\n",
    "def KernelLP(r, T, X, a, b, p_t, alpha, rank_constraints):\n",
    "    n = r.shape[0]\n",
    "    assert rank_constraints <= n\n",
    "    TX = np.concatenate([T[:, None], X], axis=1)\n",
    "    _, w = confoundingRobustHajek(r, T, a, b, return_w=True)\n",
    "    e = w * p_t - 1\n",
    "    kernel_ = WhiteKernel() + ConstantKernel() * RBF()\n",
    "    model = GaussianProcessRegressor(kernel=kernel_).fit(TX[:1000], e[:1000])\n",
    "\n",
    "    lambd = model.kernel_.k1.noise_level\n",
    "    kernel = model.kernel_.k2\n",
    "    \n",
    "    K = kernel(TX, TX)\n",
    "    S, V = eigh(K, subset_by_index=[n - rank_constraints, n-1])\n",
    "    M = np.diag(S / (S + lambd)) @ V.T @ np.diag(p_t)\n",
    "    u = np.diag(S / (S + lambd)) @ V.T @ np.ones(n)\n",
    "\n",
    "    w = cp.Variable(n)\n",
    "    z = cp.Variable(rank_constraints)\n",
    "\n",
    "    Cov_z = S - S ** 2 / (S + lambd)\n",
    "    chi2_bound = chi2(df=rank_constraints).ppf(1 - alpha)\n",
    "\n",
    "    constraints = [\n",
    "        np.zeros(n) <= w,\n",
    "        a <= w,\n",
    "        w <= b,\n",
    "        z == M @ w - u,\n",
    "        cp.sum(z ** 2 / Cov_z) <= chi2_bound,\n",
    "    ]\n",
    "    objective = cp.Minimize(cp.sum(r * w))\n",
    "    problem = cp.Problem(objective, constraints)\n",
    "    problem.solve()\n",
    "    \n",
    "    return w.value"
   ]
  },
  {
   "cell_type": "code",
   "execution_count": 42,
   "id": "911618a3-d8d1-447f-9a21-f01bedfb630a",
   "metadata": {},
   "outputs": [],
   "source": [
    "est, w = confoundingRobustKernel(Y * policy_prob, T, X, a, b, p_t, return_w=True)"
   ]
  },
  {
   "cell_type": "code",
   "execution_count": 43,
   "id": "811121e4-0a14-459d-9223-b528cdf5cbd1",
   "metadata": {},
   "outputs": [
    {
     "data": {
      "text/plain": [
       "3.8552542186395087"
      ]
     },
     "execution_count": 43,
     "metadata": {},
     "output_type": "execute_result"
    }
   ],
   "source": [
    "est"
   ]
  },
  {
   "cell_type": "code",
   "execution_count": 57,
   "id": "d18bd70a-24d4-44d0-a0c4-9ae4da15aaf7",
   "metadata": {},
   "outputs": [],
   "source": [
    "est, w = confoundingRobustKernel(Y * policy_prob, T, X, a, b, p_t, return_w=True, use_hajek_constraints=False)"
   ]
  },
  {
   "cell_type": "code",
   "execution_count": 58,
   "id": "1f9ec2ed-2f4d-4aa7-96ff-f3a89d907c8e",
   "metadata": {},
   "outputs": [
    {
     "data": {
      "text/plain": [
       "3.723227331463251"
      ]
     },
     "execution_count": 58,
     "metadata": {},
     "output_type": "execute_result"
    }
   ],
   "source": [
    "est  # without sum-up-to-one constraints"
   ]
  },
  {
   "cell_type": "markdown",
   "id": "f058a91f-2c45-482c-90bf-360a10833ff5",
   "metadata": {},
   "source": [
    "### Compare Policy Learning Performance"
   ]
  },
  {
   "cell_type": "code",
   "execution_count": 75,
   "id": "7d423589-3c4f-4915-93fd-8bf9f48d59e8",
   "metadata": {},
   "outputs": [],
   "source": [
    "import tqdm"
   ]
  },
  {
   "cell_type": "code",
   "execution_count": 76,
   "id": "d1e50f91-9bcb-4028-a87e-09e15de4d177",
   "metadata": {},
   "outputs": [],
   "source": [
    "def base_policy(X):\n",
    "    return 0.5 * torch.ones(X.shape[0], dtype=float)\n",
    "\n",
    "def LR_policy(X, beta):\n",
    "    X = np.concatenate([np.ones([X.shape[0], 1]), X], axis=1)\n",
    "    return torch.sigmoid(torch.tensor(X) @ beta)"
   ]
  },
  {
   "cell_type": "code",
   "execution_count": 77,
   "id": "b1c061b6-9fbd-4de8-96ac-ccee3fbfcf5a",
   "metadata": {},
   "outputs": [],
   "source": [
    "class nnPolicy(torch.nn.Module):\n",
    "    def __init__(self):\n",
    "        super().__init__()\n",
    "        self.nn = torch.nn.Sequential(\n",
    "            torch.nn.Linear(5, 32),\n",
    "            torch.nn.ReLU(),\n",
    "            torch.nn.Linear(32, 32),\n",
    "            torch.nn.ReLU(),\n",
    "            torch.nn.Linear(32, 1),\n",
    "            torch.nn.Sigmoid(),\n",
    "        )\n",
    "        self.nn[-2].weight.data[:] = 0.\n",
    "        self.nn[-2].bias.data[:] = 0.\n",
    "\n",
    "    def forward(self, X):\n",
    "        X = torch.as_tensor(X, dtype=torch.float32)\n",
    "        return self.nn(X)[:, 0]"
   ]
  },
  {
   "cell_type": "code",
   "execution_count": 78,
   "id": "4e15e5d7-d487-4bfa-a46b-3a6b77e2ec48",
   "metadata": {},
   "outputs": [
    {
     "data": {
      "text/plain": [
       "tensor(3.7469, dtype=torch.float64)"
      ]
     },
     "execution_count": 78,
     "metadata": {},
     "output_type": "execute_result"
    }
   ],
   "source": [
    "evaluate_policy(base_policy, n=100000)"
   ]
  },
  {
   "cell_type": "code",
   "execution_count": 79,
   "id": "6717fbcd-2256-4c46-9d0d-74413a230e6b",
   "metadata": {},
   "outputs": [
    {
     "data": {
      "text/plain": [
       "tensor(3.7626, dtype=torch.float64, grad_fn=<MeanBackward0>)"
      ]
     },
     "execution_count": 79,
     "metadata": {},
     "output_type": "execute_result"
    }
   ],
   "source": [
    "nn_policy = nnPolicy()\n",
    "evaluate_policy(nn_policy, n=100000)"
   ]
  },
  {
   "cell_type": "markdown",
   "id": "71406793-c370-4efe-9d47-939d1b1e6bd0",
   "metadata": {},
   "source": [
    "#### Best Policy"
   ]
  },
  {
   "cell_type": "code",
   "execution_count": 67,
   "id": "72178905-238f-4688-b849-e5ddbc59f357",
   "metadata": {},
   "outputs": [
    {
     "name": "stderr",
     "output_type": "stream",
     "text": [
      "Value: 4.741022495232954: 100%|█████████████████████| 101/101 [00:05<00:00, 17.58it/s]\n"
     ]
    }
   ],
   "source": [
    "train_steps = 101\n",
    "beta_best = torch.zeros(6, requires_grad=True, dtype=float)\n",
    "best_policy = lambda X: LR_policy(X, beta_best)\n",
    "optimizer = torch.optim.RMSprop(lr=1e-1, params=[beta_best])\n",
    "# best_policy = nnPolicy()\n",
    "# optimizer = torch.optim.Adam(lr=1e-2, params=best_policy.parameters(), weight_decay=0.00)\n",
    "pbar = tqdm.tqdm(range(train_steps))\n",
    "for i in pbar:\n",
    "    value = evaluate_policy(best_policy, n=100000)\n",
    "    (- value).backward()\n",
    "    optimizer.step()\n",
    "    optimizer.zero_grad()\n",
    "    pbar.set_description(f\"Value: {value}\")"
   ]
  },
  {
   "cell_type": "markdown",
   "id": "fd5860f1-5888-4134-809a-c6d88eaaee6f",
   "metadata": {
    "tags": []
   },
   "source": [
    "#### Just Run IPW optimization"
   ]
  },
  {
   "cell_type": "code",
   "execution_count": 68,
   "id": "3faaf59a-d1e7-4e87-9b01-1b21de25ab0a",
   "metadata": {},
   "outputs": [
    {
     "name": "stderr",
     "output_type": "stream",
     "text": [
      "Value: 4.855683679904874: 100%|████████████████████| 101/101 [00:00<00:00, 738.15it/s]\n"
     ]
    }
   ],
   "source": [
    "train_steps = 101\n",
    "beta_ipw = torch.zeros(6, requires_grad=True, dtype=float)\n",
    "ipw_policy = lambda X: LR_policy(X, beta_ipw)\n",
    "optimizer = torch.optim.RMSprop(lr=1e-1, params=[beta_ipw])\n",
    "#ipw_policy = nnPolicy()\n",
    "#optimizer = torch.optim.Adam(lr=1e-2, params=ipw_policy.parameters(), weight_decay=0.01)\n",
    "pbar = tqdm.tqdm(range(train_steps))\n",
    "for i in pbar:\n",
    "    ipw_prob = ipw_policy(X) * torch.tensor(T) + (1 - ipw_policy(X)) * torch.tensor(1 - T)\n",
    "    r = torch.tensor(Y) * ipw_prob\n",
    "    value = IPW(r, p_t)\n",
    "    (- value).backward()\n",
    "    optimizer.step()\n",
    "    optimizer.zero_grad()\n",
    "    pbar.set_description(f\"Value: {value}\")"
   ]
  },
  {
   "cell_type": "code",
   "execution_count": 69,
   "id": "6f68a7fc-d8b5-4677-a723-5f880e3643c9",
   "metadata": {},
   "outputs": [
    {
     "data": {
      "text/plain": [
       "tensor(4.6663, dtype=torch.float64, grad_fn=<MeanBackward0>)"
      ]
     },
     "execution_count": 69,
     "metadata": {},
     "output_type": "execute_result"
    }
   ],
   "source": [
    "evaluate_policy(ipw_policy, n=100000)"
   ]
  },
  {
   "cell_type": "code",
   "execution_count": 70,
   "id": "0d57de39-fe6f-4e48-b547-70786284d17e",
   "metadata": {},
   "outputs": [
    {
     "data": {
      "text/plain": [
       "tensor(4.6639, dtype=torch.float64, grad_fn=<MeanBackward0>)"
      ]
     },
     "execution_count": 70,
     "metadata": {},
     "output_type": "execute_result"
    }
   ],
   "source": [
    "est = confoundingRobustKernel(r, T, X, a, b, p_t)\n",
    "est"
   ]
  },
  {
   "cell_type": "code",
   "execution_count": 71,
   "id": "cd099d55-ae01-4e07-9ea4-7a1094c46fdb",
   "metadata": {},
   "outputs": [
    {
     "data": {
      "text/plain": [
       "tensor(4.4267, dtype=torch.float64, grad_fn=<MeanBackward0>)"
      ]
     },
     "execution_count": 71,
     "metadata": {},
     "output_type": "execute_result"
    }
   ],
   "source": [
    "est = confoundingRobustHajek(r, T, a, b)\n",
    "est"
   ]
  },
  {
   "cell_type": "code",
   "execution_count": 72,
   "id": "c90ec5a7-9e92-4f55-987c-2b58f5168c2b",
   "metadata": {},
   "outputs": [
    {
     "name": "stderr",
     "output_type": "stream",
     "text": [
      "100%|█████████████████████████████████████████████████| 31/31 [07:38<00:00, 14.81s/it]\n"
     ]
    }
   ],
   "source": [
    "rank = [j ** 2 for j in range(1, 32)]\n",
    "y = []\n",
    "for i in tqdm.tqdm(rank):\n",
    "    y.append(confoundingRobustKernel(r, T, X, a, b, p_t, rank_constraints=i))"
   ]
  },
  {
   "cell_type": "code",
   "execution_count": 73,
   "id": "6b9557f2-583d-41d2-a4f9-7fd3bb29968a",
   "metadata": {},
   "outputs": [
    {
     "data": {
      "text/plain": [
       "[<matplotlib.lines.Line2D at 0x7fcb68908dc0>]"
      ]
     },
     "execution_count": 73,
     "metadata": {},
     "output_type": "execute_result"
    },
    {
     "data": {
      "image/png": "[encoded data removed]",
      "text/plain": [
       "<Figure size 432x288 with 1 Axes>"
      ]
     },
     "metadata": {
      "needs_background": "light"
     },
     "output_type": "display_data"
    }
   ],
   "source": [
    "plt.plot(rank, [value.detach().numpy() for value in y])\n",
    "plt.plot(rank, [evaluate_policy(ipw_policy, n=100000).detach().numpy()] * len(rank))"
   ]
  },
  {
   "cell_type": "code",
   "execution_count": 74,
   "id": "9443ca1a-bc28-4baf-8318-79b800a16bd5",
   "metadata": {},
   "outputs": [
    {
     "data": {
      "text/plain": [
       "0.0939045251098258"
      ]
     },
     "execution_count": 74,
     "metadata": {},
     "output_type": "execute_result"
    }
   ],
   "source": [
    "Y.std() / 1000 ** 0.5"
   ]
  },
  {
   "cell_type": "markdown",
   "id": "c6b8f2b0-5765-48a5-8ed5-745e0eedcd57",
   "metadata": {},
   "source": [
    "#### Compare Policy Improvement"
   ]
  },
  {
   "cell_type": "code",
   "execution_count": 80,
   "id": "cb794dbe-697f-4bf4-b9d1-ca84953e4552",
   "metadata": {
    "tags": []
   },
   "outputs": [
    {
     "name": "stderr",
     "output_type": "stream",
     "text": [
      "Improvement: 0.7050877439405984: 100%|██████████████| 101/101 [00:02<00:00, 42.11it/s]\n"
     ]
    }
   ],
   "source": [
    "# Hajek policy improvement\n",
    "train_steps = 101\n",
    "beta_hajek = torch.zeros(6, requires_grad=True, dtype=float)\n",
    "hajek_policy = lambda X: LR_policy(X, beta_hajek)\n",
    "optimizer = torch.optim.RMSprop(lr=1e-1, params=[beta_hajek])\n",
    "# hajek_policy = nnPolicy()\n",
    "# optimizer = torch.optim.Adam(lr=3e-2, params=hajek_policy.parameters(), weight_decay=0.01)\n",
    "pbar = tqdm.tqdm(range(train_steps))\n",
    "for i in pbar:\n",
    "    # base_prob =  0.5 * good_policy(X) * torch.tensor(T) + (1 - 0.5 * good_policy(X)) * torch.tensor(1 - T)\n",
    "    base_prob =  base_policy(X) * torch.tensor(T) + (1 - base_policy(X)) * torch.tensor(1 - T)\n",
    "    hajek_prob = hajek_policy(X) * torch.tensor(T) + (1 - hajek_policy(X)) * torch.tensor(1 - T)\n",
    "    r = torch.tensor(Y) * (hajek_prob - base_prob)\n",
    "    hajek_improvement, w = confoundingRobustHajek(r, T, a, b, return_w=True)\n",
    "    (- hajek_improvement).backward()\n",
    "    optimizer.step()\n",
    "    optimizer.zero_grad()\n",
    "    pbar.set_description(f\"Improvement: {hajek_improvement}\")"
   ]
  },
  {
   "cell_type": "code",
   "execution_count": 81,
   "id": "77936c22-db7b-4506-86ce-85fd415a2067",
   "metadata": {},
   "outputs": [
    {
     "data": {
      "text/plain": [
       "tensor(4.6097, dtype=torch.float64, grad_fn=<MeanBackward0>)"
      ]
     },
     "execution_count": 81,
     "metadata": {},
     "output_type": "execute_result"
    }
   ],
   "source": [
    "evaluate_policy(hajek_policy, n=100000)"
   ]
  },
  {
   "cell_type": "code",
   "execution_count": 82,
   "id": "4f531161-ffca-4feb-8c89-599ad60bd1ec",
   "metadata": {},
   "outputs": [
    {
     "name": "stderr",
     "output_type": "stream",
     "text": [
      "Improvement: 0.8608917177689175: 100%|██████████████| 101/101 [10:49<00:00,  6.43s/it]\n"
     ]
    }
   ],
   "source": [
    "# Kernel policy improvement\n",
    "train_steps = 101\n",
    "beta_kernel = torch.zeros(6, requires_grad=True, dtype=float)\n",
    "kernel_policy = lambda X: LR_policy(X, beta_kernel)\n",
    "optimizer = torch.optim.RMSprop(lr=1e-1, params=[beta_kernel])\n",
    "# kernel_policy = nnPolicy()\n",
    "# optimizer = torch.optim.Adam(lr=3e-2, params=kernel_policy.parameters(), weight_decay=0.01)\n",
    "pbar = tqdm.tqdm(range(train_steps))\n",
    "for i in pbar:\n",
    "    base_prob =  base_policy(X) * torch.tensor(T) + (1 - base_policy(X)) * torch.tensor(1 - T)\n",
    "    kernel_prob = kernel_policy(X) * torch.tensor(T) + (1 - kernel_policy(X)) * torch.tensor(1 - T)\n",
    "    r = torch.tensor(Y) * (kernel_prob - base_prob)\n",
    "    kernel_improvement, w = confoundingRobustKernel(r, T, X, a, b, p_t, return_w=True)\n",
    "    (- kernel_improvement).backward()\n",
    "    optimizer.step()\n",
    "    optimizer.zero_grad()\n",
    "    pbar.set_description(f\"Improvement: {kernel_improvement}\")"
   ]
  },
  {
   "cell_type": "code",
   "execution_count": 83,
   "id": "8a98f488-14be-4dff-9fdd-9dad89deb1af",
   "metadata": {},
   "outputs": [
    {
     "data": {
      "text/plain": [
       "tensor(4.6801, dtype=torch.float64, grad_fn=<MeanBackward0>)"
      ]
     },
     "execution_count": 83,
     "metadata": {},
     "output_type": "execute_result"
    }
   ],
   "source": [
    "evaluate_policy(kernel_policy, n=100000)"
   ]
  },
  {
   "cell_type": "markdown",
   "id": "3bb89ee4-1cbf-4ce7-a209-c82e62340fd2",
   "metadata": {},
   "source": [
    "### Just run min-max optimzation"
   ]
  },
  {
   "cell_type": "code",
   "execution_count": 84,
   "id": "bc917df7-0a67-491f-b4e2-8d7eb64b1144",
   "metadata": {
    "tags": []
   },
   "outputs": [
    {
     "name": "stderr",
     "output_type": "stream",
     "text": [
      "Value: 4.443990165195142: 100%|█████████████████████| 101/101 [00:02<00:00, 42.71it/s]\n"
     ]
    }
   ],
   "source": [
    "# Hajek policy min-max value\n",
    "train_steps = 101\n",
    "beta_hajek = torch.zeros(6, requires_grad=True, dtype=float)\n",
    "hajek_policy = lambda X: LR_policy(X, beta_hajek)\n",
    "optimizer = torch.optim.RMSprop(lr=1e-1, params=[beta_hajek])\n",
    "# NN seems to overfit\n",
    "# hajek_policy = nnPolicy()\n",
    "# hajek_policy = ipw_policy  # degrades the ipw policy\n",
    "# optimizer = torch.optim.Adam(lr=1e-2, params=hajek_policy.parameters(), weight_decay=0.01)\n",
    "pbar = tqdm.tqdm(range(train_steps))\n",
    "for i in pbar:\n",
    "    hajek_prob = hajek_policy(X) * torch.tensor(T) + (1 - hajek_policy(X)) * torch.tensor(1 - T)\n",
    "    r = torch.tensor(Y) * hajek_prob\n",
    "    hajek_value, w = confoundingRobustHajek(r, T, a, b, return_w=True)\n",
    "    (- hajek_value).backward()\n",
    "    optimizer.step()\n",
    "    optimizer.zero_grad()\n",
    "    pbar.set_description(f\"Value: {hajek_value}\")"
   ]
  },
  {
   "cell_type": "code",
   "execution_count": 85,
   "id": "13c26fa8-9f5b-40e9-9905-f8c71837e821",
   "metadata": {},
   "outputs": [
    {
     "data": {
      "text/plain": [
       "tensor(4.5801, dtype=torch.float64, grad_fn=<MeanBackward0>)"
      ]
     },
     "execution_count": 85,
     "metadata": {},
     "output_type": "execute_result"
    }
   ],
   "source": [
    "evaluate_policy(hajek_policy, n=100000)"
   ]
  },
  {
   "cell_type": "code",
   "execution_count": 86,
   "id": "9a4d5030-1d5f-4afb-8a5e-d77a8e27a31b",
   "metadata": {},
   "outputs": [
    {
     "data": {
      "text/plain": [
       "tensor(4.5772, dtype=torch.float64, grad_fn=<MeanBackward0>)"
      ]
     },
     "execution_count": 86,
     "metadata": {},
     "output_type": "execute_result"
    }
   ],
   "source": [
    "est = confoundingRobustKernel(r, T, X, a, b, p_t)\n",
    "est"
   ]
  },
  {
   "cell_type": "code",
   "execution_count": 87,
   "id": "f3fdf7b7-97ce-4467-9245-5b7988855917",
   "metadata": {},
   "outputs": [
    {
     "name": "stderr",
     "output_type": "stream",
     "text": [
      "Value: 4.651300650946105: 100%|█████████████████████| 101/101 [10:04<00:00,  5.99s/it]\n"
     ]
    }
   ],
   "source": [
    "# Kernel policy min-max value\n",
    "train_steps = 101\n",
    "beta_kernel = torch.zeros(6, requires_grad=True, dtype=float)\n",
    "kernel_policy = lambda X: LR_policy(X, beta_kernel)\n",
    "optimizer = torch.optim.RMSprop(lr=1e-1, params=[beta_kernel])\n",
    "# kernel_policy = nnPolicy()\n",
    "# optimizer = torch.optim.Adam(lr=3e-2, params=kernel_policy.parameters(), weight_decay=0.01)\n",
    "pbar = tqdm.tqdm(range(train_steps))\n",
    "for i in pbar:\n",
    "    kernel_prob = kernel_policy(X) * torch.tensor(T) + (1 - kernel_policy(X)) * torch.tensor(1 - T)\n",
    "    r = torch.tensor(Y) * kernel_prob\n",
    "    kernel_value, w = confoundingRobustKernel(r, T, X, a, b, p_t, return_w=True)\n",
    "    (- kernel_value).backward()\n",
    "    optimizer.step()\n",
    "    optimizer.zero_grad()\n",
    "    pbar.set_description(f\"Value: {kernel_value}\")"
   ]
  },
  {
   "cell_type": "code",
   "execution_count": 88,
   "id": "a4698840-9670-4345-8ed2-d63f69cde402",
   "metadata": {},
   "outputs": [
    {
     "data": {
      "text/plain": [
       "tensor(4.6655, dtype=torch.float64, grad_fn=<MeanBackward0>)"
      ]
     },
     "execution_count": 88,
     "metadata": {},
     "output_type": "execute_result"
    }
   ],
   "source": [
    "evaluate_policy(kernel_policy, n=100000)"
   ]
  },
  {
   "cell_type": "markdown",
   "id": "fcb6681d-0cbc-498c-87fe-14518e3307d3",
   "metadata": {},
   "source": [
    "### Conclusions\n",
    "- The difference in performance is sample-dependent\n",
    "  - If the sample is well confounded, then kernel + hajek tends to be better than hajek\n",
    "- IPW estimator is good enough in most cases, so we might not actually need confounding-robust methods\n",
    "- Still, kernel + hajek method offers better lower-bound of the policy value, so it must have some use cases."
   ]
  },
  {
   "cell_type": "markdown",
   "id": "417a7aee-64db-43bf-8f5f-c85431205461",
   "metadata": {},
   "source": [
    "### Make a Table for Slide"
   ]
  },
  {
   "cell_type": "code",
   "execution_count": 146,
   "id": "57708d10-0a72-4c40-93d3-a90ee6d52626",
   "metadata": {},
   "outputs": [],
   "source": [
    "pi1 = lambda x: 0.5\n",
    "pi2 = toy_policy\n",
    "pi3 = best_policy\n",
    "pi4 = hajek_policy\n",
    "pi5 = kernel_policy\n",
    "pi6 = ipw_policy"
   ]
  },
  {
   "cell_type": "code",
   "execution_count": 147,
   "id": "b07db702-4249-4340-abee-31a733991669",
   "metadata": {},
   "outputs": [
    {
     "name": "stderr",
     "output_type": "stream",
     "text": [
      "6it [00:36,  6.15s/it]\n"
     ]
    }
   ],
   "source": [
    "table = {}\n",
    "for i, pi in tqdm.tqdm(enumerate([pi1, pi2, pi3, pi4, pi5, pi6])):\n",
    "    table[f\"$\\\\pi_{i+1}$\"] = row = {}\n",
    "    row['$V_\\\\text{inf}$'] = float(evaluate_policy(pi, n=100000))\n",
    "    prob = pi(X) * torch.tensor(T) + (1 - pi(X)) * torch.tensor(1 - T)\n",
    "    r = torch.tensor(Y) * prob\n",
    "    row['$\\\\hat V_\\\\text{inf}^\\\\Hajek$'] = float(confoundingRobustHajek(r, T, a, b))\n",
    "    row['$\\\\hat V_\\\\text{inf}^\\\\kernel$'] = float(confoundingRobustKernel(r, T, X, a, b, p_t))\n",
    "    row['$\\\\hat V_\\\\text{inf}^\\\\text{IPW}$'] = float(IPW(r, p_t))"
   ]
  },
  {
   "cell_type": "code",
   "execution_count": 151,
   "id": "e7b99c09-4f54-4520-8475-3cd0350ffd85",
   "metadata": {},
   "outputs": [
    {
     "data": {
      "text/plain": [
       "{'$V_\\\\text{inf}$': 4.671451375254245,\n",
       " '$\\\\hat V_\\\\text{inf}^\\\\text{IPW}$': 4.856568494405989,\n",
       " '$\\\\hat V_\\\\text{inf}^\\\\Hajek$': 4.427088859626212,\n",
       " '$\\\\hat V_\\\\text{inf}^\\\\kernel$': 4.6642975558017366}"
      ]
     },
     "execution_count": 151,
     "metadata": {},
     "output_type": "execute_result"
    }
   ],
   "source": [
    "table_copy = table.copy()\n",
    "table.pop(\"$\\\\pi_6$\")"
   ]
  },
  {
   "cell_type": "code",
   "execution_count": 152,
   "id": "43579457-5d7d-4556-9815-4333d60de3c5",
   "metadata": {},
   "outputs": [
    {
     "name": "stdout",
     "output_type": "stream",
     "text": [
      "\\begin{tabular}{ | m{4em} || m{3em} m{3em} m{3em} m{3em} m{3em} | }\n",
      "\\hline\n",
      "\t&$\\pi_1$\t&$\\pi_2$\t&$\\pi_3$\t&$\\pi_4$\t&$\\pi_5$\t\\\\\n",
      "\\hline\n",
      "$V_\\text{inf}$\t&3.757\t&3.898\t&4.736\t&4.576\t&4.670\t\\\\\n",
      "\\hline\n",
      "$\\hat V_\\text{inf}^\\text{IPW}$\t&3.583\t&3.920\t&4.738\t&4.722\t&4.827\t\\\\\n",
      "\\hline\n",
      "$\\hat V_\\text{inf}^\\Hajek$\t&3.546\t&3.716\t&4.302\t&4.447\t&4.417\t\\\\\n",
      "\\hline\n",
      "$\\hat V_\\text{inf}^\\kernel$\t&3.566\t&3.855\t&4.548\t&4.560\t&4.652\t\\\\\n",
      "\\hline\n",
      "\\end{tabular}\n"
     ]
    }
   ],
   "source": [
    "print(\"\\\\begin{tabular}{ | m{4em} || \" + \"m{3em} \" * len(table) + \"| }\")\n",
    "print(\"\\\\hline\")\n",
    "header = \"{}\\t\" + \"&{}\\t\" * len(table) + \"\\\\\\\\\"\n",
    "print(header.format(\"\", *table.keys()))\n",
    "print(\"\\\\hline\")\n",
    "\n",
    "row_names = table[\"$\\\\pi_1$\"].keys()\n",
    "for row in row_names:\n",
    "    s = \"{}\\t\" + \"&{:1.3f}\\t\" * len(table) + \"\\\\\\\\\"\n",
    "    print(s.format(row, *[col[row] for col in table.values()]))\n",
    "    print(\"\\\\hline\")\n",
    "print(\"\\\\end{tabular}\")\n"
   ]
  },
  {
   "cell_type": "markdown",
   "id": "c00d4a48-9cf3-47c8-a017-367bd0cf22f5",
   "metadata": {},
   "source": [
    "### Estimate Propensity Score (Conditional Density Estimation)\n",
    "- This requires consistent nominal propensity score (p_obs(t|x))\n",
    "- For discrete t, just run kernel logistic regressionregret_kernel"
   ]
  },
  {
   "cell_type": "markdown",
   "id": "86d4e905-c91c-43c7-b967-cc7bcd7103b5",
   "metadata": {},
   "source": [
    "#### Discrete Case"
   ]
  },
  {
   "cell_type": "code",
   "execution_count": 356,
   "id": "1d8a554e-b59d-443c-940a-874042c719ad",
   "metadata": {},
   "outputs": [
    {
     "data": {
      "text/plain": [
       "0.03245225608333301"
      ]
     },
     "execution_count": 356,
     "metadata": {},
     "output_type": "execute_result"
    }
   ],
   "source": [
    "from sklearn.linear_model import LogisticRegressionCV\n",
    "# from sklearn.metrics import roc_auc_score, make_scorer\n",
    "# roc_auc_score = make_scorer(roc_auc_score, greater_is_better=True, needs_proba=True)\n",
    "\n",
    "model = LogisticRegressionCV().fit(X, T)\n",
    "e_xx = model.predict_proba(X)[:, 1]\n",
    "\n",
    "np.mean(np.abs(e_xx - e_x))"
   ]
  },
  {
   "cell_type": "code",
   "execution_count": 9,
   "id": "95f90853-b1ba-4f3f-b164-8f0915553ad2",
   "metadata": {},
   "outputs": [],
   "source": [
    "import optuna\n",
    "from sklearn.decomposition import KernelPCA\n",
    "from sklearn.linear_model import LogisticRegression\n",
    "from sklearn.pipeline import Pipeline\n",
    "from sklearn.model_selection import cross_val_score\n",
    "\n",
    "def objective(trial):\n",
    "    gamma = trial.suggest_float('gamma', 1e-2, 1e+2, log=True)\n",
    "    lambd = trial.suggest_float('lambd', 1e-3, 1e+3, log=True)\n",
    "    model = Pipeline([\n",
    "        ('kpca', KernelPCA(n_components=100, kernel='rbf', gamma=gamma)),\n",
    "        ('LogReg', LogisticRegression(C=1/lambd)),\n",
    "    ])   \n",
    "    cv_scores = cross_val_score(model, X, y=T, cv=4)\n",
    "    return cv_scores.mean()"
   ]
  },
  {
   "cell_type": "code",
   "execution_count": null,
   "id": "95449911-6b00-4578-b005-cdee0526b2c8",
   "metadata": {},
   "outputs": [],
   "source": [
    "study = optuna.create_study(direction='maximize')\n",
    "study.optimize(func=objective, n_trials=100)"
   ]
  },
  {
   "cell_type": "code",
   "execution_count": 332,
   "id": "c151c600-9947-43cb-abc1-6e0ce5955f4f",
   "metadata": {},
   "outputs": [
    {
     "data": {
      "text/plain": [
       "{'gamma': 0.010034979398825772, 'lambd': 0.21459944940837156}"
      ]
     },
     "execution_count": 332,
     "metadata": {},
     "output_type": "execute_result"
    }
   ],
   "source": [
    "study.best_params"
   ]
  },
  {
   "cell_type": "code",
   "execution_count": 10,
   "id": "30624914-027f-4717-9b6b-b693bbf4c235",
   "metadata": {},
   "outputs": [
    {
     "data": {
      "text/plain": [
       "0.023502960435053497"
      ]
     },
     "execution_count": 10,
     "metadata": {},
     "output_type": "execute_result"
    }
   ],
   "source": [
    "Z = KernelPCA(n_components=200, kernel='rbf', gamma=0.01).fit_transform(X)\n",
    "model = LogisticRegression(C=5).fit(Z, T)\n",
    "e_xx = model.predict_proba(Z)[:, 1]\n",
    "\n",
    "np.mean(np.abs(e_xx - e_x))"
   ]
  },
  {
   "cell_type": "code",
   "execution_count": 11,
   "id": "a8b29946-0d5f-43af-ab66-08693ce19644",
   "metadata": {},
   "outputs": [
    {
     "data": {
      "text/plain": [
       "(0.9926845079200554, 0.9795193002344411)"
      ]
     },
     "execution_count": 11,
     "metadata": {},
     "output_type": "execute_result"
    }
   ],
   "source": [
    "np.mean(1 / e_x * T), np.mean(1 / (1 - e_x) * (1 - T)), # both should be 1"
   ]
  },
  {
   "cell_type": "code",
   "execution_count": 12,
   "id": "c52a868d-77b7-4f17-ad20-f19fadc1313d",
   "metadata": {},
   "outputs": [
    {
     "data": {
      "text/plain": [
       "(0.9978398603769248, 0.9503035986662446)"
      ]
     },
     "execution_count": 12,
     "metadata": {},
     "output_type": "execute_result"
    }
   ],
   "source": [
    "np.mean(1 / e_xx * T), np.mean(1 / (1 - e_xx) * (1 - T)), # both should be 1"
   ]
  },
  {
   "cell_type": "markdown",
   "id": "efc3f9c3-9589-42d7-b680-b3f5a2459f7d",
   "metadata": {},
   "source": [
    "#### Continuous Case (Maybe on the next notebook)"
   ]
  },
  {
   "cell_type": "code",
   "execution_count": 598,
   "id": "ec52f0ef-5070-4431-aa95-d34d16532698",
   "metadata": {},
   "outputs": [],
   "source": [
    "from statsmodels.nonparametric.kernel_density import KDEMultivariateConditional"
   ]
  },
  {
   "cell_type": "code",
   "execution_count": 614,
   "id": "e7c75871-e5b0-4cf1-80a9-d71179e1e4a9",
   "metadata": {},
   "outputs": [],
   "source": [
    "EPS = 1e-6\n",
    "\n",
    "def benchmark_bandwidth(bw, T, X, cv=5):\n",
    "    n = T.shape[0]\n",
    "    indep_type='c' * X.shape[1]\n",
    "    dep_type='u'\n",
    "    split = (np.arange(n) % 5)\n",
    "    cross_entropy = 0\n",
    "    for i in range(cv):\n",
    "        train = (split != i)\n",
    "        test = (split == i)\n",
    "        model = KDEMultivariateConditional(T[train, None], X[train, :], dep_type='c', indep_type='c' * X.shape[1], bw=bw)\n",
    "        cross_entropy += np.mean(model.pdf(T[test, None], X[test, :]) + EPS) / cv\n",
    "    return cross_entropy"
   ]
  },
  {
   "cell_type": "code",
   "execution_count": 615,
   "id": "0601e3f6-4f21-4744-b52d-cff4ed8cf82d",
   "metadata": {},
   "outputs": [
    {
     "name": "stderr",
     "output_type": "stream",
     "text": [
      "/home/kei/Desktop/env_pillbox/lib/python3.8/site-packages/statsmodels/nonparametric/kernel_density.py:527: RuntimeWarning: invalid value encountered in double_scalars\n",
      "  pdf_est.append(f_yx / f_x)\n"
     ]
    }
   ],
   "source": [
    "best_scale = 0\n",
    "best_score = - float('inf')\n",
    "for scale in [0.1, 0.2, 0.3, 0.5, 0.7, 1, 1.5, 2, 3, 5]:\n",
    "    bw = scale * np.concatenate([[Y.std()], X.std(axis=0)]) / Y.shape[0] ** (1 / 7)\n",
    "    score = benchmark_bandwidth(bw, Y, X)\n",
    "    if score > best_score:\n",
    "        best_scale = scale\n",
    "        best_score = score"
   ]
  },
  {
   "cell_type": "code",
   "execution_count": 616,
   "id": "dcfb74c5-773c-4ba0-8562-d92ebee0bf63",
   "metadata": {},
   "outputs": [
    {
     "data": {
      "text/plain": [
       "(0.3, 0.19784318708431387)"
      ]
     },
     "execution_count": 616,
     "metadata": {},
     "output_type": "execute_result"
    }
   ],
   "source": [
    "best_scale, best_score"
   ]
  },
  {
   "cell_type": "code",
   "execution_count": 637,
   "id": "ad8a2066-614d-4390-bb2b-7730d19ce30b",
   "metadata": {},
   "outputs": [],
   "source": [
    "bw0 = best_scale * np.concatenate([[Y.std()], X.std(axis=0)]) / Y.shape[0] ** (1 / 7)\n",
    "model = KDEMultivariateConditional(Y[:, None], X, dep_type='c', indep_type='c' * X.shape[1], bw=bw0)"
   ]
  },
  {
   "cell_type": "code",
   "execution_count": 638,
   "id": "97445cb5-246d-458d-9faa-2af729248646",
   "metadata": {},
   "outputs": [
    {
     "data": {
      "text/plain": [
       "array([1.62958717, 1.62951695, 1.62941804, ..., 1.62956773, 1.62958717,\n",
       "       1.62958716])"
      ]
     },
     "execution_count": 638,
     "metadata": {},
     "output_type": "execute_result"
    }
   ],
   "source": [
    "e_xx = model.pdf(Y[:, None], X)\n",
    "e_xx"
   ]
  },
  {
   "cell_type": "code",
   "execution_count": 639,
   "id": "7fc365b9-566e-4dfc-a52f-f9b29cd6a463",
   "metadata": {},
   "outputs": [
    {
     "data": {
      "text/plain": [
       "(array([3.000e+00, 5.000e+00, 7.000e+00, 9.000e+00, 2.100e+01, 2.500e+01,\n",
       "        2.900e+01, 4.700e+01, 1.230e+02, 7.731e+03]),\n",
       " array([1.15235734, 1.20008033, 1.24780331, 1.29552629, 1.34324927,\n",
       "        1.39097226, 1.43869524, 1.48641822, 1.5341412 , 1.58186419,\n",
       "        1.62958717]),\n",
       " <BarContainer object of 10 artists>)"
      ]
     },
     "execution_count": 639,
     "metadata": {},
     "output_type": "execute_result"
    },
    {
     "data": {
      "image/png": "[encoded data removed]",
      "text/plain": [
       "<Figure size 432x288 with 1 Axes>"
      ]
     },
     "metadata": {
      "needs_background": "light"
     },
     "output_type": "display_data"
    }
   ],
   "source": [
    "plt.hist(e_xx)"
   ]
  },
  {
   "cell_type": "code",
   "execution_count": 640,
   "id": "23633bf1-ab0b-407c-8301-e8cac42995b2",
   "metadata": {},
   "outputs": [
    {
     "data": {
      "text/plain": [
       "array([0.24481187, 0.08247946, 0.08201479, 0.08216818, 0.08203077,\n",
       "       0.08354723])"
      ]
     },
     "execution_count": 640,
     "metadata": {},
     "output_type": "execute_result"
    }
   ],
   "source": [
    "model.bw"
   ]
  },
  {
   "cell_type": "code",
   "execution_count": 636,
   "id": "8c2e5190-6262-4c27-8ccd-7a44587c0482",
   "metadata": {},
   "outputs": [
    {
     "data": {
      "text/plain": [
       "[0.0036205488784271846,\n",
       " 0.005530541824885594,\n",
       " 0.008353342645354245,\n",
       " 0.0092354679017507,\n",
       " 0.008828923218367986,\n",
       " 0.006834553073471655,\n",
       " 0.0047634763845408505]"
      ]
     },
     "execution_count": 636,
     "metadata": {},
     "output_type": "execute_result"
    }
   ],
   "source": [
    "[np.mean(1. / e_xx * ((i <= Y) & (Y <= i + 1))) for i in range(7)]  # Should go to 1"
   ]
  },
  {
   "cell_type": "code",
   "execution_count": 650,
   "id": "107e61f5-4574-4956-9d01-5c9bba9dd833",
   "metadata": {},
   "outputs": [],
   "source": [
    "# Shouldn't we use loo estimate for propensity? (For reducing the sampling bias)"
   ]
  },
  {
   "cell_type": "code",
   "execution_count": 651,
   "id": "3d1c0419-f4b2-4446-ab71-5e6eee188523",
   "metadata": {},
   "outputs": [
    {
     "data": {
      "text/plain": [
       "array([0.00156597, 0.11336096, 0.18019459, ..., 0.15350272, 0.27772491,\n",
       "       0.00683612])"
      ]
     },
     "execution_count": 651,
     "metadata": {},
     "output_type": "execute_result"
    }
   ],
   "source": [
    "model_loocv = KDEMultivariateConditional(Y[:500, None], X[:500], dep_type='c', indep_type='c' * X.shape[1], bw='cv_ml')\n",
    "model_loocv = KDEMultivariateConditional(Y[:, None], X, dep_type='c', indep_type='c' * X.shape[1], bw=model_loocv.bw)\n",
    "model_loocv.pdf(T[:, None], X)"
   ]
  },
  {
   "cell_type": "code",
   "execution_count": 652,
   "id": "8a95f284-4895-4f89-911f-a55ee335f215",
   "metadata": {},
   "outputs": [
    {
     "data": {
      "text/plain": [
       "array([1.16864112, 0.39784615, 0.47414212, 0.34012805, 0.49598966,\n",
       "       1.03207938])"
      ]
     },
     "execution_count": 652,
     "metadata": {},
     "output_type": "execute_result"
    }
   ],
   "source": [
    "model_loocv.bw"
   ]
  },
  {
   "cell_type": "code",
   "execution_count": 653,
   "id": "b207be7d-493b-4bb7-a554-d15aeeaff518",
   "metadata": {},
   "outputs": [
    {
     "data": {
      "text/plain": [
       "array([0.16803556, 0.19643081, 0.13837616, ..., 0.08974823, 0.28981744,\n",
       "       0.16892645])"
      ]
     },
     "execution_count": 653,
     "metadata": {},
     "output_type": "execute_result"
    }
   ],
   "source": [
    "e_xx = model_loocv.pdf(Y[:, None], X)\n",
    "e_xx"
   ]
  },
  {
   "cell_type": "code",
   "execution_count": 654,
   "id": "00379916-a010-4344-acb0-ed140593554b",
   "metadata": {},
   "outputs": [
    {
     "data": {
      "text/plain": [
       "[0.42097172629623864,\n",
       " 0.5610275108978744,\n",
       " 0.7806948645405306,\n",
       " 0.8323803841286099,\n",
       " 0.8266400377542329,\n",
       " 0.6698018012108039,\n",
       " 0.4903058358518989]"
      ]
     },
     "execution_count": 654,
     "metadata": {},
     "output_type": "execute_result"
    }
   ],
   "source": [
    "[np.mean(1. / e_xx * ((i <= Y) & (Y <= i + 1))) for i in range(7)]  # Should go to 1"
   ]
  },
  {
   "cell_type": "code",
   "execution_count": 660,
   "id": "63944a93-0dbd-48c3-90c2-36996d39e4ca",
   "metadata": {},
   "outputs": [],
   "source": [
    "Y, T, X, U, e_x, e_xu = generate_data(2000)"
   ]
  },
  {
   "cell_type": "code",
   "execution_count": 661,
   "id": "f1fd567f-84fa-49b6-b7da-35c624fab0e4",
   "metadata": {},
   "outputs": [],
   "source": [
    "# Maybe better to use gaussian process regression\n",
    "from sklearn.gaussian_process import GaussianProcessRegressor\n",
    "from sklearn.gaussian_process.kernels import ConstantKernel, WhiteKernel, RBF\n",
    "from scipy.stats import norm\n",
    "\n",
    "kernel = WhiteKernel() + ConstantKernel() * RBF()\n",
    "model = GaussianProcessRegressor(kernel=kernel).fit(X, Y)\n",
    "mu, sigma = model.predict(X, return_std=True)\n",
    "e_xx = norm.pdf(Y, loc=mu, scale=sigma)"
   ]
  },
  {
   "cell_type": "code",
   "execution_count": 662,
   "id": "a81897c5-fc21-4a56-883c-5d5ec400d79f",
   "metadata": {},
   "outputs": [
    {
     "data": {
      "text/plain": [
       "(array([ 76.,  55.,  81.,  93., 115., 140., 171., 221., 272., 776.]),\n",
       " array([2.06249815e-07, 2.74513965e-02, 5.49025868e-02, 8.23537771e-02,\n",
       "        1.09804967e-01, 1.37256158e-01, 1.64707348e-01, 1.92158538e-01,\n",
       "        2.19609729e-01, 2.47060919e-01, 2.74512109e-01]),\n",
       " <BarContainer object of 10 artists>)"
      ]
     },
     "execution_count": 662,
     "metadata": {},
     "output_type": "execute_result"
    },
    {
     "data": {
      "image/png": "[encoded data removed]",
      "text/plain": [
       "<Figure size 432x288 with 1 Axes>"
      ]
     },
     "metadata": {
      "needs_background": "light"
     },
     "output_type": "display_data"
    }
   ],
   "source": [
    "plt.hist(e_xx)"
   ]
  },
  {
   "cell_type": "code",
   "execution_count": 663,
   "id": "0a323a80-9992-431d-a38b-37ec4b41aee0",
   "metadata": {},
   "outputs": [
    {
     "data": {
      "text/plain": [
       "[0.32881986213236836,\n",
       " 0.7800613489446759,\n",
       " 1.1082520007466337,\n",
       " 2425.996762904727,\n",
       " 2.3731976440293625,\n",
       " 3.270582402658918,\n",
       " 1.5545976263818995]"
      ]
     },
     "execution_count": 663,
     "metadata": {},
     "output_type": "execute_result"
    }
   ],
   "source": [
    "[np.mean(1. / e_xx * ((i <= Y) & (Y <= i + 1))) for i in range(7)]  # Should go to 1"
   ]
  },
  {
   "cell_type": "code",
   "execution_count": null,
   "id": "265b6a80-fba6-4847-a569-c2314db4b076",
   "metadata": {},
   "outputs": [],
   "source": []
  }
 ],
 "metadata": {
  "kernelspec": {
   "display_name": "Python 3",
   "language": "python",
   "name": "python3"
  },
  "language_info": {
   "codemirror_mode": {
    "name": "ipython",
    "version": 3
   },
   "file_extension": ".py",
   "mimetype": "text/x-python",
   "name": "python",
   "nbconvert_exporter": "python",
   "pygments_lexer": "ipython3",
   "version": "3.8.10"
  }
 },
 "nbformat": 4,
 "nbformat_minor": 5
}
