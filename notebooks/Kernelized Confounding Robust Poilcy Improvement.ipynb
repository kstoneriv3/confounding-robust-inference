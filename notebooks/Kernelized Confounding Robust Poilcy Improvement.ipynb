{
 "cells": [
  {
   "cell_type": "code",
   "execution_count": 686,
   "id": "94f55962-82f5-4afa-ae92-50fa552365c5",
   "metadata": {},
   "outputs": [],
   "source": [
    "import numpy as np\n",
    "import cvxpy as cp"
   ]
  },
  {
   "cell_type": "code",
   "execution_count": 687,
   "id": "a67d678e-0d10-49ce-bb57-73cf322de723",
   "metadata": {},
   "outputs": [],
   "source": [
    "from matplotlib import pyplot as plt"
   ]
  },
  {
   "cell_type": "markdown",
   "id": "6fd151ad-3655-4fc8-a774-cbdbbb819c01",
   "metadata": {},
   "source": [
    "### Examples of cvxpy and cvxpylayers"
   ]
  },
  {
   "cell_type": "code",
   "execution_count": 688,
   "id": "fb5cd970-fa41-4e60-8a42-680b676f223a",
   "metadata": {},
   "outputs": [],
   "source": [
    "m = 15\n",
    "n = 10\n",
    "np.random.seed(1)\n",
    "s0 = np.random.randn(m)\n",
    "lamb0 = np.maximum(-s0, 0)\n",
    "s0 = np.maximum(s0, 0)\n",
    "x0 = np.random.randn(n)\n",
    "A = np.random.randn(m, n)\n",
    "b = A @ x0 + s0\n",
    "c = -A.T @ lamb0"
   ]
  },
  {
   "cell_type": "code",
   "execution_count": 689,
   "id": "e8680d4c-ecc7-4a83-b1af-e731d50aff88",
   "metadata": {},
   "outputs": [
    {
     "data": {
      "text/plain": [
       "-13.388855525388324"
      ]
     },
     "execution_count": 689,
     "metadata": {},
     "output_type": "execute_result"
    }
   ],
   "source": [
    "# Define and solve the CVXPY problem.\n",
    "x = cp.Variable(n)\n",
    "objective = cp.Minimize(c.T@x + cp.sum_squares(x) * 1e-2)\n",
    "constraints = [\n",
    "    A @ x <= b,\n",
    "    cp.sum_squares(A @ x) <= np.sum(b ** 2) / 2\n",
    "]\n",
    "prob = cp.Problem(objective, constraints)\n",
    "prob.solve()"
   ]
  },
  {
   "cell_type": "code",
   "execution_count": 690,
   "id": "53183410-48f5-4a73-bdcf-b1b876c812bd",
   "metadata": {},
   "outputs": [
    {
     "name": "stdout",
     "output_type": "stream",
     "text": [
      "\n",
      "The optimal value is -13.388855525388324\n",
      "A solution x is\n",
      "[-1.21425975 -0.22544726 -0.82587237 -0.4940789   0.13023043 -0.46215896\n",
      "  1.4850115   0.42419635  1.19464608  1.87527732]\n",
      "A dual solution is\n",
      "[1.12011945e-08 1.19282824e+00 2.13491766e+00 5.43570788e-08\n",
      " 2.21013673e-08 1.39783152e+00 2.70849582e-08 5.31067943e-08\n",
      " 2.05629661e-08 1.74569441e-08 6.16643520e-01 2.85555214e-04\n",
      " 2.98221760e-01 2.87084912e-01 1.24290736e-08]\n"
     ]
    }
   ],
   "source": [
    "# Print result.\n",
    "print(\"\\nThe optimal value is\", prob.value)\n",
    "print(\"A solution x is\")\n",
    "print(x.value)\n",
    "print(\"A dual solution is\")\n",
    "print(prob.constraints[0].dual_value)"
   ]
  },
  {
   "cell_type": "code",
   "execution_count": 691,
   "id": "f54d88c5-1dd7-4694-94da-443130026b4f",
   "metadata": {},
   "outputs": [],
   "source": [
    "n, m = 2, 3\n",
    "x = cp.Variable(n)\n",
    "A = cp.Parameter((m, n))\n",
    "b = cp.Parameter(m)\n",
    "constraints = [x + cp.sum_squares(x) <= 0]\n",
    "objective = cp.Minimize(0.5 * cp.pnorm(A @ x - b, p=1))\n",
    "problem = cp.Problem(objective, constraints)\n",
    "assert problem.is_dpp()"
   ]
  },
  {
   "cell_type": "code",
   "execution_count": 692,
   "id": "e0a613d0-1eb0-4189-9a7e-de5cc2353c26",
   "metadata": {},
   "outputs": [],
   "source": [
    "import cvxpy as cp\n",
    "import torch\n",
    "from cvxpylayers.torch import CvxpyLayer\n",
    "\n",
    "n, m = 2, 3\n",
    "x = cp.Variable(n)\n",
    "A = cp.Parameter((m, n))\n",
    "b = cp.Parameter(m)\n",
    "constraints = [x >= 0]\n",
    "objective = cp.Minimize(0.5 * cp.pnorm(A @ x - b, p=1))\n",
    "problem = cp.Problem(objective, constraints)\n",
    "assert problem.is_dpp()\n",
    "\n",
    "cvxpylayer = CvxpyLayer(problem, parameters=[A, b], variables=[x])\n",
    "A_tch = torch.randn(m, n, requires_grad=True)\n",
    "b_tch = torch.randn(m, requires_grad=True)\n",
    "\n",
    "# solve the problem\n",
    "solution, = cvxpylayer(A_tch, b_tch)\n",
    "\n",
    "# compute the gradient of the sum of the solution with respect to A, b\n",
    "solution.sum().backward()"
   ]
  },
  {
   "cell_type": "markdown",
   "id": "7ada7874-e869-432d-81a0-d2c99cb26b35",
   "metadata": {},
   "source": [
    "### Synthetic Data from Kallus 2018"
   ]
  },
  {
   "cell_type": "code",
   "execution_count": 693,
   "id": "ed69a14b-dfc0-4de9-ab38-7a5c3e44355f",
   "metadata": {},
   "outputs": [
    {
     "data": {
      "text/plain": [
       "array([0.43367635, 0.80736053, 0.3152448 , 0.89288871, 0.57785722,\n",
       "       0.1840102 , 0.78792923, 0.61203118, 0.05390927, 0.42019368])"
      ]
     },
     "execution_count": 693,
     "metadata": {},
     "output_type": "execute_result"
    }
   ],
   "source": [
    "np.random.rand(10)"
   ]
  },
  {
   "cell_type": "code",
   "execution_count": 1271,
   "id": "b38da168-0ae9-42ae-91ef-97b8df8c0170",
   "metadata": {},
   "outputs": [],
   "source": [
    "beta0 = 2.5\n",
    "beta0_t = -2\n",
    "beta_x = np.asarray([0, .5, -0.5, 0, 0])\n",
    "beta_x_t = np.asarray([-1.5, 1, -1.5, 1., 0.5])\n",
    "beta_xi = 1\n",
    "beta_xi_t = -2\n",
    "beta_e_x = np.asarray([0, .75, -.5, 0, -1])\n",
    "mu_x = np.asarray([-1, .5, -1, 0, -1]);\n",
    "\n",
    "def generate_data(n):\n",
    "    xi = (np.random.rand(n) > 0.5).astype(int)\n",
    "    X = mu_x[None, :] + np.random.randn(n * 5).reshape(n, 5)\n",
    "    eps = [np.random.randn(n) for t in (0, 1)]\n",
    "    Y = np.array([\n",
    "        X @ (beta_x + beta_x_t * t) + (beta_xi + beta_xi_t * t) * xi + (beta0 + beta0_t * t) + eps[t]\n",
    "        for t in (0, 1)\n",
    "    ])\n",
    "    U = (Y[0, :] > Y[1, :]).astype(int)\n",
    "    z = X @ beta_e_x\n",
    "    e_x = np.exp(z) / (1 + np.exp(z))\n",
    "    e_xu = (6 * e_x) / (4 + 5 * U + e_x * (2 - 5 * U))\n",
    "    T = (np.random.rand(n) < e_xu).astype(int)\n",
    "    Y = Y[T, range(n)]\n",
    "    return Y, T, X, U, e_x, e_xu\n",
    "\n",
    "def evaluate_policy(policy, n=1000):\n",
    "    xi = (np.random.rand(n) > 0.5).astype(int)\n",
    "    X = mu_x[None, :] + np.random.randn(n * 5).reshape(n, 5)\n",
    "    eps = [np.random.randn(n) for t in (0, 1)]\n",
    "    Y = np.array([\n",
    "        X @ (beta_x + beta_x_t * t) + (beta_xi + beta_xi_t * t) * xi + (beta0 + beta0_t * t) + eps[t]\n",
    "        for t in (0, 1)\n",
    "    ])\n",
    "    e_x = policy(X)\n",
    "    T = (np.random.rand(n) < e_x).astype(int)\n",
    "    Y = Y[T, range(n)]\n",
    "    return Y.mean()"
   ]
  },
  {
   "cell_type": "code",
   "execution_count": 1273,
   "id": "26eaf456-9e01-40a2-8687-9f6cf9d8f84f",
   "metadata": {},
   "outputs": [],
   "source": [
    "n = 8000\n",
    "Y, T, X, U, e_x, e_xu = generate_data(n)\n",
    "p_t = e_x * T + (1 - e_x) * (1 - T)  # p_obs(T|X), e_x:=p(T=1|X)"
   ]
  },
  {
   "cell_type": "code",
   "execution_count": 1356,
   "id": "b14c0b72-5f51-4cfe-b369-81009ea78236",
   "metadata": {},
   "outputs": [],
   "source": [
    "def toy_policy(X):\n",
    "    z = X @ beta_e_x\n",
    "    e_x = np.exp(z) / (1 + np.exp(z))\n",
    "    return e_x\n",
    "\n",
    "def zero_policy(X):\n",
    "    return np.zeros(X.shape[0], dtype=int)"
   ]
  },
  {
   "cell_type": "markdown",
   "id": "d32ae6b5-a553-4938-b801-507577fbd957",
   "metadata": {},
   "source": [
    "### Ground Truth"
   ]
  },
  {
   "cell_type": "code",
   "execution_count": 1371,
   "id": "01b93677-0b48-4c01-ac31-5d3512df0256",
   "metadata": {},
   "outputs": [
    {
     "data": {
      "text/plain": [
       "3.837390763533341"
      ]
     },
     "execution_count": 1371,
     "metadata": {},
     "output_type": "execute_result"
    }
   ],
   "source": [
    "evaluate_policy(toy_policy, n=10000)"
   ]
  },
  {
   "cell_type": "markdown",
   "id": "192be7f4-218c-438b-936e-1fb36b12d858",
   "metadata": {
    "tags": []
   },
   "source": [
    "### IPW estimator"
   ]
  },
  {
   "cell_type": "code",
   "execution_count": 1358,
   "id": "8324d72a-d040-4d7e-bda5-4f29ee921f49",
   "metadata": {},
   "outputs": [],
   "source": [
    "policy_prob = toy_policy(X) * T + (1 - toy_policy(X)) * (1 - T)\n",
    "est_ipw = np.mean(policy_prob / p_t * Y)"
   ]
  },
  {
   "cell_type": "code",
   "execution_count": 1359,
   "id": "706245b2-acee-48fb-913c-0806dc1eddc0",
   "metadata": {},
   "outputs": [
    {
     "data": {
      "text/plain": [
       "4.005361558506325"
      ]
     },
     "execution_count": 1359,
     "metadata": {},
     "output_type": "execute_result"
    }
   ],
   "source": [
    "est_ipw"
   ]
  },
  {
   "cell_type": "markdown",
   "id": "1850ff26-d019-4d86-bf76-b4cbef1cfc92",
   "metadata": {},
   "source": [
    "### Implement Confounding Robust Hajek Estimator    "
   ]
  },
  {
   "cell_type": "code",
   "execution_count": 1360,
   "id": "9d67fbd8-bca2-4003-8305-82b39f9474d4",
   "metadata": {},
   "outputs": [],
   "source": [
    "def confoundingRobustHajek(r, T, a, b, return_w=False):\n",
    "    r_np = r.data.numpy() if isinstance(r, torch.Tensor) else r\n",
    "    w = np.zeros_like(a)\n",
    "    for t in set(T):\n",
    "        r_t = r_np[T == t]\n",
    "        a_t = a[T == t]\n",
    "        b_t = b[T == t]\n",
    "        w[T == t] = hajekLP(r_t, a_t, b_t, r.shape[0])\n",
    "    if isinstance(r, torch.Tensor):\n",
    "        est = torch.mean(torch.as_tensor(w) * r)\n",
    "    else:\n",
    "        est = np.mean(w * r_np)\n",
    "    return (est, w) if return_w else est\n",
    "\n",
    "def hajekLP(r, a, b, n):\n",
    "    m = r.shape[0]\n",
    "    w = cp.Variable(m)\n",
    "    phi = cp.Variable(1)\n",
    "    constraints = [\n",
    "        np.zeros(m) <= w,\n",
    "        0 <= phi,\n",
    "        a * phi <= w,\n",
    "        w <= b * phi,\n",
    "        cp.sum(w) == n\n",
    "    ]\n",
    "    objective = cp.Minimize(cp.sum(r * w))\n",
    "    problem = cp.Problem(objective, constraints)\n",
    "    problem.solve()\n",
    "    return w.value"
   ]
  },
  {
   "cell_type": "code",
   "execution_count": 1361,
   "id": "48c91286-0443-468d-a2f9-b8ad0c72b4fb",
   "metadata": {},
   "outputs": [],
   "source": [
    "def get_a_b(e_x, T, gamma):\n",
    "    p_t = e_x * T + (1 - e_x) * (1 - T)  # p_obs(t|x)\n",
    "    a = 1 + 1 / gamma * (1 / p_t - 1)\n",
    "    b = 1 + gamma * (1 / p_t - 1)\n",
    "    return a, b"
   ]
  },
  {
   "cell_type": "code",
   "execution_count": 1362,
   "id": "6df2dcbd-4d55-4a9b-adee-952985ba84ed",
   "metadata": {},
   "outputs": [
    {
     "name": "stderr",
     "output_type": "stream",
     "text": [
      "/home/kei/Desktop/env_pillbox/lib/python3.8/site-packages/cvxpy/expressions/expression.py:593: UserWarning: \n",
      "This use of ``*`` has resulted in matrix multiplication.\n",
      "Using ``*`` for matrix multiplication has been deprecated since CVXPY 1.1.\n",
      "    Use ``*`` for matrix-scalar and vector-scalar multiplication.\n",
      "    Use ``@`` for matrix-matrix and matrix-vector multiplication.\n",
      "    Use ``multiply`` for elementwise multiplication.\n",
      "This code path has been hit 362 times so far.\n",
      "\n",
      "  warnings.warn(msg, UserWarning)\n",
      "/home/kei/Desktop/env_pillbox/lib/python3.8/site-packages/cvxpy/expressions/expression.py:593: UserWarning: \n",
      "This use of ``*`` has resulted in matrix multiplication.\n",
      "Using ``*`` for matrix multiplication has been deprecated since CVXPY 1.1.\n",
      "    Use ``*`` for matrix-scalar and vector-scalar multiplication.\n",
      "    Use ``@`` for matrix-matrix and matrix-vector multiplication.\n",
      "    Use ``multiply`` for elementwise multiplication.\n",
      "This code path has been hit 363 times so far.\n",
      "\n",
      "  warnings.warn(msg, UserWarning)\n"
     ]
    }
   ],
   "source": [
    "a, b = get_a_b(e_x, T, 1.5)\n",
    "est, w = confoundingRobustHajek(Y * policy_prob, T, a, b, return_w=True)"
   ]
  },
  {
   "cell_type": "code",
   "execution_count": 1363,
   "id": "de57e7de-22c2-4e12-ad09-2c887d747feb",
   "metadata": {},
   "outputs": [
    {
     "data": {
      "text/plain": [
       "3.725031388109294"
      ]
     },
     "execution_count": 1363,
     "metadata": {},
     "output_type": "execute_result"
    }
   ],
   "source": [
    "est"
   ]
  },
  {
   "cell_type": "code",
   "execution_count": 1364,
   "id": "48ee3f51-3cf3-4fbd-924b-43b682efc447",
   "metadata": {},
   "outputs": [
    {
     "name": "stderr",
     "output_type": "stream",
     "text": [
      "/home/kei/Desktop/env_pillbox/lib/python3.8/site-packages/cvxpy/expressions/expression.py:593: UserWarning: \n",
      "This use of ``*`` has resulted in matrix multiplication.\n",
      "Using ``*`` for matrix multiplication has been deprecated since CVXPY 1.1.\n",
      "    Use ``*`` for matrix-scalar and vector-scalar multiplication.\n",
      "    Use ``@`` for matrix-matrix and matrix-vector multiplication.\n",
      "    Use ``multiply`` for elementwise multiplication.\n",
      "This code path has been hit 364 times so far.\n",
      "\n",
      "  warnings.warn(msg, UserWarning)\n",
      "/home/kei/Desktop/env_pillbox/lib/python3.8/site-packages/cvxpy/expressions/expression.py:593: UserWarning: \n",
      "This use of ``*`` has resulted in matrix multiplication.\n",
      "Using ``*`` for matrix multiplication has been deprecated since CVXPY 1.1.\n",
      "    Use ``*`` for matrix-scalar and vector-scalar multiplication.\n",
      "    Use ``@`` for matrix-matrix and matrix-vector multiplication.\n",
      "    Use ``multiply`` for elementwise multiplication.\n",
      "This code path has been hit 365 times so far.\n",
      "\n",
      "  warnings.warn(msg, UserWarning)\n"
     ]
    }
   ],
   "source": [
    "differentiable_r = torch.tensor(np.random.randn(T.shape[0]), requires_grad=True)\n",
    "est, w = confoundingRobustHajek(differentiable_r, T, a, b, return_w=True)"
   ]
  },
  {
   "cell_type": "code",
   "execution_count": 1365,
   "id": "8f1ddc5a-0a92-40ca-90fe-bd2e89df6221",
   "metadata": {},
   "outputs": [],
   "source": [
    "est.backward()"
   ]
  },
  {
   "cell_type": "code",
   "execution_count": 1366,
   "id": "898fabe0-5840-4a5d-bf1b-f7ffabeed871",
   "metadata": {},
   "outputs": [
    {
     "data": {
      "text/plain": [
       "True"
      ]
     },
     "execution_count": 1366,
     "metadata": {},
     "output_type": "execute_result"
    }
   ],
   "source": [
    "torch.allclose(differentiable_r.grad, torch.as_tensor(w / n))"
   ]
  },
  {
   "cell_type": "markdown",
   "id": "cd32558c-cdd0-4263-a9a6-e4ad83f5a0b5",
   "metadata": {},
   "source": [
    "### Implement Confounding Robust Kernel Estimator"
   ]
  },
  {
   "cell_type": "code",
   "execution_count": 1367,
   "id": "73a7049b-e599-4611-8fdb-6645838e85e3",
   "metadata": {},
   "outputs": [],
   "source": [
    "from scipy.linalg import eigh"
   ]
  },
  {
   "cell_type": "code",
   "execution_count": 1368,
   "id": "1940c7f4-d4e6-4725-b75b-0b9912e60d0a",
   "metadata": {},
   "outputs": [],
   "source": [
    "def confoundingRobustKernel(r, T, X, a, b, p_t, kernel, lambd, error_tol, return_w=False):\n",
    "    r_np = r.data.numpy() if isinstance(r, torch.Tensor) else r\n",
    "    # w = KernelLP(r, T, X, a, b, p_t, kernel, lambd, error_tol)\n",
    "    w = binaryKernelLP(r, T, X, a, b, p_t, kernel, lambd, error_tol)\n",
    "    if isinstance(r, torch.Tensor):\n",
    "        est = torch.mean(torch.as_tensor(w) * r)\n",
    "    else:\n",
    "        est = np.mean(w * r_np)\n",
    "    return (est, w) if return_w else est\n",
    "\n",
    "\n",
    "def binaryKernelLP(r, T, X, a, b, p_t, kernel, lambd, error_tol):\n",
    "    # implementation for binary case for fair comparison\n",
    "    n = r.shape[0]\n",
    "    TX = np.concatenate([T[:, None], X], axis=1)\n",
    "    K = kernel(TX, TX)\n",
    "    S, V = eigh(K, subset_by_index=[max(0, n-200), n-1])\n",
    "    # define variables\n",
    "    w = cp.Variable(n)\n",
    "    phi0 = cp.Variable(1)\n",
    "    phi1 = cp.Variable(1)\n",
    "    z = cp.Variable(min(200, n))  # low-rank expression of error\n",
    "    # warm start variables\n",
    "    p_t_scaled = np.zeros_like(p_t)\n",
    "    p_t_scaled[T == 0] = p_t[T == 0] * np.mean((1 - T) / p_t)\n",
    "    p_t_scaled[T == 1] = p_t[T == 1] * np.mean(T / p_t)\n",
    "    w.value = 1 / p_t_scaled\n",
    "    phi0.value = 1 / np.mean((1 - T) / p_t, keepdims=True)\n",
    "    phi1.value = 1 / np.mean(T / p_t, keepdims=True)\n",
    "    z.value = np.zeros(min(200, n))\n",
    "    \n",
    "    M = np.diag(S / (S + lambd)) @ V.T @ np.diag(p_t_scaled)\n",
    "    u = np.diag(S / (S + lambd)) @ V.T @ np.ones(n)\n",
    "    \n",
    "    constraints = [\n",
    "        np.zeros(n) <= w,\n",
    "        0 <= phi0,\n",
    "        0 <= phi1,\n",
    "        a * (1 - T) * phi0 + a * T * phi1 <= w,\n",
    "        w <= b * (1 - T) * phi0 + b * T * phi1,\n",
    "        cp.sum(w * (1 - T)) == n,\n",
    "        cp.sum(w * T) == n,\n",
    "        z == M @ w - u,\n",
    "        cp.norm1(V @ z) <= n * error_tol,\n",
    "    ]\n",
    "    objective = cp.Minimize(cp.sum(r * w))\n",
    "    problem = cp.Problem(objective, constraints)\n",
    "    problem.solve(warm_start=True)\n",
    "    \n",
    "    return w.value\n",
    "\n",
    "\n",
    "def KernelLP(r, T, X, a, b, p_t, kernel, lambd, error_tol):\n",
    "    n = r.shape[0]\n",
    "    TX = np.concatenate([T[:, None], X], axis=1)\n",
    "    K = kernel(TX, TX)\n",
    "    S, V = eigh(K, subset_by_index=[max(0, n-200), n-1])\n",
    "    # define variables\n",
    "    w = cp.Variable(n)\n",
    "    z = cp.Variable(min(200, n))  # low-rank expression of error\n",
    "    # warm start variables\n",
    "    w.value = 1 / p_t\n",
    "    z.value = np.zeros(min(200, n))\n",
    "    \n",
    "    M = np.diag(S / (S + lambd)) @ V.T @ np.diag(p_t)\n",
    "    u = np.diag(S / (S + lambd)) @ V.T @ np.ones(n)\n",
    "    \n",
    "    constraints = [\n",
    "        np.zeros(n) <= w,\n",
    "        a <= w,\n",
    "        w <= b,\n",
    "        cp.sum(w) == 2 * n,  # only meaningful for binary (or categorical) treatment\n",
    "        z == M @ w - u,\n",
    "        cp.norm1(V @ z) <= n * error_tol,\n",
    "    ]\n",
    "    objective = cp.Minimize(cp.sum(r * w))\n",
    "    problem = cp.Problem(objective, constraints)\n",
    "    problem.solve(warm_start=True)#, solver='SCIPY')\n",
    "    \n",
    "    return w.value"
   ]
  },
  {
   "cell_type": "code",
   "execution_count": 1345,
   "id": "26cb7dc5-04ce-4988-9810-991db144fcb6",
   "metadata": {},
   "outputs": [
    {
     "name": "stderr",
     "output_type": "stream",
     "text": [
      "/home/kei/Desktop/env_pillbox/lib/python3.8/site-packages/cvxpy/expressions/expression.py:593: UserWarning: \n",
      "This use of ``*`` has resulted in matrix multiplication.\n",
      "Using ``*`` for matrix multiplication has been deprecated since CVXPY 1.1.\n",
      "    Use ``*`` for matrix-scalar and vector-scalar multiplication.\n",
      "    Use ``@`` for matrix-matrix and matrix-vector multiplication.\n",
      "    Use ``multiply`` for elementwise multiplication.\n",
      "This code path has been hit 351 times so far.\n",
      "\n",
      "  warnings.warn(msg, UserWarning)\n",
      "/home/kei/Desktop/env_pillbox/lib/python3.8/site-packages/cvxpy/expressions/expression.py:593: UserWarning: \n",
      "This use of ``*`` has resulted in matrix multiplication.\n",
      "Using ``*`` for matrix multiplication has been deprecated since CVXPY 1.1.\n",
      "    Use ``*`` for matrix-scalar and vector-scalar multiplication.\n",
      "    Use ``@`` for matrix-matrix and matrix-vector multiplication.\n",
      "    Use ``multiply`` for elementwise multiplication.\n",
      "This code path has been hit 352 times so far.\n",
      "\n",
      "  warnings.warn(msg, UserWarning)\n"
     ]
    }
   ],
   "source": [
    "# select kernel\n",
    "from sklearn.gaussian_process import GaussianProcessRegressor\n",
    "from sklearn.gaussian_process.kernels import ConstantKernel, WhiteKernel, RBF\n",
    "\n",
    "r = Y * policy_prob\n",
    "_, w = confoundingRobustHajek(r, T, a, b, return_w=True)\n",
    "e = w * p_t - 1\n",
    "TX = np.concatenate([T[:, None], X], axis=1)\n",
    "\n",
    "kernel = WhiteKernel() + ConstantKernel() * RBF()\n",
    "model = GaussianProcessRegressor(kernel=kernel).fit(TX[:1000], e[:1000])"
   ]
  },
  {
   "cell_type": "code",
   "execution_count": 1346,
   "id": "6f173d6e-8fd9-4a05-97d0-f754ee9fc1eb",
   "metadata": {},
   "outputs": [],
   "source": [
    "lambd = model.kernel_.k1.noise_level\n",
    "kernel = model.kernel_.k2\n",
    "error_tol = np.mean(np.abs(model.predict(TX) - e))"
   ]
  },
  {
   "cell_type": "code",
   "execution_count": null,
   "id": "911618a3-d8d1-447f-9a21-f01bedfb630a",
   "metadata": {},
   "outputs": [],
   "source": [
    "est, w = confoundingRobustKernel(Y * policy_prob, T, X, a, b, p_t, kernel, lambd, error_tol * 0.05, return_w=True)"
   ]
  },
  {
   "cell_type": "code",
   "execution_count": null,
   "id": "1f9ec2ed-2f4d-4aa7-96ff-f3a89d907c8e",
   "metadata": {},
   "outputs": [],
   "source": [
    "est"
   ]
  },
  {
   "cell_type": "markdown",
   "id": "f058a91f-2c45-482c-90bf-360a10833ff5",
   "metadata": {},
   "source": [
    "### Compare Policy Improvement Performance"
   ]
  },
  {
   "cell_type": "markdown",
   "id": "c00d4a48-9cf3-47c8-a017-367bd0cf22f5",
   "metadata": {},
   "source": [
    "### Estimate Propensity Score (Conditional Density Estimation)\n",
    "- This requires consistent nominal propensity score (p_obs(t|x))\n",
    "- For discrete t, just run kernel logistic regression"
   ]
  },
  {
   "cell_type": "markdown",
   "id": "86d4e905-c91c-43c7-b967-cc7bcd7103b5",
   "metadata": {},
   "source": [
    "#### Discrete Case"
   ]
  },
  {
   "cell_type": "code",
   "execution_count": 356,
   "id": "1d8a554e-b59d-443c-940a-874042c719ad",
   "metadata": {},
   "outputs": [
    {
     "data": {
      "text/plain": [
       "0.03245225608333301"
      ]
     },
     "execution_count": 356,
     "metadata": {},
     "output_type": "execute_result"
    }
   ],
   "source": [
    "from sklearn.linear_model import LogisticRegressionCV\n",
    "# from sklearn.metrics import roc_auc_score, make_scorer\n",
    "# roc_auc_score = make_scorer(roc_auc_score, greater_is_better=True, needs_proba=True)\n",
    "\n",
    "model = LogisticRegressionCV().fit(X, T)\n",
    "e_xx = model.predict_proba(X)[:, 1]\n",
    "\n",
    "np.mean(np.abs(e_xx - e_x))"
   ]
  },
  {
   "cell_type": "code",
   "execution_count": null,
   "id": "95f90853-b1ba-4f3f-b164-8f0915553ad2",
   "metadata": {},
   "outputs": [],
   "source": [
    "import optuna\n",
    "from sklearn.decomposition import KernelPCA\n",
    "from sklearn.linear_model import LogisticRegression\n",
    "from sklearn.pipeline import Pipeline\n",
    "from sklearn.model_selection import cross_val_score\n",
    "\n",
    "def objective(trial):\n",
    "    gamma = trial.suggest_float('gamma', 1e-2, 1e+2, log=True)\n",
    "    lambd = trial.suggest_float('lambd', 1e-3, 1e+3, log=True)\n",
    "    model = Pipeline([\n",
    "        ('kpca', KernelPCA(n_components=100, kernel='rbf', gamma=gamma)),\n",
    "        ('LogReg', LogisticRegression(C=1/lambd)),\n",
    "    ])   \n",
    "    cv_scores = cross_val_score(model, X, y=T, cv=4)\n",
    "    return cv_scores.mean()\n",
    "    \n",
    "study = optuna.create_study(direction='maximize')\n",
    "study.optimize(func=objective, n_trials=100)"
   ]
  },
  {
   "cell_type": "code",
   "execution_count": 332,
   "id": "c151c600-9947-43cb-abc1-6e0ce5955f4f",
   "metadata": {},
   "outputs": [
    {
     "data": {
      "text/plain": [
       "{'gamma': 0.010034979398825772, 'lambd': 0.21459944940837156}"
      ]
     },
     "execution_count": 332,
     "metadata": {},
     "output_type": "execute_result"
    }
   ],
   "source": [
    "study.best_params"
   ]
  },
  {
   "cell_type": "code",
   "execution_count": 495,
   "id": "30624914-027f-4717-9b6b-b693bbf4c235",
   "metadata": {},
   "outputs": [
    {
     "data": {
      "text/plain": [
       "0.028076602450314254"
      ]
     },
     "execution_count": 495,
     "metadata": {},
     "output_type": "execute_result"
    }
   ],
   "source": [
    "Z = KernelPCA(kernel='rbf', gamma=0.01).fit_transform(X)\n",
    "model = LogisticRegression(C=5).fit(Z, T)\n",
    "e_xx = model.predict_proba(Z)[:, 1]\n",
    "\n",
    "np.mean(np.abs(e_xx - e_x))"
   ]
  },
  {
   "cell_type": "code",
   "execution_count": 493,
   "id": "a8b29946-0d5f-43af-ab66-08693ce19644",
   "metadata": {},
   "outputs": [
    {
     "data": {
      "text/plain": [
       "(0.9911002115212696, 1.0092516556694768)"
      ]
     },
     "execution_count": 493,
     "metadata": {},
     "output_type": "execute_result"
    }
   ],
   "source": [
    "np.mean(1 / e_x * T), np.mean(1 / (1 - e_x) * (1 - T)), # both should be 1"
   ]
  },
  {
   "cell_type": "code",
   "execution_count": 496,
   "id": "cef0baf9-989e-43d5-9e65-e43350437511",
   "metadata": {},
   "outputs": [
    {
     "data": {
      "text/plain": [
       "(0.9959934995770625, 0.9860809668561376)"
      ]
     },
     "execution_count": 496,
     "metadata": {},
     "output_type": "execute_result"
    }
   ],
   "source": [
    "np.mean(1 / e_xx * T), np.mean(1 / (1 - e_xx) * (1 - T)), # both should be 1"
   ]
  },
  {
   "cell_type": "markdown",
   "id": "efc3f9c3-9589-42d7-b680-b3f5a2459f7d",
   "metadata": {},
   "source": [
    "#### Continuous Case (Maybe on the next notebook)"
   ]
  },
  {
   "cell_type": "code",
   "execution_count": 459,
   "id": "62fb6683-157f-4bef-81a0-ea60005fec2c",
   "metadata": {},
   "outputs": [],
   "source": [
    "Y, T, X, U, e_x, e_xu = generate_data(8000)"
   ]
  },
  {
   "cell_type": "code",
   "execution_count": 598,
   "id": "ec52f0ef-5070-4431-aa95-d34d16532698",
   "metadata": {},
   "outputs": [],
   "source": [
    "from statsmodels.nonparametric.kernel_density import KDEMultivariateConditional"
   ]
  },
  {
   "cell_type": "code",
   "execution_count": 614,
   "id": "e7c75871-e5b0-4cf1-80a9-d71179e1e4a9",
   "metadata": {},
   "outputs": [],
   "source": [
    "EPS = 1e-6\n",
    "\n",
    "def benchmark_bandwidth(bw, T, X, cv=5):\n",
    "    n = T.shape[0]\n",
    "    indep_type='c' * X.shape[1]\n",
    "    dep_type='u'\n",
    "    split = (np.arange(n) % 5)\n",
    "    cross_entropy = 0\n",
    "    for i in range(cv):\n",
    "        train = (split != i)\n",
    "        test = (split == i)\n",
    "        model = KDEMultivariateConditional(T[train, None], X[train, :], dep_type='c', indep_type='c' * X.shape[1], bw=bw)\n",
    "        cross_entropy += np.mean(model.pdf(T[test, None], X[test, :]) + EPS) / cv\n",
    "    return cross_entropy"
   ]
  },
  {
   "cell_type": "code",
   "execution_count": 615,
   "id": "0601e3f6-4f21-4744-b52d-cff4ed8cf82d",
   "metadata": {},
   "outputs": [
    {
     "name": "stderr",
     "output_type": "stream",
     "text": [
      "/home/kei/Desktop/env_pillbox/lib/python3.8/site-packages/statsmodels/nonparametric/kernel_density.py:527: RuntimeWarning: invalid value encountered in double_scalars\n",
      "  pdf_est.append(f_yx / f_x)\n"
     ]
    }
   ],
   "source": [
    "best_scale = 0\n",
    "best_score = - float('inf')\n",
    "for scale in [0.1, 0.2, 0.3, 0.5, 0.7, 1, 1.5, 2, 3, 5]:\n",
    "    bw = scale * np.concatenate([[Y.std()], X.std(axis=0)]) / Y.shape[0] ** (1 / 7)\n",
    "    score = benchmark_bandwidth(bw, Y, X)\n",
    "    if score > best_score:\n",
    "        best_scale = scale\n",
    "        best_score = score"
   ]
  },
  {
   "cell_type": "code",
   "execution_count": 616,
   "id": "dcfb74c5-773c-4ba0-8562-d92ebee0bf63",
   "metadata": {},
   "outputs": [
    {
     "data": {
      "text/plain": [
       "(0.3, 0.19784318708431387)"
      ]
     },
     "execution_count": 616,
     "metadata": {},
     "output_type": "execute_result"
    }
   ],
   "source": [
    "best_scale, best_score"
   ]
  },
  {
   "cell_type": "code",
   "execution_count": 637,
   "id": "ad8a2066-614d-4390-bb2b-7730d19ce30b",
   "metadata": {},
   "outputs": [],
   "source": [
    "bw0 = best_scale * np.concatenate([[Y.std()], X.std(axis=0)]) / Y.shape[0] ** (1 / 7)\n",
    "model = KDEMultivariateConditional(Y[:, None], X, dep_type='c', indep_type='c' * X.shape[1], bw=bw0)"
   ]
  },
  {
   "cell_type": "code",
   "execution_count": 638,
   "id": "97445cb5-246d-458d-9faa-2af729248646",
   "metadata": {},
   "outputs": [
    {
     "data": {
      "text/plain": [
       "array([1.62958717, 1.62951695, 1.62941804, ..., 1.62956773, 1.62958717,\n",
       "       1.62958716])"
      ]
     },
     "execution_count": 638,
     "metadata": {},
     "output_type": "execute_result"
    }
   ],
   "source": [
    "e_xx = model.pdf(Y[:, None], X)\n",
    "e_xx"
   ]
  },
  {
   "cell_type": "code",
   "execution_count": 639,
   "id": "7fc365b9-566e-4dfc-a52f-f9b29cd6a463",
   "metadata": {},
   "outputs": [
    {
     "data": {
      "text/plain": [
       "(array([3.000e+00, 5.000e+00, 7.000e+00, 9.000e+00, 2.100e+01, 2.500e+01,\n",
       "        2.900e+01, 4.700e+01, 1.230e+02, 7.731e+03]),\n",
       " array([1.15235734, 1.20008033, 1.24780331, 1.29552629, 1.34324927,\n",
       "        1.39097226, 1.43869524, 1.48641822, 1.5341412 , 1.58186419,\n",
       "        1.62958717]),\n",
       " <BarContainer object of 10 artists>)"
      ]
     },
     "execution_count": 639,
     "metadata": {},
     "output_type": "execute_result"
    },
    {
     "data": {
      "image/png": "[encoded data removed]",
      "text/plain": [
       "<Figure size 432x288 with 1 Axes>"
      ]
     },
     "metadata": {
      "needs_background": "light"
     },
     "output_type": "display_data"
    }
   ],
   "source": [
    "plt.hist(e_xx)"
   ]
  },
  {
   "cell_type": "code",
   "execution_count": 640,
   "id": "23633bf1-ab0b-407c-8301-e8cac42995b2",
   "metadata": {},
   "outputs": [
    {
     "data": {
      "text/plain": [
       "array([0.24481187, 0.08247946, 0.08201479, 0.08216818, 0.08203077,\n",
       "       0.08354723])"
      ]
     },
     "execution_count": 640,
     "metadata": {},
     "output_type": "execute_result"
    }
   ],
   "source": [
    "model.bw"
   ]
  },
  {
   "cell_type": "code",
   "execution_count": 636,
   "id": "8c2e5190-6262-4c27-8ccd-7a44587c0482",
   "metadata": {},
   "outputs": [
    {
     "data": {
      "text/plain": [
       "[0.0036205488784271846,\n",
       " 0.005530541824885594,\n",
       " 0.008353342645354245,\n",
       " 0.0092354679017507,\n",
       " 0.008828923218367986,\n",
       " 0.006834553073471655,\n",
       " 0.0047634763845408505]"
      ]
     },
     "execution_count": 636,
     "metadata": {},
     "output_type": "execute_result"
    }
   ],
   "source": [
    "[np.mean(1. / e_xx * ((i <= Y) & (Y <= i + 1))) for i in range(7)]  # Should go to 1"
   ]
  },
  {
   "cell_type": "code",
   "execution_count": 650,
   "id": "107e61f5-4574-4956-9d01-5c9bba9dd833",
   "metadata": {},
   "outputs": [],
   "source": [
    "# Shouldn't we use loo estimate for propensity? (For reducing the sampling bias)"
   ]
  },
  {
   "cell_type": "code",
   "execution_count": 651,
   "id": "3d1c0419-f4b2-4446-ab71-5e6eee188523",
   "metadata": {},
   "outputs": [
    {
     "data": {
      "text/plain": [
       "array([0.00156597, 0.11336096, 0.18019459, ..., 0.15350272, 0.27772491,\n",
       "       0.00683612])"
      ]
     },
     "execution_count": 651,
     "metadata": {},
     "output_type": "execute_result"
    }
   ],
   "source": [
    "model_loocv = KDEMultivariateConditional(Y[:500, None], X[:500], dep_type='c', indep_type='c' * X.shape[1], bw='cv_ml')\n",
    "model_loocv = KDEMultivariateConditional(Y[:, None], X, dep_type='c', indep_type='c' * X.shape[1], bw=model_loocv.bw)\n",
    "model_loocv.pdf(T[:, None], X)"
   ]
  },
  {
   "cell_type": "code",
   "execution_count": 652,
   "id": "8a95f284-4895-4f89-911f-a55ee335f215",
   "metadata": {},
   "outputs": [
    {
     "data": {
      "text/plain": [
       "array([1.16864112, 0.39784615, 0.47414212, 0.34012805, 0.49598966,\n",
       "       1.03207938])"
      ]
     },
     "execution_count": 652,
     "metadata": {},
     "output_type": "execute_result"
    }
   ],
   "source": [
    "model_loocv.bw"
   ]
  },
  {
   "cell_type": "code",
   "execution_count": 653,
   "id": "b207be7d-493b-4bb7-a554-d15aeeaff518",
   "metadata": {},
   "outputs": [
    {
     "data": {
      "text/plain": [
       "array([0.16803556, 0.19643081, 0.13837616, ..., 0.08974823, 0.28981744,\n",
       "       0.16892645])"
      ]
     },
     "execution_count": 653,
     "metadata": {},
     "output_type": "execute_result"
    }
   ],
   "source": [
    "e_xx = model_loocv.pdf(Y[:, None], X)\n",
    "e_xx"
   ]
  },
  {
   "cell_type": "code",
   "execution_count": 654,
   "id": "00379916-a010-4344-acb0-ed140593554b",
   "metadata": {},
   "outputs": [
    {
     "data": {
      "text/plain": [
       "[0.42097172629623864,\n",
       " 0.5610275108978744,\n",
       " 0.7806948645405306,\n",
       " 0.8323803841286099,\n",
       " 0.8266400377542329,\n",
       " 0.6698018012108039,\n",
       " 0.4903058358518989]"
      ]
     },
     "execution_count": 654,
     "metadata": {},
     "output_type": "execute_result"
    }
   ],
   "source": [
    "[np.mean(1. / e_xx * ((i <= Y) & (Y <= i + 1))) for i in range(7)]  # Should go to 1"
   ]
  },
  {
   "cell_type": "code",
   "execution_count": 660,
   "id": "63944a93-0dbd-48c3-90c2-36996d39e4ca",
   "metadata": {},
   "outputs": [],
   "source": [
    "Y, T, X, U, e_x, e_xu = generate_data(2000)"
   ]
  },
  {
   "cell_type": "code",
   "execution_count": 661,
   "id": "f1fd567f-84fa-49b6-b7da-35c624fab0e4",
   "metadata": {},
   "outputs": [],
   "source": [
    "# Maybe better to use gaussian process regression\n",
    "from sklearn.gaussian_process import GaussianProcessRegressor\n",
    "from sklearn.gaussian_process.kernels import ConstantKernel, WhiteKernel, RBF\n",
    "from scipy.stats import norm\n",
    "\n",
    "kernel = WhiteKernel() + ConstantKernel() * RBF()\n",
    "model = GaussianProcessRegressor(kernel=kernel).fit(X, Y)\n",
    "mu, sigma = model.predict(X, return_std=True)\n",
    "e_xx = norm.pdf(Y, loc=mu, scale=sigma)"
   ]
  },
  {
   "cell_type": "code",
   "execution_count": 662,
   "id": "a81897c5-fc21-4a56-883c-5d5ec400d79f",
   "metadata": {},
   "outputs": [
    {
     "data": {
      "text/plain": [
       "(array([ 76.,  55.,  81.,  93., 115., 140., 171., 221., 272., 776.]),\n",
       " array([2.06249815e-07, 2.74513965e-02, 5.49025868e-02, 8.23537771e-02,\n",
       "        1.09804967e-01, 1.37256158e-01, 1.64707348e-01, 1.92158538e-01,\n",
       "        2.19609729e-01, 2.47060919e-01, 2.74512109e-01]),\n",
       " <BarContainer object of 10 artists>)"
      ]
     },
     "execution_count": 662,
     "metadata": {},
     "output_type": "execute_result"
    },
    {
     "data": {
      "image/png": "[encoded data removed]",
      "text/plain": [
       "<Figure size 432x288 with 1 Axes>"
      ]
     },
     "metadata": {
      "needs_background": "light"
     },
     "output_type": "display_data"
    }
   ],
   "source": [
    "plt.hist(e_xx)"
   ]
  },
  {
   "cell_type": "code",
   "execution_count": 663,
   "id": "0a323a80-9992-431d-a38b-37ec4b41aee0",
   "metadata": {},
   "outputs": [
    {
     "data": {
      "text/plain": [
       "[0.32881986213236836,\n",
       " 0.7800613489446759,\n",
       " 1.1082520007466337,\n",
       " 2425.996762904727,\n",
       " 2.3731976440293625,\n",
       " 3.270582402658918,\n",
       " 1.5545976263818995]"
      ]
     },
     "execution_count": 663,
     "metadata": {},
     "output_type": "execute_result"
    }
   ],
   "source": [
    "[np.mean(1. / e_xx * ((i <= Y) & (Y <= i + 1))) for i in range(7)]  # Should go to 1"
   ]
  },
  {
   "cell_type": "code",
   "execution_count": null,
   "id": "265b6a80-fba6-4847-a569-c2314db4b076",
   "metadata": {},
   "outputs": [],
   "source": []
  }
 ],
 "metadata": {
  "kernelspec": {
   "display_name": "Python 3",
   "language": "python",
   "name": "python3"
  },
  "language_info": {
   "codemirror_mode": {
    "name": "ipython",
    "version": 3
   },
   "file_extension": ".py",
   "mimetype": "text/x-python",
   "name": "python",
   "nbconvert_exporter": "python",
   "pygments_lexer": "ipython3",
   "version": "3.8.10"
  }
 },
 "nbformat": 4,
 "nbformat_minor": 5
}
