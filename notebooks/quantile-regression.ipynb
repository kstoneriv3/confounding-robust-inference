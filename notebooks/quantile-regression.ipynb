{
 "cells": [
  {
   "cell_type": "code",
   "execution_count": 5,
   "id": "f538a072-4655-4c9b-994f-0b85a62ad51f",
   "metadata": {},
   "outputs": [],
   "source": [
    "import numpy as np\n",
    "import torch\n",
    "from sklearn.linear_model import QuantileRegressor"
   ]
  },
  {
   "cell_type": "code",
   "execution_count": 4,
   "id": "8f1d9e11-bee3-4f71-94e5-3c06e2d21882",
   "metadata": {},
   "outputs": [],
   "source": [
    "beta = np.random.randn(10)\n",
    "X = np.random.randn(10000 * 10).reshape(10000, 10)\n",
    "Y = X @ beta + np.random.randn(10000)"
   ]
  },
  {
   "cell_type": "code",
   "execution_count": null,
   "id": "e0abfb68-e089-49a5-a77b-94d7f58eeee3",
   "metadata": {},
   "outputs": [],
   "source": [
    "QuantileRegressor(quantile=0.5, alpha=0.0).fit(X, Y)"
   ]
  },
  {
   "cell_type": "code",
   "execution_count": 6,
   "id": "57d3538f-2f2a-41c2-939b-de38a019f1cd",
   "metadata": {},
   "outputs": [],
   "source": [
    "Xt = torch.as_tensor(X)\n",
    "Yt = torch.as_tensor(Y)"
   ]
  },
  {
   "cell_type": "code",
   "execution_count": 112,
   "id": "accbf3aa-f619-45ee-b474-48362e84617f",
   "metadata": {},
   "outputs": [],
   "source": [
    "beta_hat = torch.tensor(np.zeros(10), requires_grad=True)\n",
    "beta0_hat = torch.tensor(0.0, requires_grad=True)"
   ]
  },
  {
   "cell_type": "code",
   "execution_count": 113,
   "id": "9bcfc52f-52fb-497a-9461-c3c643f0b47c",
   "metadata": {},
   "outputs": [],
   "source": [
    "def quantile_loss(error, q):\n",
    "    loss = q * torch.relu(error) + (1 - q) * torch.relu(-error)\n",
    "    return loss"
   ]
  },
  {
   "cell_type": "code",
   "execution_count": 114,
   "id": "033e9211-6d31-4692-bb6f-707e8b371afb",
   "metadata": {},
   "outputs": [],
   "source": [
    "q = 0.8"
   ]
  },
  {
   "cell_type": "code",
   "execution_count": 115,
   "id": "3301252a-3c1c-4b3e-9850-bc418234594e",
   "metadata": {},
   "outputs": [
    {
     "data": {
      "text/plain": [
       "tensor(1.1472, dtype=torch.float64, grad_fn=<MeanBackward0>)"
      ]
     },
     "execution_count": 115,
     "metadata": {},
     "output_type": "execute_result"
    }
   ],
   "source": [
    "quantile_loss(Yt - Xt @ beta_hat - beta0_hat, 0.8).mean()"
   ]
  },
  {
   "cell_type": "code",
   "execution_count": 116,
   "id": "fdbf4953-43cb-4499-a7db-60412b9fca15",
   "metadata": {},
   "outputs": [],
   "source": [
    "L = max(q, 1 - q)\n",
    "\n",
    "optim = torch.optim.SGD([beta_hat, beta0_hat], lr=1 / L)\n",
    "\n",
    "for i in range(20):\n",
    "    loss = quantile_loss(Yt - Xt @ beta_hat - beta0_hat, q).mean()\n",
    "    loss.backward()\n",
    "    optim.step()\n",
    "    optim.zero_grad()"
   ]
  },
  {
   "cell_type": "code",
   "execution_count": 117,
   "id": "c105392c-1774-4b75-b07f-8275ca601182",
   "metadata": {},
   "outputs": [
    {
     "data": {
      "text/plain": [
       "tensor(0.2799, dtype=torch.float64, grad_fn=<MeanBackward0>)"
      ]
     },
     "execution_count": 117,
     "metadata": {},
     "output_type": "execute_result"
    }
   ],
   "source": [
    "loss"
   ]
  },
  {
   "cell_type": "code",
   "execution_count": 118,
   "id": "21e71c99-d7e1-4472-9529-8e27b576bde9",
   "metadata": {},
   "outputs": [
    {
     "data": {
      "text/plain": [
       "tensor(0.1997)"
      ]
     },
     "execution_count": 118,
     "metadata": {},
     "output_type": "execute_result"
    }
   ],
   "source": [
    "(Yt - Xt @ beta_hat - beta0_hat > 0).float().mean()"
   ]
  }
 ],
 "metadata": {
  "kernelspec": {
   "display_name": "Python 3",
   "language": "python",
   "name": "python3"
  },
  "language_info": {
   "codemirror_mode": {
    "name": "ipython",
    "version": 3
   },
   "file_extension": ".py",
   "mimetype": "text/x-python",
   "name": "python",
   "nbconvert_exporter": "python",
   "pygments_lexer": "ipython3",
   "version": "3.8.10"
  }
 },
 "nbformat": 4,
 "nbformat_minor": 5
}
