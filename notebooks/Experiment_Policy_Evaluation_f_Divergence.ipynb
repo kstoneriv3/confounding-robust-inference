{
 "cells": [
  {
   "cell_type": "code",
   "execution_count": 1,
   "id": "16433ca9-aeed-46de-a809-d064d220a2f3",
   "metadata": {},
   "outputs": [],
   "source": [
    "import numpy as np\n",
    "import torch\n",
    "import pandas as pd\n",
    "import numpy as np"
   ]
  },
  {
   "cell_type": "code",
   "execution_count": 2,
   "id": "9faeaea0-181c-4330-8f27-88a172df9c91",
   "metadata": {},
   "outputs": [],
   "source": [
    "import itertools"
   ]
  },
  {
   "cell_type": "code",
   "execution_count": 3,
   "id": "a67d678e-0d10-49ce-bb57-73cf322de723",
   "metadata": {},
   "outputs": [],
   "source": [
    "from matplotlib import pyplot as plt\n",
    "plt.style.use(\"seaborn-whitegrid\")\n",
    "from matplotlib.cm import tab10"
   ]
  },
  {
   "cell_type": "code",
   "execution_count": 4,
   "id": "ba28601d-7dcb-43f5-b27a-afab41c648cf",
   "metadata": {},
   "outputs": [],
   "source": [
    "from tqdm.auto import tqdm"
   ]
  },
  {
   "cell_type": "code",
   "execution_count": 5,
   "id": "4b0180e1-8b2a-492b-84d8-1ee169552f83",
   "metadata": {},
   "outputs": [],
   "source": [
    "import kcmc\n",
    "from kcmc.estimators import confounding_robust_estimator, hajek, ipw\n",
    "from kcmc.experiment_policy_evaluation import run_policy_evaluation_experiment"
   ]
  },
  {
   "cell_type": "markdown",
   "id": "d3d992fa-e3aa-4508-9d51-b252770febfb",
   "metadata": {
    "tags": []
   },
   "source": [
    "# Binary Synthetic Data"
   ]
  },
  {
   "cell_type": "code",
   "execution_count": 6,
   "id": "f9d12538-177a-4ca5-892a-21588b123fd2",
   "metadata": {},
   "outputs": [],
   "source": [
    "from kcmc.data_binary import evaluate_policy, generate_data, estimate_p_t"
   ]
  },
  {
   "cell_type": "code",
   "execution_count": 7,
   "id": "b14c0b72-5f51-4cfe-b369-81009ea78236",
   "metadata": {},
   "outputs": [],
   "source": [
    "beta_e_x = np.asarray([0, .75, -.5, 0, -1])\n",
    "\n",
    "def toy_policy(X, T):\n",
    "    n = X.shape[0]\n",
    "    T = torch.as_tensor(T)\n",
    "    z = torch.as_tensor(X) @ torch.as_tensor(beta_e_x)\n",
    "    e_x = torch.exp(z) / (1 + torch.exp(z))\n",
    "    return (1. - T) * e_x + T * (1. - e_x)"
   ]
  },
  {
   "cell_type": "code",
   "execution_count": 8,
   "id": "9a9ed371-ac91-480a-99fa-1770d44c0184",
   "metadata": {},
   "outputs": [],
   "source": [
    "# Guessing kernel with approximate solution\n",
    "Y, T, X, _, _, _ = generate_data(1000)\n",
    "p_t = estimate_p_t(X, T)\n",
    "_, w_guess = confounding_robust_estimator(\n",
    "    Y, T, X, p_t, toy_policy, lambd=1.5,\n",
    "    hajek_const=True, tan_box_const=True, \n",
    "    return_w=True, normalize_p_t=True, \n",
    ")\n",
    "e_guess = p_t * w_guess - 1\n",
    "gp_kernel = kcmc.estimators.fit_gp_kernel(e_guess, T, X)\n",
    "kernel = gp_kernel.k2"
   ]
  },
  {
   "cell_type": "markdown",
   "id": "4e7783a5-35c3-4342-8421-054850ae7bed",
   "metadata": {},
   "source": [
    "### Experiment of changing sensitivity parameter $\\lambda$ "
   ]
  },
  {
   "cell_type": "code",
   "execution_count": 10,
   "id": "5293ffeb-42e4-487c-bbdc-bd3779df2ce3",
   "metadata": {},
   "outputs": [],
   "source": [
    "def update_base_method(**new_params):\n",
    "    ret = kcmc.experiment_policy_evaluation.EXAMPLE_PARAMS.copy()\n",
    "    ret.update(new_params)\n",
    "    return ret\n",
    "\n",
    "grid_methods = {\n",
    "    'ZSB': update_base_method(\n",
    "        hajek_const=True,\n",
    "        normalize_p_t=True,\n",
    "        tan_box_const=True,\n",
    "    ),\n",
    "    'GP_KCMC': update_base_method(\n",
    "        hajek_const=True,\n",
    "        normalize_p_t=True,\n",
    "        tan_box_const=True,\n",
    "        kernel=kernel,\n",
    "        kernel_const=True,\n",
    "        D=100,\n",
    "    ),\n",
    "    'hard_KCMC': update_base_method(\n",
    "        hajek_const=True,\n",
    "        normalize_p_t=True,\n",
    "        tan_box_const=True,\n",
    "        kernel=kernel,\n",
    "        kernel_const=True,\n",
    "        hard_kernel_const=True,\n",
    "        D=100,\n",
    "    ),\n",
    "    'quantile': update_base_method(\n",
    "        hajek_const=True,\n",
    "        normalize_p_t=True,\n",
    "        tan_box_const=True,\n",
    "        quantile_const=True,\n",
    "    ),\n",
    "}\n",
    "\n",
    "grid_lambd = [1.0 + 0.01 + 0.1 * i for i in range(11)]"
   ]
  },
  {
   "cell_type": "code",
   "execution_count": 11,
   "id": "d0f93d8a-af84-4127-9af8-bf87ef4cb1af",
   "metadata": {},
   "outputs": [
    {
     "data": {
      "application/vnd.jupyter.widget-view+json": {
       "model_id": "70197a0220ec4a8fb4186069630f880f",
       "version_major": 2,
       "version_minor": 0
      },
      "text/plain": [
       "  0%|          | 0/44 [00:00<?, ?it/s]"
      ]
     },
     "metadata": {},
     "output_type": "display_data"
    }
   ],
   "source": [
    "log_file='logs/policy_evaluation_synthetic_binary_changing_lambda.csv'\n",
    "\n",
    "pbar = tqdm(total=len(grid_methods) * len(grid_lambd))\n",
    "for method_name, params in grid_methods.items():\n",
    "    for lambd in grid_lambd:\n",
    "        params['lambd'] = lambd\n",
    "        run_policy_evaluation_experiment(\n",
    "            log_file, params, toy_policy, data_type='synthetic binary', \n",
    "            n_seeds=10, sample_size=500, log_info=method_name\n",
    "        )\n",
    "        pbar.update(1)\n",
    "pbar.close()"
   ]
  },
  {
   "cell_type": "code",
   "execution_count": 12,
   "id": "b601135b-c2cf-4bac-928f-db5a0dccdaf9",
   "metadata": {},
   "outputs": [],
   "source": [
    "df = pd.read_csv('logs/policy_evaluation_synthetic_binary_changing_lambda.csv')"
   ]
  },
  {
   "cell_type": "code",
   "execution_count": 13,
   "id": "6f085288-f287-4b3c-b874-4205d1fd62ec",
   "metadata": {},
   "outputs": [
    {
     "data": {
      "text/html": [
       "<div>\n",
       "<style scoped>\n",
       "    .dataframe tbody tr th:only-of-type {\n",
       "        vertical-align: middle;\n",
       "    }\n",
       "\n",
       "    .dataframe tbody tr th {\n",
       "        vertical-align: top;\n",
       "    }\n",
       "\n",
       "    .dataframe thead th {\n",
       "        text-align: right;\n",
       "    }\n",
       "</style>\n",
       "<table border=\"1\" class=\"dataframe\">\n",
       "  <thead>\n",
       "    <tr style=\"text-align: right;\">\n",
       "      <th></th>\n",
       "      <th>log_info</th>\n",
       "      <th>data_type</th>\n",
       "      <th>policy_name</th>\n",
       "      <th>sample_size</th>\n",
       "      <th>seed</th>\n",
       "      <th>lower_bound</th>\n",
       "      <th>upper_bound</th>\n",
       "      <th>D</th>\n",
       "      <th>lambd</th>\n",
       "      <th>gamma</th>\n",
       "      <th>...</th>\n",
       "      <th>hard_kernel_const</th>\n",
       "      <th>normalize_p_t</th>\n",
       "      <th>f_divergence</th>\n",
       "      <th>hajek_const</th>\n",
       "      <th>kernel_const</th>\n",
       "      <th>quantile_const</th>\n",
       "      <th>regressor_const</th>\n",
       "      <th>tan_box_const</th>\n",
       "      <th>lr_box_const</th>\n",
       "      <th>f_const</th>\n",
       "    </tr>\n",
       "  </thead>\n",
       "  <tbody>\n",
       "    <tr>\n",
       "      <th>0</th>\n",
       "      <td>ZSB</td>\n",
       "      <td>synthetic binary</td>\n",
       "      <td>toy_policy</td>\n",
       "      <td>500</td>\n",
       "      <td>0</td>\n",
       "      <td>3.702457</td>\n",
       "      <td>3.724026</td>\n",
       "      <td>200</td>\n",
       "      <td>1.01</td>\n",
       "      <td>0.01</td>\n",
       "      <td>...</td>\n",
       "      <td>False</td>\n",
       "      <td>True</td>\n",
       "      <td>total variation</td>\n",
       "      <td>True</td>\n",
       "      <td>False</td>\n",
       "      <td>False</td>\n",
       "      <td>False</td>\n",
       "      <td>True</td>\n",
       "      <td>False</td>\n",
       "      <td>False</td>\n",
       "    </tr>\n",
       "    <tr>\n",
       "      <th>1</th>\n",
       "      <td>ZSB</td>\n",
       "      <td>synthetic binary</td>\n",
       "      <td>toy_policy</td>\n",
       "      <td>500</td>\n",
       "      <td>1</td>\n",
       "      <td>3.770768</td>\n",
       "      <td>3.796286</td>\n",
       "      <td>200</td>\n",
       "      <td>1.01</td>\n",
       "      <td>0.01</td>\n",
       "      <td>...</td>\n",
       "      <td>False</td>\n",
       "      <td>True</td>\n",
       "      <td>total variation</td>\n",
       "      <td>True</td>\n",
       "      <td>False</td>\n",
       "      <td>False</td>\n",
       "      <td>False</td>\n",
       "      <td>True</td>\n",
       "      <td>False</td>\n",
       "      <td>False</td>\n",
       "    </tr>\n",
       "    <tr>\n",
       "      <th>2</th>\n",
       "      <td>ZSB</td>\n",
       "      <td>synthetic binary</td>\n",
       "      <td>toy_policy</td>\n",
       "      <td>500</td>\n",
       "      <td>2</td>\n",
       "      <td>3.535814</td>\n",
       "      <td>3.557641</td>\n",
       "      <td>200</td>\n",
       "      <td>1.01</td>\n",
       "      <td>0.01</td>\n",
       "      <td>...</td>\n",
       "      <td>False</td>\n",
       "      <td>True</td>\n",
       "      <td>total variation</td>\n",
       "      <td>True</td>\n",
       "      <td>False</td>\n",
       "      <td>False</td>\n",
       "      <td>False</td>\n",
       "      <td>True</td>\n",
       "      <td>False</td>\n",
       "      <td>False</td>\n",
       "    </tr>\n",
       "    <tr>\n",
       "      <th>3</th>\n",
       "      <td>ZSB</td>\n",
       "      <td>synthetic binary</td>\n",
       "      <td>toy_policy</td>\n",
       "      <td>500</td>\n",
       "      <td>3</td>\n",
       "      <td>3.624325</td>\n",
       "      <td>3.640795</td>\n",
       "      <td>200</td>\n",
       "      <td>1.01</td>\n",
       "      <td>0.01</td>\n",
       "      <td>...</td>\n",
       "      <td>False</td>\n",
       "      <td>True</td>\n",
       "      <td>total variation</td>\n",
       "      <td>True</td>\n",
       "      <td>False</td>\n",
       "      <td>False</td>\n",
       "      <td>False</td>\n",
       "      <td>True</td>\n",
       "      <td>False</td>\n",
       "      <td>False</td>\n",
       "    </tr>\n",
       "    <tr>\n",
       "      <th>4</th>\n",
       "      <td>ZSB</td>\n",
       "      <td>synthetic binary</td>\n",
       "      <td>toy_policy</td>\n",
       "      <td>500</td>\n",
       "      <td>4</td>\n",
       "      <td>3.664120</td>\n",
       "      <td>3.686011</td>\n",
       "      <td>200</td>\n",
       "      <td>1.01</td>\n",
       "      <td>0.01</td>\n",
       "      <td>...</td>\n",
       "      <td>False</td>\n",
       "      <td>True</td>\n",
       "      <td>total variation</td>\n",
       "      <td>True</td>\n",
       "      <td>False</td>\n",
       "      <td>False</td>\n",
       "      <td>False</td>\n",
       "      <td>True</td>\n",
       "      <td>False</td>\n",
       "      <td>False</td>\n",
       "    </tr>\n",
       "  </tbody>\n",
       "</table>\n",
       "<p>5 rows × 23 columns</p>\n",
       "</div>"
      ],
      "text/plain": [
       "  log_info         data_type policy_name  sample_size  seed  lower_bound  \\\n",
       "0      ZSB  synthetic binary  toy_policy          500     0     3.702457   \n",
       "1      ZSB  synthetic binary  toy_policy          500     1     3.770768   \n",
       "2      ZSB  synthetic binary  toy_policy          500     2     3.535814   \n",
       "3      ZSB  synthetic binary  toy_policy          500     3     3.624325   \n",
       "4      ZSB  synthetic binary  toy_policy          500     4     3.664120   \n",
       "\n",
       "   upper_bound    D  lambd  gamma  ...  hard_kernel_const  normalize_p_t  \\\n",
       "0     3.724026  200   1.01   0.01  ...              False           True   \n",
       "1     3.796286  200   1.01   0.01  ...              False           True   \n",
       "2     3.557641  200   1.01   0.01  ...              False           True   \n",
       "3     3.640795  200   1.01   0.01  ...              False           True   \n",
       "4     3.686011  200   1.01   0.01  ...              False           True   \n",
       "\n",
       "      f_divergence  hajek_const  kernel_const quantile_const  regressor_const  \\\n",
       "0  total variation         True         False          False            False   \n",
       "1  total variation         True         False          False            False   \n",
       "2  total variation         True         False          False            False   \n",
       "3  total variation         True         False          False            False   \n",
       "4  total variation         True         False          False            False   \n",
       "\n",
       "   tan_box_const  lr_box_const  f_const  \n",
       "0           True         False    False  \n",
       "1           True         False    False  \n",
       "2           True         False    False  \n",
       "3           True         False    False  \n",
       "4           True         False    False  \n",
       "\n",
       "[5 rows x 23 columns]"
      ]
     },
     "execution_count": 13,
     "metadata": {},
     "output_type": "execute_result"
    }
   ],
   "source": [
    "df.head()"
   ]
  },
  {
   "cell_type": "code",
   "execution_count": 14,
   "id": "47c149bf-3530-4f88-ab59-e032ee9ea7db",
   "metadata": {},
   "outputs": [],
   "source": [
    "# due to the numerical rounding, some of the original values are invalid indices\n",
    "grid_lambd = df.lambd.unique()  "
   ]
  },
  {
   "cell_type": "code",
   "execution_count": 15,
   "id": "eb0afdd9-ba4f-4d15-ab3a-cfa067c35422",
   "metadata": {},
   "outputs": [
    {
     "name": "stderr",
     "output_type": "stream",
     "text": [
      "/tmp/ipykernel_1581777/1363206736.py:1: FutureWarning: Indexing with multiple keys (implicitly converted to a tuple of keys) will be deprecated, use a list instead.\n",
      "  df_grouped = df.groupby(by=['log_info', 'lambd'])['lower_bound', 'upper_bound']\n"
     ]
    }
   ],
   "source": [
    "df_grouped = df.groupby(by=['log_info', 'lambd'])['lower_bound', 'upper_bound']\n",
    "values_mean = df_grouped.mean()\n",
    "values_std = df_grouped.std()"
   ]
  },
  {
   "cell_type": "code",
   "execution_count": 20,
   "id": "b8427868-ef81-4eb2-8f30-a63acc09d5b6",
   "metadata": {
    "tags": []
   },
   "outputs": [
    {
     "data": {
      "image/png": "[encoded data removed]",
      "text/plain": [
       "<Figure size 432x288 with 1 Axes>"
      ]
     },
     "metadata": {
      "needs_background": "light"
     },
     "output_type": "display_data"
    }
   ],
   "source": [
    "colors = {method: tab10((0.5 + i) / 10) for i, method in enumerate(grid_methods.keys())}\n",
    "legend_targets = []\n",
    "legend_tags = [\"ZSB\", \"low-rank GP KCMC ($D=100$)\", \"hard KCMC ($D=100$)\", \"QB\"]\n",
    "\n",
    "for method_name in grid_methods.keys():\n",
    "    upper = np.array([values_mean.loc[(method_name, lambd)]['upper_bound'] for lambd in grid_lambd])\n",
    "    lower = np.array([values_mean.loc[(method_name, lambd)]['lower_bound'] for lambd in grid_lambd])\n",
    "    dupper = np.array([values_std.loc[(method_name, lambd)]['upper_bound'] for lambd in grid_lambd])\n",
    "    dlower = np.array([values_std.loc[(method_name, lambd)]['lower_bound'] for lambd in grid_lambd])\n",
    "    c = colors[method_name]\n",
    "    upper_line = plt.plot(grid_lambd, upper, c=c)[0]\n",
    "    lower_line = plt.plot(grid_lambd, lower, c=c)[0]\n",
    "    upper_band = plt.fill_between(grid_lambd, upper + dupper, upper - dupper, color=c, alpha=0.1)\n",
    "    lower_band = plt.fill_between(grid_lambd, lower + dlower, lower - dlower, color=c, alpha=0.1)\n",
    "    legend_targets.append((upper_line, lower_line, upper_band, lower_band))\n",
    "\n",
    "plt.legend(legend_targets, legend_tags)\n",
    "plt.xlabel(r\"Sensitivity parameter $\\gamma$\")\n",
    "plt.ylabel(r\"Upper/lower bounds of policy value\")\n",
    "plt.xlim([1.0, 2.0])\n",
    "plt.savefig('logs/policy_evaluation_synthetic_binary_changing_lambda.pdf')"
   ]
  },
  {
   "cell_type": "markdown",
   "id": "beb30992-e56d-472b-a23a-b99a18cc8ef6",
   "metadata": {},
   "source": [
    "### Experiment of changing sample size"
   ]
  },
  {
   "cell_type": "code",
   "execution_count": 21,
   "id": "2460ab29-f106-460a-8165-1b294ab10e7d",
   "metadata": {},
   "outputs": [],
   "source": [
    "def update_base_method(**new_params):\n",
    "    ret = kcmc.experiment_policy_evaluation.EXAMPLE_PARAMS.copy()\n",
    "    ret.update(new_params)\n",
    "    return ret\n",
    "\n",
    "grid_methods = {\n",
    "    'ZSB': update_base_method(\n",
    "        hajek_const=True,\n",
    "        normalize_p_t=True,\n",
    "        tan_box_const=True,\n",
    "    ),\n",
    "    'GP_KCMC': update_base_method(\n",
    "        hajek_const=True,\n",
    "        normalize_p_t=True,\n",
    "        tan_box_const=True,\n",
    "        kernel=kernel,\n",
    "        kernel_const=True,\n",
    "        # D=n // 5,\n",
    "    ),\n",
    "    'hard_KCMC': update_base_method(\n",
    "        hajek_const=True,\n",
    "        normalize_p_t=True,\n",
    "        tan_box_const=True,\n",
    "        kernel=kernel,\n",
    "        kernel_const=True,\n",
    "        hard_kernel_const=True,\n",
    "        # D=n // 5,\n",
    "    ),\n",
    "    'quantile': update_base_method(\n",
    "        hajek_const=True,\n",
    "        normalize_p_t=True,\n",
    "        tan_box_const=True,\n",
    "        quantile_const=True,\n",
    "    ),\n",
    "}\n",
    "\n",
    "grid_sample_size = [100 * i for i in range(1, 11)]"
   ]
  },
  {
   "cell_type": "code",
   "execution_count": 22,
   "id": "f36f52fc-c9c1-412e-b715-cb8bc27f7a55",
   "metadata": {},
   "outputs": [
    {
     "data": {
      "application/vnd.jupyter.widget-view+json": {
       "model_id": "c4c26c95e4c941ee85c3566eb9cae454",
       "version_major": 2,
       "version_minor": 0
      },
      "text/plain": [
       "  0%|          | 0/15400000 [00:00<?, ?it/s]"
      ]
     },
     "metadata": {},
     "output_type": "display_data"
    },
    {
     "name": "stdout",
     "output_type": "stream",
     "text": [
      "Encountered error for data_type=synthetic binary, sample_size=800, params={'D': 160, 'lambd': 1.5, 'gamma': 0.01, 'alpha': 0.05, 'sigma2': 0.01, 'kernel': RBF(length_scale=1), 'hard_kernel_const': False, 'normalize_p_t': True, 'f_divergence': 'total variation', 'hajek_const': True, 'kernel_const': False, 'quantile_const': True, 'regressor_const': False, 'tan_box_const': True, 'lr_box_const': False, 'f_const': False}. Skipping the experiment.\n"
     ]
    }
   ],
   "source": [
    "log_file='logs/policy_evaluation_synthetic_binary_changing_sample_size.csv'\n",
    "\n",
    "pbar = tqdm(total=len(grid_methods) * sum(n ** 2 for n in grid_sample_size))\n",
    "for method_name, params in grid_methods.items():\n",
    "    for n in grid_sample_size:\n",
    "        params['D'] = n // 5\n",
    "        run_policy_evaluation_experiment(\n",
    "            log_file, params, toy_policy, data_type='synthetic binary', \n",
    "            n_seeds=10, sample_size=n, log_info=method_name\n",
    "        )\n",
    "        pbar.update(n ** 2)\n",
    "pbar.close()"
   ]
  },
  {
   "cell_type": "code",
   "execution_count": 23,
   "id": "241f4294-7879-4779-b8a5-c97f1802e8c4",
   "metadata": {},
   "outputs": [],
   "source": [
    "df = pd.read_csv('logs/policy_evaluation_synthetic_binary_changing_sample_size.csv')"
   ]
  },
  {
   "cell_type": "code",
   "execution_count": 24,
   "id": "e31a8150-0bf0-4792-a095-00d45416cc08",
   "metadata": {},
   "outputs": [
    {
     "data": {
      "text/html": [
       "<div>\n",
       "<style scoped>\n",
       "    .dataframe tbody tr th:only-of-type {\n",
       "        vertical-align: middle;\n",
       "    }\n",
       "\n",
       "    .dataframe tbody tr th {\n",
       "        vertical-align: top;\n",
       "    }\n",
       "\n",
       "    .dataframe thead th {\n",
       "        text-align: right;\n",
       "    }\n",
       "</style>\n",
       "<table border=\"1\" class=\"dataframe\">\n",
       "  <thead>\n",
       "    <tr style=\"text-align: right;\">\n",
       "      <th></th>\n",
       "      <th>log_info</th>\n",
       "      <th>data_type</th>\n",
       "      <th>policy_name</th>\n",
       "      <th>sample_size</th>\n",
       "      <th>seed</th>\n",
       "      <th>lower_bound</th>\n",
       "      <th>upper_bound</th>\n",
       "      <th>D</th>\n",
       "      <th>lambd</th>\n",
       "      <th>gamma</th>\n",
       "      <th>...</th>\n",
       "      <th>hard_kernel_const</th>\n",
       "      <th>normalize_p_t</th>\n",
       "      <th>f_divergence</th>\n",
       "      <th>hajek_const</th>\n",
       "      <th>kernel_const</th>\n",
       "      <th>quantile_const</th>\n",
       "      <th>regressor_const</th>\n",
       "      <th>tan_box_const</th>\n",
       "      <th>lr_box_const</th>\n",
       "      <th>f_const</th>\n",
       "    </tr>\n",
       "  </thead>\n",
       "  <tbody>\n",
       "    <tr>\n",
       "      <th>0</th>\n",
       "      <td>ZSB</td>\n",
       "      <td>synthetic binary</td>\n",
       "      <td>toy_policy</td>\n",
       "      <td>100</td>\n",
       "      <td>0</td>\n",
       "      <td>3.663569</td>\n",
       "      <td>4.607054</td>\n",
       "      <td>20</td>\n",
       "      <td>1.5</td>\n",
       "      <td>0.01</td>\n",
       "      <td>...</td>\n",
       "      <td>False</td>\n",
       "      <td>True</td>\n",
       "      <td>total variation</td>\n",
       "      <td>True</td>\n",
       "      <td>False</td>\n",
       "      <td>False</td>\n",
       "      <td>False</td>\n",
       "      <td>True</td>\n",
       "      <td>False</td>\n",
       "      <td>False</td>\n",
       "    </tr>\n",
       "    <tr>\n",
       "      <th>1</th>\n",
       "      <td>ZSB</td>\n",
       "      <td>synthetic binary</td>\n",
       "      <td>toy_policy</td>\n",
       "      <td>100</td>\n",
       "      <td>1</td>\n",
       "      <td>3.335259</td>\n",
       "      <td>3.980575</td>\n",
       "      <td>20</td>\n",
       "      <td>1.5</td>\n",
       "      <td>0.01</td>\n",
       "      <td>...</td>\n",
       "      <td>False</td>\n",
       "      <td>True</td>\n",
       "      <td>total variation</td>\n",
       "      <td>True</td>\n",
       "      <td>False</td>\n",
       "      <td>False</td>\n",
       "      <td>False</td>\n",
       "      <td>True</td>\n",
       "      <td>False</td>\n",
       "      <td>False</td>\n",
       "    </tr>\n",
       "    <tr>\n",
       "      <th>2</th>\n",
       "      <td>ZSB</td>\n",
       "      <td>synthetic binary</td>\n",
       "      <td>toy_policy</td>\n",
       "      <td>100</td>\n",
       "      <td>2</td>\n",
       "      <td>2.288669</td>\n",
       "      <td>2.818702</td>\n",
       "      <td>20</td>\n",
       "      <td>1.5</td>\n",
       "      <td>0.01</td>\n",
       "      <td>...</td>\n",
       "      <td>False</td>\n",
       "      <td>True</td>\n",
       "      <td>total variation</td>\n",
       "      <td>True</td>\n",
       "      <td>False</td>\n",
       "      <td>False</td>\n",
       "      <td>False</td>\n",
       "      <td>True</td>\n",
       "      <td>False</td>\n",
       "      <td>False</td>\n",
       "    </tr>\n",
       "    <tr>\n",
       "      <th>3</th>\n",
       "      <td>ZSB</td>\n",
       "      <td>synthetic binary</td>\n",
       "      <td>toy_policy</td>\n",
       "      <td>100</td>\n",
       "      <td>3</td>\n",
       "      <td>3.151648</td>\n",
       "      <td>3.922349</td>\n",
       "      <td>20</td>\n",
       "      <td>1.5</td>\n",
       "      <td>0.01</td>\n",
       "      <td>...</td>\n",
       "      <td>False</td>\n",
       "      <td>True</td>\n",
       "      <td>total variation</td>\n",
       "      <td>True</td>\n",
       "      <td>False</td>\n",
       "      <td>False</td>\n",
       "      <td>False</td>\n",
       "      <td>True</td>\n",
       "      <td>False</td>\n",
       "      <td>False</td>\n",
       "    </tr>\n",
       "    <tr>\n",
       "      <th>4</th>\n",
       "      <td>ZSB</td>\n",
       "      <td>synthetic binary</td>\n",
       "      <td>toy_policy</td>\n",
       "      <td>100</td>\n",
       "      <td>4</td>\n",
       "      <td>2.758201</td>\n",
       "      <td>3.418388</td>\n",
       "      <td>20</td>\n",
       "      <td>1.5</td>\n",
       "      <td>0.01</td>\n",
       "      <td>...</td>\n",
       "      <td>False</td>\n",
       "      <td>True</td>\n",
       "      <td>total variation</td>\n",
       "      <td>True</td>\n",
       "      <td>False</td>\n",
       "      <td>False</td>\n",
       "      <td>False</td>\n",
       "      <td>True</td>\n",
       "      <td>False</td>\n",
       "      <td>False</td>\n",
       "    </tr>\n",
       "  </tbody>\n",
       "</table>\n",
       "<p>5 rows × 23 columns</p>\n",
       "</div>"
      ],
      "text/plain": [
       "  log_info         data_type policy_name  sample_size  seed  lower_bound  \\\n",
       "0      ZSB  synthetic binary  toy_policy          100     0     3.663569   \n",
       "1      ZSB  synthetic binary  toy_policy          100     1     3.335259   \n",
       "2      ZSB  synthetic binary  toy_policy          100     2     2.288669   \n",
       "3      ZSB  synthetic binary  toy_policy          100     3     3.151648   \n",
       "4      ZSB  synthetic binary  toy_policy          100     4     2.758201   \n",
       "\n",
       "   upper_bound   D  lambd  gamma  ...  hard_kernel_const  normalize_p_t  \\\n",
       "0     4.607054  20    1.5   0.01  ...              False           True   \n",
       "1     3.980575  20    1.5   0.01  ...              False           True   \n",
       "2     2.818702  20    1.5   0.01  ...              False           True   \n",
       "3     3.922349  20    1.5   0.01  ...              False           True   \n",
       "4     3.418388  20    1.5   0.01  ...              False           True   \n",
       "\n",
       "      f_divergence  hajek_const  kernel_const quantile_const  regressor_const  \\\n",
       "0  total variation         True         False          False            False   \n",
       "1  total variation         True         False          False            False   \n",
       "2  total variation         True         False          False            False   \n",
       "3  total variation         True         False          False            False   \n",
       "4  total variation         True         False          False            False   \n",
       "\n",
       "   tan_box_const  lr_box_const  f_const  \n",
       "0           True         False    False  \n",
       "1           True         False    False  \n",
       "2           True         False    False  \n",
       "3           True         False    False  \n",
       "4           True         False    False  \n",
       "\n",
       "[5 rows x 23 columns]"
      ]
     },
     "execution_count": 24,
     "metadata": {},
     "output_type": "execute_result"
    }
   ],
   "source": [
    "df.head()"
   ]
  },
  {
   "cell_type": "code",
   "execution_count": 25,
   "id": "0b535493-35a4-4e99-b497-ccda9ee18f06",
   "metadata": {},
   "outputs": [
    {
     "name": "stderr",
     "output_type": "stream",
     "text": [
      "/tmp/ipykernel_1581777/2653174186.py:1: FutureWarning: Indexing with multiple keys (implicitly converted to a tuple of keys) will be deprecated, use a list instead.\n",
      "  df_grouped = df.groupby(by=['log_info', 'sample_size'])['lower_bound', 'upper_bound']\n"
     ]
    }
   ],
   "source": [
    "df_grouped = df.groupby(by=['log_info', 'sample_size'])['lower_bound', 'upper_bound']\n",
    "values_mean = df_grouped.mean()\n",
    "values_std = df_grouped.std()"
   ]
  },
  {
   "cell_type": "code",
   "execution_count": 26,
   "id": "692c8b48-5848-4023-be64-a02e68cae25e",
   "metadata": {
    "tags": []
   },
   "outputs": [
    {
     "data": {
      "text/plain": [
       "(0.0, 1050.0)"
      ]
     },
     "execution_count": 26,
     "metadata": {},
     "output_type": "execute_result"
    },
    {
     "data": {
      "image/png": "[encoded data removed]",
      "text/plain": [
       "<Figure size 432x288 with 1 Axes>"
      ]
     },
     "metadata": {
      "needs_background": "light"
     },
     "output_type": "display_data"
    }
   ],
   "source": [
    "colors = {method: tab10((0.5 + i) / 10) for i, method in enumerate(grid_methods.keys())}\n",
    "legend_targets = []\n",
    "legend_tags = [\"ZSB\", \"low-rank GP KCMC ($D=n / 5$)\", \"hard KCMC ($D=n / 5$)\", \"QB\"]\n",
    "\n",
    "for method_name in grid_methods.keys():\n",
    "    upper = np.array([values_mean.loc[(method_name, n)]['upper_bound'] for n in grid_sample_size])\n",
    "    lower = np.array([values_mean.loc[(method_name, n)]['lower_bound'] for n in grid_sample_size])\n",
    "    dupper = np.array([values_std.loc[(method_name, n)]['upper_bound'] for n in grid_sample_size])\n",
    "    dlower = np.array([values_std.loc[(method_name, n)]['lower_bound'] for n in grid_sample_size])\n",
    "    c = colors[method_name]\n",
    "    upper_line = plt.plot(grid_sample_size, upper, c=c)[0]\n",
    "    lower_line = plt.plot(grid_sample_size, lower, c=c)[0]\n",
    "    upper_band = plt.fill_between(grid_sample_size, upper + dupper, upper - dupper, color=c, alpha=0.2)\n",
    "    lower_band = plt.fill_between(grid_sample_size, lower + dlower, lower - dlower, color=c, alpha=0.2)\n",
    "    legend_targets.append((upper_line, lower_line, upper_band, lower_band))\n",
    "\n",
    "plt.legend(legend_targets, legend_tags)\n",
    "plt.xlabel(r\"The number of samples $n$\")\n",
    "plt.ylabel(r\"Upper/lower bounds of policy value\")\n",
    "plt.xlim([0, 1050])\n",
    "plt.savefig('logs/policy_evaluation_synthetic_binary_changing_sample_size.pdf')"
   ]
  },
  {
   "cell_type": "markdown",
   "id": "dfe379e6-7860-4f84-8487-3b0c2cc3349d",
   "metadata": {
    "tags": []
   },
   "source": [
    "# Continuous Synthetic Data"
   ]
  },
  {
   "cell_type": "code",
   "execution_count": 6,
   "id": "92fcd4a3-5452-4cee-af9e-98cc54021bd9",
   "metadata": {},
   "outputs": [],
   "source": [
    "from kcmc.data_continuous import evaluate_policy, generate_data, estimate_p_t"
   ]
  },
  {
   "cell_type": "code",
   "execution_count": 56,
   "id": "48942168-fbda-4bd8-8841-a3cf75af9dfa",
   "metadata": {},
   "outputs": [],
   "source": [
    "def wrap_continuous_policy(policy):\n",
    "    def wrapped_policy(X, T=None, return_sample=False, requires_grad=False): \n",
    "        policy_dist = policy(X)\n",
    "        if return_sample:\n",
    "            return policy_dist.rsample() if requires_grad else policy_dist.sample()\n",
    "        else:\n",
    "            return torch.exp(policy_dist.log_prob(torch.as_tensor(T)))\n",
    "    return wrapped_policy\n",
    "\n",
    "beta_e_x = np.asarray([0, .75, -.5, 0, -1])\n",
    "\n",
    "@wrap_continuous_policy\n",
    "def toy_policy(X):\n",
    "    z = torch.as_tensor(X) @ torch.as_tensor(beta_e_x)\n",
    "    mu_t = torch.exp(z) / (1 + torch.exp(z))\n",
    "    a, b = 3 * mu_t + 1, 3 * (1 - mu_t) + 1\n",
    "    return torch.distributions.beta.Beta(a, b)"
   ]
  },
  {
   "cell_type": "code",
   "execution_count": 7,
   "id": "f5a812f9-2313-4509-bd00-e48ad1c32c3e",
   "metadata": {},
   "outputs": [],
   "source": [
    "beta_e_x = np.asarray([0, .75, -.5, 0, -1])\n",
    "\n",
    "def toy_policy(X, T):\n",
    "    n = X.shape[0]\n",
    "    T = torch.as_tensor(T)\n",
    "    z = torch.as_tensor(X) @ torch.as_tensor(beta_e_x)\n",
    "    e_x = torch.exp(z) / (1 + torch.exp(z))\n",
    "    return (1. - T) * e_x + T * (1. - e_x)"
   ]
  },
  {
   "cell_type": "markdown",
   "id": "ef553dc6-3d5f-4562-90fd-58e96ebf3ea1",
   "metadata": {},
   "source": [
    "### Experiment of changing sensitivity parameter $\\lambda$ "
   ]
  },
  {
   "cell_type": "code",
   "execution_count": 10,
   "id": "fcf528c4-1fca-4ccd-8c0d-11603b3f4784",
   "metadata": {},
   "outputs": [],
   "source": [
    "def update_base_method(**new_params):\n",
    "    ret = kcmc.experiment_policy_evaluation.EXAMPLE_PARAMS.copy()\n",
    "    ret.update(new_params)\n",
    "    return ret\n",
    "\n",
    "grid_methods = {\n",
    "    'ZSB': update_base_method(\n",
    "        hajek_const=True,\n",
    "        normalize_p_t=True,\n",
    "        tan_box_const=True,\n",
    "    ),\n",
    "    'GP_KCMC': update_base_method(\n",
    "        hajek_const=True,\n",
    "        normalize_p_t=True,\n",
    "        tan_box_const=True,\n",
    "        kernel=kernel,\n",
    "        kernel_const=True,\n",
    "        D=100,\n",
    "    ),\n",
    "    'hard_KCMC': update_base_method(\n",
    "        hajek_const=True,\n",
    "        normalize_p_t=True,\n",
    "        tan_box_const=True,\n",
    "        kernel=kernel,\n",
    "        kernel_const=True,\n",
    "        hard_kernel_const=True,\n",
    "        D=100,\n",
    "    ),\n",
    "    'quantile': update_base_method(\n",
    "        hajek_const=True,\n",
    "        normalize_p_t=True,\n",
    "        tan_box_const=True,\n",
    "        quantile_const=True,\n",
    "    ),\n",
    "}\n",
    "\n",
    "grid_lambd = [1.0 + 0.01 + 0.1 * i for i in range(11)]"
   ]
  },
  {
   "cell_type": "code",
   "execution_count": 11,
   "id": "d1d56fd4-ddf7-488b-a5b3-cb08086f3abc",
   "metadata": {},
   "outputs": [
    {
     "data": {
      "application/vnd.jupyter.widget-view+json": {
       "model_id": "70197a0220ec4a8fb4186069630f880f",
       "version_major": 2,
       "version_minor": 0
      },
      "text/plain": [
       "  0%|          | 0/44 [00:00<?, ?it/s]"
      ]
     },
     "metadata": {},
     "output_type": "display_data"
    }
   ],
   "source": [
    "log_file='logs/policy_evaluation_synthetic_continuous_changing_lambda.csv'\n",
    "\n",
    "pbar = tqdm(total=len(grid_methods) * len(grid_lambd))\n",
    "for method_name, params in grid_methods.items():\n",
    "    for lambd in grid_lambd:\n",
    "        params['lambd'] = lambd\n",
    "        run_policy_evaluation_experiment(\n",
    "            log_file, params, toy_policy, data_type='synthetic continuous', \n",
    "            n_seeds=10, sample_size=500, log_info=method_name\n",
    "        )\n",
    "        pbar.update(1)\n",
    "pbar.close()"
   ]
  },
  {
   "cell_type": "code",
   "execution_count": 12,
   "id": "17d13352-2b7f-4f7a-963d-1e0f856aa069",
   "metadata": {},
   "outputs": [],
   "source": [
    "df = pd.read_csv('logs/policy_evaluation_synthetic_continuous_changing_lambda.csv')"
   ]
  },
  {
   "cell_type": "code",
   "execution_count": 13,
   "id": "b67e89f4-f487-4955-b5e7-eff2354eb0e8",
   "metadata": {},
   "outputs": [
    {
     "data": {
      "text/html": [
       "<div>\n",
       "<style scoped>\n",
       "    .dataframe tbody tr th:only-of-type {\n",
       "        vertical-align: middle;\n",
       "    }\n",
       "\n",
       "    .dataframe tbody tr th {\n",
       "        vertical-align: top;\n",
       "    }\n",
       "\n",
       "    .dataframe thead th {\n",
       "        text-align: right;\n",
       "    }\n",
       "</style>\n",
       "<table border=\"1\" class=\"dataframe\">\n",
       "  <thead>\n",
       "    <tr style=\"text-align: right;\">\n",
       "      <th></th>\n",
       "      <th>log_info</th>\n",
       "      <th>data_type</th>\n",
       "      <th>policy_name</th>\n",
       "      <th>sample_size</th>\n",
       "      <th>seed</th>\n",
       "      <th>lower_bound</th>\n",
       "      <th>upper_bound</th>\n",
       "      <th>D</th>\n",
       "      <th>lambd</th>\n",
       "      <th>gamma</th>\n",
       "      <th>...</th>\n",
       "      <th>hard_kernel_const</th>\n",
       "      <th>normalize_p_t</th>\n",
       "      <th>f_divergence</th>\n",
       "      <th>hajek_const</th>\n",
       "      <th>kernel_const</th>\n",
       "      <th>quantile_const</th>\n",
       "      <th>regressor_const</th>\n",
       "      <th>tan_box_const</th>\n",
       "      <th>lr_box_const</th>\n",
       "      <th>f_const</th>\n",
       "    </tr>\n",
       "  </thead>\n",
       "  <tbody>\n",
       "    <tr>\n",
       "      <th>0</th>\n",
       "      <td>ZSB</td>\n",
       "      <td>synthetic binary</td>\n",
       "      <td>toy_policy</td>\n",
       "      <td>500</td>\n",
       "      <td>0</td>\n",
       "      <td>3.702457</td>\n",
       "      <td>3.724026</td>\n",
       "      <td>200</td>\n",
       "      <td>1.01</td>\n",
       "      <td>0.01</td>\n",
       "      <td>...</td>\n",
       "      <td>False</td>\n",
       "      <td>True</td>\n",
       "      <td>total variation</td>\n",
       "      <td>True</td>\n",
       "      <td>False</td>\n",
       "      <td>False</td>\n",
       "      <td>False</td>\n",
       "      <td>True</td>\n",
       "      <td>False</td>\n",
       "      <td>False</td>\n",
       "    </tr>\n",
       "    <tr>\n",
       "      <th>1</th>\n",
       "      <td>ZSB</td>\n",
       "      <td>synthetic binary</td>\n",
       "      <td>toy_policy</td>\n",
       "      <td>500</td>\n",
       "      <td>1</td>\n",
       "      <td>3.770768</td>\n",
       "      <td>3.796286</td>\n",
       "      <td>200</td>\n",
       "      <td>1.01</td>\n",
       "      <td>0.01</td>\n",
       "      <td>...</td>\n",
       "      <td>False</td>\n",
       "      <td>True</td>\n",
       "      <td>total variation</td>\n",
       "      <td>True</td>\n",
       "      <td>False</td>\n",
       "      <td>False</td>\n",
       "      <td>False</td>\n",
       "      <td>True</td>\n",
       "      <td>False</td>\n",
       "      <td>False</td>\n",
       "    </tr>\n",
       "    <tr>\n",
       "      <th>2</th>\n",
       "      <td>ZSB</td>\n",
       "      <td>synthetic binary</td>\n",
       "      <td>toy_policy</td>\n",
       "      <td>500</td>\n",
       "      <td>2</td>\n",
       "      <td>3.535814</td>\n",
       "      <td>3.557641</td>\n",
       "      <td>200</td>\n",
       "      <td>1.01</td>\n",
       "      <td>0.01</td>\n",
       "      <td>...</td>\n",
       "      <td>False</td>\n",
       "      <td>True</td>\n",
       "      <td>total variation</td>\n",
       "      <td>True</td>\n",
       "      <td>False</td>\n",
       "      <td>False</td>\n",
       "      <td>False</td>\n",
       "      <td>True</td>\n",
       "      <td>False</td>\n",
       "      <td>False</td>\n",
       "    </tr>\n",
       "    <tr>\n",
       "      <th>3</th>\n",
       "      <td>ZSB</td>\n",
       "      <td>synthetic binary</td>\n",
       "      <td>toy_policy</td>\n",
       "      <td>500</td>\n",
       "      <td>3</td>\n",
       "      <td>3.624325</td>\n",
       "      <td>3.640795</td>\n",
       "      <td>200</td>\n",
       "      <td>1.01</td>\n",
       "      <td>0.01</td>\n",
       "      <td>...</td>\n",
       "      <td>False</td>\n",
       "      <td>True</td>\n",
       "      <td>total variation</td>\n",
       "      <td>True</td>\n",
       "      <td>False</td>\n",
       "      <td>False</td>\n",
       "      <td>False</td>\n",
       "      <td>True</td>\n",
       "      <td>False</td>\n",
       "      <td>False</td>\n",
       "    </tr>\n",
       "    <tr>\n",
       "      <th>4</th>\n",
       "      <td>ZSB</td>\n",
       "      <td>synthetic binary</td>\n",
       "      <td>toy_policy</td>\n",
       "      <td>500</td>\n",
       "      <td>4</td>\n",
       "      <td>3.664120</td>\n",
       "      <td>3.686011</td>\n",
       "      <td>200</td>\n",
       "      <td>1.01</td>\n",
       "      <td>0.01</td>\n",
       "      <td>...</td>\n",
       "      <td>False</td>\n",
       "      <td>True</td>\n",
       "      <td>total variation</td>\n",
       "      <td>True</td>\n",
       "      <td>False</td>\n",
       "      <td>False</td>\n",
       "      <td>False</td>\n",
       "      <td>True</td>\n",
       "      <td>False</td>\n",
       "      <td>False</td>\n",
       "    </tr>\n",
       "  </tbody>\n",
       "</table>\n",
       "<p>5 rows × 23 columns</p>\n",
       "</div>"
      ],
      "text/plain": [
       "  log_info         data_type policy_name  sample_size  seed  lower_bound  \\\n",
       "0      ZSB  synthetic binary  toy_policy          500     0     3.702457   \n",
       "1      ZSB  synthetic binary  toy_policy          500     1     3.770768   \n",
       "2      ZSB  synthetic binary  toy_policy          500     2     3.535814   \n",
       "3      ZSB  synthetic binary  toy_policy          500     3     3.624325   \n",
       "4      ZSB  synthetic binary  toy_policy          500     4     3.664120   \n",
       "\n",
       "   upper_bound    D  lambd  gamma  ...  hard_kernel_const  normalize_p_t  \\\n",
       "0     3.724026  200   1.01   0.01  ...              False           True   \n",
       "1     3.796286  200   1.01   0.01  ...              False           True   \n",
       "2     3.557641  200   1.01   0.01  ...              False           True   \n",
       "3     3.640795  200   1.01   0.01  ...              False           True   \n",
       "4     3.686011  200   1.01   0.01  ...              False           True   \n",
       "\n",
       "      f_divergence  hajek_const  kernel_const quantile_const  regressor_const  \\\n",
       "0  total variation         True         False          False            False   \n",
       "1  total variation         True         False          False            False   \n",
       "2  total variation         True         False          False            False   \n",
       "3  total variation         True         False          False            False   \n",
       "4  total variation         True         False          False            False   \n",
       "\n",
       "   tan_box_const  lr_box_const  f_const  \n",
       "0           True         False    False  \n",
       "1           True         False    False  \n",
       "2           True         False    False  \n",
       "3           True         False    False  \n",
       "4           True         False    False  \n",
       "\n",
       "[5 rows x 23 columns]"
      ]
     },
     "execution_count": 13,
     "metadata": {},
     "output_type": "execute_result"
    }
   ],
   "source": [
    "df.head()"
   ]
  },
  {
   "cell_type": "code",
   "execution_count": 14,
   "id": "3926e1ad-6304-4204-a2d0-c9706f942e43",
   "metadata": {},
   "outputs": [],
   "source": [
    "# due to the numerical rounding, some of the original values are invalid indices\n",
    "grid_lambd = df.lambd.unique()  "
   ]
  },
  {
   "cell_type": "code",
   "execution_count": 15,
   "id": "0b9c2222-6687-4248-a951-42894352d77e",
   "metadata": {},
   "outputs": [
    {
     "name": "stderr",
     "output_type": "stream",
     "text": [
      "/tmp/ipykernel_1581777/1363206736.py:1: FutureWarning: Indexing with multiple keys (implicitly converted to a tuple of keys) will be deprecated, use a list instead.\n",
      "  df_grouped = df.groupby(by=['log_info', 'lambd'])['lower_bound', 'upper_bound']\n"
     ]
    }
   ],
   "source": [
    "df_grouped = df.groupby(by=['log_info', 'lambd'])['lower_bound', 'upper_bound']\n",
    "values_mean = df_grouped.mean()\n",
    "values_std = df_grouped.std()"
   ]
  },
  {
   "cell_type": "code",
   "execution_count": 20,
   "id": "d6c13fe1-3dcc-45b8-966c-4107971bf4a2",
   "metadata": {
    "tags": []
   },
   "outputs": [
    {
     "data": {
      "image/png": "[encoded data removed]",
      "text/plain": [
       "<Figure size 432x288 with 1 Axes>"
      ]
     },
     "metadata": {
      "needs_background": "light"
     },
     "output_type": "display_data"
    }
   ],
   "source": [
    "colors = {method: tab10((0.5 + i) / 10) for i, method in enumerate(grid_methods.keys())}\n",
    "legend_targets = []\n",
    "legend_tags = [\"ZSB\", \"low-rank GP KCMC ($D=100$)\", \"hard KCMC ($D=100$)\", \"QB\"]\n",
    "\n",
    "for method_name in grid_methods.keys():\n",
    "    upper = np.array([values_mean.loc[(method_name, lambd)]['upper_bound'] for lambd in grid_lambd])\n",
    "    lower = np.array([values_mean.loc[(method_name, lambd)]['lower_bound'] for lambd in grid_lambd])\n",
    "    dupper = np.array([values_std.loc[(method_name, lambd)]['upper_bound'] for lambd in grid_lambd])\n",
    "    dlower = np.array([values_std.loc[(method_name, lambd)]['lower_bound'] for lambd in grid_lambd])\n",
    "    c = colors[method_name]\n",
    "    upper_line = plt.plot(grid_lambd, upper, c=c)[0]\n",
    "    lower_line = plt.plot(grid_lambd, lower, c=c)[0]\n",
    "    upper_band = plt.fill_between(grid_lambd, upper + dupper, upper - dupper, color=c, alpha=0.1)\n",
    "    lower_band = plt.fill_between(grid_lambd, lower + dlower, lower - dlower, color=c, alpha=0.1)\n",
    "    legend_targets.append((upper_line, lower_line, upper_band, lower_band))\n",
    "\n",
    "plt.legend(legend_targets, legend_tags)\n",
    "plt.xlabel(r\"Sensitivity parameter $\\gamma$\")\n",
    "plt.ylabel(r\"Upper/lower bounds of policy value\")\n",
    "plt.xlim([1.0, 2.0])\n",
    "plt.savefig('logs/policy_evaluation_synthetic_continuous_changing_lambda.pdf')"
   ]
  },
  {
   "cell_type": "markdown",
   "id": "33d85253-5653-48e1-b827-e873e647dbbe",
   "metadata": {
    "tags": []
   },
   "source": [
    "# Real Data"
   ]
  },
  {
   "cell_type": "code",
   "execution_count": null,
   "id": "ffd9089d-b515-4f16-b8f7-c63750445673",
   "metadata": {},
   "outputs": [],
   "source": [
    "from kcmc.data_real import generate_data, estimate_p_t\n",
    "\n",
    "Y, T, X = generate_data()\n",
    "p_t = estimate_p_t(X, T)\n",
    "\n",
    "def LR_policy(X, T, beta):\n",
    "    n = X.shape[0]\n",
    "    T = torch.as_tensor(T)\n",
    "    X = np.concatenate([np.ones([n, 1]), X], axis=1)\n",
    "    p = torch.sigmoid(torch.tensor(X) @ beta)\n",
    "    return (1 - T) * p + T * (1 - p)\n",
    "\n",
    "beta_ipw = torch.zeros(9, requires_grad=True, dtype=float)\n",
    "ipw_policy = lambda X, T: LR_policy(X, T, beta_ipw)\n",
    "ipw(Y, T ,X, p_t, hajek_policy)\n",
    "\n",
    "train_steps = 101\n",
    "optimizer = torch.optim.RMSprop(lr=1e-1, params=[beta_ipw])\n",
    "pbar = tqdm(range(train_steps))\n",
    "for i in pbar:\n",
    "    value = ipw(Y, T, X, p_t, ipw_policy)\n",
    "    (- value).backward()\n",
    "    optimizer.step()\n",
    "    optimizer.zero_grad()\n",
    "    pbar.set_description(f\"Value: {value}\")"
   ]
  },
  {
   "cell_type": "code",
   "execution_count": 7,
   "id": "9c549b9f-5b91-40dd-837c-6a021738e0a9",
   "metadata": {},
   "outputs": [],
   "source": [
    "beta_e_x = np.asarray([0, .75, -.5, 0, -1])\n",
    "\n",
    "def toy_policy(X, T):\n",
    "    n = X.shape[0]\n",
    "    T = torch.as_tensor(T)\n",
    "    z = torch.as_tensor(X) @ torch.as_tensor(beta_e_x)\n",
    "    e_x = torch.exp(z) / (1 + torch.exp(z))\n",
    "    return (1. - T) * e_x + T * (1. - e_x)"
   ]
  },
  {
   "cell_type": "code",
   "execution_count": 8,
   "id": "d84fad60-2826-4129-8b31-7ca0967215af",
   "metadata": {},
   "outputs": [],
   "source": [
    "# Guessing kernel with approximate solution\n",
    "_, w_guess = confounding_robust_estimator(\n",
    "    Y, T, X, p_t, toy_policy, lambd=1.5,\n",
    "    hajek_const=True, tan_box_const=True, \n",
    "    return_w=True, normalize_p_t=True, \n",
    ")\n",
    "e_guess = p_t * w_guess - 1\n",
    "gp_kernel = kcmc.estimators.fit_gp_kernel(e_guess, T, X)\n",
    "kernel = gp_kernel.k2"
   ]
  },
  {
   "cell_type": "markdown",
   "id": "8f116b6c-5764-4541-9978-fb8555f5af1f",
   "metadata": {},
   "source": [
    "### Experiment of changing sensitivity parameter $\\lambda$ "
   ]
  },
  {
   "cell_type": "code",
   "execution_count": 10,
   "id": "db772f79-0f2d-4a9a-bff0-b5fe78c4eae4",
   "metadata": {},
   "outputs": [],
   "source": [
    "def update_base_method(**new_params):\n",
    "    ret = kcmc.experiment_policy_evaluation.EXAMPLE_PARAMS.copy()\n",
    "    ret.update(new_params)\n",
    "    return ret\n",
    "\n",
    "grid_methods = {\n",
    "    'ZSB': update_base_method(\n",
    "        hajek_const=True,\n",
    "        normalize_p_t=True,\n",
    "        tan_box_const=True,\n",
    "    ),\n",
    "    'GP_KCMC': update_base_method(\n",
    "        hajek_const=True,\n",
    "        normalize_p_t=True,\n",
    "        tan_box_const=True,\n",
    "        kernel=kernel,\n",
    "        kernel_const=True,\n",
    "        D=100,\n",
    "    ),\n",
    "    'hard_KCMC': update_base_method(\n",
    "        hajek_const=True,\n",
    "        normalize_p_t=True,\n",
    "        tan_box_const=True,\n",
    "        kernel=kernel,\n",
    "        kernel_const=True,\n",
    "        hard_kernel_const=True,\n",
    "        D=100,\n",
    "    ),\n",
    "    'quantile': update_base_method(\n",
    "        hajek_const=True,\n",
    "        normalize_p_t=True,\n",
    "        tan_box_const=True,\n",
    "        quantile_const=True,\n",
    "    ),\n",
    "}\n",
    "\n",
    "grid_lambd = [1.0 + 0.01 + 0.1 * i for i in range(11)]"
   ]
  },
  {
   "cell_type": "code",
   "execution_count": 11,
   "id": "20a03abb-c3e5-44da-84d3-bc75d81e085b",
   "metadata": {},
   "outputs": [
    {
     "data": {
      "application/vnd.jupyter.widget-view+json": {
       "model_id": "70197a0220ec4a8fb4186069630f880f",
       "version_major": 2,
       "version_minor": 0
      },
      "text/plain": [
       "  0%|          | 0/44 [00:00<?, ?it/s]"
      ]
     },
     "metadata": {},
     "output_type": "display_data"
    }
   ],
   "source": [
    "log_file='logs/policy_evaluation_real_binary_changing_lambda.csv'\n",
    "\n",
    "pbar = tqdm(total=len(grid_methods) * len(grid_lambd))\n",
    "for method_name, params in grid_methods.items():\n",
    "    for lambd in grid_lambd:\n",
    "        params['lambd'] = lambd\n",
    "        run_policy_evaluation_experiment(\n",
    "            log_file, params, toy_policy, data_type='real binary', \n",
    "            n_seeds=10, sample_size=1000, log_info=method_name\n",
    "        )\n",
    "        pbar.update(1)\n",
    "pbar.close()"
   ]
  },
  {
   "cell_type": "code",
   "execution_count": 12,
   "id": "6d8d1ff5-8cc5-4140-8c28-651e796801e4",
   "metadata": {},
   "outputs": [],
   "source": [
    "df = pd.read_csv('logs/policy_evaluation_real_binary_changing_lambda.csv')"
   ]
  },
  {
   "cell_type": "code",
   "execution_count": 13,
   "id": "968569a2-dab7-4eaf-8168-b19f0e63392f",
   "metadata": {},
   "outputs": [
    {
     "data": {
      "text/html": [
       "<div>\n",
       "<style scoped>\n",
       "    .dataframe tbody tr th:only-of-type {\n",
       "        vertical-align: middle;\n",
       "    }\n",
       "\n",
       "    .dataframe tbody tr th {\n",
       "        vertical-align: top;\n",
       "    }\n",
       "\n",
       "    .dataframe thead th {\n",
       "        text-align: right;\n",
       "    }\n",
       "</style>\n",
       "<table border=\"1\" class=\"dataframe\">\n",
       "  <thead>\n",
       "    <tr style=\"text-align: right;\">\n",
       "      <th></th>\n",
       "      <th>log_info</th>\n",
       "      <th>data_type</th>\n",
       "      <th>policy_name</th>\n",
       "      <th>sample_size</th>\n",
       "      <th>seed</th>\n",
       "      <th>lower_bound</th>\n",
       "      <th>upper_bound</th>\n",
       "      <th>D</th>\n",
       "      <th>lambd</th>\n",
       "      <th>gamma</th>\n",
       "      <th>...</th>\n",
       "      <th>hard_kernel_const</th>\n",
       "      <th>normalize_p_t</th>\n",
       "      <th>f_divergence</th>\n",
       "      <th>hajek_const</th>\n",
       "      <th>kernel_const</th>\n",
       "      <th>quantile_const</th>\n",
       "      <th>regressor_const</th>\n",
       "      <th>tan_box_const</th>\n",
       "      <th>lr_box_const</th>\n",
       "      <th>f_const</th>\n",
       "    </tr>\n",
       "  </thead>\n",
       "  <tbody>\n",
       "    <tr>\n",
       "      <th>0</th>\n",
       "      <td>ZSB</td>\n",
       "      <td>synthetic binary</td>\n",
       "      <td>toy_policy</td>\n",
       "      <td>500</td>\n",
       "      <td>0</td>\n",
       "      <td>3.702457</td>\n",
       "      <td>3.724026</td>\n",
       "      <td>200</td>\n",
       "      <td>1.01</td>\n",
       "      <td>0.01</td>\n",
       "      <td>...</td>\n",
       "      <td>False</td>\n",
       "      <td>True</td>\n",
       "      <td>total variation</td>\n",
       "      <td>True</td>\n",
       "      <td>False</td>\n",
       "      <td>False</td>\n",
       "      <td>False</td>\n",
       "      <td>True</td>\n",
       "      <td>False</td>\n",
       "      <td>False</td>\n",
       "    </tr>\n",
       "    <tr>\n",
       "      <th>1</th>\n",
       "      <td>ZSB</td>\n",
       "      <td>synthetic binary</td>\n",
       "      <td>toy_policy</td>\n",
       "      <td>500</td>\n",
       "      <td>1</td>\n",
       "      <td>3.770768</td>\n",
       "      <td>3.796286</td>\n",
       "      <td>200</td>\n",
       "      <td>1.01</td>\n",
       "      <td>0.01</td>\n",
       "      <td>...</td>\n",
       "      <td>False</td>\n",
       "      <td>True</td>\n",
       "      <td>total variation</td>\n",
       "      <td>True</td>\n",
       "      <td>False</td>\n",
       "      <td>False</td>\n",
       "      <td>False</td>\n",
       "      <td>True</td>\n",
       "      <td>False</td>\n",
       "      <td>False</td>\n",
       "    </tr>\n",
       "    <tr>\n",
       "      <th>2</th>\n",
       "      <td>ZSB</td>\n",
       "      <td>synthetic binary</td>\n",
       "      <td>toy_policy</td>\n",
       "      <td>500</td>\n",
       "      <td>2</td>\n",
       "      <td>3.535814</td>\n",
       "      <td>3.557641</td>\n",
       "      <td>200</td>\n",
       "      <td>1.01</td>\n",
       "      <td>0.01</td>\n",
       "      <td>...</td>\n",
       "      <td>False</td>\n",
       "      <td>True</td>\n",
       "      <td>total variation</td>\n",
       "      <td>True</td>\n",
       "      <td>False</td>\n",
       "      <td>False</td>\n",
       "      <td>False</td>\n",
       "      <td>True</td>\n",
       "      <td>False</td>\n",
       "      <td>False</td>\n",
       "    </tr>\n",
       "    <tr>\n",
       "      <th>3</th>\n",
       "      <td>ZSB</td>\n",
       "      <td>synthetic binary</td>\n",
       "      <td>toy_policy</td>\n",
       "      <td>500</td>\n",
       "      <td>3</td>\n",
       "      <td>3.624325</td>\n",
       "      <td>3.640795</td>\n",
       "      <td>200</td>\n",
       "      <td>1.01</td>\n",
       "      <td>0.01</td>\n",
       "      <td>...</td>\n",
       "      <td>False</td>\n",
       "      <td>True</td>\n",
       "      <td>total variation</td>\n",
       "      <td>True</td>\n",
       "      <td>False</td>\n",
       "      <td>False</td>\n",
       "      <td>False</td>\n",
       "      <td>True</td>\n",
       "      <td>False</td>\n",
       "      <td>False</td>\n",
       "    </tr>\n",
       "    <tr>\n",
       "      <th>4</th>\n",
       "      <td>ZSB</td>\n",
       "      <td>synthetic binary</td>\n",
       "      <td>toy_policy</td>\n",
       "      <td>500</td>\n",
       "      <td>4</td>\n",
       "      <td>3.664120</td>\n",
       "      <td>3.686011</td>\n",
       "      <td>200</td>\n",
       "      <td>1.01</td>\n",
       "      <td>0.01</td>\n",
       "      <td>...</td>\n",
       "      <td>False</td>\n",
       "      <td>True</td>\n",
       "      <td>total variation</td>\n",
       "      <td>True</td>\n",
       "      <td>False</td>\n",
       "      <td>False</td>\n",
       "      <td>False</td>\n",
       "      <td>True</td>\n",
       "      <td>False</td>\n",
       "      <td>False</td>\n",
       "    </tr>\n",
       "  </tbody>\n",
       "</table>\n",
       "<p>5 rows × 23 columns</p>\n",
       "</div>"
      ],
      "text/plain": [
       "  log_info         data_type policy_name  sample_size  seed  lower_bound  \\\n",
       "0      ZSB  synthetic binary  toy_policy          500     0     3.702457   \n",
       "1      ZSB  synthetic binary  toy_policy          500     1     3.770768   \n",
       "2      ZSB  synthetic binary  toy_policy          500     2     3.535814   \n",
       "3      ZSB  synthetic binary  toy_policy          500     3     3.624325   \n",
       "4      ZSB  synthetic binary  toy_policy          500     4     3.664120   \n",
       "\n",
       "   upper_bound    D  lambd  gamma  ...  hard_kernel_const  normalize_p_t  \\\n",
       "0     3.724026  200   1.01   0.01  ...              False           True   \n",
       "1     3.796286  200   1.01   0.01  ...              False           True   \n",
       "2     3.557641  200   1.01   0.01  ...              False           True   \n",
       "3     3.640795  200   1.01   0.01  ...              False           True   \n",
       "4     3.686011  200   1.01   0.01  ...              False           True   \n",
       "\n",
       "      f_divergence  hajek_const  kernel_const quantile_const  regressor_const  \\\n",
       "0  total variation         True         False          False            False   \n",
       "1  total variation         True         False          False            False   \n",
       "2  total variation         True         False          False            False   \n",
       "3  total variation         True         False          False            False   \n",
       "4  total variation         True         False          False            False   \n",
       "\n",
       "   tan_box_const  lr_box_const  f_const  \n",
       "0           True         False    False  \n",
       "1           True         False    False  \n",
       "2           True         False    False  \n",
       "3           True         False    False  \n",
       "4           True         False    False  \n",
       "\n",
       "[5 rows x 23 columns]"
      ]
     },
     "execution_count": 13,
     "metadata": {},
     "output_type": "execute_result"
    }
   ],
   "source": [
    "df.head()"
   ]
  },
  {
   "cell_type": "code",
   "execution_count": 14,
   "id": "77a5f740-4a2f-4d8a-b654-0408724f9da0",
   "metadata": {},
   "outputs": [],
   "source": [
    "# due to the numerical rounding, some of the original values are invalid indices\n",
    "grid_lambd = df.lambd.unique()  "
   ]
  },
  {
   "cell_type": "code",
   "execution_count": 15,
   "id": "cba50ef9-a2dd-4f98-8ed3-abee85debfcd",
   "metadata": {},
   "outputs": [
    {
     "name": "stderr",
     "output_type": "stream",
     "text": [
      "/tmp/ipykernel_1581777/1363206736.py:1: FutureWarning: Indexing with multiple keys (implicitly converted to a tuple of keys) will be deprecated, use a list instead.\n",
      "  df_grouped = df.groupby(by=['log_info', 'lambd'])['lower_bound', 'upper_bound']\n"
     ]
    }
   ],
   "source": [
    "df_grouped = df.groupby(by=['log_info', 'lambd'])['lower_bound', 'upper_bound']\n",
    "values_mean = df_grouped.mean()\n",
    "values_std = df_grouped.std()"
   ]
  },
  {
   "cell_type": "code",
   "execution_count": 20,
   "id": "3c57c414-0ba7-4fee-b7f6-c691c28133b6",
   "metadata": {
    "tags": []
   },
   "outputs": [
    {
     "data": {
      "image/png": "[encoded data removed]",
      "text/plain": [
       "<Figure size 432x288 with 1 Axes>"
      ]
     },
     "metadata": {
      "needs_background": "light"
     },
     "output_type": "display_data"
    }
   ],
   "source": [
    "colors = {method: tab10((0.5 + i) / 10) for i, method in enumerate(grid_methods.keys())}\n",
    "legend_targets = []\n",
    "legend_tags = [\"ZSB\", \"low-rank GP KCMC ($D=100$)\", \"hard KCMC ($D=100$)\", \"QB\"]\n",
    "\n",
    "for method_name in grid_methods.keys():\n",
    "    upper = np.array([values_mean.loc[(method_name, lambd)]['upper_bound'] for lambd in grid_lambd])\n",
    "    lower = np.array([values_mean.loc[(method_name, lambd)]['lower_bound'] for lambd in grid_lambd])\n",
    "    dupper = np.array([values_std.loc[(method_name, lambd)]['upper_bound'] for lambd in grid_lambd])\n",
    "    dlower = np.array([values_std.loc[(method_name, lambd)]['lower_bound'] for lambd in grid_lambd])\n",
    "    c = colors[method_name]\n",
    "    upper_line = plt.plot(grid_lambd, upper, c=c)[0]\n",
    "    lower_line = plt.plot(grid_lambd, lower, c=c)[0]\n",
    "    upper_band = plt.fill_between(grid_lambd, upper + dupper, upper - dupper, color=c, alpha=0.1)\n",
    "    lower_band = plt.fill_between(grid_lambd, lower + dlower, lower - dlower, color=c, alpha=0.1)\n",
    "    legend_targets.append((upper_line, lower_line, upper_band, lower_band))\n",
    "\n",
    "plt.legend(legend_targets, legend_tags)\n",
    "plt.xlabel(r\"Sensitivity parameter $\\gamma$\")\n",
    "plt.ylabel(r\"Upper/lower bounds of policy value\")\n",
    "plt.xlim([1.0, 2.0])\n",
    "plt.savefig('logs/policy_evaluation_real_binary_changing_lambda.pdf')"
   ]
  },
  {
   "cell_type": "markdown",
   "id": "d32ae6b5-a553-4938-b801-507577fbd957",
   "metadata": {},
   "source": [
    "### Ground Truth"
   ]
  },
  {
   "cell_type": "code",
   "execution_count": 8,
   "id": "01b93677-0b48-4c01-ac31-5d3512df0256",
   "metadata": {},
   "outputs": [
    {
     "data": {
      "text/plain": [
       "tensor(3.8210, dtype=torch.float64)"
      ]
     },
     "execution_count": 8,
     "metadata": {},
     "output_type": "execute_result"
    }
   ],
   "source": [
    "evaluate_policy(toy_policy, n=1000000)"
   ]
  },
  {
   "cell_type": "markdown",
   "id": "192be7f4-218c-438b-936e-1fb36b12d858",
   "metadata": {
    "tags": []
   },
   "source": [
    "### IPW estimator"
   ]
  },
  {
   "cell_type": "code",
   "execution_count": 9,
   "id": "9122f446-64b0-4136-8e5e-f9a88dffbef4",
   "metadata": {},
   "outputs": [],
   "source": [
    "est_ipw = ipw(Y, T, X, p_t, toy_policy)"
   ]
  },
  {
   "cell_type": "code",
   "execution_count": 10,
   "id": "706245b2-acee-48fb-913c-0806dc1eddc0",
   "metadata": {},
   "outputs": [
    {
     "data": {
      "text/plain": [
       "tensor(4.1126, dtype=torch.float64)"
      ]
     },
     "execution_count": 10,
     "metadata": {},
     "output_type": "execute_result"
    }
   ],
   "source": [
    "est_ipw"
   ]
  },
  {
   "cell_type": "markdown",
   "id": "4d6b579c-ada1-43bb-8891-69257462c55a",
   "metadata": {
    "tags": []
   },
   "source": [
    "### Hajek estimator"
   ]
  },
  {
   "cell_type": "code",
   "execution_count": 11,
   "id": "1c618850-7e54-465a-b6a5-ca99df3785ec",
   "metadata": {},
   "outputs": [],
   "source": [
    "est_hajek = hajek(Y, T, X, p_t, toy_policy)"
   ]
  },
  {
   "cell_type": "code",
   "execution_count": 14,
   "id": "cd86c2c2-01da-4fca-b602-ba798e87bd37",
   "metadata": {},
   "outputs": [
    {
     "data": {
      "text/plain": [
       "tensor(6988.2551, dtype=torch.float64)"
      ]
     },
     "execution_count": 14,
     "metadata": {},
     "output_type": "execute_result"
    }
   ],
   "source": [
    "est_hajek"
   ]
  },
  {
   "cell_type": "markdown",
   "id": "1850ff26-d019-4d86-bf76-b4cbef1cfc92",
   "metadata": {},
   "source": [
    "### Implement Confounding Robust Inference"
   ]
  },
  {
   "cell_type": "code",
   "execution_count": 15,
   "id": "4f51fe24-3bd2-413c-b5b0-3082433d81f3",
   "metadata": {},
   "outputs": [
    {
     "data": {
      "text/plain": [
       "['KL',\n",
       " 'inverse KL',\n",
       " 'Jensen-Shannon',\n",
       " 'squared Hellinger',\n",
       " 'Pearson chi squared',\n",
       " 'Neyman chi squared',\n",
       " 'total variation']"
      ]
     },
     "execution_count": 15,
     "metadata": {},
     "output_type": "execute_result"
    }
   ],
   "source": [
    "kcmc.estimators.f_divergences"
   ]
  },
  {
   "cell_type": "markdown",
   "id": "f058a91f-2c45-482c-90bf-360a10833ff5",
   "metadata": {},
   "source": [
    "### Compare Policy Learning Performance"
   ]
  },
  {
   "cell_type": "code",
   "execution_count": 32,
   "id": "d1e50f91-9bcb-4028-a87e-09e15de4d177",
   "metadata": {},
   "outputs": [],
   "source": [
    "def base_policy(X, T):\n",
    "    n = X.shape[0]\n",
    "    return 0.5 * torch.ones(n, dtype=float)\n",
    "\n",
    "def LR_policy(X, T, beta):\n",
    "    n = X.shape[0]\n",
    "    T = torch.as_tensor(T)\n",
    "    X = np.concatenate([np.ones([n, 1]), X], axis=1)\n",
    "    p = torch.sigmoid(torch.tensor(X) @ beta)\n",
    "    return (1 - T) * p + T * (1 - p)"
   ]
  },
  {
   "cell_type": "code",
   "execution_count": 33,
   "id": "b1c061b6-9fbd-4de8-96ac-ccee3fbfcf5a",
   "metadata": {},
   "outputs": [],
   "source": [
    "class nnPolicy(torch.nn.Module):\n",
    "    def __init__(self):\n",
    "        super().__init__()\n",
    "        self.nn = torch.nn.Sequential(\n",
    "            torch.nn.Linear(5, 32),\n",
    "            torch.nn.ReLU(),\n",
    "            torch.nn.Linear(32, 32),\n",
    "            torch.nn.ReLU(),\n",
    "            torch.nn.Linear(32, 1),\n",
    "            torch.nn.Sigmoid(),\n",
    "        )\n",
    "        self.nn[-2].weight.data[:] = 0.\n",
    "        self.nn[-2].bias.data[:] = 0.\n",
    "\n",
    "    def forward(self, X, T):\n",
    "        X = torch.as_tensor(X, dtype=torch.float32)\n",
    "        T = torch.as_tensor(T)\n",
    "        p = self.nn(X)[:, 0]\n",
    "        return (1 - T) * p + T * (1 - p)"
   ]
  },
  {
   "cell_type": "code",
   "execution_count": 70,
   "id": "2d9f2a07-2a86-476e-a125-68f24426578f",
   "metadata": {},
   "outputs": [],
   "source": [
    "@wrap_continuous_policy\n",
    "def base_policy(X):\n",
    "    mu_t = 0.5 * torch.ones(X.shape[0])\n",
    "    a, b = 10 * mu_t + 1, 10 * (1 - mu_t) + 1\n",
    "    return torch.distributions.beta.Beta(a, b)\n",
    "\n",
    "def LR_policy(X, beta):\n",
    "    X = np.concatenate([np.ones([X.shape[0], 1]), X], axis=1)\n",
    "    mu_t = torch.sigmoid(torch.tensor(X) @ beta)\n",
    "    a, b = 10 * mu_t + 1, 10 * (1 - mu_t) + 1\n",
    "    return torch.distributions.beta.Beta(a, b)"
   ]
  },
  {
   "cell_type": "code",
   "execution_count": 64,
   "id": "89f313ae-1040-4585-84d3-b5cc5328028a",
   "metadata": {},
   "outputs": [],
   "source": [
    "class nnPolicy(torch.nn.Module):\n",
    "    def __init__(self):\n",
    "        super().__init__()\n",
    "        self.nn = torch.nn.Sequential(\n",
    "            torch.nn.Linear(5, 32),\n",
    "            torch.nn.ReLU(),\n",
    "            torch.nn.Linear(32, 32),\n",
    "            torch.nn.ReLU(),\n",
    "            torch.nn.Linear(32, 1),\n",
    "            torch.nn.Sigmoid(),\n",
    "        )\n",
    "        self.nn[-2].weight.data[:] = 0.\n",
    "        self.nn[-2].bias.data[:] = 0.\n",
    "    \n",
    "    def forward(self, X):\n",
    "        X = torch.as_tensor(X, dtype=torch.float32)\n",
    "        mu_t = torch.sigmoid(self.nn(X)[:, 0])\n",
    "        a, b = 10 * mu_t + 1, 10 * (1 - mu_t) + 1\n",
    "        return torch.distributions.beta.Beta(a, b)"
   ]
  },
  {
   "cell_type": "code",
   "execution_count": 65,
   "id": "4e15e5d7-d487-4bfa-a46b-3a6b77e2ec48",
   "metadata": {},
   "outputs": [
    {
     "data": {
      "text/plain": [
       "tensor(3.7413, dtype=torch.float64)"
      ]
     },
     "execution_count": 65,
     "metadata": {},
     "output_type": "execute_result"
    }
   ],
   "source": [
    "evaluate_policy(base_policy, n=100000)"
   ]
  },
  {
   "cell_type": "code",
   "execution_count": 66,
   "id": "6717fbcd-2256-4c46-9d0d-74413a230e6b",
   "metadata": {},
   "outputs": [
    {
     "data": {
      "text/plain": [
       "tensor(3.7534, dtype=torch.float64)"
      ]
     },
     "execution_count": 66,
     "metadata": {},
     "output_type": "execute_result"
    }
   ],
   "source": [
    "nn_policy = wrap_continuous_policy(nnPolicy())\n",
    "evaluate_policy(nn_policy, n=100000)"
   ]
  },
  {
   "cell_type": "markdown",
   "id": "a7135e18-9fd9-4400-b83f-b1e4e7045ea5",
   "metadata": {},
   "source": [
    "#### Best Policy"
   ]
  },
  {
   "cell_type": "code",
   "execution_count": 72,
   "id": "72178905-238f-4688-b849-e5ddbc59f357",
   "metadata": {},
   "outputs": [
    {
     "data": {
      "application/vnd.jupyter.widget-view+json": {
       "model_id": "84cdb7a3937241c2be40a915b0b5e81b",
       "version_major": 2,
       "version_minor": 0
      },
      "text/plain": [
       "  0%|          | 0/101 [00:00<?, ?it/s]"
      ]
     },
     "metadata": {},
     "output_type": "display_data"
    }
   ],
   "source": [
    "train_steps = 101\n",
    "beta_best = torch.zeros(6, requires_grad=True, dtype=float)\n",
    "best_policy = wrap_continuous_policy(lambda X: LR_policy(X, beta_best))\n",
    "optimizer = torch.optim.RMSprop(lr=1e-1, params=[beta_best])\n",
    "pbar = tqdm(range(train_steps))\n",
    "for i in pbar:\n",
    "    value = evaluate_policy(best_policy, n=100000, requires_grad=True)\n",
    "    (- value).backward()\n",
    "    optimizer.step()\n",
    "    optimizer.zero_grad()\n",
    "    pbar.set_description(f\"Value: {value}\")"
   ]
  },
  {
   "cell_type": "code",
   "execution_count": null,
   "id": "e65545b6-4bd4-474a-9f90-59e337d33998",
   "metadata": {},
   "outputs": [],
   "source": [
    "train_steps = 101\n",
    "beta_best = torch.zeros(6, requires_grad=True, dtype=float)\n",
    "best_policy = lambda X, T: LR_policy(X, T, beta_best)\n",
    "optimizer = torch.optim.RMSprop(lr=1e-1, params=[beta_best])\n",
    "pbar = tqdm(range(train_steps))\n",
    "for i in pbar:\n",
    "    value = evaluate_policy(best_policy, n=100000)\n",
    "    (- value).backward()\n",
    "    optimizer.step()\n",
    "    optimizer.zero_grad()\n",
    "    pbar.set_description(f\"Value: {value}\")"
   ]
  },
  {
   "cell_type": "markdown",
   "id": "fd5860f1-5888-4134-809a-c6d88eaaee6f",
   "metadata": {
    "tags": []
   },
   "source": [
    "#### Just Run Hajek optimization"
   ]
  },
  {
   "cell_type": "code",
   "execution_count": 55,
   "id": "3faaf59a-d1e7-4e87-9b01-1b21de25ab0a",
   "metadata": {},
   "outputs": [
    {
     "data": {
      "application/vnd.jupyter.widget-view+json": {
       "model_id": "faabfc98f47548d7a633195e1cb87812",
       "version_major": 2,
       "version_minor": 0
      },
      "text/plain": [
       "  0%|          | 0/101 [00:00<?, ?it/s]"
      ]
     },
     "metadata": {},
     "output_type": "display_data"
    }
   ],
   "source": [
    "train_steps = 101\n",
    "beta_hajek = torch.zeros(6, requires_grad=True, dtype=float)\n",
    "hajek_policy = lambda X, T: LR_policy(X, T, beta_hajek)\n",
    "optimizer = torch.optim.RMSprop(lr=1e-1, params=[beta_hajek])\n",
    "pbar = tqdm(range(train_steps))\n",
    "for i in pbar:\n",
    "    value = hajek(Y, T, X, p_t, hajek_policy)\n",
    "    (- value).backward()\n",
    "    optimizer.step()\n",
    "    optimizer.zero_grad()\n",
    "    pbar.set_description(f\"Value: {value}\")"
   ]
  },
  {
   "cell_type": "code",
   "execution_count": 56,
   "id": "6f68a7fc-d8b5-4677-a723-5f880e3643c9",
   "metadata": {},
   "outputs": [
    {
     "data": {
      "text/plain": [
       "tensor(4.6822, dtype=torch.float64, grad_fn=<MeanBackward0>)"
      ]
     },
     "execution_count": 56,
     "metadata": {},
     "output_type": "execute_result"
    }
   ],
   "source": [
    "evaluate_policy(hajek_policy, n=100000)"
   ]
  },
  {
   "cell_type": "markdown",
   "id": "3bb89ee4-1cbf-4ce7-a209-c82e62340fd2",
   "metadata": {},
   "source": [
    "### Just run min-max optimzation"
   ]
  },
  {
   "cell_type": "code",
   "execution_count": 57,
   "id": "d0981074-6758-417c-9333-e230fea92029",
   "metadata": {},
   "outputs": [],
   "source": [
    "def evaluate_confounding_robust_hajek(policy):\n",
    "    est = confounding_robust_estimator(\n",
    "        Y, T, X, p_t, policy, \n",
    "        lambd=1.5, hajek_const=True, tan_box_const=True,\n",
    "    )\n",
    "    return est"
   ]
  },
  {
   "cell_type": "code",
   "execution_count": 58,
   "id": "0de66b67-21ac-450f-94ba-3c712f171cf8",
   "metadata": {},
   "outputs": [],
   "source": [
    "def evaluate_confounding_robust_kernel(policy):\n",
    "    est = confounding_robust_estimator(\n",
    "        Y, T, X, p_t, policy, \n",
    "        D=200, lambd=1.5, alpha=0.05, \n",
    "        sigma2=sigma2, kernel=kernel,\n",
    "        kernel_const=True,\n",
    "        tan_box_const=True,\n",
    "    )\n",
    "    return est"
   ]
  },
  {
   "cell_type": "code",
   "execution_count": 60,
   "id": "9d210ddd-d8e9-401a-900f-f7ec72c993e9",
   "metadata": {
    "tags": []
   },
   "outputs": [
    {
     "data": {
      "application/vnd.jupyter.widget-view+json": {
       "model_id": "7c4dc773be764029965dfc010d0887fa",
       "version_major": 2,
       "version_minor": 0
      },
      "text/plain": [
       "  0%|          | 0/101 [00:00<?, ?it/s]"
      ]
     },
     "metadata": {},
     "output_type": "display_data"
    }
   ],
   "source": [
    "# Hajek policy min-max value\n",
    "train_steps = 101\n",
    "beta_hajek = torch.zeros(6, requires_grad=True, dtype=float)\n",
    "hajek_policy = lambda X, T: LR_policy(X, T, beta_hajek)\n",
    "optimizer = torch.optim.SGD(lr=1e-1, params=[beta_hajek])\n",
    "pbar = tqdm(range(train_steps))\n",
    "for i in pbar:\n",
    "    hajek_value = evaluate_confounding_robust_hajek(hajek_policy)\n",
    "    (- hajek_value).backward()\n",
    "    optimizer.step()\n",
    "    optimizer.zero_grad()\n",
    "    pbar.set_description(f\"Value: {hajek_value}\")"
   ]
  },
  {
   "cell_type": "code",
   "execution_count": 61,
   "id": "13c26fa8-9f5b-40e9-9905-f8c71837e821",
   "metadata": {},
   "outputs": [
    {
     "data": {
      "text/plain": [
       "tensor(4.4034, dtype=torch.float64, grad_fn=<MeanBackward0>)"
      ]
     },
     "execution_count": 61,
     "metadata": {},
     "output_type": "execute_result"
    }
   ],
   "source": [
    "evaluate_policy(hajek_policy, n=100000)"
   ]
  },
  {
   "cell_type": "code",
   "execution_count": 62,
   "id": "92634392-5a0d-45f6-897d-b689240d805e",
   "metadata": {},
   "outputs": [
    {
     "data": {
      "text/plain": [
       "tensor(4.0741, dtype=torch.float64, grad_fn=<MeanBackward0>)"
      ]
     },
     "execution_count": 62,
     "metadata": {},
     "output_type": "execute_result"
    }
   ],
   "source": [
    "evaluate_confounding_robust_kernel(hajek_policy)"
   ]
  },
  {
   "cell_type": "code",
   "execution_count": 63,
   "id": "f3fdf7b7-97ce-4467-9245-5b7988855917",
   "metadata": {},
   "outputs": [
    {
     "data": {
      "application/vnd.jupyter.widget-view+json": {
       "model_id": "ed0d4bc381c54cc390a0da8a96a2ca6a",
       "version_major": 2,
       "version_minor": 0
      },
      "text/plain": [
       "  0%|          | 0/101 [00:00<?, ?it/s]"
      ]
     },
     "metadata": {},
     "output_type": "display_data"
    }
   ],
   "source": [
    "# Kernel policy min-max value\n",
    "train_steps = 101\n",
    "beta_kernel = torch.zeros(6, requires_grad=True, dtype=float)\n",
    "kernel_policy = lambda X, T: LR_policy(X, T, beta_kernel)\n",
    "optimizer = torch.optim.RMSprop(lr=1e-1, params=[beta_kernel])\n",
    "pbar = tqdm(range(train_steps))\n",
    "for i in pbar:\n",
    "    kernel_value = evaluate_confounding_robust_kernel(kernel_policy)\n",
    "    (- kernel_value).backward()\n",
    "    optimizer.step()\n",
    "    optimizer.zero_grad()\n",
    "    pbar.set_description(f\"Value: {kernel_value}\")"
   ]
  },
  {
   "cell_type": "code",
   "execution_count": 64,
   "id": "a4698840-9670-4345-8ed2-d63f69cde402",
   "metadata": {},
   "outputs": [
    {
     "data": {
      "text/plain": [
       "tensor(4.6240, dtype=torch.float64, grad_fn=<MeanBackward0>)"
      ]
     },
     "execution_count": 64,
     "metadata": {},
     "output_type": "execute_result"
    }
   ],
   "source": [
    "evaluate_policy(kernel_policy, n=100000)"
   ]
  },
  {
   "cell_type": "code",
   "execution_count": 65,
   "id": "fdb3ccc7-2906-4711-b340-2fda629f9840",
   "metadata": {},
   "outputs": [
    {
     "data": {
      "text/plain": [
       "tensor(4.4347, dtype=torch.float64, grad_fn=<MeanBackward0>)"
      ]
     },
     "execution_count": 65,
     "metadata": {},
     "output_type": "execute_result"
    }
   ],
   "source": [
    "evaluate_confounding_robust_kernel(kernel_policy)"
   ]
  }
 ],
 "metadata": {
  "kernelspec": {
   "display_name": "Python 3",
   "language": "python",
   "name": "python3"
  },
  "language_info": {
   "codemirror_mode": {
    "name": "ipython",
    "version": 3
   },
   "file_extension": ".py",
   "mimetype": "text/x-python",
   "name": "python",
   "nbconvert_exporter": "python",
   "pygments_lexer": "ipython3",
   "version": "3.8.10"
  }
 },
 "nbformat": 4,
 "nbformat_minor": 5
}
