{
 "cells": [
  {
   "cell_type": "code",
   "execution_count": 51,
   "id": "16433ca9-aeed-46de-a809-d064d220a2f3",
   "metadata": {},
   "outputs": [],
   "source": [
    "import numpy as np\n",
    "import torch\n",
    "import pandas as pd\n",
    "import numpy as np"
   ]
  },
  {
   "cell_type": "code",
   "execution_count": 52,
   "id": "a67d678e-0d10-49ce-bb57-73cf322de723",
   "metadata": {},
   "outputs": [],
   "source": [
    "from matplotlib import pyplot as plt\n",
    "plt.style.use(\"seaborn-whitegrid\")\n",
    "from matplotlib.cm import tab10"
   ]
  },
  {
   "cell_type": "code",
   "execution_count": 53,
   "id": "ba28601d-7dcb-43f5-b27a-afab41c648cf",
   "metadata": {},
   "outputs": [],
   "source": [
    "from tqdm.auto import tqdm"
   ]
  },
  {
   "cell_type": "code",
   "execution_count": 54,
   "id": "4b0180e1-8b2a-492b-84d8-1ee169552f83",
   "metadata": {},
   "outputs": [],
   "source": [
    "import kcmc\n",
    "from kcmc.estimators import confounding_robust_estimator, hajek, ipw\n",
    "from kcmc.experiment_policy_evaluation import run_policy_evaluation_experiment"
   ]
  },
  {
   "cell_type": "code",
   "execution_count": 55,
   "id": "4f51fe24-3bd2-413c-b5b0-3082433d81f3",
   "metadata": {},
   "outputs": [
    {
     "data": {
      "text/plain": [
       "['KL',\n",
       " 'inverse KL',\n",
       " 'Jensen-Shannon',\n",
       " 'squared Hellinger',\n",
       " 'Pearson chi squared',\n",
       " 'Neyman chi squared',\n",
       " 'total variation']"
      ]
     },
     "execution_count": 55,
     "metadata": {},
     "output_type": "execute_result"
    }
   ],
   "source": [
    "kcmc.estimators.f_divergences"
   ]
  },
  {
   "cell_type": "code",
   "execution_count": 56,
   "id": "ce19f680-6a62-45e3-b0f2-2e8729aae329",
   "metadata": {},
   "outputs": [],
   "source": [
    "F_DIVERGENCE = 'KL'"
   ]
  },
  {
   "cell_type": "code",
   "execution_count": 57,
   "id": "e50128b3-21de-407d-b181-60dab96c25cb",
   "metadata": {},
   "outputs": [],
   "source": [
    "MAX_GAMMA = {\n",
    "    'KL': 0.02,\n",
    "    'inverse KL': 0.04,\n",
    "    'Jensen-Shannon': 0.03,\n",
    "    'squared Hellinger': 0.01,\n",
    "    'Pearson chi squared':0.06,\n",
    "    'Neyman chi squared':0.03,\n",
    "    'total variation': 0.015,\n",
    "}"
   ]
  },
  {
   "cell_type": "markdown",
   "id": "d3d992fa-e3aa-4508-9d51-b252770febfb",
   "metadata": {
    "tags": []
   },
   "source": [
    "# Binary Synthetic Data"
   ]
  },
  {
   "cell_type": "code",
   "execution_count": 58,
   "id": "f9d12538-177a-4ca5-892a-21588b123fd2",
   "metadata": {},
   "outputs": [],
   "source": [
    "from kcmc.data_binary import evaluate_policy, generate_data, estimate_p_t"
   ]
  },
  {
   "cell_type": "code",
   "execution_count": 59,
   "id": "b14c0b72-5f51-4cfe-b369-81009ea78236",
   "metadata": {},
   "outputs": [],
   "source": [
    "beta_e_x = np.asarray([0, .75, -.5, 0, -1])\n",
    "\n",
    "def toy_policy(X, T):\n",
    "    n = X.shape[0]\n",
    "    T = torch.as_tensor(T)\n",
    "    z = torch.as_tensor(X) @ torch.as_tensor(beta_e_x)\n",
    "    e_x = torch.exp(z) / (1 + torch.exp(z))\n",
    "    return (1. - T) * e_x + T * (1. - e_x)"
   ]
  },
  {
   "cell_type": "code",
   "execution_count": 60,
   "id": "9a9ed371-ac91-480a-99fa-1770d44c0184",
   "metadata": {},
   "outputs": [],
   "source": [
    "# Guessing kernel with approximate solution\n",
    "Y, T, X, _, _, _ = generate_data(1000)\n",
    "p_t = estimate_p_t(X, T)\n",
    "_, w_guess = confounding_robust_estimator(\n",
    "    Y, T, X, p_t, toy_policy, gamma=MAX_GAMMA[F_DIVERGENCE] * 0.5,\n",
    "    hajek_const=True, return_w=True, normalize_p_t=True,\n",
    "    f_const=True, f_divergence=F_DIVERGENCE,\n",
    ")\n",
    "e_guess = p_t * w_guess - 1\n",
    "gp_kernel = kcmc.estimators.fit_gp_kernel(e_guess, T, X)\n",
    "kernel = gp_kernel.k2"
   ]
  },
  {
   "cell_type": "code",
   "execution_count": 61,
   "id": "74f38a09-2d78-4b78-a34a-b53b9d607b6a",
   "metadata": {},
   "outputs": [
    {
     "data": {
      "text/plain": [
       "tensor(3.6434, dtype=torch.float64)"
      ]
     },
     "execution_count": 61,
     "metadata": {},
     "output_type": "execute_result"
    }
   ],
   "source": [
    "hajek(Y, T, X, p_t, toy_policy)"
   ]
  },
  {
   "cell_type": "markdown",
   "id": "4e7783a5-35c3-4342-8421-054850ae7bed",
   "metadata": {},
   "source": [
    "### Experiment of changing sensitivity parameter $\\gamma$ "
   ]
  },
  {
   "cell_type": "code",
   "execution_count": 62,
   "id": "5293ffeb-42e4-487c-bbdc-bd3779df2ce3",
   "metadata": {},
   "outputs": [],
   "source": [
    "def update_base_method(**new_params):\n",
    "    ret = kcmc.experiment_policy_evaluation.EXAMPLE_PARAMS.copy()\n",
    "    ret.update(new_params)\n",
    "    return ret\n",
    "\n",
    "grid_methods = {\n",
    "    'ZSB': update_base_method(\n",
    "        hajek_const=True,\n",
    "        normalize_p_t=True,\n",
    "        f_const=True, \n",
    "        f_divergence=F_DIVERGENCE,\n",
    "    ),\n",
    "    'GP_KCMC': update_base_method(\n",
    "        hajek_const=True,\n",
    "        normalize_p_t=True,\n",
    "        f_const=True, \n",
    "        f_divergence=F_DIVERGENCE,\n",
    "        kernel=kernel,\n",
    "        kernel_const=True,\n",
    "        D=100,\n",
    "    ),\n",
    "    'hard_KCMC': update_base_method(\n",
    "        hajek_const=True,\n",
    "        normalize_p_t=True,\n",
    "        f_const=True, \n",
    "        f_divergence=F_DIVERGENCE,\n",
    "        kernel=kernel,\n",
    "        kernel_const=True,\n",
    "        hard_kernel_const=True,\n",
    "        D=100,\n",
    "    ),\n",
    "    'quantile': update_base_method(\n",
    "        hajek_const=True,\n",
    "        normalize_p_t=True,\n",
    "        f_const=True, \n",
    "        f_divergence=F_DIVERGENCE,\n",
    "        quantile_const=True,\n",
    "    ),\n",
    "}\n",
    "\n",
    "grid_gamma = [MAX_GAMMA[F_DIVERGENCE] * (0.01 + 0.1 * i) for i in range(11)]"
   ]
  },
  {
   "cell_type": "code",
   "execution_count": null,
   "id": "d0f93d8a-af84-4127-9af8-bf87ef4cb1af",
   "metadata": {},
   "outputs": [
    {
     "data": {
      "application/vnd.jupyter.widget-view+json": {
       "model_id": "320d70a4ecaf4ab780dd035dd86c6be6",
       "version_major": 2,
       "version_minor": 0
      },
      "text/plain": [
       "  0%|          | 0/44 [00:00<?, ?it/s]"
      ]
     },
     "metadata": {},
     "output_type": "display_data"
    }
   ],
   "source": [
    "log_file=f'logs/policy_evaluation_synthetic_binary_changing_gamma_{F_DIVERGENCE}.csv'\n",
    "\n",
    "pbar = tqdm(total=len(grid_methods) * len(grid_gamma))\n",
    "for method_name, params in grid_methods.items():\n",
    "    for gamma in grid_gamma:\n",
    "        params['gamma'] = gamma\n",
    "        run_policy_evaluation_experiment(\n",
    "            log_file, params, toy_policy, data_type='synthetic binary', \n",
    "            n_seeds=10, sample_size=500, log_info=method_name\n",
    "        )\n",
    "        pbar.update(1)\n",
    "pbar.close()"
   ]
  },
  {
   "cell_type": "code",
   "execution_count": null,
   "id": "b601135b-c2cf-4bac-928f-db5a0dccdaf9",
   "metadata": {},
   "outputs": [],
   "source": [
    "df = pd.read_csv(f'logs/policy_evaluation_synthetic_binary_changing_gamma_{F_DIVERGENCE}.csv')"
   ]
  },
  {
   "cell_type": "code",
   "execution_count": null,
   "id": "6f085288-f287-4b3c-b874-4205d1fd62ec",
   "metadata": {},
   "outputs": [],
   "source": [
    "df.head()"
   ]
  },
  {
   "cell_type": "code",
   "execution_count": null,
   "id": "47c149bf-3530-4f88-ab59-e032ee9ea7db",
   "metadata": {},
   "outputs": [],
   "source": [
    "# due to the numerical rounding, some of the original values are invalid indices\n",
    "grid_gamma = df.gamma.unique()  "
   ]
  },
  {
   "cell_type": "code",
   "execution_count": null,
   "id": "eb0afdd9-ba4f-4d15-ab3a-cfa067c35422",
   "metadata": {},
   "outputs": [],
   "source": [
    "df_grouped = df.groupby(by=['log_info', 'gamma'])['lower_bound', 'upper_bound']\n",
    "values_mean = df_grouped.mean()\n",
    "values_std = df_grouped.std()"
   ]
  },
  {
   "cell_type": "code",
   "execution_count": null,
   "id": "b8427868-ef81-4eb2-8f30-a63acc09d5b6",
   "metadata": {
    "tags": []
   },
   "outputs": [],
   "source": [
    "colors = {method: tab10((0.5 + i) / 10) for i, method in enumerate(grid_methods.keys())}\n",
    "legend_targets = []\n",
    "legend_tags = [\"ZSB\", \"low-rank GP KCMC ($D=100$)\", \"hard KCMC ($D=100$)\", \"QB\"]\n",
    "\n",
    "for method_name in grid_methods.keys():\n",
    "    upper = np.array([values_mean.loc[(method_name, gamma)]['upper_bound'] for gamma in grid_gamma])\n",
    "    lower = np.array([values_mean.loc[(method_name, gamma)]['lower_bound'] for gamma in grid_gamma])\n",
    "    dupper = np.array([values_std.loc[(method_name, gamma)]['upper_bound'] for gamma in grid_gamma])\n",
    "    dlower = np.array([values_std.loc[(method_name, gamma)]['lower_bound'] for gamma in grid_gamma])\n",
    "    c = colors[method_name]\n",
    "    upper_line = plt.plot(grid_gamma, upper, c=c)[0]\n",
    "    lower_line = plt.plot(grid_gamma, lower, c=c)[0]\n",
    "    upper_band = plt.fill_between(grid_gamma, upper + dupper, upper - dupper, color=c, alpha=0.1)\n",
    "    lower_band = plt.fill_between(grid_gamma, lower + dlower, lower - dlower, color=c, alpha=0.1)\n",
    "    legend_targets.append((upper_line, lower_line, upper_band, lower_band))\n",
    "\n",
    "plt.legend(legend_targets, legend_tags)\n",
    "plt.xlabel(r\"Sensitivity parameter $\\gamma$\")\n",
    "plt.ylabel(r\"Upper/lower bounds of policy value\")\n",
    "plt.xlim([1.0, 2.0])\n",
    "plt.savefig(f'logs/policy_evaluation_synthetic_binary_changing_gamma_{F_DIVERGENCE}.pdf')"
   ]
  },
  {
   "cell_type": "markdown",
   "id": "04e0b8a1-9840-4aed-8423-8a6f9b0f5730",
   "metadata": {},
   "source": [
    "#### The interpretation of the above plot:\n",
    "- Since the upper/lower bound's tightness is independent of the sample size by definition, the width of interval should not change significantly for different sample size\n",
    "- However, the "
   ]
  },
  {
   "cell_type": "markdown",
   "id": "dfe379e6-7860-4f84-8487-3b0c2cc3349d",
   "metadata": {
    "tags": []
   },
   "source": [
    "# Continuous Synthetic Data"
   ]
  },
  {
   "cell_type": "code",
   "execution_count": null,
   "id": "92fcd4a3-5452-4cee-af9e-98cc54021bd9",
   "metadata": {},
   "outputs": [],
   "source": [
    "from kcmc.data_continuous import evaluate_policy, generate_data, estimate_p_t"
   ]
  },
  {
   "cell_type": "code",
   "execution_count": null,
   "id": "48942168-fbda-4bd8-8841-a3cf75af9dfa",
   "metadata": {},
   "outputs": [],
   "source": [
    "def wrap_continuous_policy(policy):\n",
    "    def wrapped_policy(X, T=None, return_sample=False, requires_grad=False): \n",
    "        policy_dist = policy(X)\n",
    "        if return_sample:\n",
    "            return policy_dist.rsample() if requires_grad else policy_dist.sample()\n",
    "        else:\n",
    "            return torch.exp(policy_dist.log_prob(torch.as_tensor(T)))\n",
    "    return wrapped_policy\n",
    "\n",
    "beta_e_x = np.asarray([0, .75, -.5, 0, -1])\n",
    "\n",
    "@wrap_continuous_policy\n",
    "def toy_policy(X):\n",
    "    z = torch.as_tensor(X) @ torch.as_tensor(beta_e_x)\n",
    "    mu_t = torch.exp(z) / (1 + torch.exp(z))\n",
    "    a, b = 3 * mu_t + 1, 3 * (1 - mu_t) + 1\n",
    "    return torch.distributions.beta.Beta(a, b)"
   ]
  },
  {
   "cell_type": "code",
   "execution_count": null,
   "id": "f5a812f9-2313-4509-bd00-e48ad1c32c3e",
   "metadata": {},
   "outputs": [],
   "source": [
    "beta_e_x = np.asarray([0, .75, -.5, 0, -1])\n",
    "\n",
    "def toy_policy(X, T):\n",
    "    n = X.shape[0]\n",
    "    T = torch.as_tensor(T)\n",
    "    z = torch.as_tensor(X) @ torch.as_tensor(beta_e_x)\n",
    "    e_x = torch.exp(z) / (1 + torch.exp(z))\n",
    "    return (1. - T) * e_x + T * (1. - e_x)"
   ]
  },
  {
   "cell_type": "markdown",
   "id": "ef553dc6-3d5f-4562-90fd-58e96ebf3ea1",
   "metadata": {},
   "source": [
    "### Experiment of changing sensitivity parameter $\\gamma$ "
   ]
  },
  {
   "cell_type": "code",
   "execution_count": null,
   "id": "fcf528c4-1fca-4ccd-8c0d-11603b3f4784",
   "metadata": {},
   "outputs": [],
   "source": [
    "def update_base_method(**new_params):\n",
    "    ret = kcmc.experiment_policy_evaluation.EXAMPLE_PARAMS.copy()\n",
    "    ret.update(new_params)\n",
    "    return ret\n",
    "\n",
    "grid_methods = {\n",
    "    'GP_KCMC': update_base_method(\n",
    "        f_const=True, \n",
    "        f_divergence=F_DIVERGENCE,\n",
    "        kernel=kernel,\n",
    "        kernel_const=True,\n",
    "        D=100,\n",
    "    ),\n",
    "    'hard_KCMC': update_base_method(\n",
    "        f_const=True, \n",
    "        f_divergence=F_DIVERGENCE,\n",
    "        kernel=kernel,\n",
    "        kernel_const=True,\n",
    "        hard_kernel_const=True,\n",
    "        D=100,\n",
    "    ),\n",
    "    'quantile': update_base_method(\n",
    "        f_const=True, \n",
    "        f_divergence=F_DIVERGENCE,\n",
    "        quantile_const=True,\n",
    "    ),\n",
    "}\n",
    "\n",
    "grid_gamma = [MAX_GAMMA[F_DIVERGENCE] * (0.01 + 0.1 * i) for i in range(11)]"
   ]
  },
  {
   "cell_type": "code",
   "execution_count": null,
   "id": "8b91ee9f-5573-413b-8ef8-8db3ed36837a",
   "metadata": {},
   "outputs": [],
   "source": [
    "log_file=f'logs/policy_evaluation_synthetic_continuous_changing_gamma_{F_DIVERGENCE}.csv'\n",
    "\n",
    "pbar = tqdm(total=len(grid_methods) * len(grid_gamma))\n",
    "for method_name, params in grid_methods.items():\n",
    "    for gamma in grid_gamma:\n",
    "        params['gamma'] = gamma\n",
    "        run_policy_evaluation_experiment(\n",
    "            log_file, params, toy_policy, data_type='synthetic continuous', \n",
    "            n_seeds=10, sample_size=500, log_info=method_name\n",
    "        )\n",
    "        pbar.update(1)\n",
    "pbar.close()"
   ]
  },
  {
   "cell_type": "code",
   "execution_count": null,
   "id": "17d13352-2b7f-4f7a-963d-1e0f856aa069",
   "metadata": {},
   "outputs": [],
   "source": [
    "df = pd.read_csv(f'logs/policy_evaluation_synthetic_continuous_changing_gamma_{F_DIVERGENCE}.csv')"
   ]
  },
  {
   "cell_type": "code",
   "execution_count": null,
   "id": "b67e89f4-f487-4955-b5e7-eff2354eb0e8",
   "metadata": {},
   "outputs": [],
   "source": [
    "df.head()"
   ]
  },
  {
   "cell_type": "code",
   "execution_count": null,
   "id": "3926e1ad-6304-4204-a2d0-c9706f942e43",
   "metadata": {},
   "outputs": [],
   "source": [
    "# due to the numerical rounding, some of the original values are invalid indices\n",
    "grid_gamma = df.gamma.unique()  "
   ]
  },
  {
   "cell_type": "code",
   "execution_count": null,
   "id": "0b9c2222-6687-4248-a951-42894352d77e",
   "metadata": {},
   "outputs": [],
   "source": [
    "df_grouped = df.groupby(by=['log_info', 'gamma'])['lower_bound', 'upper_bound']\n",
    "values_mean = df_grouped.mean()\n",
    "values_std = df_grouped.std()"
   ]
  },
  {
   "cell_type": "code",
   "execution_count": null,
   "id": "63092c26-cb33-4bfa-a682-16ca816676d2",
   "metadata": {
    "tags": []
   },
   "outputs": [],
   "source": [
    "colors = {method: tab10((0.5 + i) / 10) for i, method in enumerate(grid_methods.keys())}\n",
    "legend_targets = []\n",
    "legend_tags = [\"ZSB\", \"low-rank GP KCMC ($D=100$)\", \"hard KCMC ($D=100$)\", \"QB\"]\n",
    "\n",
    "for method_name in grid_methods.keys():\n",
    "    upper = np.array([values_mean.loc[(method_name, gamma)]['upper_bound'] for gamma in grid_gamma])\n",
    "    lower = np.array([values_mean.loc[(method_name, gamma)]['lower_bound'] for gamma in grid_gamma])\n",
    "    dupper = np.array([values_std.loc[(method_name, gamma)]['upper_bound'] for gamma in grid_gamma])\n",
    "    dlower = np.array([values_std.loc[(method_name, gamma)]['lower_bound'] for gamma in grid_gamma])\n",
    "    c = colors[method_name]\n",
    "    upper_line = plt.plot(grid_gamma, upper, c=c)[0]\n",
    "    lower_line = plt.plot(grid_gamma, lower, c=c)[0]\n",
    "    upper_band = plt.fill_between(grid_gamma, upper + dupper, upper - dupper, color=c, alpha=0.1)\n",
    "    lower_band = plt.fill_between(grid_gamma, lower + dlower, lower - dlower, color=c, alpha=0.1)\n",
    "    legend_targets.append((upper_line, lower_line, upper_band, lower_band))\n",
    "\n",
    "plt.legend(legend_targets, legend_tags)\n",
    "plt.xlabel(r\"Sensitivity parameter $\\gamma$\")\n",
    "plt.ylabel(r\"Upper/lower bounds of policy value\")\n",
    "plt.xlim([1.0, 2.0])\n",
    "plt.savefig(f'logs/policy_evaluation_synthetic_continuous_changing_gamma_{F_DIVERGENCE}.pdf')"
   ]
  },
  {
   "cell_type": "code",
   "execution_count": null,
   "id": "c9b7c85b-46d3-4e5b-9fb1-9c09b48a9f22",
   "metadata": {},
   "outputs": [],
   "source": []
  }
 ],
 "metadata": {
  "kernelspec": {
   "display_name": "Python 3",
   "language": "python",
   "name": "python3"
  },
  "language_info": {
   "codemirror_mode": {
    "name": "ipython",
    "version": 3
   },
   "file_extension": ".py",
   "mimetype": "text/x-python",
   "name": "python",
   "nbconvert_exporter": "python",
   "pygments_lexer": "ipython3",
   "version": "3.8.10"
  }
 },
 "nbformat": 4,
 "nbformat_minor": 5
}
