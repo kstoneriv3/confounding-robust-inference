{
 "cells": [
  {
   "cell_type": "markdown",
   "id": "63d85251-94a8-47b8-b6b0-caf5fccdd169",
   "metadata": {},
   "source": [
    "# Design Docs for New CMC"
   ]
  },
  {
   "cell_type": "markdown",
   "id": "554b67fc-8591-429b-bb8a-cc3fcb3e1379",
   "metadata": {},
   "source": [
    "### Current Problems\n",
    "\n",
    "- No test code\n",
    "- No formatter, linter\n",
    "- Too many arguments\n",
    "- Only few combinations of the arguments works OK\n",
    "- T is one dimensional while X is two\n",
    "- Examples are not good\n",
    "- Dual SGD is not supported\n",
    "- Kernel mismatch between QB and KCMC\n",
    "- Unstable continuous treatment model\n",
    "- No consistency plot\n",
    "- No doubly robust\n",
    "- No information criterion\n",
    "- No cross-validation\n",
    "- No hypothesis testing\n",
    "- It should take both torch tensor and numpy array as input\n",
    "- Avoid type 3 font of matplotlib at all cost\n",
    "- Avoid space in the file names of plots so that it is easier to submit to arxiv"
   ]
  },
  {
   "cell_type": "markdown",
   "id": "687b0616-1e96-4f36-8e0b-fbfe45679dfb",
   "metadata": {},
   "source": [
    "### Where to reduce the redundancy?\n",
    "- choice of kernel (use the QB scaling)\n",
    "- no intersection of uncertainty set\n",
    "- no Hajek constraints\n",
    "- provide true p_t (with a good example) or estimate it independently\n",
    "- no normalize_p_t (expricitly provide normalized one if necessary)\n",
    "  - ignore fractional programming if possible\n",
    "- no testing for policy (test on the difference of policy value or doubly-robust method is more interesting)\n",
    "- no policy difference for policy improvement (or provide wrapper)\n",
    "- only assume R or [K] as the action space\n",
    "- no support for upper bound\n",
    "- only use torch.Tensor as an input\n",
    "  - torch.set_default_dtype(float)\n",
    "  - do not use numpy for creating new tensor\n",
    "- do not support dual with limited domain (e.g. v < 1.0)"
   ]
  },
  {
   "cell_type": "markdown",
   "id": "e09142ec-5a30-48e0-9535-b5fbbc5046dc",
   "metadata": {},
   "source": [
    "### Package Design: Create Multiple Classes\n",
    "- BasePolicy\n",
    "- BaseCMCEstimator\n",
    "  - fit\n",
    "  - predict_lower_bound\n",
    "  - predict_lower_bound_dual\n",
    "- KCMCEstimator\n",
    "  - attributes: problem, constraints, if there is\n",
    "  - Primal, CVXPY, Hessian, GIC, Hypothesis Testing (asymptotics, confint).\n",
    "- ~DRKCMCEstimator?~\n",
    "- GPKCMCEstimator\n",
    "  - fit only (for simplicity)\n",
    "- DualKCMCEstimator\n",
    "  - fit (SGD), use Nystrom with KPCA\n",
    "- DualNCMCEstimator\n",
    "  - fit (SGD)\n",
    "- IPWEstimator\n",
    "- HajekEstimator\n",
    "- ZSB Estimator\n",
    "- k_fold_cv, \n",
    "- test_*.py\n",
    "- type it with mypy\n",
    "- add docstring\n",
    "- formatter\n",
    "- ~maybe use jax for Hessian and future use~ We only need an average of Hessian, which is Hessian of the average"
   ]
  },
  {
   "cell_type": "markdown",
   "id": "c7ee7cc0-a5ab-4f50-8158-48aa83165d72",
   "metadata": {},
   "source": [
    "### What to do?\n",
    "- Read DR-paper\n",
    "  - See how important DR is\n",
    "  - Understand how they apply asymptotics\n",
    "  - DR might reduce the variance in trace calculation\n",
    "  - Read it through just in case I missed something important\n",
    "- Read Minmax-optimal Policy Learning ...\n",
    "  - understand the feasibility of sensitivity analysis of propensity score\n",
    "- Implement good examples\n",
    "- Start implementing the package\n",
    "- Make function and attiributes private\n",
    "\n",
    "### Bonus:\n",
    "- i.e. Not essential for publication in journal\n",
    "- Mixed policy testing\n",
    "  - implement for box constraints, whose dual does not depend on eta_f\n",
    "- Understand the realizability results \n",
    "  - important for numerical example at least\n",
    "  - can make generalized proof at best"
   ]
  },
  {
   "cell_type": "code",
   "execution_count": null,
   "id": "6b2fdf4f-97fe-420d-a2c4-6fc2a94f7a97",
   "metadata": {
    "tags": []
   },
   "outputs": [],
   "source": [
    "import numpy as np\n",
    "import cvxpy as cp"
   ]
  },
  {
   "cell_type": "code",
   "execution_count": 13,
   "id": "cb14e4c5-fa90-4826-981d-3dd78a5be93c",
   "metadata": {
    "tags": []
   },
   "outputs": [
    {
     "name": "stdout",
     "output_type": "stream",
     "text": [
      "\n",
      "The optimal value is 86.891415855699\n",
      "A solution x is\n",
      "[-1.68244521  0.29769913 -2.38772183 -2.79986015  1.18270433 -0.20911897\n",
      " -4.50993526  3.76683701 -0.45770675 -3.78589638]\n",
      "A dual solution corresponding to the inequality constraints is\n",
      "[ 0.          0.          0.          0.          0.         10.45538054\n",
      "  0.          0.          0.         39.67365045  0.          0.\n",
      "  0.         20.79927156  6.54115873]\n"
     ]
    }
   ],
   "source": [
    "# Generate a random non-trivial quadratic program.\n",
    "m = 15\n",
    "n = 10\n",
    "p = 5\n",
    "np.random.seed(1)\n",
    "P = np.random.randn(n, n)\n",
    "P = P.T @ P\n",
    "q = np.random.randn(n)\n",
    "G = np.random.randn(m, n)\n",
    "h = G @ np.random.randn(n)\n",
    "A = np.random.randn(p, n)\n",
    "b = np.random.randn(p)\n",
    "\n",
    "# Define and solve the CVXPY problem.\n",
    "x = cp.Variable(n)\n",
    "prob = cp.Problem(cp.Minimize((1 / 2) * cp.quad_form(x, P) + q.T @ x), [G @ x <= h, A @ x == b])\n",
    "prob.solve()\n",
    "\n",
    "# Print result.\n",
    "print(\"\\nThe optimal value is\", prob.value)\n",
    "print(\"A solution x is\")\n",
    "print(x.value)\n",
    "print(\"A dual solution corresponding to the inequality constraints is\")\n",
    "print(prob.constraints[0].dual_value)"
   ]
  },
  {
   "cell_type": "code",
   "execution_count": 14,
   "id": "098e0e8b-dc53-4656-955d-28358cfe7db3",
   "metadata": {
    "tags": []
   },
   "outputs": [],
   "source": [
    "ineq, eq = prob.constraints"
   ]
  },
  {
   "cell_type": "code",
   "execution_count": 15,
   "id": "13fa48a8-2201-4c26-95dc-19e44d1883dd",
   "metadata": {
    "tags": []
   },
   "outputs": [
    {
     "data": {
      "text/plain": [
       "array([ 0.        ,  0.        ,  0.        ,  0.        ,  0.        ,\n",
       "       10.45538054,  0.        ,  0.        ,  0.        , 39.67365045,\n",
       "        0.        ,  0.        ,  0.        , 20.79927156,  6.54115873])"
      ]
     },
     "execution_count": 15,
     "metadata": {},
     "output_type": "execute_result"
    }
   ],
   "source": [
    "ineq.dual_value"
   ]
  },
  {
   "cell_type": "markdown",
   "id": "236d4f99-515a-4e21-add1-595233189cdf",
   "metadata": {},
   "source": [
    "## Try cp.perspective"
   ]
  },
  {
   "cell_type": "code",
   "execution_count": 23,
   "id": "940a6f99-fbf5-4817-acc8-a88df385165e",
   "metadata": {
    "tags": []
   },
   "outputs": [
    {
     "name": "stdout",
     "output_type": "stream",
     "text": [
      "\n",
      "The optimal value is inf\n",
      "A solution x is\n",
      "None\n",
      "A dual solution corresponding to the inequality constraints is\n",
      "None\n"
     ]
    }
   ],
   "source": [
    "# Generate a random non-trivial quadratic program.\n",
    "m = 15\n",
    "n = 10\n",
    "p = 5\n",
    "np.random.seed(1)\n",
    "G = np.random.randn(m, n)\n",
    "h = G @ np.random.randn(n)\n",
    "A = np.random.randn(p, n)\n",
    "b = np.random.randn(p)\n",
    "\n",
    "# Define and solve the CVXPY problem.\n",
    "x = cp.Variable(n)\n",
    "s = cp.Variable(1, nonneg=True)\n",
    "f = -cp.sum(cp.log(x))\n",
    "persp = cp.perspective(f, s)\n",
    "prob = cp.Problem(cp.Minimize(cp.sum(persp)), [G @ x <= h, A @ x == b])\n",
    "prob.solve()\n",
    "\n",
    "# Print result.\n",
    "print(\"\\nThe optimal value is\", prob.value)\n",
    "print(\"A solution x is\")\n",
    "print(x.value)\n",
    "print(\"A dual solution corresponding to the inequality constraints is\")\n",
    "print(prob.constraints[0].dual_value)"
   ]
  },
  {
   "cell_type": "code",
   "execution_count": null,
   "id": "cfbf4f24-61e8-41e3-a222-76c4e798968e",
   "metadata": {},
   "outputs": [],
   "source": []
  }
 ],
 "metadata": {
  "kernelspec": {
   "display_name": "Python 3 (ipykernel)",
   "language": "python",
   "name": "python3"
  },
  "language_info": {
   "codemirror_mode": {
    "name": "ipython",
    "version": 3
   },
   "file_extension": ".py",
   "mimetype": "text/x-python",
   "name": "python",
   "nbconvert_exporter": "python",
   "pygments_lexer": "ipython3",
   "version": "3.10.6"
  }
 },
 "nbformat": 4,
 "nbformat_minor": 5
}
